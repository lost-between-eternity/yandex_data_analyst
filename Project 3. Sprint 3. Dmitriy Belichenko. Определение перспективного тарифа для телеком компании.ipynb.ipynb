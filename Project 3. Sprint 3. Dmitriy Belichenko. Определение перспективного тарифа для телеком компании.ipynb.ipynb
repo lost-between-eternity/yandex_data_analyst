{
 "cells": [
  {
   "cell_type": "markdown",
   "metadata": {},
   "source": [
    "<h1><center><font size=\"6\"><b>Проектная работа</b></font></center></h1>\n",
    "<h1><center><font size=\"6\"><b>Определение перспективного тарифа для телеком компании</b></font></center></h1>"
   ]
  },
  {
   "cell_type": "markdown",
   "metadata": {},
   "source": [
    "<h1><center><font size=\"5\"><b>Цель: анализ поведения клиентов оператора сотовой связи для эффективного расходования рекламного бюджета компании. </b></font></center></h1> "
   ]
  },
  {
   "cell_type": "markdown",
   "metadata": {},
   "source": [
    "<h1><center><font size=\"4\"><b>Описание проекта</b></font></center></h1>"
   ]
  },
  {
   "cell_type": "markdown",
   "metadata": {},
   "source": [
    "\n",
    "Федеральный оператор сотовой связи «Мегалайн» предлагает клиентам два тарифных плана: __*«Смарт»*__ и __*«Ультра»*__. Чтобы скорректировать рекламный бюджет, коммерческий департамент хочет понять, какой тариф приносит больше денег.  \n",
    "\n",
    "Необходимо сделать предварительный анализ тарифов на небольшой выборке клиентов. В распоряжении данные 500 пользователей «Мегалайна»: кто они, откуда, каким тарифом пользуются, сколько звонков и сообщений каждый отправил за 2018 год. Нужно проанализировать поведение клиентов и сделать вывод — какой тариф лучше."
   ]
  },
  {
   "cell_type": "markdown",
   "metadata": {},
   "source": [
    "__Описание тарифов__  \n",
    "  \n",
    "__*Тариф «Смарт»*__    \n",
    "Ежемесячная плата: 550 рублей  \n",
    "Включено 500 минут разговора, 50 сообщений и 15 Гб интернет-трафика  \n",
    "Стоимость услуг сверх тарифного пакета: 1. минута разговора: 3 рубля («Мегалайн» всегда округляет вверх значения минут и мегабайтов. Если пользователь проговорил всего 1 секунду, в тарифе засчитывается целая минута); 2. сообщение: 3 рубля; 3. 1 Гб интернет-трафика: 200 рублей.  \n",
    "\n",
    "__*Тариф «Ультра»*__  \n",
    "Ежемесячная плата: 1950 рублей  \n",
    "Включено 3000 минут разговора, 1000 сообщений и 30 Гб интернет-трафика  \n",
    "Стоимость услуг сверх тарифного пакета: 1. минута разговора: 1 рубль; 2. сообщение: 1 рубль; 3. 1 Гб интернет-трафика: 150 рублей.  "
   ]
  },
  {
   "cell_type": "markdown",
   "metadata": {},
   "source": [
    "_Примечание:\n",
    "«Мегалайн» всегда округляет секунды до минут, а мегабайты — до гигабайт. Каждый звонок округляется отдельно: даже если он длился всего 1 секунду, будет засчитан как 1 минута.\n",
    "Для веб-трафика отдельные сессии не считаются. Вместо этого общая сумма за месяц округляется в бо́льшую сторону. Если абонент использует 1025 мегабайт в этом месяце, с него возьмут плату за 2 гигабайта._"
   ]
  },
  {
   "cell_type": "markdown",
   "metadata": {
    "toc": true
   },
   "source": [
    "<h1>Содержание<span class=\"tocSkip\"></span></h1>\n",
    "<div class=\"toc\"><ul class=\"toc-item\"><li><span><a href=\"#Изучение-общей-информации\" data-toc-modified-id=\"Изучение-общей-информации-1\"><span class=\"toc-item-num\">1&nbsp;&nbsp;</span>Изучение общей информации</a></span><ul class=\"toc-item\"><li><span><a href=\"#Изучение-исходной-информации\" data-toc-modified-id=\"Изучение-исходной-информации-1.1\"><span class=\"toc-item-num\">1.1&nbsp;&nbsp;</span>Изучение исходной информации</a></span><ul class=\"toc-item\"><li><span><a href=\"#Изучение-таблицы-users\" data-toc-modified-id=\"Изучение-таблицы-users-1.1.1\"><span class=\"toc-item-num\">1.1.1&nbsp;&nbsp;</span>Изучение таблицы <code>users</code></a></span></li><li><span><a href=\"#Изучение-таблицы-calls\" data-toc-modified-id=\"Изучение-таблицы-calls-1.1.2\"><span class=\"toc-item-num\">1.1.2&nbsp;&nbsp;</span>Изучение таблицы <code>calls</code></a></span></li><li><span><a href=\"#Изучение-таблицы-messages\" data-toc-modified-id=\"Изучение-таблицы-messages-1.1.3\"><span class=\"toc-item-num\">1.1.3&nbsp;&nbsp;</span>Изучение таблицы <code>messages</code></a></span></li><li><span><a href=\"#Изучение-таблицы-internet\" data-toc-modified-id=\"Изучение-таблицы-internet-1.1.4\"><span class=\"toc-item-num\">1.1.4&nbsp;&nbsp;</span>Изучение таблицы <code>internet</code></a></span></li><li><span><a href=\"#Изучение-таблицы-tariffs\" data-toc-modified-id=\"Изучение-таблицы-tariffs-1.1.5\"><span class=\"toc-item-num\">1.1.5&nbsp;&nbsp;</span>Изучение таблицы <code>tariffs</code></a></span></li></ul></li><li><span><a href=\"#Общий-вывод\" data-toc-modified-id=\"Общий-вывод-1.2\"><span class=\"toc-item-num\">1.2&nbsp;&nbsp;</span>Общий вывод</a></span></li></ul></li><li><span><a href=\"#Подготовка-данных\" data-toc-modified-id=\"Подготовка-данных-2\"><span class=\"toc-item-num\">2&nbsp;&nbsp;</span>Подготовка данных</a></span><ul class=\"toc-item\"><li><span><a href=\"#Изменение-типов-данных\" data-toc-modified-id=\"Изменение-типов-данных-2.1\"><span class=\"toc-item-num\">2.1&nbsp;&nbsp;</span>Изменение типов данных</a></span></li><li><span><a href=\"#Добавление-данных\" data-toc-modified-id=\"Добавление-данных-2.2\"><span class=\"toc-item-num\">2.2&nbsp;&nbsp;</span>Добавление данных</a></span></li><li><span><a href=\"#Определение-месячного-расхода-звонков,-сообщений,-трафика\" data-toc-modified-id=\"Определение-месячного-расхода-звонков,-сообщений,-трафика-2.3\"><span class=\"toc-item-num\">2.3&nbsp;&nbsp;</span>Определение месячного расхода звонков, сообщений, трафика</a></span></li><li><span><a href=\"#Объединение-данных\" data-toc-modified-id=\"Объединение-данных-2.4\"><span class=\"toc-item-num\">2.4&nbsp;&nbsp;</span>Объединение данных</a></span></li><li><span><a href=\"#Определение-помесячной-выручки-с-каждого-пользователя\" data-toc-modified-id=\"Определение-помесячной-выручки-с-каждого-пользователя-2.5\"><span class=\"toc-item-num\">2.5&nbsp;&nbsp;</span>Определение помесячной выручки с каждого пользователя</a></span></li></ul></li><li><span><a href=\"#Анализ-данных\" data-toc-modified-id=\"Анализ-данных-3\"><span class=\"toc-item-num\">3&nbsp;&nbsp;</span>Анализ данных</a></span><ul class=\"toc-item\"><li><span><a href=\"#Анализ-поведения-клиентов-оператора,-исходя-из-выборки.\" data-toc-modified-id=\"Анализ-поведения-клиентов-оператора,-исходя-из-выборки.-3.1\"><span class=\"toc-item-num\">3.1&nbsp;&nbsp;</span>Анализ поведения клиентов оператора, исходя из выборки.</a></span></li><li><span><a href=\"#Определение-количества-минут-разговора,-сообщений-и-объёма-интернет-трафика,-необходимых-пользователям-каждого-тарифа-в-месяц.\" data-toc-modified-id=\"Определение-количества-минут-разговора,-сообщений-и-объёма-интернет-трафика,-необходимых-пользователям-каждого-тарифа-в-месяц.-3.2\"><span class=\"toc-item-num\">3.2&nbsp;&nbsp;</span>Определение количества минут разговора, сообщений и объёма интернет-трафика, необходимых пользователям каждого тарифа в месяц.</a></span></li><li><span><a href=\"#Определим-структуру-недорасходов-и-перерасходов-по-тарифам\" data-toc-modified-id=\"Определим-структуру-недорасходов-и-перерасходов-по-тарифам-3.3\"><span class=\"toc-item-num\">3.3&nbsp;&nbsp;</span>Определим структуру недорасходов и перерасходов по тарифам</a></span><ul class=\"toc-item\"><li><span><a href=\"#Недорасход\" data-toc-modified-id=\"Недорасход-3.3.1\"><span class=\"toc-item-num\">3.3.1&nbsp;&nbsp;</span>Недорасход</a></span></li><li><span><a href=\"#Перерасход\" data-toc-modified-id=\"Перерасход-3.3.2\"><span class=\"toc-item-num\">3.3.2&nbsp;&nbsp;</span>Перерасход</a></span></li></ul></li></ul></li><li><span><a href=\"#Проверка-гипотезы\" data-toc-modified-id=\"Проверка-гипотезы-4\"><span class=\"toc-item-num\">4&nbsp;&nbsp;</span>Проверка гипотезы</a></span><ul class=\"toc-item\"><li><span><a href=\"#Гипотеза-1.-Средняя-выручка-пользователей-тарифов-«Ультра»-и-«Смарт»-различаются.\" data-toc-modified-id=\"Гипотеза-1.-Средняя-выручка-пользователей-тарифов-«Ультра»-и-«Смарт»-различаются.-4.1\"><span class=\"toc-item-num\">4.1&nbsp;&nbsp;</span>Гипотеза 1. Средняя выручка пользователей тарифов «Ультра» и «Смарт» различаются.</a></span></li><li><span><a href=\"#Гипотеза-2.-Средняя-выручка-пользователей-из-Москвы-отличается-от-выручки-пользователей-из-других-регионов.\" data-toc-modified-id=\"Гипотеза-2.-Средняя-выручка-пользователей-из-Москвы-отличается-от-выручки-пользователей-из-других-регионов.-4.2\"><span class=\"toc-item-num\">4.2&nbsp;&nbsp;</span>Гипотеза 2. Средняя выручка пользователей из Москвы отличается от выручки пользователей из других регионов.</a></span></li></ul></li><li><span><a href=\"#Общий-вывод\" data-toc-modified-id=\"Общий-вывод-5\"><span class=\"toc-item-num\">5&nbsp;&nbsp;</span>Общий вывод</a></span></li></ul></div>"
   ]
  },
  {
   "cell_type": "markdown",
   "metadata": {},
   "source": [
    "##  Изучение общей информации "
   ]
  },
  {
   "cell_type": "markdown",
   "metadata": {},
   "source": [
    "__Описание данных__  \n",
    "\n",
    "__Таблица `users` (информация о пользователях):__  \n",
    "*user_id* — уникальный идентификатор пользователя    \n",
    "*first_name* — имя пользователя  \n",
    "*last_name* — фамилия пользователя  \n",
    "*age* — возраст пользователя (годы)  \n",
    "*reg_date* — дата подключения тарифа (день, месяц, год)  \n",
    "*churn_date* — дата прекращения пользования тарифом (если значение пропущено, то тариф ещё действовал на момент выгрузки данных)  \n",
    "*city* — город проживания пользователя  \n",
    "*tarif* — название тарифного плана    \n",
    "  \n",
    "__Таблица `calls` (информация о звонках):__  \n",
    "  \n",
    "*id* — уникальный номер звонка  \n",
    "*call_date* — дата звонка  \n",
    "*duration* — длительность звонка в минутах  \n",
    "*user_id* — идентификатор пользователя, сделавшего звонок  \n",
    "  \n",
    "__Таблица `messages` (информация о сообщениях):__  \n",
    "*id* — уникальный номер сообщения  \n",
    "*message_date* — дата сообщения  \n",
    "*user_id* — идентификатор пользователя, отправившего сообщение  \n",
    "\n",
    "__Таблица `internet` (информация об интернет-сессиях):__  \n",
    "*id* — уникальный номер сессии  \n",
    "*mb_used* — объём потраченного за сессию интернет-трафика (в мегабайтах)  \n",
    "*session_date* — дата интернет-сессии  \n",
    "*user_id* — идентификатор пользователя  \n",
    "\n",
    "__Таблица `tariffs` (информация о тарифах):__  \n",
    "*tariff_name* — название тарифа  \n",
    "*rub_monthly_fee* — ежемесячная абонентская плата в рублях  \n",
    "*minutes_included* — количество минут разговора в месяц, включённых в абонентскую плату  \n",
    "*messages_included* — количество сообщений в месяц, включённых в абонентскую плату  \n",
    "*mb_per_month_included* — объём интернет-трафика, включённого в абонентскую плату (в мегабайтах)  \n",
    "*rub_per_minute* — стоимость минуты разговора сверх тарифного пакета (например, если в тарифе 100 минут разговора в месяц, то со 101 минуты будет взиматься плата)  \n",
    "*rub_per_message* — стоимость отправки сообщения сверх тарифного пакета  \n",
    "*rub_per_gb* — стоимость дополнительного гигабайта интернет-трафика сверх тарифного пакета (1 гигабайт = 1024 мегабайта)  "
   ]
  },
  {
   "cell_type": "markdown",
   "metadata": {},
   "source": [
    "### Изучение исходной информации"
   ]
  },
  {
   "cell_type": "code",
   "execution_count": 1,
   "metadata": {},
   "outputs": [],
   "source": [
    "import pandas as pd\n",
    "import numpy as np\n",
    "from scipy import stats as st\n",
    "import numpy as np\n",
    "\n",
    "import matplotlib.pyplot as plt\n",
    "%matplotlib inline\n",
    "\n",
    "import warnings\n",
    "warnings.filterwarnings('ignore')\n",
    "#pd.set_option('display.max_rows', None)\n",
    "#pd.set_option('display.max_columns', None)"
   ]
  },
  {
   "cell_type": "code",
   "execution_count": 2,
   "metadata": {},
   "outputs": [],
   "source": [
    "users = pd.read_csv('/datasets/users.csv')\n",
    "calls = pd.read_csv('/datasets/calls.csv')\n",
    "messages = pd.read_csv('/datasets/messages.csv')\n",
    "internet = pd.read_csv('/datasets/internet.csv')\n",
    "tariffs = pd.read_csv('/datasets/tariffs.csv')"
   ]
  },
  {
   "cell_type": "markdown",
   "metadata": {},
   "source": [
    "#### Изучение таблицы `users`"
   ]
  },
  {
   "cell_type": "code",
   "execution_count": 3,
   "metadata": {
    "scrolled": false
   },
   "outputs": [
    {
     "data": {
      "text/html": [
       "<div>\n",
       "<style scoped>\n",
       "    .dataframe tbody tr th:only-of-type {\n",
       "        vertical-align: middle;\n",
       "    }\n",
       "\n",
       "    .dataframe tbody tr th {\n",
       "        vertical-align: top;\n",
       "    }\n",
       "\n",
       "    .dataframe thead th {\n",
       "        text-align: right;\n",
       "    }\n",
       "</style>\n",
       "<table border=\"1\" class=\"dataframe\">\n",
       "  <thead>\n",
       "    <tr style=\"text-align: right;\">\n",
       "      <th></th>\n",
       "      <th>user_id</th>\n",
       "      <th>age</th>\n",
       "      <th>churn_date</th>\n",
       "      <th>city</th>\n",
       "      <th>first_name</th>\n",
       "      <th>last_name</th>\n",
       "      <th>reg_date</th>\n",
       "      <th>tariff</th>\n",
       "    </tr>\n",
       "  </thead>\n",
       "  <tbody>\n",
       "    <tr>\n",
       "      <td>0</td>\n",
       "      <td>1000</td>\n",
       "      <td>52</td>\n",
       "      <td>NaN</td>\n",
       "      <td>Краснодар</td>\n",
       "      <td>Рафаил</td>\n",
       "      <td>Верещагин</td>\n",
       "      <td>2018-05-25</td>\n",
       "      <td>ultra</td>\n",
       "    </tr>\n",
       "    <tr>\n",
       "      <td>1</td>\n",
       "      <td>1001</td>\n",
       "      <td>41</td>\n",
       "      <td>NaN</td>\n",
       "      <td>Москва</td>\n",
       "      <td>Иван</td>\n",
       "      <td>Ежов</td>\n",
       "      <td>2018-11-01</td>\n",
       "      <td>smart</td>\n",
       "    </tr>\n",
       "    <tr>\n",
       "      <td>2</td>\n",
       "      <td>1002</td>\n",
       "      <td>59</td>\n",
       "      <td>NaN</td>\n",
       "      <td>Стерлитамак</td>\n",
       "      <td>Евгений</td>\n",
       "      <td>Абрамович</td>\n",
       "      <td>2018-06-17</td>\n",
       "      <td>smart</td>\n",
       "    </tr>\n",
       "    <tr>\n",
       "      <td>3</td>\n",
       "      <td>1003</td>\n",
       "      <td>23</td>\n",
       "      <td>NaN</td>\n",
       "      <td>Москва</td>\n",
       "      <td>Белла</td>\n",
       "      <td>Белякова</td>\n",
       "      <td>2018-08-17</td>\n",
       "      <td>ultra</td>\n",
       "    </tr>\n",
       "    <tr>\n",
       "      <td>4</td>\n",
       "      <td>1004</td>\n",
       "      <td>68</td>\n",
       "      <td>NaN</td>\n",
       "      <td>Новокузнецк</td>\n",
       "      <td>Татьяна</td>\n",
       "      <td>Авдеенко</td>\n",
       "      <td>2018-05-14</td>\n",
       "      <td>ultra</td>\n",
       "    </tr>\n",
       "    <tr>\n",
       "      <td>5</td>\n",
       "      <td>1005</td>\n",
       "      <td>67</td>\n",
       "      <td>NaN</td>\n",
       "      <td>Набережные Челны</td>\n",
       "      <td>Афанасий</td>\n",
       "      <td>Горлов</td>\n",
       "      <td>2018-01-25</td>\n",
       "      <td>smart</td>\n",
       "    </tr>\n",
       "    <tr>\n",
       "      <td>6</td>\n",
       "      <td>1006</td>\n",
       "      <td>21</td>\n",
       "      <td>NaN</td>\n",
       "      <td>Ульяновск</td>\n",
       "      <td>Леонид</td>\n",
       "      <td>Ермолаев</td>\n",
       "      <td>2018-02-26</td>\n",
       "      <td>smart</td>\n",
       "    </tr>\n",
       "    <tr>\n",
       "      <td>7</td>\n",
       "      <td>1007</td>\n",
       "      <td>65</td>\n",
       "      <td>NaN</td>\n",
       "      <td>Москва</td>\n",
       "      <td>Юна</td>\n",
       "      <td>Березина</td>\n",
       "      <td>2018-04-19</td>\n",
       "      <td>smart</td>\n",
       "    </tr>\n",
       "    <tr>\n",
       "      <td>8</td>\n",
       "      <td>1008</td>\n",
       "      <td>63</td>\n",
       "      <td>NaN</td>\n",
       "      <td>Челябинск</td>\n",
       "      <td>Рустэм</td>\n",
       "      <td>Пономарёв</td>\n",
       "      <td>2018-12-19</td>\n",
       "      <td>smart</td>\n",
       "    </tr>\n",
       "    <tr>\n",
       "      <td>9</td>\n",
       "      <td>1009</td>\n",
       "      <td>24</td>\n",
       "      <td>NaN</td>\n",
       "      <td>Пермь</td>\n",
       "      <td>Василиса</td>\n",
       "      <td>Блинова</td>\n",
       "      <td>2018-03-22</td>\n",
       "      <td>smart</td>\n",
       "    </tr>\n",
       "  </tbody>\n",
       "</table>\n",
       "</div>"
      ],
      "text/plain": [
       "   user_id  age churn_date              city first_name  last_name  \\\n",
       "0     1000   52        NaN         Краснодар     Рафаил  Верещагин   \n",
       "1     1001   41        NaN            Москва       Иван       Ежов   \n",
       "2     1002   59        NaN       Стерлитамак    Евгений  Абрамович   \n",
       "3     1003   23        NaN            Москва      Белла   Белякова   \n",
       "4     1004   68        NaN       Новокузнецк    Татьяна   Авдеенко   \n",
       "5     1005   67        NaN  Набережные Челны   Афанасий     Горлов   \n",
       "6     1006   21        NaN         Ульяновск     Леонид   Ермолаев   \n",
       "7     1007   65        NaN            Москва        Юна   Березина   \n",
       "8     1008   63        NaN         Челябинск     Рустэм  Пономарёв   \n",
       "9     1009   24        NaN             Пермь   Василиса    Блинова   \n",
       "\n",
       "     reg_date tariff  \n",
       "0  2018-05-25  ultra  \n",
       "1  2018-11-01  smart  \n",
       "2  2018-06-17  smart  \n",
       "3  2018-08-17  ultra  \n",
       "4  2018-05-14  ultra  \n",
       "5  2018-01-25  smart  \n",
       "6  2018-02-26  smart  \n",
       "7  2018-04-19  smart  \n",
       "8  2018-12-19  smart  \n",
       "9  2018-03-22  smart  "
      ]
     },
     "execution_count": 3,
     "metadata": {},
     "output_type": "execute_result"
    }
   ],
   "source": [
    "users.head(10)"
   ]
  },
  {
   "cell_type": "code",
   "execution_count": 4,
   "metadata": {},
   "outputs": [
    {
     "name": "stdout",
     "output_type": "stream",
     "text": [
      "<class 'pandas.core.frame.DataFrame'>\n",
      "RangeIndex: 500 entries, 0 to 499\n",
      "Data columns (total 8 columns):\n",
      "user_id       500 non-null int64\n",
      "age           500 non-null int64\n",
      "churn_date    38 non-null object\n",
      "city          500 non-null object\n",
      "first_name    500 non-null object\n",
      "last_name     500 non-null object\n",
      "reg_date      500 non-null object\n",
      "tariff        500 non-null object\n",
      "dtypes: int64(2), object(6)\n",
      "memory usage: 31.4+ KB\n"
     ]
    }
   ],
   "source": [
    "users.info()"
   ]
  },
  {
   "cell_type": "markdown",
   "metadata": {},
   "source": [
    "В столбце `churn_date` имеются пропуски. Согласно описанию данных, если начение пропущено, то тариф ещё действовал на момент выгрузки данных. Проблем нам это не доставляет, оставляем без изменений.  \n",
    "`reg_date` - необходимо будет изменить с `object` на `datetime`. Возможно для удобства потребуется добавить месяц и день в отдельных столбцах.  "
   ]
  },
  {
   "cell_type": "markdown",
   "metadata": {},
   "source": [
    "#### Изучение таблицы `calls`"
   ]
  },
  {
   "cell_type": "code",
   "execution_count": 5,
   "metadata": {},
   "outputs": [
    {
     "data": {
      "text/html": [
       "<div>\n",
       "<style scoped>\n",
       "    .dataframe tbody tr th:only-of-type {\n",
       "        vertical-align: middle;\n",
       "    }\n",
       "\n",
       "    .dataframe tbody tr th {\n",
       "        vertical-align: top;\n",
       "    }\n",
       "\n",
       "    .dataframe thead th {\n",
       "        text-align: right;\n",
       "    }\n",
       "</style>\n",
       "<table border=\"1\" class=\"dataframe\">\n",
       "  <thead>\n",
       "    <tr style=\"text-align: right;\">\n",
       "      <th></th>\n",
       "      <th>id</th>\n",
       "      <th>call_date</th>\n",
       "      <th>duration</th>\n",
       "      <th>user_id</th>\n",
       "    </tr>\n",
       "  </thead>\n",
       "  <tbody>\n",
       "    <tr>\n",
       "      <td>0</td>\n",
       "      <td>1000_0</td>\n",
       "      <td>2018-07-25</td>\n",
       "      <td>0.00</td>\n",
       "      <td>1000</td>\n",
       "    </tr>\n",
       "    <tr>\n",
       "      <td>1</td>\n",
       "      <td>1000_1</td>\n",
       "      <td>2018-08-17</td>\n",
       "      <td>0.00</td>\n",
       "      <td>1000</td>\n",
       "    </tr>\n",
       "    <tr>\n",
       "      <td>2</td>\n",
       "      <td>1000_2</td>\n",
       "      <td>2018-06-11</td>\n",
       "      <td>2.85</td>\n",
       "      <td>1000</td>\n",
       "    </tr>\n",
       "    <tr>\n",
       "      <td>3</td>\n",
       "      <td>1000_3</td>\n",
       "      <td>2018-09-21</td>\n",
       "      <td>13.80</td>\n",
       "      <td>1000</td>\n",
       "    </tr>\n",
       "    <tr>\n",
       "      <td>4</td>\n",
       "      <td>1000_4</td>\n",
       "      <td>2018-12-15</td>\n",
       "      <td>5.18</td>\n",
       "      <td>1000</td>\n",
       "    </tr>\n",
       "    <tr>\n",
       "      <td>5</td>\n",
       "      <td>1000_5</td>\n",
       "      <td>2018-11-02</td>\n",
       "      <td>0.00</td>\n",
       "      <td>1000</td>\n",
       "    </tr>\n",
       "    <tr>\n",
       "      <td>6</td>\n",
       "      <td>1000_6</td>\n",
       "      <td>2018-10-18</td>\n",
       "      <td>0.00</td>\n",
       "      <td>1000</td>\n",
       "    </tr>\n",
       "    <tr>\n",
       "      <td>7</td>\n",
       "      <td>1000_7</td>\n",
       "      <td>2018-08-22</td>\n",
       "      <td>18.31</td>\n",
       "      <td>1000</td>\n",
       "    </tr>\n",
       "    <tr>\n",
       "      <td>8</td>\n",
       "      <td>1000_8</td>\n",
       "      <td>2018-09-15</td>\n",
       "      <td>18.44</td>\n",
       "      <td>1000</td>\n",
       "    </tr>\n",
       "    <tr>\n",
       "      <td>9</td>\n",
       "      <td>1000_9</td>\n",
       "      <td>2018-08-15</td>\n",
       "      <td>0.00</td>\n",
       "      <td>1000</td>\n",
       "    </tr>\n",
       "  </tbody>\n",
       "</table>\n",
       "</div>"
      ],
      "text/plain": [
       "       id   call_date  duration  user_id\n",
       "0  1000_0  2018-07-25      0.00     1000\n",
       "1  1000_1  2018-08-17      0.00     1000\n",
       "2  1000_2  2018-06-11      2.85     1000\n",
       "3  1000_3  2018-09-21     13.80     1000\n",
       "4  1000_4  2018-12-15      5.18     1000\n",
       "5  1000_5  2018-11-02      0.00     1000\n",
       "6  1000_6  2018-10-18      0.00     1000\n",
       "7  1000_7  2018-08-22     18.31     1000\n",
       "8  1000_8  2018-09-15     18.44     1000\n",
       "9  1000_9  2018-08-15      0.00     1000"
      ]
     },
     "execution_count": 5,
     "metadata": {},
     "output_type": "execute_result"
    }
   ],
   "source": [
    "calls.head(10)"
   ]
  },
  {
   "cell_type": "code",
   "execution_count": 6,
   "metadata": {},
   "outputs": [
    {
     "name": "stdout",
     "output_type": "stream",
     "text": [
      "<class 'pandas.core.frame.DataFrame'>\n",
      "RangeIndex: 202607 entries, 0 to 202606\n",
      "Data columns (total 4 columns):\n",
      "id           202607 non-null object\n",
      "call_date    202607 non-null object\n",
      "duration     202607 non-null float64\n",
      "user_id      202607 non-null int64\n",
      "dtypes: float64(1), int64(1), object(2)\n",
      "memory usage: 6.2+ MB\n"
     ]
    }
   ],
   "source": [
    "calls.info()"
   ]
  },
  {
   "cell_type": "markdown",
   "metadata": {},
   "source": [
    "`call_date` - необходимо будет изменить с `object` на `datetime`. Вмозможно для удобства потребуется добавить месяц и день в отдельных столбцах.  \n",
    "В столбце `duration` имеются значения 0 минут 0 секунд. Природу данных значений необходимо установить. Возможно это исходящий звонок, на который не ответили, поэтому он заифксирован, но со значением 0.0. Согласно исходным данным «Мегалайн» всегда округляет секунды до минут, что мы и сделаем с остальными значениями.  \n",
    "`call_date` - необходимо будет изменить с `object` на `datetime`. Возможно для удобства потребуется добавить месяц и день в отдельных столбцах.  "
   ]
  },
  {
   "cell_type": "markdown",
   "metadata": {},
   "source": [
    "Округлим значения вверх согласно условию."
   ]
  },
  {
   "cell_type": "code",
   "execution_count": 7,
   "metadata": {},
   "outputs": [
    {
     "data": {
      "text/html": [
       "<div>\n",
       "<style scoped>\n",
       "    .dataframe tbody tr th:only-of-type {\n",
       "        vertical-align: middle;\n",
       "    }\n",
       "\n",
       "    .dataframe tbody tr th {\n",
       "        vertical-align: top;\n",
       "    }\n",
       "\n",
       "    .dataframe thead th {\n",
       "        text-align: right;\n",
       "    }\n",
       "</style>\n",
       "<table border=\"1\" class=\"dataframe\">\n",
       "  <thead>\n",
       "    <tr style=\"text-align: right;\">\n",
       "      <th></th>\n",
       "      <th>id</th>\n",
       "      <th>call_date</th>\n",
       "      <th>duration</th>\n",
       "      <th>user_id</th>\n",
       "    </tr>\n",
       "  </thead>\n",
       "  <tbody>\n",
       "    <tr>\n",
       "      <td>5465</td>\n",
       "      <td>1015_185</td>\n",
       "      <td>2018-10-05</td>\n",
       "      <td>1.0</td>\n",
       "      <td>1015</td>\n",
       "    </tr>\n",
       "    <tr>\n",
       "      <td>80740</td>\n",
       "      <td>1200_643</td>\n",
       "      <td>2018-05-05</td>\n",
       "      <td>9.0</td>\n",
       "      <td>1200</td>\n",
       "    </tr>\n",
       "    <tr>\n",
       "      <td>15119</td>\n",
       "      <td>1040_118</td>\n",
       "      <td>2018-10-16</td>\n",
       "      <td>3.0</td>\n",
       "      <td>1040</td>\n",
       "    </tr>\n",
       "    <tr>\n",
       "      <td>99695</td>\n",
       "      <td>1254_125</td>\n",
       "      <td>2018-06-26</td>\n",
       "      <td>14.0</td>\n",
       "      <td>1254</td>\n",
       "    </tr>\n",
       "    <tr>\n",
       "      <td>105875</td>\n",
       "      <td>1273_191</td>\n",
       "      <td>2018-10-03</td>\n",
       "      <td>26.0</td>\n",
       "      <td>1273</td>\n",
       "    </tr>\n",
       "    <tr>\n",
       "      <td>152400</td>\n",
       "      <td>1380_35</td>\n",
       "      <td>2018-06-03</td>\n",
       "      <td>2.0</td>\n",
       "      <td>1380</td>\n",
       "    </tr>\n",
       "    <tr>\n",
       "      <td>51049</td>\n",
       "      <td>1126_612</td>\n",
       "      <td>2018-02-26</td>\n",
       "      <td>8.0</td>\n",
       "      <td>1126</td>\n",
       "    </tr>\n",
       "    <tr>\n",
       "      <td>9536</td>\n",
       "      <td>1025_267</td>\n",
       "      <td>2018-09-22</td>\n",
       "      <td>11.0</td>\n",
       "      <td>1025</td>\n",
       "    </tr>\n",
       "    <tr>\n",
       "      <td>24347</td>\n",
       "      <td>1061_427</td>\n",
       "      <td>2018-10-28</td>\n",
       "      <td>13.0</td>\n",
       "      <td>1061</td>\n",
       "    </tr>\n",
       "    <tr>\n",
       "      <td>147506</td>\n",
       "      <td>1375_337</td>\n",
       "      <td>2018-10-25</td>\n",
       "      <td>6.0</td>\n",
       "      <td>1375</td>\n",
       "    </tr>\n",
       "  </tbody>\n",
       "</table>\n",
       "</div>"
      ],
      "text/plain": [
       "              id   call_date  duration  user_id\n",
       "5465    1015_185  2018-10-05       1.0     1015\n",
       "80740   1200_643  2018-05-05       9.0     1200\n",
       "15119   1040_118  2018-10-16       3.0     1040\n",
       "99695   1254_125  2018-06-26      14.0     1254\n",
       "105875  1273_191  2018-10-03      26.0     1273\n",
       "152400   1380_35  2018-06-03       2.0     1380\n",
       "51049   1126_612  2018-02-26       8.0     1126\n",
       "9536    1025_267  2018-09-22      11.0     1025\n",
       "24347   1061_427  2018-10-28      13.0     1061\n",
       "147506  1375_337  2018-10-25       6.0     1375"
      ]
     },
     "execution_count": 7,
     "metadata": {},
     "output_type": "execute_result"
    }
   ],
   "source": [
    "calls['duration'] = np.ceil(calls['duration'])\n",
    "calls.sample(10)"
   ]
  },
  {
   "cell_type": "markdown",
   "metadata": {},
   "source": [
    "Узнаем количество звонков длительностью 0.0 мин."
   ]
  },
  {
   "cell_type": "code",
   "execution_count": 8,
   "metadata": {},
   "outputs": [
    {
     "data": {
      "text/html": [
       "<div>\n",
       "<style scoped>\n",
       "    .dataframe tbody tr th:only-of-type {\n",
       "        vertical-align: middle;\n",
       "    }\n",
       "\n",
       "    .dataframe tbody tr th {\n",
       "        vertical-align: top;\n",
       "    }\n",
       "\n",
       "    .dataframe thead th {\n",
       "        text-align: right;\n",
       "    }\n",
       "</style>\n",
       "<table border=\"1\" class=\"dataframe\">\n",
       "  <thead>\n",
       "    <tr style=\"text-align: right;\">\n",
       "      <th></th>\n",
       "      <th>id</th>\n",
       "      <th>call_date</th>\n",
       "      <th>duration</th>\n",
       "      <th>user_id</th>\n",
       "    </tr>\n",
       "  </thead>\n",
       "  <tbody>\n",
       "    <tr>\n",
       "      <td>0</td>\n",
       "      <td>1000_0</td>\n",
       "      <td>2018-07-25</td>\n",
       "      <td>0.0</td>\n",
       "      <td>1000</td>\n",
       "    </tr>\n",
       "    <tr>\n",
       "      <td>1</td>\n",
       "      <td>1000_1</td>\n",
       "      <td>2018-08-17</td>\n",
       "      <td>0.0</td>\n",
       "      <td>1000</td>\n",
       "    </tr>\n",
       "    <tr>\n",
       "      <td>5</td>\n",
       "      <td>1000_5</td>\n",
       "      <td>2018-11-02</td>\n",
       "      <td>0.0</td>\n",
       "      <td>1000</td>\n",
       "    </tr>\n",
       "    <tr>\n",
       "      <td>6</td>\n",
       "      <td>1000_6</td>\n",
       "      <td>2018-10-18</td>\n",
       "      <td>0.0</td>\n",
       "      <td>1000</td>\n",
       "    </tr>\n",
       "    <tr>\n",
       "      <td>9</td>\n",
       "      <td>1000_9</td>\n",
       "      <td>2018-08-15</td>\n",
       "      <td>0.0</td>\n",
       "      <td>1000</td>\n",
       "    </tr>\n",
       "    <tr>\n",
       "      <td>...</td>\n",
       "      <td>...</td>\n",
       "      <td>...</td>\n",
       "      <td>...</td>\n",
       "      <td>...</td>\n",
       "    </tr>\n",
       "    <tr>\n",
       "      <td>202590</td>\n",
       "      <td>1499_203</td>\n",
       "      <td>2018-12-03</td>\n",
       "      <td>0.0</td>\n",
       "      <td>1499</td>\n",
       "    </tr>\n",
       "    <tr>\n",
       "      <td>202592</td>\n",
       "      <td>1499_205</td>\n",
       "      <td>2018-10-13</td>\n",
       "      <td>0.0</td>\n",
       "      <td>1499</td>\n",
       "    </tr>\n",
       "    <tr>\n",
       "      <td>202593</td>\n",
       "      <td>1499_206</td>\n",
       "      <td>2018-12-26</td>\n",
       "      <td>0.0</td>\n",
       "      <td>1499</td>\n",
       "    </tr>\n",
       "    <tr>\n",
       "      <td>202594</td>\n",
       "      <td>1499_207</td>\n",
       "      <td>2018-10-28</td>\n",
       "      <td>0.0</td>\n",
       "      <td>1499</td>\n",
       "    </tr>\n",
       "    <tr>\n",
       "      <td>202596</td>\n",
       "      <td>1499_209</td>\n",
       "      <td>2018-12-16</td>\n",
       "      <td>0.0</td>\n",
       "      <td>1499</td>\n",
       "    </tr>\n",
       "  </tbody>\n",
       "</table>\n",
       "<p>39613 rows × 4 columns</p>\n",
       "</div>"
      ],
      "text/plain": [
       "              id   call_date  duration  user_id\n",
       "0         1000_0  2018-07-25       0.0     1000\n",
       "1         1000_1  2018-08-17       0.0     1000\n",
       "5         1000_5  2018-11-02       0.0     1000\n",
       "6         1000_6  2018-10-18       0.0     1000\n",
       "9         1000_9  2018-08-15       0.0     1000\n",
       "...          ...         ...       ...      ...\n",
       "202590  1499_203  2018-12-03       0.0     1499\n",
       "202592  1499_205  2018-10-13       0.0     1499\n",
       "202593  1499_206  2018-12-26       0.0     1499\n",
       "202594  1499_207  2018-10-28       0.0     1499\n",
       "202596  1499_209  2018-12-16       0.0     1499\n",
       "\n",
       "[39613 rows x 4 columns]"
      ]
     },
     "execution_count": 8,
     "metadata": {},
     "output_type": "execute_result"
    }
   ],
   "source": [
    "calls.query('duration == 0.0')"
   ]
  },
  {
   "cell_type": "markdown",
   "metadata": {},
   "source": [
    "39,6тыс. разных звонков в разные даты у разных абонентов. Догадка подтверждается. Удалим сведения об этих звонках, что бы они нам не мешали."
   ]
  },
  {
   "cell_type": "code",
   "execution_count": 9,
   "metadata": {},
   "outputs": [],
   "source": [
    "calls.drop((calls.query('duration == 0.0')).index, inplace=True)"
   ]
  },
  {
   "cell_type": "markdown",
   "metadata": {},
   "source": [
    "Оценим гистаграмму звонков:"
   ]
  },
  {
   "cell_type": "code",
   "execution_count": 10,
   "metadata": {},
   "outputs": [
    {
     "data": {
      "text/plain": [
       "count    162994.00\n",
       "mean          8.90\n",
       "std           5.35\n",
       "min           1.00\n",
       "25%           5.00\n",
       "50%           8.00\n",
       "75%          12.00\n",
       "max          38.00\n",
       "Name: duration, dtype: float64"
      ]
     },
     "execution_count": 10,
     "metadata": {},
     "output_type": "execute_result"
    },
    {
     "data": {
      "image/png": "[encoded data removed]",
      "text/plain": [
       "<Figure size 432x288 with 1 Axes>"
      ]
     },
     "metadata": {
      "needs_background": "light"
     },
     "output_type": "display_data"
    }
   ],
   "source": [
    "calls['duration'].plot(kind='hist', bins=60, color='b', ec='black')\n",
    "plt.xlabel('Время разговора, мин.')\n",
    "plt.ylabel('Количество звонков')\n",
    "plt.title('Распределение количества звонков по времени разговора')\n",
    "calls['duration'].describe().round(2)"
   ]
  },
  {
   "cell_type": "markdown",
   "metadata": {},
   "source": [
    "Среднее время разговора 9 минут, медиана 8 минут. Размах от 1 до 38 минут."
   ]
  },
  {
   "cell_type": "markdown",
   "metadata": {},
   "source": [
    "#### Изучение таблицы `messages`"
   ]
  },
  {
   "cell_type": "code",
   "execution_count": 11,
   "metadata": {},
   "outputs": [
    {
     "data": {
      "text/html": [
       "<div>\n",
       "<style scoped>\n",
       "    .dataframe tbody tr th:only-of-type {\n",
       "        vertical-align: middle;\n",
       "    }\n",
       "\n",
       "    .dataframe tbody tr th {\n",
       "        vertical-align: top;\n",
       "    }\n",
       "\n",
       "    .dataframe thead th {\n",
       "        text-align: right;\n",
       "    }\n",
       "</style>\n",
       "<table border=\"1\" class=\"dataframe\">\n",
       "  <thead>\n",
       "    <tr style=\"text-align: right;\">\n",
       "      <th></th>\n",
       "      <th>id</th>\n",
       "      <th>message_date</th>\n",
       "      <th>user_id</th>\n",
       "    </tr>\n",
       "  </thead>\n",
       "  <tbody>\n",
       "    <tr>\n",
       "      <td>0</td>\n",
       "      <td>1000_0</td>\n",
       "      <td>2018-06-27</td>\n",
       "      <td>1000</td>\n",
       "    </tr>\n",
       "    <tr>\n",
       "      <td>1</td>\n",
       "      <td>1000_1</td>\n",
       "      <td>2018-10-08</td>\n",
       "      <td>1000</td>\n",
       "    </tr>\n",
       "    <tr>\n",
       "      <td>2</td>\n",
       "      <td>1000_2</td>\n",
       "      <td>2018-08-04</td>\n",
       "      <td>1000</td>\n",
       "    </tr>\n",
       "    <tr>\n",
       "      <td>3</td>\n",
       "      <td>1000_3</td>\n",
       "      <td>2018-06-16</td>\n",
       "      <td>1000</td>\n",
       "    </tr>\n",
       "    <tr>\n",
       "      <td>4</td>\n",
       "      <td>1000_4</td>\n",
       "      <td>2018-12-05</td>\n",
       "      <td>1000</td>\n",
       "    </tr>\n",
       "    <tr>\n",
       "      <td>5</td>\n",
       "      <td>1000_5</td>\n",
       "      <td>2018-06-20</td>\n",
       "      <td>1000</td>\n",
       "    </tr>\n",
       "    <tr>\n",
       "      <td>6</td>\n",
       "      <td>1000_6</td>\n",
       "      <td>2018-11-19</td>\n",
       "      <td>1000</td>\n",
       "    </tr>\n",
       "    <tr>\n",
       "      <td>7</td>\n",
       "      <td>1000_7</td>\n",
       "      <td>2018-10-29</td>\n",
       "      <td>1000</td>\n",
       "    </tr>\n",
       "    <tr>\n",
       "      <td>8</td>\n",
       "      <td>1000_8</td>\n",
       "      <td>2018-06-25</td>\n",
       "      <td>1000</td>\n",
       "    </tr>\n",
       "    <tr>\n",
       "      <td>9</td>\n",
       "      <td>1000_9</td>\n",
       "      <td>2018-12-18</td>\n",
       "      <td>1000</td>\n",
       "    </tr>\n",
       "  </tbody>\n",
       "</table>\n",
       "</div>"
      ],
      "text/plain": [
       "       id message_date  user_id\n",
       "0  1000_0   2018-06-27     1000\n",
       "1  1000_1   2018-10-08     1000\n",
       "2  1000_2   2018-08-04     1000\n",
       "3  1000_3   2018-06-16     1000\n",
       "4  1000_4   2018-12-05     1000\n",
       "5  1000_5   2018-06-20     1000\n",
       "6  1000_6   2018-11-19     1000\n",
       "7  1000_7   2018-10-29     1000\n",
       "8  1000_8   2018-06-25     1000\n",
       "9  1000_9   2018-12-18     1000"
      ]
     },
     "execution_count": 11,
     "metadata": {},
     "output_type": "execute_result"
    }
   ],
   "source": [
    "messages.head(10)"
   ]
  },
  {
   "cell_type": "code",
   "execution_count": 12,
   "metadata": {},
   "outputs": [
    {
     "name": "stdout",
     "output_type": "stream",
     "text": [
      "<class 'pandas.core.frame.DataFrame'>\n",
      "RangeIndex: 123036 entries, 0 to 123035\n",
      "Data columns (total 3 columns):\n",
      "id              123036 non-null object\n",
      "message_date    123036 non-null object\n",
      "user_id         123036 non-null int64\n",
      "dtypes: int64(1), object(2)\n",
      "memory usage: 2.8+ MB\n"
     ]
    }
   ],
   "source": [
    "messages.info()"
   ]
  },
  {
   "cell_type": "markdown",
   "metadata": {},
   "source": [
    "Обычные сообщения.  \n",
    "`message_date` - необходимо будет изменить с `object` на `datetime`. Возможно для удобства потребуется добавить месяц и день в отдельных столбцах.  "
   ]
  },
  {
   "cell_type": "markdown",
   "metadata": {},
   "source": [
    "#### Изучение таблицы `internet`"
   ]
  },
  {
   "cell_type": "code",
   "execution_count": 13,
   "metadata": {},
   "outputs": [
    {
     "data": {
      "text/html": [
       "<div>\n",
       "<style scoped>\n",
       "    .dataframe tbody tr th:only-of-type {\n",
       "        vertical-align: middle;\n",
       "    }\n",
       "\n",
       "    .dataframe tbody tr th {\n",
       "        vertical-align: top;\n",
       "    }\n",
       "\n",
       "    .dataframe thead th {\n",
       "        text-align: right;\n",
       "    }\n",
       "</style>\n",
       "<table border=\"1\" class=\"dataframe\">\n",
       "  <thead>\n",
       "    <tr style=\"text-align: right;\">\n",
       "      <th></th>\n",
       "      <th>Unnamed: 0</th>\n",
       "      <th>id</th>\n",
       "      <th>mb_used</th>\n",
       "      <th>session_date</th>\n",
       "      <th>user_id</th>\n",
       "    </tr>\n",
       "  </thead>\n",
       "  <tbody>\n",
       "    <tr>\n",
       "      <td>0</td>\n",
       "      <td>0</td>\n",
       "      <td>1000_0</td>\n",
       "      <td>112.95</td>\n",
       "      <td>2018-11-25</td>\n",
       "      <td>1000</td>\n",
       "    </tr>\n",
       "    <tr>\n",
       "      <td>1</td>\n",
       "      <td>1</td>\n",
       "      <td>1000_1</td>\n",
       "      <td>1052.81</td>\n",
       "      <td>2018-09-07</td>\n",
       "      <td>1000</td>\n",
       "    </tr>\n",
       "    <tr>\n",
       "      <td>2</td>\n",
       "      <td>2</td>\n",
       "      <td>1000_2</td>\n",
       "      <td>1197.26</td>\n",
       "      <td>2018-06-25</td>\n",
       "      <td>1000</td>\n",
       "    </tr>\n",
       "    <tr>\n",
       "      <td>3</td>\n",
       "      <td>3</td>\n",
       "      <td>1000_3</td>\n",
       "      <td>550.27</td>\n",
       "      <td>2018-08-22</td>\n",
       "      <td>1000</td>\n",
       "    </tr>\n",
       "    <tr>\n",
       "      <td>4</td>\n",
       "      <td>4</td>\n",
       "      <td>1000_4</td>\n",
       "      <td>302.56</td>\n",
       "      <td>2018-09-24</td>\n",
       "      <td>1000</td>\n",
       "    </tr>\n",
       "    <tr>\n",
       "      <td>5</td>\n",
       "      <td>5</td>\n",
       "      <td>1000_5</td>\n",
       "      <td>399.97</td>\n",
       "      <td>2018-10-02</td>\n",
       "      <td>1000</td>\n",
       "    </tr>\n",
       "    <tr>\n",
       "      <td>6</td>\n",
       "      <td>6</td>\n",
       "      <td>1000_6</td>\n",
       "      <td>540.08</td>\n",
       "      <td>2018-09-07</td>\n",
       "      <td>1000</td>\n",
       "    </tr>\n",
       "    <tr>\n",
       "      <td>7</td>\n",
       "      <td>7</td>\n",
       "      <td>1000_7</td>\n",
       "      <td>415.70</td>\n",
       "      <td>2018-07-11</td>\n",
       "      <td>1000</td>\n",
       "    </tr>\n",
       "    <tr>\n",
       "      <td>8</td>\n",
       "      <td>8</td>\n",
       "      <td>1000_8</td>\n",
       "      <td>505.40</td>\n",
       "      <td>2018-10-08</td>\n",
       "      <td>1000</td>\n",
       "    </tr>\n",
       "    <tr>\n",
       "      <td>9</td>\n",
       "      <td>9</td>\n",
       "      <td>1000_9</td>\n",
       "      <td>345.54</td>\n",
       "      <td>2018-09-03</td>\n",
       "      <td>1000</td>\n",
       "    </tr>\n",
       "  </tbody>\n",
       "</table>\n",
       "</div>"
      ],
      "text/plain": [
       "   Unnamed: 0      id  mb_used session_date  user_id\n",
       "0           0  1000_0   112.95   2018-11-25     1000\n",
       "1           1  1000_1  1052.81   2018-09-07     1000\n",
       "2           2  1000_2  1197.26   2018-06-25     1000\n",
       "3           3  1000_3   550.27   2018-08-22     1000\n",
       "4           4  1000_4   302.56   2018-09-24     1000\n",
       "5           5  1000_5   399.97   2018-10-02     1000\n",
       "6           6  1000_6   540.08   2018-09-07     1000\n",
       "7           7  1000_7   415.70   2018-07-11     1000\n",
       "8           8  1000_8   505.40   2018-10-08     1000\n",
       "9           9  1000_9   345.54   2018-09-03     1000"
      ]
     },
     "execution_count": 13,
     "metadata": {},
     "output_type": "execute_result"
    }
   ],
   "source": [
    "internet.head(10)"
   ]
  },
  {
   "cell_type": "code",
   "execution_count": 14,
   "metadata": {},
   "outputs": [
    {
     "name": "stdout",
     "output_type": "stream",
     "text": [
      "<class 'pandas.core.frame.DataFrame'>\n",
      "RangeIndex: 149396 entries, 0 to 149395\n",
      "Data columns (total 5 columns):\n",
      "Unnamed: 0      149396 non-null int64\n",
      "id              149396 non-null object\n",
      "mb_used         149396 non-null float64\n",
      "session_date    149396 non-null object\n",
      "user_id         149396 non-null int64\n",
      "dtypes: float64(1), int64(2), object(2)\n",
      "memory usage: 5.7+ MB\n"
     ]
    }
   ],
   "source": [
    "internet.info()"
   ]
  },
  {
   "cell_type": "code",
   "execution_count": 15,
   "metadata": {},
   "outputs": [],
   "source": [
    "#Округлим значения вверх согласно условию.\n",
    "#internet['mb_used'] = internet['mb_used'].apply(np.ceil)\n",
    "#internet.head(10)"
   ]
  },
  {
   "cell_type": "markdown",
   "metadata": {},
   "source": [
    "Проверим наличие нулевых значени, как в звонках:"
   ]
  },
  {
   "cell_type": "code",
   "execution_count": 16,
   "metadata": {},
   "outputs": [
    {
     "data": {
      "text/html": [
       "<div>\n",
       "<style scoped>\n",
       "    .dataframe tbody tr th:only-of-type {\n",
       "        vertical-align: middle;\n",
       "    }\n",
       "\n",
       "    .dataframe tbody tr th {\n",
       "        vertical-align: top;\n",
       "    }\n",
       "\n",
       "    .dataframe thead th {\n",
       "        text-align: right;\n",
       "    }\n",
       "</style>\n",
       "<table border=\"1\" class=\"dataframe\">\n",
       "  <thead>\n",
       "    <tr style=\"text-align: right;\">\n",
       "      <th></th>\n",
       "      <th>Unnamed: 0</th>\n",
       "      <th>id</th>\n",
       "      <th>mb_used</th>\n",
       "      <th>session_date</th>\n",
       "      <th>user_id</th>\n",
       "    </tr>\n",
       "  </thead>\n",
       "  <tbody>\n",
       "    <tr>\n",
       "      <td>11</td>\n",
       "      <td>11</td>\n",
       "      <td>1000_11</td>\n",
       "      <td>0.0</td>\n",
       "      <td>2018-08-28</td>\n",
       "      <td>1000</td>\n",
       "    </tr>\n",
       "    <tr>\n",
       "      <td>38</td>\n",
       "      <td>38</td>\n",
       "      <td>1000_38</td>\n",
       "      <td>0.0</td>\n",
       "      <td>2018-11-27</td>\n",
       "      <td>1000</td>\n",
       "    </tr>\n",
       "    <tr>\n",
       "      <td>46</td>\n",
       "      <td>46</td>\n",
       "      <td>1000_46</td>\n",
       "      <td>0.0</td>\n",
       "      <td>2018-06-30</td>\n",
       "      <td>1000</td>\n",
       "    </tr>\n",
       "    <tr>\n",
       "      <td>67</td>\n",
       "      <td>67</td>\n",
       "      <td>1000_67</td>\n",
       "      <td>0.0</td>\n",
       "      <td>2018-06-16</td>\n",
       "      <td>1000</td>\n",
       "    </tr>\n",
       "    <tr>\n",
       "      <td>72</td>\n",
       "      <td>72</td>\n",
       "      <td>1000_72</td>\n",
       "      <td>0.0</td>\n",
       "      <td>2018-06-15</td>\n",
       "      <td>1000</td>\n",
       "    </tr>\n",
       "    <tr>\n",
       "      <td>...</td>\n",
       "      <td>...</td>\n",
       "      <td>...</td>\n",
       "      <td>...</td>\n",
       "      <td>...</td>\n",
       "      <td>...</td>\n",
       "    </tr>\n",
       "    <tr>\n",
       "      <td>149380</td>\n",
       "      <td>149380</td>\n",
       "      <td>1499_141</td>\n",
       "      <td>0.0</td>\n",
       "      <td>2018-12-11</td>\n",
       "      <td>1499</td>\n",
       "    </tr>\n",
       "    <tr>\n",
       "      <td>149381</td>\n",
       "      <td>149381</td>\n",
       "      <td>1499_142</td>\n",
       "      <td>0.0</td>\n",
       "      <td>2018-11-01</td>\n",
       "      <td>1499</td>\n",
       "    </tr>\n",
       "    <tr>\n",
       "      <td>149383</td>\n",
       "      <td>149383</td>\n",
       "      <td>1499_144</td>\n",
       "      <td>0.0</td>\n",
       "      <td>2018-11-27</td>\n",
       "      <td>1499</td>\n",
       "    </tr>\n",
       "    <tr>\n",
       "      <td>149386</td>\n",
       "      <td>149386</td>\n",
       "      <td>1499_147</td>\n",
       "      <td>0.0</td>\n",
       "      <td>2018-10-21</td>\n",
       "      <td>1499</td>\n",
       "    </tr>\n",
       "    <tr>\n",
       "      <td>149393</td>\n",
       "      <td>149393</td>\n",
       "      <td>1499_154</td>\n",
       "      <td>0.0</td>\n",
       "      <td>2018-10-27</td>\n",
       "      <td>1499</td>\n",
       "    </tr>\n",
       "  </tbody>\n",
       "</table>\n",
       "<p>19598 rows × 5 columns</p>\n",
       "</div>"
      ],
      "text/plain": [
       "        Unnamed: 0        id  mb_used session_date  user_id\n",
       "11              11   1000_11      0.0   2018-08-28     1000\n",
       "38              38   1000_38      0.0   2018-11-27     1000\n",
       "46              46   1000_46      0.0   2018-06-30     1000\n",
       "67              67   1000_67      0.0   2018-06-16     1000\n",
       "72              72   1000_72      0.0   2018-06-15     1000\n",
       "...            ...       ...      ...          ...      ...\n",
       "149380      149380  1499_141      0.0   2018-12-11     1499\n",
       "149381      149381  1499_142      0.0   2018-11-01     1499\n",
       "149383      149383  1499_144      0.0   2018-11-27     1499\n",
       "149386      149386  1499_147      0.0   2018-10-21     1499\n",
       "149393      149393  1499_154      0.0   2018-10-27     1499\n",
       "\n",
       "[19598 rows x 5 columns]"
      ]
     },
     "execution_count": 16,
     "metadata": {},
     "output_type": "execute_result"
    }
   ],
   "source": [
    "internet.query('mb_used == 0')"
   ]
  },
  {
   "cell_type": "markdown",
   "metadata": {},
   "source": [
    "19,6 тыс. поступаем аналогично - удаляем их"
   ]
  },
  {
   "cell_type": "code",
   "execution_count": 17,
   "metadata": {},
   "outputs": [],
   "source": [
    "internet.drop(internet.query('mb_used == 0').index, inplace=True)"
   ]
  },
  {
   "cell_type": "markdown",
   "metadata": {},
   "source": [
    "Оценим гистаграмму трафика:"
   ]
  },
  {
   "cell_type": "code",
   "execution_count": 18,
   "metadata": {},
   "outputs": [
    {
     "data": {
      "text/plain": [
       "count    129798.00\n",
       "mean        426.09\n",
       "std         255.60\n",
       "min           0.03\n",
       "25%         227.46\n",
       "50%         400.54\n",
       "75%         592.95\n",
       "max        1724.83\n",
       "Name: mb_used, dtype: float64"
      ]
     },
     "execution_count": 18,
     "metadata": {},
     "output_type": "execute_result"
    },
    {
     "data": {
      "image/png": "[encoded data removed]",
      "text/plain": [
       "<Figure size 432x288 with 1 Axes>"
      ]
     },
     "metadata": {
      "needs_background": "light"
     },
     "output_type": "display_data"
    }
   ],
   "source": [
    "internet['mb_used'].plot(kind='hist', bins=60, color='b', ec='black')\n",
    "plt.xlabel('Количество трафика, мб.')\n",
    "plt.ylabel('Количество сессий')\n",
    "plt.title('Распределение количества сессий по объему тарифа')\n",
    "internet['mb_used'].describe().round(2)"
   ]
  },
  {
   "cell_type": "markdown",
   "metadata": {},
   "source": [
    "Средний размер 426 mb, медиана 401 mb. Размах от 1 до 1725 mb."
   ]
  },
  {
   "cell_type": "markdown",
   "metadata": {},
   "source": [
    "#### Изучение таблицы `tariffs`"
   ]
  },
  {
   "cell_type": "code",
   "execution_count": 19,
   "metadata": {},
   "outputs": [
    {
     "data": {
      "text/html": [
       "<div>\n",
       "<style scoped>\n",
       "    .dataframe tbody tr th:only-of-type {\n",
       "        vertical-align: middle;\n",
       "    }\n",
       "\n",
       "    .dataframe tbody tr th {\n",
       "        vertical-align: top;\n",
       "    }\n",
       "\n",
       "    .dataframe thead th {\n",
       "        text-align: right;\n",
       "    }\n",
       "</style>\n",
       "<table border=\"1\" class=\"dataframe\">\n",
       "  <thead>\n",
       "    <tr style=\"text-align: right;\">\n",
       "      <th></th>\n",
       "      <th>messages_included</th>\n",
       "      <th>mb_per_month_included</th>\n",
       "      <th>minutes_included</th>\n",
       "      <th>rub_monthly_fee</th>\n",
       "      <th>rub_per_gb</th>\n",
       "      <th>rub_per_message</th>\n",
       "      <th>rub_per_minute</th>\n",
       "      <th>tariff_name</th>\n",
       "    </tr>\n",
       "  </thead>\n",
       "  <tbody>\n",
       "    <tr>\n",
       "      <td>0</td>\n",
       "      <td>50</td>\n",
       "      <td>15360</td>\n",
       "      <td>500</td>\n",
       "      <td>550</td>\n",
       "      <td>200</td>\n",
       "      <td>3</td>\n",
       "      <td>3</td>\n",
       "      <td>smart</td>\n",
       "    </tr>\n",
       "    <tr>\n",
       "      <td>1</td>\n",
       "      <td>1000</td>\n",
       "      <td>30720</td>\n",
       "      <td>3000</td>\n",
       "      <td>1950</td>\n",
       "      <td>150</td>\n",
       "      <td>1</td>\n",
       "      <td>1</td>\n",
       "      <td>ultra</td>\n",
       "    </tr>\n",
       "  </tbody>\n",
       "</table>\n",
       "</div>"
      ],
      "text/plain": [
       "   messages_included  mb_per_month_included  minutes_included  \\\n",
       "0                 50                  15360               500   \n",
       "1               1000                  30720              3000   \n",
       "\n",
       "   rub_monthly_fee  rub_per_gb  rub_per_message  rub_per_minute tariff_name  \n",
       "0              550         200                3               3       smart  \n",
       "1             1950         150                1               1       ultra  "
      ]
     },
     "execution_count": 19,
     "metadata": {},
     "output_type": "execute_result"
    }
   ],
   "source": [
    "tariffs.head(10)"
   ]
  },
  {
   "cell_type": "code",
   "execution_count": 20,
   "metadata": {},
   "outputs": [
    {
     "name": "stdout",
     "output_type": "stream",
     "text": [
      "<class 'pandas.core.frame.DataFrame'>\n",
      "RangeIndex: 2 entries, 0 to 1\n",
      "Data columns (total 8 columns):\n",
      "messages_included        2 non-null int64\n",
      "mb_per_month_included    2 non-null int64\n",
      "minutes_included         2 non-null int64\n",
      "rub_monthly_fee          2 non-null int64\n",
      "rub_per_gb               2 non-null int64\n",
      "rub_per_message          2 non-null int64\n",
      "rub_per_minute           2 non-null int64\n",
      "tariff_name              2 non-null object\n",
      "dtypes: int64(7), object(1)\n",
      "memory usage: 256.0+ bytes\n"
     ]
    }
   ],
   "source": [
    "tariffs.info()"
   ]
  },
  {
   "cell_type": "markdown",
   "metadata": {},
   "source": [
    "Данные по тарифам. Вся информация имеется также в исходных данных."
   ]
  },
  {
   "cell_type": "markdown",
   "metadata": {},
   "source": [
    "### Общий вывод"
   ]
  },
  {
   "cell_type": "markdown",
   "metadata": {},
   "source": [
    "В исходных данных представлена информация о 500 абонентах компании, сведения о звонках, сообщениях, трафике и тарифах."
   ]
  },
  {
   "cell_type": "markdown",
   "metadata": {},
   "source": [
    "## Подготовка данных"
   ]
  },
  {
   "cell_type": "markdown",
   "metadata": {},
   "source": [
    "### Изменение типов данных"
   ]
  },
  {
   "cell_type": "code",
   "execution_count": 21,
   "metadata": {},
   "outputs": [],
   "source": [
    "users['reg_date'] = pd.to_datetime(users['reg_date'], format='%Y-%m-%d')\n",
    "users['churn_date'] = pd.to_datetime(users['churn_date'], format='%Y-%m-%d')\n",
    "calls['call_date'] = pd.to_datetime(calls['call_date'], format='%Y-%m-%d')\n",
    "messages['message_date'] = pd.to_datetime(messages['message_date'], format='%Y-%m-%d')\n",
    "internet['session_date'] = pd.to_datetime(internet['session_date'], format='%Y-%m-%d')"
   ]
  },
  {
   "cell_type": "markdown",
   "metadata": {},
   "source": [
    "### Добавление данных"
   ]
  },
  {
   "cell_type": "markdown",
   "metadata": {},
   "source": [
    "Добавим столбец месяц (`month`) в каждую таблицу для последующего формирования месячных итогов."
   ]
  },
  {
   "cell_type": "code",
   "execution_count": 22,
   "metadata": {},
   "outputs": [],
   "source": [
    "users['month_start'] = pd.DatetimeIndex(users['reg_date']).month # используем номера месяцов, т.к. с названиями месяцов \n",
    "users['month_end'] = pd.DatetimeIndex(users['churn_date']).month # есть трудности с сортировкой и порядком\n",
    "calls['month'] = pd.DatetimeIndex(calls['call_date']).month\n",
    "messages['month'] = pd.DatetimeIndex(messages['message_date']).month\n",
    "internet['month'] = pd.DatetimeIndex(internet['session_date']).month"
   ]
  },
  {
   "cell_type": "markdown",
   "metadata": {},
   "source": [
    "### Определение месячного расхода звонков, сообщений, трафика"
   ]
  },
  {
   "cell_type": "markdown",
   "metadata": {},
   "source": [
    "Определим значения в каждой таблице"
   ]
  },
  {
   "cell_type": "code",
   "execution_count": 23,
   "metadata": {},
   "outputs": [],
   "source": [
    "num_of_calls = calls.groupby(['user_id', 'month'])['duration'].agg(['count', 'sum'])\n",
    "num_of_messages = messages.groupby(['user_id', 'month'])['id'].count() # сумма id - количество смс\n",
    "num_of_internet = internet.groupby(['user_id', 'month']).sum()['mb_used']"
   ]
  },
  {
   "cell_type": "markdown",
   "metadata": {},
   "source": [
    "### Объединение данных"
   ]
  },
  {
   "cell_type": "markdown",
   "metadata": {},
   "source": [
    "Объединим все данные в одну таблицу"
   ]
  },
  {
   "cell_type": "code",
   "execution_count": 24,
   "metadata": {},
   "outputs": [],
   "source": [
    "data_event_numbers = pd.concat([num_of_calls, num_of_messages, num_of_internet], axis=1)\n",
    "data_event_numbers = data_event_numbers.reset_index()"
   ]
  },
  {
   "cell_type": "code",
   "execution_count": 25,
   "metadata": {},
   "outputs": [
    {
     "data": {
      "text/html": [
       "<div>\n",
       "<style scoped>\n",
       "    .dataframe tbody tr th:only-of-type {\n",
       "        vertical-align: middle;\n",
       "    }\n",
       "\n",
       "    .dataframe tbody tr th {\n",
       "        vertical-align: top;\n",
       "    }\n",
       "\n",
       "    .dataframe thead th {\n",
       "        text-align: right;\n",
       "    }\n",
       "</style>\n",
       "<table border=\"1\" class=\"dataframe\">\n",
       "  <thead>\n",
       "    <tr style=\"text-align: right;\">\n",
       "      <th></th>\n",
       "      <th>user_id</th>\n",
       "      <th>month</th>\n",
       "      <th>count</th>\n",
       "      <th>sum</th>\n",
       "      <th>id</th>\n",
       "      <th>mb_used</th>\n",
       "      <th>tariff</th>\n",
       "      <th>city</th>\n",
       "      <th>age</th>\n",
       "      <th>reg_date</th>\n",
       "    </tr>\n",
       "  </thead>\n",
       "  <tbody>\n",
       "    <tr>\n",
       "      <td>0</td>\n",
       "      <td>1000</td>\n",
       "      <td>5.0</td>\n",
       "      <td>17.0</td>\n",
       "      <td>159.0</td>\n",
       "      <td>22.0</td>\n",
       "      <td>2253.49</td>\n",
       "      <td>ultra</td>\n",
       "      <td>Краснодар</td>\n",
       "      <td>52</td>\n",
       "      <td>2018-05-25</td>\n",
       "    </tr>\n",
       "    <tr>\n",
       "      <td>1</td>\n",
       "      <td>1000</td>\n",
       "      <td>6.0</td>\n",
       "      <td>28.0</td>\n",
       "      <td>172.0</td>\n",
       "      <td>60.0</td>\n",
       "      <td>23233.77</td>\n",
       "      <td>ultra</td>\n",
       "      <td>Краснодар</td>\n",
       "      <td>52</td>\n",
       "      <td>2018-05-25</td>\n",
       "    </tr>\n",
       "    <tr>\n",
       "      <td>2</td>\n",
       "      <td>1000</td>\n",
       "      <td>7.0</td>\n",
       "      <td>41.0</td>\n",
       "      <td>340.0</td>\n",
       "      <td>75.0</td>\n",
       "      <td>14003.64</td>\n",
       "      <td>ultra</td>\n",
       "      <td>Краснодар</td>\n",
       "      <td>52</td>\n",
       "      <td>2018-05-25</td>\n",
       "    </tr>\n",
       "    <tr>\n",
       "      <td>3</td>\n",
       "      <td>1000</td>\n",
       "      <td>8.0</td>\n",
       "      <td>42.0</td>\n",
       "      <td>408.0</td>\n",
       "      <td>81.0</td>\n",
       "      <td>14055.93</td>\n",
       "      <td>ultra</td>\n",
       "      <td>Краснодар</td>\n",
       "      <td>52</td>\n",
       "      <td>2018-05-25</td>\n",
       "    </tr>\n",
       "    <tr>\n",
       "      <td>4</td>\n",
       "      <td>1000</td>\n",
       "      <td>9.0</td>\n",
       "      <td>46.0</td>\n",
       "      <td>466.0</td>\n",
       "      <td>57.0</td>\n",
       "      <td>14568.91</td>\n",
       "      <td>ultra</td>\n",
       "      <td>Краснодар</td>\n",
       "      <td>52</td>\n",
       "      <td>2018-05-25</td>\n",
       "    </tr>\n",
       "    <tr>\n",
       "      <td>...</td>\n",
       "      <td>...</td>\n",
       "      <td>...</td>\n",
       "      <td>...</td>\n",
       "      <td>...</td>\n",
       "      <td>...</td>\n",
       "      <td>...</td>\n",
       "      <td>...</td>\n",
       "      <td>...</td>\n",
       "      <td>...</td>\n",
       "      <td>...</td>\n",
       "    </tr>\n",
       "    <tr>\n",
       "      <td>3211</td>\n",
       "      <td>1499</td>\n",
       "      <td>10.0</td>\n",
       "      <td>44.0</td>\n",
       "      <td>449.0</td>\n",
       "      <td>48.0</td>\n",
       "      <td>17788.51</td>\n",
       "      <td>smart</td>\n",
       "      <td>Пермь</td>\n",
       "      <td>35</td>\n",
       "      <td>2018-09-27</td>\n",
       "    </tr>\n",
       "    <tr>\n",
       "      <td>3212</td>\n",
       "      <td>1499</td>\n",
       "      <td>11.0</td>\n",
       "      <td>62.0</td>\n",
       "      <td>612.0</td>\n",
       "      <td>59.0</td>\n",
       "      <td>17963.31</td>\n",
       "      <td>smart</td>\n",
       "      <td>Пермь</td>\n",
       "      <td>35</td>\n",
       "      <td>2018-09-27</td>\n",
       "    </tr>\n",
       "    <tr>\n",
       "      <td>3213</td>\n",
       "      <td>1499</td>\n",
       "      <td>12.0</td>\n",
       "      <td>56.0</td>\n",
       "      <td>492.0</td>\n",
       "      <td>66.0</td>\n",
       "      <td>13055.58</td>\n",
       "      <td>smart</td>\n",
       "      <td>Пермь</td>\n",
       "      <td>35</td>\n",
       "      <td>2018-09-27</td>\n",
       "    </tr>\n",
       "    <tr>\n",
       "      <td>3214</td>\n",
       "      <td>1128</td>\n",
       "      <td>NaN</td>\n",
       "      <td>NaN</td>\n",
       "      <td>NaN</td>\n",
       "      <td>NaN</td>\n",
       "      <td>NaN</td>\n",
       "      <td>ultra</td>\n",
       "      <td>Волжский</td>\n",
       "      <td>51</td>\n",
       "      <td>2018-12-15</td>\n",
       "    </tr>\n",
       "    <tr>\n",
       "      <td>3215</td>\n",
       "      <td>1371</td>\n",
       "      <td>NaN</td>\n",
       "      <td>NaN</td>\n",
       "      <td>NaN</td>\n",
       "      <td>NaN</td>\n",
       "      <td>NaN</td>\n",
       "      <td>smart</td>\n",
       "      <td>Омск</td>\n",
       "      <td>50</td>\n",
       "      <td>2018-12-25</td>\n",
       "    </tr>\n",
       "  </tbody>\n",
       "</table>\n",
       "<p>3216 rows × 10 columns</p>\n",
       "</div>"
      ],
      "text/plain": [
       "      user_id  month  count    sum    id   mb_used tariff       city  age  \\\n",
       "0        1000    5.0   17.0  159.0  22.0   2253.49  ultra  Краснодар   52   \n",
       "1        1000    6.0   28.0  172.0  60.0  23233.77  ultra  Краснодар   52   \n",
       "2        1000    7.0   41.0  340.0  75.0  14003.64  ultra  Краснодар   52   \n",
       "3        1000    8.0   42.0  408.0  81.0  14055.93  ultra  Краснодар   52   \n",
       "4        1000    9.0   46.0  466.0  57.0  14568.91  ultra  Краснодар   52   \n",
       "...       ...    ...    ...    ...   ...       ...    ...        ...  ...   \n",
       "3211     1499   10.0   44.0  449.0  48.0  17788.51  smart      Пермь   35   \n",
       "3212     1499   11.0   62.0  612.0  59.0  17963.31  smart      Пермь   35   \n",
       "3213     1499   12.0   56.0  492.0  66.0  13055.58  smart      Пермь   35   \n",
       "3214     1128    NaN    NaN    NaN   NaN       NaN  ultra   Волжский   51   \n",
       "3215     1371    NaN    NaN    NaN   NaN       NaN  smart       Омск   50   \n",
       "\n",
       "       reg_date  \n",
       "0    2018-05-25  \n",
       "1    2018-05-25  \n",
       "2    2018-05-25  \n",
       "3    2018-05-25  \n",
       "4    2018-05-25  \n",
       "...         ...  \n",
       "3211 2018-09-27  \n",
       "3212 2018-09-27  \n",
       "3213 2018-09-27  \n",
       "3214 2018-12-15  \n",
       "3215 2018-12-25  \n",
       "\n",
       "[3216 rows x 10 columns]"
      ]
     },
     "execution_count": 25,
     "metadata": {},
     "output_type": "execute_result"
    }
   ],
   "source": [
    "data_final = pd.merge(data_event_numbers, users.loc[:, ['tariff', 'city', 'age','reg_date', 'user_id']], \n",
    "                      on='user_id', how='outer')\n",
    "data_final\n"
   ]
  },
  {
   "cell_type": "code",
   "execution_count": 26,
   "metadata": {},
   "outputs": [
    {
     "name": "stdout",
     "output_type": "stream",
     "text": [
      "<class 'pandas.core.frame.DataFrame'>\n",
      "Int64Index: 3216 entries, 0 to 3215\n",
      "Data columns (total 10 columns):\n",
      "user_id     3216 non-null int64\n",
      "month       3214 non-null float64\n",
      "count       3168 non-null float64\n",
      "sum         3168 non-null float64\n",
      "id          2717 non-null float64\n",
      "mb_used     3201 non-null float64\n",
      "tariff      3216 non-null object\n",
      "city        3216 non-null object\n",
      "age         3216 non-null int64\n",
      "reg_date    3216 non-null datetime64[ns]\n",
      "dtypes: datetime64[ns](1), float64(5), int64(2), object(2)\n",
      "memory usage: 276.4+ KB\n"
     ]
    }
   ],
   "source": [
    "data_final.info()"
   ]
  },
  {
   "cell_type": "markdown",
   "metadata": {},
   "source": [
    "В процессе объединения таблиц у нас появились NaN в графе месяц. Такого быть не должно. Очевидно это связано с тем, что `reg_date` указан декабрь и данные отображаются не за весь месяц. Проверим."
   ]
  },
  {
   "cell_type": "code",
   "execution_count": 27,
   "metadata": {},
   "outputs": [
    {
     "data": {
      "text/html": [
       "<div>\n",
       "<style scoped>\n",
       "    .dataframe tbody tr th:only-of-type {\n",
       "        vertical-align: middle;\n",
       "    }\n",
       "\n",
       "    .dataframe tbody tr th {\n",
       "        vertical-align: top;\n",
       "    }\n",
       "\n",
       "    .dataframe thead th {\n",
       "        text-align: right;\n",
       "    }\n",
       "</style>\n",
       "<table border=\"1\" class=\"dataframe\">\n",
       "  <thead>\n",
       "    <tr style=\"text-align: right;\">\n",
       "      <th></th>\n",
       "      <th>user_id</th>\n",
       "      <th>month</th>\n",
       "      <th>count</th>\n",
       "      <th>sum</th>\n",
       "      <th>id</th>\n",
       "      <th>mb_used</th>\n",
       "      <th>tariff</th>\n",
       "      <th>city</th>\n",
       "      <th>age</th>\n",
       "      <th>reg_date</th>\n",
       "    </tr>\n",
       "  </thead>\n",
       "  <tbody>\n",
       "    <tr>\n",
       "      <td>3214</td>\n",
       "      <td>1128</td>\n",
       "      <td>NaN</td>\n",
       "      <td>NaN</td>\n",
       "      <td>NaN</td>\n",
       "      <td>NaN</td>\n",
       "      <td>NaN</td>\n",
       "      <td>ultra</td>\n",
       "      <td>Волжский</td>\n",
       "      <td>51</td>\n",
       "      <td>2018-12-15</td>\n",
       "    </tr>\n",
       "    <tr>\n",
       "      <td>3215</td>\n",
       "      <td>1371</td>\n",
       "      <td>NaN</td>\n",
       "      <td>NaN</td>\n",
       "      <td>NaN</td>\n",
       "      <td>NaN</td>\n",
       "      <td>NaN</td>\n",
       "      <td>smart</td>\n",
       "      <td>Омск</td>\n",
       "      <td>50</td>\n",
       "      <td>2018-12-25</td>\n",
       "    </tr>\n",
       "  </tbody>\n",
       "</table>\n",
       "</div>"
      ],
      "text/plain": [
       "      user_id  month  count  sum  id  mb_used tariff      city  age   reg_date\n",
       "3214     1128    NaN    NaN  NaN NaN      NaN  ultra  Волжский   51 2018-12-15\n",
       "3215     1371    NaN    NaN  NaN NaN      NaN  smart      Омск   50 2018-12-25"
      ]
     },
     "execution_count": 27,
     "metadata": {},
     "output_type": "execute_result"
    }
   ],
   "source": [
    "bad_users_1 = data_final[data_final['month'].isnull()]\n",
    "bad_users_1"
   ]
  },
  {
   "cell_type": "markdown",
   "metadata": {},
   "source": [
    "Пользователей всего 2."
   ]
  },
  {
   "cell_type": "code",
   "execution_count": 28,
   "metadata": {},
   "outputs": [
    {
     "data": {
      "text/html": [
       "<div>\n",
       "<style scoped>\n",
       "    .dataframe tbody tr th:only-of-type {\n",
       "        vertical-align: middle;\n",
       "    }\n",
       "\n",
       "    .dataframe tbody tr th {\n",
       "        vertical-align: top;\n",
       "    }\n",
       "\n",
       "    .dataframe thead th {\n",
       "        text-align: right;\n",
       "    }\n",
       "</style>\n",
       "<table border=\"1\" class=\"dataframe\">\n",
       "  <thead>\n",
       "    <tr style=\"text-align: right;\">\n",
       "      <th></th>\n",
       "      <th>user_id</th>\n",
       "      <th>age</th>\n",
       "      <th>churn_date</th>\n",
       "      <th>city</th>\n",
       "      <th>first_name</th>\n",
       "      <th>last_name</th>\n",
       "      <th>reg_date</th>\n",
       "      <th>tariff</th>\n",
       "      <th>month_start</th>\n",
       "      <th>month_end</th>\n",
       "    </tr>\n",
       "  </thead>\n",
       "  <tbody>\n",
       "    <tr>\n",
       "      <td>128</td>\n",
       "      <td>1128</td>\n",
       "      <td>51</td>\n",
       "      <td>2018-12-23</td>\n",
       "      <td>Волжский</td>\n",
       "      <td>Ксения</td>\n",
       "      <td>Агаева</td>\n",
       "      <td>2018-12-15</td>\n",
       "      <td>ultra</td>\n",
       "      <td>12</td>\n",
       "      <td>12.0</td>\n",
       "    </tr>\n",
       "  </tbody>\n",
       "</table>\n",
       "</div>"
      ],
      "text/plain": [
       "     user_id  age churn_date      city first_name last_name   reg_date tariff  \\\n",
       "128     1128   51 2018-12-23  Волжский     Ксения    Агаева 2018-12-15  ultra   \n",
       "\n",
       "     month_start  month_end  \n",
       "128           12       12.0  "
      ]
     },
     "execution_count": 28,
     "metadata": {},
     "output_type": "execute_result"
    }
   ],
   "source": [
    "bad_users_2 = users[users['user_id']== 1128]\n",
    "bad_users_2"
   ]
  },
  {
   "cell_type": "markdown",
   "metadata": {},
   "source": [
    "Да, так и есть. Пользовались тарифом 8 дней и не совершили никаких действий. У второго клиента похожая ситуация. Исправим NaN в месяце на 12."
   ]
  },
  {
   "cell_type": "code",
   "execution_count": 29,
   "metadata": {},
   "outputs": [
    {
     "data": {
      "text/html": [
       "<div>\n",
       "<style scoped>\n",
       "    .dataframe tbody tr th:only-of-type {\n",
       "        vertical-align: middle;\n",
       "    }\n",
       "\n",
       "    .dataframe tbody tr th {\n",
       "        vertical-align: top;\n",
       "    }\n",
       "\n",
       "    .dataframe thead th {\n",
       "        text-align: right;\n",
       "    }\n",
       "</style>\n",
       "<table border=\"1\" class=\"dataframe\">\n",
       "  <thead>\n",
       "    <tr style=\"text-align: right;\">\n",
       "      <th></th>\n",
       "      <th>user_id</th>\n",
       "      <th>month</th>\n",
       "      <th>count</th>\n",
       "      <th>sum</th>\n",
       "      <th>id</th>\n",
       "      <th>mb_used</th>\n",
       "      <th>tariff</th>\n",
       "      <th>city</th>\n",
       "      <th>age</th>\n",
       "      <th>reg_date</th>\n",
       "    </tr>\n",
       "  </thead>\n",
       "  <tbody>\n",
       "    <tr>\n",
       "      <td>0</td>\n",
       "      <td>1000</td>\n",
       "      <td>5.0</td>\n",
       "      <td>17.0</td>\n",
       "      <td>159.0</td>\n",
       "      <td>22.0</td>\n",
       "      <td>2253.49</td>\n",
       "      <td>ultra</td>\n",
       "      <td>Краснодар</td>\n",
       "      <td>52</td>\n",
       "      <td>2018-05-25</td>\n",
       "    </tr>\n",
       "    <tr>\n",
       "      <td>1</td>\n",
       "      <td>1000</td>\n",
       "      <td>6.0</td>\n",
       "      <td>28.0</td>\n",
       "      <td>172.0</td>\n",
       "      <td>60.0</td>\n",
       "      <td>23233.77</td>\n",
       "      <td>ultra</td>\n",
       "      <td>Краснодар</td>\n",
       "      <td>52</td>\n",
       "      <td>2018-05-25</td>\n",
       "    </tr>\n",
       "    <tr>\n",
       "      <td>2</td>\n",
       "      <td>1000</td>\n",
       "      <td>7.0</td>\n",
       "      <td>41.0</td>\n",
       "      <td>340.0</td>\n",
       "      <td>75.0</td>\n",
       "      <td>14003.64</td>\n",
       "      <td>ultra</td>\n",
       "      <td>Краснодар</td>\n",
       "      <td>52</td>\n",
       "      <td>2018-05-25</td>\n",
       "    </tr>\n",
       "    <tr>\n",
       "      <td>3</td>\n",
       "      <td>1000</td>\n",
       "      <td>8.0</td>\n",
       "      <td>42.0</td>\n",
       "      <td>408.0</td>\n",
       "      <td>81.0</td>\n",
       "      <td>14055.93</td>\n",
       "      <td>ultra</td>\n",
       "      <td>Краснодар</td>\n",
       "      <td>52</td>\n",
       "      <td>2018-05-25</td>\n",
       "    </tr>\n",
       "    <tr>\n",
       "      <td>4</td>\n",
       "      <td>1000</td>\n",
       "      <td>9.0</td>\n",
       "      <td>46.0</td>\n",
       "      <td>466.0</td>\n",
       "      <td>57.0</td>\n",
       "      <td>14568.91</td>\n",
       "      <td>ultra</td>\n",
       "      <td>Краснодар</td>\n",
       "      <td>52</td>\n",
       "      <td>2018-05-25</td>\n",
       "    </tr>\n",
       "    <tr>\n",
       "      <td>...</td>\n",
       "      <td>...</td>\n",
       "      <td>...</td>\n",
       "      <td>...</td>\n",
       "      <td>...</td>\n",
       "      <td>...</td>\n",
       "      <td>...</td>\n",
       "      <td>...</td>\n",
       "      <td>...</td>\n",
       "      <td>...</td>\n",
       "      <td>...</td>\n",
       "    </tr>\n",
       "    <tr>\n",
       "      <td>3211</td>\n",
       "      <td>1499</td>\n",
       "      <td>10.0</td>\n",
       "      <td>44.0</td>\n",
       "      <td>449.0</td>\n",
       "      <td>48.0</td>\n",
       "      <td>17788.51</td>\n",
       "      <td>smart</td>\n",
       "      <td>Пермь</td>\n",
       "      <td>35</td>\n",
       "      <td>2018-09-27</td>\n",
       "    </tr>\n",
       "    <tr>\n",
       "      <td>3212</td>\n",
       "      <td>1499</td>\n",
       "      <td>11.0</td>\n",
       "      <td>62.0</td>\n",
       "      <td>612.0</td>\n",
       "      <td>59.0</td>\n",
       "      <td>17963.31</td>\n",
       "      <td>smart</td>\n",
       "      <td>Пермь</td>\n",
       "      <td>35</td>\n",
       "      <td>2018-09-27</td>\n",
       "    </tr>\n",
       "    <tr>\n",
       "      <td>3213</td>\n",
       "      <td>1499</td>\n",
       "      <td>12.0</td>\n",
       "      <td>56.0</td>\n",
       "      <td>492.0</td>\n",
       "      <td>66.0</td>\n",
       "      <td>13055.58</td>\n",
       "      <td>smart</td>\n",
       "      <td>Пермь</td>\n",
       "      <td>35</td>\n",
       "      <td>2018-09-27</td>\n",
       "    </tr>\n",
       "    <tr>\n",
       "      <td>3214</td>\n",
       "      <td>1128</td>\n",
       "      <td>12.0</td>\n",
       "      <td>NaN</td>\n",
       "      <td>NaN</td>\n",
       "      <td>NaN</td>\n",
       "      <td>NaN</td>\n",
       "      <td>ultra</td>\n",
       "      <td>Волжский</td>\n",
       "      <td>51</td>\n",
       "      <td>2018-12-15</td>\n",
       "    </tr>\n",
       "    <tr>\n",
       "      <td>3215</td>\n",
       "      <td>1371</td>\n",
       "      <td>12.0</td>\n",
       "      <td>NaN</td>\n",
       "      <td>NaN</td>\n",
       "      <td>NaN</td>\n",
       "      <td>NaN</td>\n",
       "      <td>smart</td>\n",
       "      <td>Омск</td>\n",
       "      <td>50</td>\n",
       "      <td>2018-12-25</td>\n",
       "    </tr>\n",
       "  </tbody>\n",
       "</table>\n",
       "<p>3216 rows × 10 columns</p>\n",
       "</div>"
      ],
      "text/plain": [
       "      user_id  month  count    sum    id   mb_used tariff       city  age  \\\n",
       "0        1000    5.0   17.0  159.0  22.0   2253.49  ultra  Краснодар   52   \n",
       "1        1000    6.0   28.0  172.0  60.0  23233.77  ultra  Краснодар   52   \n",
       "2        1000    7.0   41.0  340.0  75.0  14003.64  ultra  Краснодар   52   \n",
       "3        1000    8.0   42.0  408.0  81.0  14055.93  ultra  Краснодар   52   \n",
       "4        1000    9.0   46.0  466.0  57.0  14568.91  ultra  Краснодар   52   \n",
       "...       ...    ...    ...    ...   ...       ...    ...        ...  ...   \n",
       "3211     1499   10.0   44.0  449.0  48.0  17788.51  smart      Пермь   35   \n",
       "3212     1499   11.0   62.0  612.0  59.0  17963.31  smart      Пермь   35   \n",
       "3213     1499   12.0   56.0  492.0  66.0  13055.58  smart      Пермь   35   \n",
       "3214     1128   12.0    NaN    NaN   NaN       NaN  ultra   Волжский   51   \n",
       "3215     1371   12.0    NaN    NaN   NaN       NaN  smart       Омск   50   \n",
       "\n",
       "       reg_date  \n",
       "0    2018-05-25  \n",
       "1    2018-05-25  \n",
       "2    2018-05-25  \n",
       "3    2018-05-25  \n",
       "4    2018-05-25  \n",
       "...         ...  \n",
       "3211 2018-09-27  \n",
       "3212 2018-09-27  \n",
       "3213 2018-09-27  \n",
       "3214 2018-12-15  \n",
       "3215 2018-12-25  \n",
       "\n",
       "[3216 rows x 10 columns]"
      ]
     },
     "execution_count": 29,
     "metadata": {},
     "output_type": "execute_result"
    }
   ],
   "source": [
    "data_final['month'] = data_final['month'].fillna(12)\n",
    "data_final"
   ]
  },
  {
   "cell_type": "markdown",
   "metadata": {},
   "source": [
    "Переименуем столбцы"
   ]
  },
  {
   "cell_type": "code",
   "execution_count": 30,
   "metadata": {},
   "outputs": [
    {
     "data": {
      "text/html": [
       "<div>\n",
       "<style scoped>\n",
       "    .dataframe tbody tr th:only-of-type {\n",
       "        vertical-align: middle;\n",
       "    }\n",
       "\n",
       "    .dataframe tbody tr th {\n",
       "        vertical-align: top;\n",
       "    }\n",
       "\n",
       "    .dataframe thead th {\n",
       "        text-align: right;\n",
       "    }\n",
       "</style>\n",
       "<table border=\"1\" class=\"dataframe\">\n",
       "  <thead>\n",
       "    <tr style=\"text-align: right;\">\n",
       "      <th></th>\n",
       "      <th>User_id</th>\n",
       "      <th>месяц</th>\n",
       "      <th>кол-во звонков, шт.</th>\n",
       "      <th>время звонков, мин.</th>\n",
       "      <th>смс, шт.</th>\n",
       "      <th>трафик, мб.</th>\n",
       "      <th>тариф</th>\n",
       "      <th>город</th>\n",
       "      <th>возраст</th>\n",
       "      <th>дата регистрации</th>\n",
       "    </tr>\n",
       "  </thead>\n",
       "  <tbody>\n",
       "    <tr>\n",
       "      <td>0</td>\n",
       "      <td>1000</td>\n",
       "      <td>5.0</td>\n",
       "      <td>17.0</td>\n",
       "      <td>159.0</td>\n",
       "      <td>22.0</td>\n",
       "      <td>2253.49</td>\n",
       "      <td>ultra</td>\n",
       "      <td>Краснодар</td>\n",
       "      <td>52</td>\n",
       "      <td>2018-05-25</td>\n",
       "    </tr>\n",
       "    <tr>\n",
       "      <td>1</td>\n",
       "      <td>1000</td>\n",
       "      <td>6.0</td>\n",
       "      <td>28.0</td>\n",
       "      <td>172.0</td>\n",
       "      <td>60.0</td>\n",
       "      <td>23233.77</td>\n",
       "      <td>ultra</td>\n",
       "      <td>Краснодар</td>\n",
       "      <td>52</td>\n",
       "      <td>2018-05-25</td>\n",
       "    </tr>\n",
       "    <tr>\n",
       "      <td>2</td>\n",
       "      <td>1000</td>\n",
       "      <td>7.0</td>\n",
       "      <td>41.0</td>\n",
       "      <td>340.0</td>\n",
       "      <td>75.0</td>\n",
       "      <td>14003.64</td>\n",
       "      <td>ultra</td>\n",
       "      <td>Краснодар</td>\n",
       "      <td>52</td>\n",
       "      <td>2018-05-25</td>\n",
       "    </tr>\n",
       "    <tr>\n",
       "      <td>3</td>\n",
       "      <td>1000</td>\n",
       "      <td>8.0</td>\n",
       "      <td>42.0</td>\n",
       "      <td>408.0</td>\n",
       "      <td>81.0</td>\n",
       "      <td>14055.93</td>\n",
       "      <td>ultra</td>\n",
       "      <td>Краснодар</td>\n",
       "      <td>52</td>\n",
       "      <td>2018-05-25</td>\n",
       "    </tr>\n",
       "    <tr>\n",
       "      <td>4</td>\n",
       "      <td>1000</td>\n",
       "      <td>9.0</td>\n",
       "      <td>46.0</td>\n",
       "      <td>466.0</td>\n",
       "      <td>57.0</td>\n",
       "      <td>14568.91</td>\n",
       "      <td>ultra</td>\n",
       "      <td>Краснодар</td>\n",
       "      <td>52</td>\n",
       "      <td>2018-05-25</td>\n",
       "    </tr>\n",
       "    <tr>\n",
       "      <td>...</td>\n",
       "      <td>...</td>\n",
       "      <td>...</td>\n",
       "      <td>...</td>\n",
       "      <td>...</td>\n",
       "      <td>...</td>\n",
       "      <td>...</td>\n",
       "      <td>...</td>\n",
       "      <td>...</td>\n",
       "      <td>...</td>\n",
       "      <td>...</td>\n",
       "    </tr>\n",
       "    <tr>\n",
       "      <td>3211</td>\n",
       "      <td>1499</td>\n",
       "      <td>10.0</td>\n",
       "      <td>44.0</td>\n",
       "      <td>449.0</td>\n",
       "      <td>48.0</td>\n",
       "      <td>17788.51</td>\n",
       "      <td>smart</td>\n",
       "      <td>Пермь</td>\n",
       "      <td>35</td>\n",
       "      <td>2018-09-27</td>\n",
       "    </tr>\n",
       "    <tr>\n",
       "      <td>3212</td>\n",
       "      <td>1499</td>\n",
       "      <td>11.0</td>\n",
       "      <td>62.0</td>\n",
       "      <td>612.0</td>\n",
       "      <td>59.0</td>\n",
       "      <td>17963.31</td>\n",
       "      <td>smart</td>\n",
       "      <td>Пермь</td>\n",
       "      <td>35</td>\n",
       "      <td>2018-09-27</td>\n",
       "    </tr>\n",
       "    <tr>\n",
       "      <td>3213</td>\n",
       "      <td>1499</td>\n",
       "      <td>12.0</td>\n",
       "      <td>56.0</td>\n",
       "      <td>492.0</td>\n",
       "      <td>66.0</td>\n",
       "      <td>13055.58</td>\n",
       "      <td>smart</td>\n",
       "      <td>Пермь</td>\n",
       "      <td>35</td>\n",
       "      <td>2018-09-27</td>\n",
       "    </tr>\n",
       "    <tr>\n",
       "      <td>3214</td>\n",
       "      <td>1128</td>\n",
       "      <td>12.0</td>\n",
       "      <td>NaN</td>\n",
       "      <td>NaN</td>\n",
       "      <td>NaN</td>\n",
       "      <td>NaN</td>\n",
       "      <td>ultra</td>\n",
       "      <td>Волжский</td>\n",
       "      <td>51</td>\n",
       "      <td>2018-12-15</td>\n",
       "    </tr>\n",
       "    <tr>\n",
       "      <td>3215</td>\n",
       "      <td>1371</td>\n",
       "      <td>12.0</td>\n",
       "      <td>NaN</td>\n",
       "      <td>NaN</td>\n",
       "      <td>NaN</td>\n",
       "      <td>NaN</td>\n",
       "      <td>smart</td>\n",
       "      <td>Омск</td>\n",
       "      <td>50</td>\n",
       "      <td>2018-12-25</td>\n",
       "    </tr>\n",
       "  </tbody>\n",
       "</table>\n",
       "<p>3216 rows × 10 columns</p>\n",
       "</div>"
      ],
      "text/plain": [
       "      User_id  месяц  кол-во звонков, шт.  время звонков, мин.  смс, шт.  \\\n",
       "0        1000    5.0                 17.0                159.0      22.0   \n",
       "1        1000    6.0                 28.0                172.0      60.0   \n",
       "2        1000    7.0                 41.0                340.0      75.0   \n",
       "3        1000    8.0                 42.0                408.0      81.0   \n",
       "4        1000    9.0                 46.0                466.0      57.0   \n",
       "...       ...    ...                  ...                  ...       ...   \n",
       "3211     1499   10.0                 44.0                449.0      48.0   \n",
       "3212     1499   11.0                 62.0                612.0      59.0   \n",
       "3213     1499   12.0                 56.0                492.0      66.0   \n",
       "3214     1128   12.0                  NaN                  NaN       NaN   \n",
       "3215     1371   12.0                  NaN                  NaN       NaN   \n",
       "\n",
       "      трафик, мб.  тариф      город  возраст дата регистрации  \n",
       "0         2253.49  ultra  Краснодар       52       2018-05-25  \n",
       "1        23233.77  ultra  Краснодар       52       2018-05-25  \n",
       "2        14003.64  ultra  Краснодар       52       2018-05-25  \n",
       "3        14055.93  ultra  Краснодар       52       2018-05-25  \n",
       "4        14568.91  ultra  Краснодар       52       2018-05-25  \n",
       "...           ...    ...        ...      ...              ...  \n",
       "3211     17788.51  smart      Пермь       35       2018-09-27  \n",
       "3212     17963.31  smart      Пермь       35       2018-09-27  \n",
       "3213     13055.58  smart      Пермь       35       2018-09-27  \n",
       "3214          NaN  ultra   Волжский       51       2018-12-15  \n",
       "3215          NaN  smart       Омск       50       2018-12-25  \n",
       "\n",
       "[3216 rows x 10 columns]"
      ]
     },
     "metadata": {},
     "output_type": "display_data"
    },
    {
     "data": {
      "text/html": [
       "<div>\n",
       "<style scoped>\n",
       "    .dataframe tbody tr th:only-of-type {\n",
       "        vertical-align: middle;\n",
       "    }\n",
       "\n",
       "    .dataframe tbody tr th {\n",
       "        vertical-align: top;\n",
       "    }\n",
       "\n",
       "    .dataframe thead th {\n",
       "        text-align: right;\n",
       "    }\n",
       "</style>\n",
       "<table border=\"1\" class=\"dataframe\">\n",
       "  <thead>\n",
       "    <tr style=\"text-align: right;\">\n",
       "      <th></th>\n",
       "      <th>User_id</th>\n",
       "      <th>месяц</th>\n",
       "      <th>кол-во звонков, шт.</th>\n",
       "      <th>время звонков, мин.</th>\n",
       "      <th>смс, шт.</th>\n",
       "      <th>трафик, мб.</th>\n",
       "      <th>возраст</th>\n",
       "    </tr>\n",
       "  </thead>\n",
       "  <tbody>\n",
       "    <tr>\n",
       "      <td>count</td>\n",
       "      <td>3216.0</td>\n",
       "      <td>3216.0</td>\n",
       "      <td>3168.0</td>\n",
       "      <td>3168.0</td>\n",
       "      <td>2717.0</td>\n",
       "      <td>3201.0</td>\n",
       "      <td>3216.0</td>\n",
       "    </tr>\n",
       "    <tr>\n",
       "      <td>mean</td>\n",
       "      <td>1252.0</td>\n",
       "      <td>8.0</td>\n",
       "      <td>51.0</td>\n",
       "      <td>458.0</td>\n",
       "      <td>45.0</td>\n",
       "      <td>17277.0</td>\n",
       "      <td>47.0</td>\n",
       "    </tr>\n",
       "    <tr>\n",
       "      <td>std</td>\n",
       "      <td>145.0</td>\n",
       "      <td>3.0</td>\n",
       "      <td>26.0</td>\n",
       "      <td>237.0</td>\n",
       "      <td>35.0</td>\n",
       "      <td>7506.0</td>\n",
       "      <td>17.0</td>\n",
       "    </tr>\n",
       "    <tr>\n",
       "      <td>min</td>\n",
       "      <td>1000.0</td>\n",
       "      <td>1.0</td>\n",
       "      <td>1.0</td>\n",
       "      <td>1.0</td>\n",
       "      <td>1.0</td>\n",
       "      <td>201.0</td>\n",
       "      <td>18.0</td>\n",
       "    </tr>\n",
       "    <tr>\n",
       "      <td>25%</td>\n",
       "      <td>1125.0</td>\n",
       "      <td>6.0</td>\n",
       "      <td>33.0</td>\n",
       "      <td>291.0</td>\n",
       "      <td>19.0</td>\n",
       "      <td>12551.0</td>\n",
       "      <td>32.0</td>\n",
       "    </tr>\n",
       "    <tr>\n",
       "      <td>50%</td>\n",
       "      <td>1253.0</td>\n",
       "      <td>9.0</td>\n",
       "      <td>50.0</td>\n",
       "      <td>448.0</td>\n",
       "      <td>38.0</td>\n",
       "      <td>16964.0</td>\n",
       "      <td>46.0</td>\n",
       "    </tr>\n",
       "    <tr>\n",
       "      <td>75%</td>\n",
       "      <td>1378.0</td>\n",
       "      <td>11.0</td>\n",
       "      <td>67.0</td>\n",
       "      <td>592.0</td>\n",
       "      <td>63.0</td>\n",
       "      <td>21436.0</td>\n",
       "      <td>62.0</td>\n",
       "    </tr>\n",
       "    <tr>\n",
       "      <td>max</td>\n",
       "      <td>1499.0</td>\n",
       "      <td>12.0</td>\n",
       "      <td>190.0</td>\n",
       "      <td>1673.0</td>\n",
       "      <td>224.0</td>\n",
       "      <td>49746.0</td>\n",
       "      <td>75.0</td>\n",
       "    </tr>\n",
       "  </tbody>\n",
       "</table>\n",
       "</div>"
      ],
      "text/plain": [
       "       User_id   месяц  кол-во звонков, шт.  время звонков, мин.  смс, шт.  \\\n",
       "count   3216.0  3216.0               3168.0               3168.0    2717.0   \n",
       "mean    1252.0     8.0                 51.0                458.0      45.0   \n",
       "std      145.0     3.0                 26.0                237.0      35.0   \n",
       "min     1000.0     1.0                  1.0                  1.0       1.0   \n",
       "25%     1125.0     6.0                 33.0                291.0      19.0   \n",
       "50%     1253.0     9.0                 50.0                448.0      38.0   \n",
       "75%     1378.0    11.0                 67.0                592.0      63.0   \n",
       "max     1499.0    12.0                190.0               1673.0     224.0   \n",
       "\n",
       "       трафик, мб.  возраст  \n",
       "count       3201.0   3216.0  \n",
       "mean       17277.0     47.0  \n",
       "std         7506.0     17.0  \n",
       "min          201.0     18.0  \n",
       "25%        12551.0     32.0  \n",
       "50%        16964.0     46.0  \n",
       "75%        21436.0     62.0  \n",
       "max        49746.0     75.0  "
      ]
     },
     "metadata": {},
     "output_type": "display_data"
    },
    {
     "name": "stdout",
     "output_type": "stream",
     "text": [
      "<class 'pandas.core.frame.DataFrame'>\n",
      "Int64Index: 3216 entries, 0 to 3215\n",
      "Data columns (total 10 columns):\n",
      "User_id                3216 non-null int64\n",
      "месяц                  3216 non-null float64\n",
      "кол-во звонков, шт.    3168 non-null float64\n",
      "время звонков, мин.    3168 non-null float64\n",
      "смс, шт.               2717 non-null float64\n",
      "трафик, мб.            3201 non-null float64\n",
      "тариф                  3216 non-null object\n",
      "город                  3216 non-null object\n",
      "возраст                3216 non-null int64\n",
      "дата регистрации       3216 non-null datetime64[ns]\n",
      "dtypes: datetime64[ns](1), float64(5), int64(2), object(2)\n",
      "memory usage: 276.4+ KB\n"
     ]
    },
    {
     "data": {
      "text/plain": [
       "None"
      ]
     },
     "metadata": {},
     "output_type": "display_data"
    }
   ],
   "source": [
    "data_final.columns = ['User_id', 'месяц', 'кол-во звонков, шт.', 'время звонков, мин.', 'смс, шт.', 'трафик, мб.',\n",
    "                      'тариф', 'город', 'возраст', 'дата регистрации']\n",
    "display(data_final)\n",
    "display(data_final.describe().round())\n",
    "display(data_final.info())"
   ]
  },
  {
   "cell_type": "markdown",
   "metadata": {},
   "source": [
    "У нас есть пропуски в звонках, смс, трафике. Посмотрим на них. Вполне возможно клиент за месяц не оправил ни одного сообщения, или не делал звонки."
   ]
  },
  {
   "cell_type": "code",
   "execution_count": 31,
   "metadata": {},
   "outputs": [
    {
     "data": {
      "text/html": [
       "<div>\n",
       "<style scoped>\n",
       "    .dataframe tbody tr th:only-of-type {\n",
       "        vertical-align: middle;\n",
       "    }\n",
       "\n",
       "    .dataframe tbody tr th {\n",
       "        vertical-align: top;\n",
       "    }\n",
       "\n",
       "    .dataframe thead th {\n",
       "        text-align: right;\n",
       "    }\n",
       "</style>\n",
       "<table border=\"1\" class=\"dataframe\">\n",
       "  <thead>\n",
       "    <tr style=\"text-align: right;\">\n",
       "      <th></th>\n",
       "      <th>User_id</th>\n",
       "      <th>месяц</th>\n",
       "      <th>кол-во звонков, шт.</th>\n",
       "      <th>время звонков, мин.</th>\n",
       "      <th>смс, шт.</th>\n",
       "      <th>трафик, мб.</th>\n",
       "      <th>тариф</th>\n",
       "      <th>город</th>\n",
       "      <th>возраст</th>\n",
       "      <th>дата регистрации</th>\n",
       "    </tr>\n",
       "  </thead>\n",
       "  <tbody>\n",
       "    <tr>\n",
       "      <td>570</td>\n",
       "      <td>1091</td>\n",
       "      <td>5.0</td>\n",
       "      <td>NaN</td>\n",
       "      <td>NaN</td>\n",
       "      <td>30.0</td>\n",
       "      <td>10703.37</td>\n",
       "      <td>ultra</td>\n",
       "      <td>Набережные Челны</td>\n",
       "      <td>36</td>\n",
       "      <td>2018-05-08</td>\n",
       "    </tr>\n",
       "    <tr>\n",
       "      <td>571</td>\n",
       "      <td>1091</td>\n",
       "      <td>6.0</td>\n",
       "      <td>NaN</td>\n",
       "      <td>NaN</td>\n",
       "      <td>30.0</td>\n",
       "      <td>10236.19</td>\n",
       "      <td>ultra</td>\n",
       "      <td>Набережные Челны</td>\n",
       "      <td>36</td>\n",
       "      <td>2018-05-08</td>\n",
       "    </tr>\n",
       "    <tr>\n",
       "      <td>572</td>\n",
       "      <td>1091</td>\n",
       "      <td>7.0</td>\n",
       "      <td>NaN</td>\n",
       "      <td>NaN</td>\n",
       "      <td>35.0</td>\n",
       "      <td>16444.98</td>\n",
       "      <td>ultra</td>\n",
       "      <td>Набережные Челны</td>\n",
       "      <td>36</td>\n",
       "      <td>2018-05-08</td>\n",
       "    </tr>\n",
       "    <tr>\n",
       "      <td>573</td>\n",
       "      <td>1091</td>\n",
       "      <td>8.0</td>\n",
       "      <td>NaN</td>\n",
       "      <td>NaN</td>\n",
       "      <td>31.0</td>\n",
       "      <td>12633.88</td>\n",
       "      <td>ultra</td>\n",
       "      <td>Набережные Челны</td>\n",
       "      <td>36</td>\n",
       "      <td>2018-05-08</td>\n",
       "    </tr>\n",
       "    <tr>\n",
       "      <td>574</td>\n",
       "      <td>1091</td>\n",
       "      <td>9.0</td>\n",
       "      <td>NaN</td>\n",
       "      <td>NaN</td>\n",
       "      <td>32.0</td>\n",
       "      <td>16597.11</td>\n",
       "      <td>ultra</td>\n",
       "      <td>Набережные Челны</td>\n",
       "      <td>36</td>\n",
       "      <td>2018-05-08</td>\n",
       "    </tr>\n",
       "    <tr>\n",
       "      <td>575</td>\n",
       "      <td>1091</td>\n",
       "      <td>10.0</td>\n",
       "      <td>NaN</td>\n",
       "      <td>NaN</td>\n",
       "      <td>44.0</td>\n",
       "      <td>15644.73</td>\n",
       "      <td>ultra</td>\n",
       "      <td>Набережные Челны</td>\n",
       "      <td>36</td>\n",
       "      <td>2018-05-08</td>\n",
       "    </tr>\n",
       "    <tr>\n",
       "      <td>576</td>\n",
       "      <td>1091</td>\n",
       "      <td>11.0</td>\n",
       "      <td>NaN</td>\n",
       "      <td>NaN</td>\n",
       "      <td>28.0</td>\n",
       "      <td>11864.25</td>\n",
       "      <td>ultra</td>\n",
       "      <td>Набережные Челны</td>\n",
       "      <td>36</td>\n",
       "      <td>2018-05-08</td>\n",
       "    </tr>\n",
       "    <tr>\n",
       "      <td>577</td>\n",
       "      <td>1091</td>\n",
       "      <td>12.0</td>\n",
       "      <td>NaN</td>\n",
       "      <td>NaN</td>\n",
       "      <td>42.0</td>\n",
       "      <td>13280.45</td>\n",
       "      <td>ultra</td>\n",
       "      <td>Набережные Челны</td>\n",
       "      <td>36</td>\n",
       "      <td>2018-05-08</td>\n",
       "    </tr>\n",
       "    <tr>\n",
       "      <td>671</td>\n",
       "      <td>1106</td>\n",
       "      <td>4.0</td>\n",
       "      <td>NaN</td>\n",
       "      <td>NaN</td>\n",
       "      <td>9.0</td>\n",
       "      <td>2923.49</td>\n",
       "      <td>ultra</td>\n",
       "      <td>Калуга</td>\n",
       "      <td>67</td>\n",
       "      <td>2018-04-26</td>\n",
       "    </tr>\n",
       "    <tr>\n",
       "      <td>672</td>\n",
       "      <td>1106</td>\n",
       "      <td>5.0</td>\n",
       "      <td>NaN</td>\n",
       "      <td>NaN</td>\n",
       "      <td>28.0</td>\n",
       "      <td>16573.01</td>\n",
       "      <td>ultra</td>\n",
       "      <td>Калуга</td>\n",
       "      <td>67</td>\n",
       "      <td>2018-04-26</td>\n",
       "    </tr>\n",
       "  </tbody>\n",
       "</table>\n",
       "</div>"
      ],
      "text/plain": [
       "     User_id  месяц  кол-во звонков, шт.  время звонков, мин.  смс, шт.  \\\n",
       "570     1091    5.0                  NaN                  NaN      30.0   \n",
       "571     1091    6.0                  NaN                  NaN      30.0   \n",
       "572     1091    7.0                  NaN                  NaN      35.0   \n",
       "573     1091    8.0                  NaN                  NaN      31.0   \n",
       "574     1091    9.0                  NaN                  NaN      32.0   \n",
       "575     1091   10.0                  NaN                  NaN      44.0   \n",
       "576     1091   11.0                  NaN                  NaN      28.0   \n",
       "577     1091   12.0                  NaN                  NaN      42.0   \n",
       "671     1106    4.0                  NaN                  NaN       9.0   \n",
       "672     1106    5.0                  NaN                  NaN      28.0   \n",
       "\n",
       "     трафик, мб.  тариф             город  возраст дата регистрации  \n",
       "570     10703.37  ultra  Набережные Челны       36       2018-05-08  \n",
       "571     10236.19  ultra  Набережные Челны       36       2018-05-08  \n",
       "572     16444.98  ultra  Набережные Челны       36       2018-05-08  \n",
       "573     12633.88  ultra  Набережные Челны       36       2018-05-08  \n",
       "574     16597.11  ultra  Набережные Челны       36       2018-05-08  \n",
       "575     15644.73  ultra  Набережные Челны       36       2018-05-08  \n",
       "576     11864.25  ultra  Набережные Челны       36       2018-05-08  \n",
       "577     13280.45  ultra  Набережные Челны       36       2018-05-08  \n",
       "671      2923.49  ultra            Калуга       67       2018-04-26  \n",
       "672     16573.01  ultra            Калуга       67       2018-04-26  "
      ]
     },
     "execution_count": 31,
     "metadata": {},
     "output_type": "execute_result"
    }
   ],
   "source": [
    "data_final[data_final['кол-во звонков, шт.'].isnull()].head(10)"
   ]
  },
  {
   "cell_type": "markdown",
   "metadata": {},
   "source": [
    "Клиент не делал звонки, но при этом отправлял смс и пользоваться интернетом. Можем заменить NaN на ноль. Дополнительно необходимо проверить, есть ли клиенты, которые вообще ничего не делали за месяц.  \n",
    "Интересная особенность. Клиент с `user_id` 1091 за 8 месяцев ниразу не соврешил звонок, но использовал смс и интернет, при этом его количество трафика в месяц часто не превышало лимита в тарифе `smart`, хотя сам клиент использует тариф `ultra`. Врят ли это выгодно самому клиенту, но оператор однозначно получает большую прибыль, чем если бы клиент использовал более дешевый тариф с такими же расходами лимитов."
   ]
  },
  {
   "cell_type": "code",
   "execution_count": 32,
   "metadata": {},
   "outputs": [
    {
     "data": {
      "text/html": [
       "<div>\n",
       "<style scoped>\n",
       "    .dataframe tbody tr th:only-of-type {\n",
       "        vertical-align: middle;\n",
       "    }\n",
       "\n",
       "    .dataframe tbody tr th {\n",
       "        vertical-align: top;\n",
       "    }\n",
       "\n",
       "    .dataframe thead th {\n",
       "        text-align: right;\n",
       "    }\n",
       "</style>\n",
       "<table border=\"1\" class=\"dataframe\">\n",
       "  <thead>\n",
       "    <tr style=\"text-align: right;\">\n",
       "      <th></th>\n",
       "      <th>User_id</th>\n",
       "      <th>месяц</th>\n",
       "      <th>кол-во звонков, шт.</th>\n",
       "      <th>время звонков, мин.</th>\n",
       "      <th>смс, шт.</th>\n",
       "      <th>трафик, мб.</th>\n",
       "      <th>тариф</th>\n",
       "      <th>город</th>\n",
       "      <th>возраст</th>\n",
       "      <th>дата регистрации</th>\n",
       "    </tr>\n",
       "  </thead>\n",
       "  <tbody>\n",
       "    <tr>\n",
       "      <td>3214</td>\n",
       "      <td>1128</td>\n",
       "      <td>12.0</td>\n",
       "      <td>NaN</td>\n",
       "      <td>NaN</td>\n",
       "      <td>NaN</td>\n",
       "      <td>NaN</td>\n",
       "      <td>ultra</td>\n",
       "      <td>Волжский</td>\n",
       "      <td>51</td>\n",
       "      <td>2018-12-15</td>\n",
       "    </tr>\n",
       "    <tr>\n",
       "      <td>3215</td>\n",
       "      <td>1371</td>\n",
       "      <td>12.0</td>\n",
       "      <td>NaN</td>\n",
       "      <td>NaN</td>\n",
       "      <td>NaN</td>\n",
       "      <td>NaN</td>\n",
       "      <td>smart</td>\n",
       "      <td>Омск</td>\n",
       "      <td>50</td>\n",
       "      <td>2018-12-25</td>\n",
       "    </tr>\n",
       "  </tbody>\n",
       "</table>\n",
       "</div>"
      ],
      "text/plain": [
       "      User_id  месяц  кол-во звонков, шт.  время звонков, мин.  смс, шт.  \\\n",
       "3214     1128   12.0                  NaN                  NaN       NaN   \n",
       "3215     1371   12.0                  NaN                  NaN       NaN   \n",
       "\n",
       "      трафик, мб.  тариф     город  возраст дата регистрации  \n",
       "3214          NaN  ultra  Волжский       51       2018-12-15  \n",
       "3215          NaN  smart      Омск       50       2018-12-25  "
      ]
     },
     "execution_count": 32,
     "metadata": {},
     "output_type": "execute_result"
    }
   ],
   "source": [
    "data_final[(data_final['кол-во звонков, шт.'].isnull()) & (data_final['смс, шт.'].isnull()) & \n",
    "           (data_final['трафик, мб.'].isnull())]"
   ]
  },
  {
   "cell_type": "markdown",
   "metadata": {},
   "source": [
    "Таких клиентов всего 2 за год. В любой месяц клиент все равно пользоваться тарифом, условиями тарифа указана ежемесячная плата и сооттветственно плата за первышения и никак иначе. Меняем пропуски на нули."
   ]
  },
  {
   "cell_type": "code",
   "execution_count": 33,
   "metadata": {},
   "outputs": [
    {
     "name": "stdout",
     "output_type": "stream",
     "text": [
      "<class 'pandas.core.frame.DataFrame'>\n",
      "Int64Index: 3216 entries, 0 to 3215\n",
      "Data columns (total 10 columns):\n",
      "User_id                3216 non-null int64\n",
      "месяц                  3216 non-null float64\n",
      "кол-во звонков, шт.    3216 non-null float64\n",
      "время звонков, мин.    3216 non-null float64\n",
      "смс, шт.               3216 non-null float64\n",
      "трафик, мб.            3216 non-null float64\n",
      "тариф                  3216 non-null object\n",
      "город                  3216 non-null object\n",
      "возраст                3216 non-null int64\n",
      "дата регистрации       3216 non-null datetime64[ns]\n",
      "dtypes: datetime64[ns](1), float64(5), int64(2), object(2)\n",
      "memory usage: 276.4+ KB\n"
     ]
    }
   ],
   "source": [
    "data_final = data_final.fillna(0)\n",
    "data_final.info()"
   ]
  },
  {
   "cell_type": "markdown",
   "metadata": {},
   "source": [
    "Пропусков нет."
   ]
  },
  {
   "cell_type": "markdown",
   "metadata": {},
   "source": [
    "### Определение помесячной выручки с каждого пользователя"
   ]
  },
  {
   "cell_type": "markdown",
   "metadata": {},
   "source": [
    "Необходимо:  \n",
    "- вычтесть бесплатный лимит из суммарного количества звонков, сообщений и интернет-трафика; \n",
    "- остаток умножить на значение из тарифного плана; \n",
    "- прибавить абонентскую плату, соответствующую тарифному плану."
   ]
  },
  {
   "cell_type": "markdown",
   "metadata": {},
   "source": [
    "__Добавим необходимую информацию в новые стобцы в соответствии с условием:__  \n",
    " - абонентская плата  \n",
    " - мин. сверх тарифа  \n",
    " - смс сверх тарифа  \n",
    " - трафик сверх тарифа  \n",
    " - общая плата сверх тарифа  \n",
    " - всего за месяц  "
   ]
  },
  {
   "cell_type": "code",
   "execution_count": 34,
   "metadata": {},
   "outputs": [],
   "source": [
    "def tariff_ap(row):\n",
    "    if row['тариф'] == 'smart':\n",
    "        return tariffs.loc[0, 'rub_monthly_fee']\n",
    "    else:\n",
    "         return tariffs.loc[1, 'rub_monthly_fee']\n",
    "        \n",
    "data_final['аб. плата, руб.'] = data_final.apply(tariff_ap, axis=1)"
   ]
  },
  {
   "cell_type": "code",
   "execution_count": 35,
   "metadata": {},
   "outputs": [
    {
     "data": {
      "text/html": [
       "<div>\n",
       "<style scoped>\n",
       "    .dataframe tbody tr th:only-of-type {\n",
       "        vertical-align: middle;\n",
       "    }\n",
       "\n",
       "    .dataframe tbody tr th {\n",
       "        vertical-align: top;\n",
       "    }\n",
       "\n",
       "    .dataframe thead th {\n",
       "        text-align: right;\n",
       "    }\n",
       "</style>\n",
       "<table border=\"1\" class=\"dataframe\">\n",
       "  <thead>\n",
       "    <tr style=\"text-align: right;\">\n",
       "      <th></th>\n",
       "      <th>User_id</th>\n",
       "      <th>месяц</th>\n",
       "      <th>кол-во звонков, шт.</th>\n",
       "      <th>время звонков, мин.</th>\n",
       "      <th>смс, шт.</th>\n",
       "      <th>трафик, мб.</th>\n",
       "      <th>тариф</th>\n",
       "      <th>город</th>\n",
       "      <th>возраст</th>\n",
       "      <th>дата регистрации</th>\n",
       "      <th>аб. плата, руб.</th>\n",
       "      <th>мин. сверх тарифа</th>\n",
       "      <th>смс. сверх тарифа</th>\n",
       "      <th>трафик сверх тарифа мб.</th>\n",
       "      <th>трафик сверх тарифа гб.</th>\n",
       "    </tr>\n",
       "  </thead>\n",
       "  <tbody>\n",
       "    <tr>\n",
       "      <td>0</td>\n",
       "      <td>1000</td>\n",
       "      <td>5.0</td>\n",
       "      <td>17.0</td>\n",
       "      <td>159.0</td>\n",
       "      <td>22.0</td>\n",
       "      <td>2253.49</td>\n",
       "      <td>ultra</td>\n",
       "      <td>Краснодар</td>\n",
       "      <td>52</td>\n",
       "      <td>2018-05-25</td>\n",
       "      <td>1950</td>\n",
       "      <td>0.0</td>\n",
       "      <td>0.0</td>\n",
       "      <td>0.00</td>\n",
       "      <td>0.0</td>\n",
       "    </tr>\n",
       "    <tr>\n",
       "      <td>1</td>\n",
       "      <td>1000</td>\n",
       "      <td>6.0</td>\n",
       "      <td>28.0</td>\n",
       "      <td>172.0</td>\n",
       "      <td>60.0</td>\n",
       "      <td>23233.77</td>\n",
       "      <td>ultra</td>\n",
       "      <td>Краснодар</td>\n",
       "      <td>52</td>\n",
       "      <td>2018-05-25</td>\n",
       "      <td>1950</td>\n",
       "      <td>0.0</td>\n",
       "      <td>0.0</td>\n",
       "      <td>0.00</td>\n",
       "      <td>0.0</td>\n",
       "    </tr>\n",
       "    <tr>\n",
       "      <td>2</td>\n",
       "      <td>1000</td>\n",
       "      <td>7.0</td>\n",
       "      <td>41.0</td>\n",
       "      <td>340.0</td>\n",
       "      <td>75.0</td>\n",
       "      <td>14003.64</td>\n",
       "      <td>ultra</td>\n",
       "      <td>Краснодар</td>\n",
       "      <td>52</td>\n",
       "      <td>2018-05-25</td>\n",
       "      <td>1950</td>\n",
       "      <td>0.0</td>\n",
       "      <td>0.0</td>\n",
       "      <td>0.00</td>\n",
       "      <td>0.0</td>\n",
       "    </tr>\n",
       "    <tr>\n",
       "      <td>3</td>\n",
       "      <td>1000</td>\n",
       "      <td>8.0</td>\n",
       "      <td>42.0</td>\n",
       "      <td>408.0</td>\n",
       "      <td>81.0</td>\n",
       "      <td>14055.93</td>\n",
       "      <td>ultra</td>\n",
       "      <td>Краснодар</td>\n",
       "      <td>52</td>\n",
       "      <td>2018-05-25</td>\n",
       "      <td>1950</td>\n",
       "      <td>0.0</td>\n",
       "      <td>0.0</td>\n",
       "      <td>0.00</td>\n",
       "      <td>0.0</td>\n",
       "    </tr>\n",
       "    <tr>\n",
       "      <td>4</td>\n",
       "      <td>1000</td>\n",
       "      <td>9.0</td>\n",
       "      <td>46.0</td>\n",
       "      <td>466.0</td>\n",
       "      <td>57.0</td>\n",
       "      <td>14568.91</td>\n",
       "      <td>ultra</td>\n",
       "      <td>Краснодар</td>\n",
       "      <td>52</td>\n",
       "      <td>2018-05-25</td>\n",
       "      <td>1950</td>\n",
       "      <td>0.0</td>\n",
       "      <td>0.0</td>\n",
       "      <td>0.00</td>\n",
       "      <td>0.0</td>\n",
       "    </tr>\n",
       "    <tr>\n",
       "      <td>...</td>\n",
       "      <td>...</td>\n",
       "      <td>...</td>\n",
       "      <td>...</td>\n",
       "      <td>...</td>\n",
       "      <td>...</td>\n",
       "      <td>...</td>\n",
       "      <td>...</td>\n",
       "      <td>...</td>\n",
       "      <td>...</td>\n",
       "      <td>...</td>\n",
       "      <td>...</td>\n",
       "      <td>...</td>\n",
       "      <td>...</td>\n",
       "      <td>...</td>\n",
       "      <td>...</td>\n",
       "    </tr>\n",
       "    <tr>\n",
       "      <td>3211</td>\n",
       "      <td>1499</td>\n",
       "      <td>10.0</td>\n",
       "      <td>44.0</td>\n",
       "      <td>449.0</td>\n",
       "      <td>48.0</td>\n",
       "      <td>17788.51</td>\n",
       "      <td>smart</td>\n",
       "      <td>Пермь</td>\n",
       "      <td>35</td>\n",
       "      <td>2018-09-27</td>\n",
       "      <td>550</td>\n",
       "      <td>0.0</td>\n",
       "      <td>0.0</td>\n",
       "      <td>2428.51</td>\n",
       "      <td>3.0</td>\n",
       "    </tr>\n",
       "    <tr>\n",
       "      <td>3212</td>\n",
       "      <td>1499</td>\n",
       "      <td>11.0</td>\n",
       "      <td>62.0</td>\n",
       "      <td>612.0</td>\n",
       "      <td>59.0</td>\n",
       "      <td>17963.31</td>\n",
       "      <td>smart</td>\n",
       "      <td>Пермь</td>\n",
       "      <td>35</td>\n",
       "      <td>2018-09-27</td>\n",
       "      <td>550</td>\n",
       "      <td>112.0</td>\n",
       "      <td>9.0</td>\n",
       "      <td>2603.31</td>\n",
       "      <td>3.0</td>\n",
       "    </tr>\n",
       "    <tr>\n",
       "      <td>3213</td>\n",
       "      <td>1499</td>\n",
       "      <td>12.0</td>\n",
       "      <td>56.0</td>\n",
       "      <td>492.0</td>\n",
       "      <td>66.0</td>\n",
       "      <td>13055.58</td>\n",
       "      <td>smart</td>\n",
       "      <td>Пермь</td>\n",
       "      <td>35</td>\n",
       "      <td>2018-09-27</td>\n",
       "      <td>550</td>\n",
       "      <td>0.0</td>\n",
       "      <td>16.0</td>\n",
       "      <td>0.00</td>\n",
       "      <td>0.0</td>\n",
       "    </tr>\n",
       "    <tr>\n",
       "      <td>3214</td>\n",
       "      <td>1128</td>\n",
       "      <td>12.0</td>\n",
       "      <td>0.0</td>\n",
       "      <td>0.0</td>\n",
       "      <td>0.0</td>\n",
       "      <td>0.00</td>\n",
       "      <td>ultra</td>\n",
       "      <td>Волжский</td>\n",
       "      <td>51</td>\n",
       "      <td>2018-12-15</td>\n",
       "      <td>1950</td>\n",
       "      <td>0.0</td>\n",
       "      <td>0.0</td>\n",
       "      <td>0.00</td>\n",
       "      <td>0.0</td>\n",
       "    </tr>\n",
       "    <tr>\n",
       "      <td>3215</td>\n",
       "      <td>1371</td>\n",
       "      <td>12.0</td>\n",
       "      <td>0.0</td>\n",
       "      <td>0.0</td>\n",
       "      <td>0.0</td>\n",
       "      <td>0.00</td>\n",
       "      <td>smart</td>\n",
       "      <td>Омск</td>\n",
       "      <td>50</td>\n",
       "      <td>2018-12-25</td>\n",
       "      <td>550</td>\n",
       "      <td>0.0</td>\n",
       "      <td>0.0</td>\n",
       "      <td>0.00</td>\n",
       "      <td>0.0</td>\n",
       "    </tr>\n",
       "  </tbody>\n",
       "</table>\n",
       "<p>3216 rows × 15 columns</p>\n",
       "</div>"
      ],
      "text/plain": [
       "      User_id  месяц  кол-во звонков, шт.  время звонков, мин.  смс, шт.  \\\n",
       "0        1000    5.0                 17.0                159.0      22.0   \n",
       "1        1000    6.0                 28.0                172.0      60.0   \n",
       "2        1000    7.0                 41.0                340.0      75.0   \n",
       "3        1000    8.0                 42.0                408.0      81.0   \n",
       "4        1000    9.0                 46.0                466.0      57.0   \n",
       "...       ...    ...                  ...                  ...       ...   \n",
       "3211     1499   10.0                 44.0                449.0      48.0   \n",
       "3212     1499   11.0                 62.0                612.0      59.0   \n",
       "3213     1499   12.0                 56.0                492.0      66.0   \n",
       "3214     1128   12.0                  0.0                  0.0       0.0   \n",
       "3215     1371   12.0                  0.0                  0.0       0.0   \n",
       "\n",
       "      трафик, мб.  тариф      город  возраст дата регистрации  \\\n",
       "0         2253.49  ultra  Краснодар       52       2018-05-25   \n",
       "1        23233.77  ultra  Краснодар       52       2018-05-25   \n",
       "2        14003.64  ultra  Краснодар       52       2018-05-25   \n",
       "3        14055.93  ultra  Краснодар       52       2018-05-25   \n",
       "4        14568.91  ultra  Краснодар       52       2018-05-25   \n",
       "...           ...    ...        ...      ...              ...   \n",
       "3211     17788.51  smart      Пермь       35       2018-09-27   \n",
       "3212     17963.31  smart      Пермь       35       2018-09-27   \n",
       "3213     13055.58  smart      Пермь       35       2018-09-27   \n",
       "3214         0.00  ultra   Волжский       51       2018-12-15   \n",
       "3215         0.00  smart       Омск       50       2018-12-25   \n",
       "\n",
       "      аб. плата, руб.  мин. сверх тарифа  смс. сверх тарифа  \\\n",
       "0                1950                0.0                0.0   \n",
       "1                1950                0.0                0.0   \n",
       "2                1950                0.0                0.0   \n",
       "3                1950                0.0                0.0   \n",
       "4                1950                0.0                0.0   \n",
       "...               ...                ...                ...   \n",
       "3211              550                0.0                0.0   \n",
       "3212              550              112.0                9.0   \n",
       "3213              550                0.0               16.0   \n",
       "3214             1950                0.0                0.0   \n",
       "3215              550                0.0                0.0   \n",
       "\n",
       "      трафик сверх тарифа мб.  трафик сверх тарифа гб.  \n",
       "0                        0.00                      0.0  \n",
       "1                        0.00                      0.0  \n",
       "2                        0.00                      0.0  \n",
       "3                        0.00                      0.0  \n",
       "4                        0.00                      0.0  \n",
       "...                       ...                      ...  \n",
       "3211                  2428.51                      3.0  \n",
       "3212                  2603.31                      3.0  \n",
       "3213                     0.00                      0.0  \n",
       "3214                     0.00                      0.0  \n",
       "3215                     0.00                      0.0  \n",
       "\n",
       "[3216 rows x 15 columns]"
      ]
     },
     "execution_count": 35,
     "metadata": {},
     "output_type": "execute_result"
    }
   ],
   "source": [
    "def calls_over_tariff(row):\n",
    "    if row['тариф'] == 'smart':\n",
    "        if row['время звонков, мин.'] > tariffs.loc[0, 'minutes_included']:\n",
    "            return (row['время звонков, мин.'] - tariffs.loc[0, 'minutes_included'])\n",
    "        return 0\n",
    "    else:\n",
    "        if row['тариф'] == 'ultra': \n",
    "            if row['время звонков, мин.'] > tariffs.loc[1, 'minutes_included']:\n",
    "                return (row['время звонков, мин.'] - tariffs.loc[1, 'minutes_included'])\n",
    "        return 0\n",
    "    \n",
    "def messages_over_tariff(row):\n",
    "    if row['тариф'] == 'smart':\n",
    "        if row['смс, шт.'] > tariffs.loc[0, 'messages_included']:\n",
    "            return (row['смс, шт.'] - tariffs.loc[0, 'messages_included'])\n",
    "        return 0\n",
    "    else:\n",
    "        if row['тариф'] == 'ultra': \n",
    "            if row['смс, шт.'] > tariffs.loc[1, 'messages_included']:\n",
    "                return (row['смс, шт.'] - tariffs.loc[1, 'messages_included'])\n",
    "        return 0\n",
    "    \n",
    "def trafic_over_tariff(row):\n",
    "    if row['тариф'] == 'smart':\n",
    "        if row['трафик, мб.'] > tariffs.loc[0, 'mb_per_month_included']:\n",
    "            return (row['трафик, мб.'] - tariffs.loc[0, 'mb_per_month_included'])\n",
    "        return 0\n",
    "    else:\n",
    "        if row['тариф'] == 'ultra': \n",
    "            if row['трафик, мб.'] > tariffs.loc[1, 'mb_per_month_included']:\n",
    "                return (row['трафик, мб.'] - tariffs.loc[1, 'mb_per_month_included'])\n",
    "        return 0\n",
    "    \n",
    "data_final['мин. сверх тарифа'] = data_final.apply(calls_over_tariff, axis=1)\n",
    "data_final['смс. сверх тарифа'] = data_final.apply(messages_over_tariff, axis=1)\n",
    "data_final['трафик сверх тарифа мб.'] = data_final.apply(trafic_over_tariff, axis=1)\n",
    "\n",
    "#Необходимо округлить трафик до гигабайт, т.к. согласно условию расчет производится за гигабайты с округлением до целых чисел\n",
    "data_final['трафик сверх тарифа гб.'] = (data_final['трафик сверх тарифа мб.'] / 1024).apply(np.ceil)\n",
    "data_final"
   ]
  },
  {
   "cell_type": "markdown",
   "metadata": {},
   "source": [
    "__Определим платы сверх тарифа__"
   ]
  },
  {
   "cell_type": "code",
   "execution_count": 36,
   "metadata": {},
   "outputs": [
    {
     "data": {
      "text/html": [
       "<div>\n",
       "<style scoped>\n",
       "    .dataframe tbody tr th:only-of-type {\n",
       "        vertical-align: middle;\n",
       "    }\n",
       "\n",
       "    .dataframe tbody tr th {\n",
       "        vertical-align: top;\n",
       "    }\n",
       "\n",
       "    .dataframe thead th {\n",
       "        text-align: right;\n",
       "    }\n",
       "</style>\n",
       "<table border=\"1\" class=\"dataframe\">\n",
       "  <thead>\n",
       "    <tr style=\"text-align: right;\">\n",
       "      <th></th>\n",
       "      <th>User_id</th>\n",
       "      <th>месяц</th>\n",
       "      <th>кол-во звонков, шт.</th>\n",
       "      <th>время звонков, мин.</th>\n",
       "      <th>смс, шт.</th>\n",
       "      <th>трафик, мб.</th>\n",
       "      <th>тариф</th>\n",
       "      <th>город</th>\n",
       "      <th>возраст</th>\n",
       "      <th>дата регистрации</th>\n",
       "      <th>аб. плата, руб.</th>\n",
       "      <th>мин. сверх тарифа</th>\n",
       "      <th>смс. сверх тарифа</th>\n",
       "      <th>трафик сверх тарифа мб.</th>\n",
       "      <th>трафик сверх тарифа гб.</th>\n",
       "      <th>общая плата сверх тарифа, руб.</th>\n",
       "    </tr>\n",
       "  </thead>\n",
       "  <tbody>\n",
       "    <tr>\n",
       "      <td>0</td>\n",
       "      <td>1000</td>\n",
       "      <td>5.0</td>\n",
       "      <td>17.0</td>\n",
       "      <td>159.0</td>\n",
       "      <td>22.0</td>\n",
       "      <td>2253.49</td>\n",
       "      <td>ultra</td>\n",
       "      <td>Краснодар</td>\n",
       "      <td>52</td>\n",
       "      <td>2018-05-25</td>\n",
       "      <td>1950</td>\n",
       "      <td>0.0</td>\n",
       "      <td>0.0</td>\n",
       "      <td>0.00</td>\n",
       "      <td>0.0</td>\n",
       "      <td>0.0</td>\n",
       "    </tr>\n",
       "    <tr>\n",
       "      <td>1</td>\n",
       "      <td>1000</td>\n",
       "      <td>6.0</td>\n",
       "      <td>28.0</td>\n",
       "      <td>172.0</td>\n",
       "      <td>60.0</td>\n",
       "      <td>23233.77</td>\n",
       "      <td>ultra</td>\n",
       "      <td>Краснодар</td>\n",
       "      <td>52</td>\n",
       "      <td>2018-05-25</td>\n",
       "      <td>1950</td>\n",
       "      <td>0.0</td>\n",
       "      <td>0.0</td>\n",
       "      <td>0.00</td>\n",
       "      <td>0.0</td>\n",
       "      <td>0.0</td>\n",
       "    </tr>\n",
       "    <tr>\n",
       "      <td>2</td>\n",
       "      <td>1000</td>\n",
       "      <td>7.0</td>\n",
       "      <td>41.0</td>\n",
       "      <td>340.0</td>\n",
       "      <td>75.0</td>\n",
       "      <td>14003.64</td>\n",
       "      <td>ultra</td>\n",
       "      <td>Краснодар</td>\n",
       "      <td>52</td>\n",
       "      <td>2018-05-25</td>\n",
       "      <td>1950</td>\n",
       "      <td>0.0</td>\n",
       "      <td>0.0</td>\n",
       "      <td>0.00</td>\n",
       "      <td>0.0</td>\n",
       "      <td>0.0</td>\n",
       "    </tr>\n",
       "    <tr>\n",
       "      <td>3</td>\n",
       "      <td>1000</td>\n",
       "      <td>8.0</td>\n",
       "      <td>42.0</td>\n",
       "      <td>408.0</td>\n",
       "      <td>81.0</td>\n",
       "      <td>14055.93</td>\n",
       "      <td>ultra</td>\n",
       "      <td>Краснодар</td>\n",
       "      <td>52</td>\n",
       "      <td>2018-05-25</td>\n",
       "      <td>1950</td>\n",
       "      <td>0.0</td>\n",
       "      <td>0.0</td>\n",
       "      <td>0.00</td>\n",
       "      <td>0.0</td>\n",
       "      <td>0.0</td>\n",
       "    </tr>\n",
       "    <tr>\n",
       "      <td>4</td>\n",
       "      <td>1000</td>\n",
       "      <td>9.0</td>\n",
       "      <td>46.0</td>\n",
       "      <td>466.0</td>\n",
       "      <td>57.0</td>\n",
       "      <td>14568.91</td>\n",
       "      <td>ultra</td>\n",
       "      <td>Краснодар</td>\n",
       "      <td>52</td>\n",
       "      <td>2018-05-25</td>\n",
       "      <td>1950</td>\n",
       "      <td>0.0</td>\n",
       "      <td>0.0</td>\n",
       "      <td>0.00</td>\n",
       "      <td>0.0</td>\n",
       "      <td>0.0</td>\n",
       "    </tr>\n",
       "    <tr>\n",
       "      <td>...</td>\n",
       "      <td>...</td>\n",
       "      <td>...</td>\n",
       "      <td>...</td>\n",
       "      <td>...</td>\n",
       "      <td>...</td>\n",
       "      <td>...</td>\n",
       "      <td>...</td>\n",
       "      <td>...</td>\n",
       "      <td>...</td>\n",
       "      <td>...</td>\n",
       "      <td>...</td>\n",
       "      <td>...</td>\n",
       "      <td>...</td>\n",
       "      <td>...</td>\n",
       "      <td>...</td>\n",
       "      <td>...</td>\n",
       "    </tr>\n",
       "    <tr>\n",
       "      <td>3211</td>\n",
       "      <td>1499</td>\n",
       "      <td>10.0</td>\n",
       "      <td>44.0</td>\n",
       "      <td>449.0</td>\n",
       "      <td>48.0</td>\n",
       "      <td>17788.51</td>\n",
       "      <td>smart</td>\n",
       "      <td>Пермь</td>\n",
       "      <td>35</td>\n",
       "      <td>2018-09-27</td>\n",
       "      <td>550</td>\n",
       "      <td>0.0</td>\n",
       "      <td>0.0</td>\n",
       "      <td>2428.51</td>\n",
       "      <td>3.0</td>\n",
       "      <td>600.0</td>\n",
       "    </tr>\n",
       "    <tr>\n",
       "      <td>3212</td>\n",
       "      <td>1499</td>\n",
       "      <td>11.0</td>\n",
       "      <td>62.0</td>\n",
       "      <td>612.0</td>\n",
       "      <td>59.0</td>\n",
       "      <td>17963.31</td>\n",
       "      <td>smart</td>\n",
       "      <td>Пермь</td>\n",
       "      <td>35</td>\n",
       "      <td>2018-09-27</td>\n",
       "      <td>550</td>\n",
       "      <td>112.0</td>\n",
       "      <td>9.0</td>\n",
       "      <td>2603.31</td>\n",
       "      <td>3.0</td>\n",
       "      <td>963.0</td>\n",
       "    </tr>\n",
       "    <tr>\n",
       "      <td>3213</td>\n",
       "      <td>1499</td>\n",
       "      <td>12.0</td>\n",
       "      <td>56.0</td>\n",
       "      <td>492.0</td>\n",
       "      <td>66.0</td>\n",
       "      <td>13055.58</td>\n",
       "      <td>smart</td>\n",
       "      <td>Пермь</td>\n",
       "      <td>35</td>\n",
       "      <td>2018-09-27</td>\n",
       "      <td>550</td>\n",
       "      <td>0.0</td>\n",
       "      <td>16.0</td>\n",
       "      <td>0.00</td>\n",
       "      <td>0.0</td>\n",
       "      <td>48.0</td>\n",
       "    </tr>\n",
       "    <tr>\n",
       "      <td>3214</td>\n",
       "      <td>1128</td>\n",
       "      <td>12.0</td>\n",
       "      <td>0.0</td>\n",
       "      <td>0.0</td>\n",
       "      <td>0.0</td>\n",
       "      <td>0.00</td>\n",
       "      <td>ultra</td>\n",
       "      <td>Волжский</td>\n",
       "      <td>51</td>\n",
       "      <td>2018-12-15</td>\n",
       "      <td>1950</td>\n",
       "      <td>0.0</td>\n",
       "      <td>0.0</td>\n",
       "      <td>0.00</td>\n",
       "      <td>0.0</td>\n",
       "      <td>0.0</td>\n",
       "    </tr>\n",
       "    <tr>\n",
       "      <td>3215</td>\n",
       "      <td>1371</td>\n",
       "      <td>12.0</td>\n",
       "      <td>0.0</td>\n",
       "      <td>0.0</td>\n",
       "      <td>0.0</td>\n",
       "      <td>0.00</td>\n",
       "      <td>smart</td>\n",
       "      <td>Омск</td>\n",
       "      <td>50</td>\n",
       "      <td>2018-12-25</td>\n",
       "      <td>550</td>\n",
       "      <td>0.0</td>\n",
       "      <td>0.0</td>\n",
       "      <td>0.00</td>\n",
       "      <td>0.0</td>\n",
       "      <td>0.0</td>\n",
       "    </tr>\n",
       "  </tbody>\n",
       "</table>\n",
       "<p>3216 rows × 16 columns</p>\n",
       "</div>"
      ],
      "text/plain": [
       "      User_id  месяц  кол-во звонков, шт.  время звонков, мин.  смс, шт.  \\\n",
       "0        1000    5.0                 17.0                159.0      22.0   \n",
       "1        1000    6.0                 28.0                172.0      60.0   \n",
       "2        1000    7.0                 41.0                340.0      75.0   \n",
       "3        1000    8.0                 42.0                408.0      81.0   \n",
       "4        1000    9.0                 46.0                466.0      57.0   \n",
       "...       ...    ...                  ...                  ...       ...   \n",
       "3211     1499   10.0                 44.0                449.0      48.0   \n",
       "3212     1499   11.0                 62.0                612.0      59.0   \n",
       "3213     1499   12.0                 56.0                492.0      66.0   \n",
       "3214     1128   12.0                  0.0                  0.0       0.0   \n",
       "3215     1371   12.0                  0.0                  0.0       0.0   \n",
       "\n",
       "      трафик, мб.  тариф      город  возраст дата регистрации  \\\n",
       "0         2253.49  ultra  Краснодар       52       2018-05-25   \n",
       "1        23233.77  ultra  Краснодар       52       2018-05-25   \n",
       "2        14003.64  ultra  Краснодар       52       2018-05-25   \n",
       "3        14055.93  ultra  Краснодар       52       2018-05-25   \n",
       "4        14568.91  ultra  Краснодар       52       2018-05-25   \n",
       "...           ...    ...        ...      ...              ...   \n",
       "3211     17788.51  smart      Пермь       35       2018-09-27   \n",
       "3212     17963.31  smart      Пермь       35       2018-09-27   \n",
       "3213     13055.58  smart      Пермь       35       2018-09-27   \n",
       "3214         0.00  ultra   Волжский       51       2018-12-15   \n",
       "3215         0.00  smart       Омск       50       2018-12-25   \n",
       "\n",
       "      аб. плата, руб.  мин. сверх тарифа  смс. сверх тарифа  \\\n",
       "0                1950                0.0                0.0   \n",
       "1                1950                0.0                0.0   \n",
       "2                1950                0.0                0.0   \n",
       "3                1950                0.0                0.0   \n",
       "4                1950                0.0                0.0   \n",
       "...               ...                ...                ...   \n",
       "3211              550                0.0                0.0   \n",
       "3212              550              112.0                9.0   \n",
       "3213              550                0.0               16.0   \n",
       "3214             1950                0.0                0.0   \n",
       "3215              550                0.0                0.0   \n",
       "\n",
       "      трафик сверх тарифа мб.  трафик сверх тарифа гб.  \\\n",
       "0                        0.00                      0.0   \n",
       "1                        0.00                      0.0   \n",
       "2                        0.00                      0.0   \n",
       "3                        0.00                      0.0   \n",
       "4                        0.00                      0.0   \n",
       "...                       ...                      ...   \n",
       "3211                  2428.51                      3.0   \n",
       "3212                  2603.31                      3.0   \n",
       "3213                     0.00                      0.0   \n",
       "3214                     0.00                      0.0   \n",
       "3215                     0.00                      0.0   \n",
       "\n",
       "      общая плата сверх тарифа, руб.  \n",
       "0                                0.0  \n",
       "1                                0.0  \n",
       "2                                0.0  \n",
       "3                                0.0  \n",
       "4                                0.0  \n",
       "...                              ...  \n",
       "3211                           600.0  \n",
       "3212                           963.0  \n",
       "3213                            48.0  \n",
       "3214                             0.0  \n",
       "3215                             0.0  \n",
       "\n",
       "[3216 rows x 16 columns]"
      ]
     },
     "execution_count": 36,
     "metadata": {},
     "output_type": "execute_result"
    }
   ],
   "source": [
    "def total_monthly_fee(row):\n",
    "    sum_per_month = 0\n",
    "    if row['тариф'] == 'smart':\n",
    "        sum_per_month += row['мин. сверх тарифа'] * tariffs.loc[0, 'rub_per_minute']\n",
    "        sum_per_month += row['смс. сверх тарифа'] * tariffs.loc[0, 'rub_per_message']\n",
    "        sum_per_month += row['трафик сверх тарифа гб.'] * tariffs.loc[0, 'rub_per_gb']\n",
    "        return sum_per_month\n",
    "    \n",
    "    else:\n",
    "        if row['тариф'] == 'ulta':\n",
    "            sum_per_month += row['мин. сверх тарифа'] * tariffs.loc[1, 'rub_per_minute']\n",
    "            sum_per_month += row['смс. сверх тарифа'] * tariffs.loc[1, 'rub_per_message']\n",
    "            sum_per_month += row['трафик сверх тарифа гб.'] * tariffs.loc[1, 'rub_per_minute']\n",
    "        return sum_per_month\n",
    "                \n",
    "\n",
    "data_final['общая плата сверх тарифа, руб.'] = data_final.apply(total_monthly_fee, axis=1)\n",
    "data_final"
   ]
  },
  {
   "cell_type": "markdown",
   "metadata": {},
   "source": [
    "__Определим общую плату за месяц__"
   ]
  },
  {
   "cell_type": "code",
   "execution_count": 37,
   "metadata": {},
   "outputs": [
    {
     "data": {
      "text/html": [
       "<div>\n",
       "<style scoped>\n",
       "    .dataframe tbody tr th:only-of-type {\n",
       "        vertical-align: middle;\n",
       "    }\n",
       "\n",
       "    .dataframe tbody tr th {\n",
       "        vertical-align: top;\n",
       "    }\n",
       "\n",
       "    .dataframe thead th {\n",
       "        text-align: right;\n",
       "    }\n",
       "</style>\n",
       "<table border=\"1\" class=\"dataframe\">\n",
       "  <thead>\n",
       "    <tr style=\"text-align: right;\">\n",
       "      <th></th>\n",
       "      <th>User_id</th>\n",
       "      <th>месяц</th>\n",
       "      <th>кол-во звонков, шт.</th>\n",
       "      <th>время звонков, мин.</th>\n",
       "      <th>смс, шт.</th>\n",
       "      <th>трафик, мб.</th>\n",
       "      <th>тариф</th>\n",
       "      <th>город</th>\n",
       "      <th>возраст</th>\n",
       "      <th>дата регистрации</th>\n",
       "      <th>аб. плата, руб.</th>\n",
       "      <th>мин. сверх тарифа</th>\n",
       "      <th>смс. сверх тарифа</th>\n",
       "      <th>трафик сверх тарифа мб.</th>\n",
       "      <th>трафик сверх тарифа гб.</th>\n",
       "      <th>общая плата сверх тарифа, руб.</th>\n",
       "      <th>всего за месяц, руб.</th>\n",
       "    </tr>\n",
       "  </thead>\n",
       "  <tbody>\n",
       "    <tr>\n",
       "      <td>0</td>\n",
       "      <td>1000</td>\n",
       "      <td>5.0</td>\n",
       "      <td>17.0</td>\n",
       "      <td>159.0</td>\n",
       "      <td>22.0</td>\n",
       "      <td>2253.49</td>\n",
       "      <td>ultra</td>\n",
       "      <td>Краснодар</td>\n",
       "      <td>52</td>\n",
       "      <td>2018-05-25</td>\n",
       "      <td>1950</td>\n",
       "      <td>0.0</td>\n",
       "      <td>0.0</td>\n",
       "      <td>0.00</td>\n",
       "      <td>0.0</td>\n",
       "      <td>0.0</td>\n",
       "      <td>1950.0</td>\n",
       "    </tr>\n",
       "    <tr>\n",
       "      <td>1</td>\n",
       "      <td>1000</td>\n",
       "      <td>6.0</td>\n",
       "      <td>28.0</td>\n",
       "      <td>172.0</td>\n",
       "      <td>60.0</td>\n",
       "      <td>23233.77</td>\n",
       "      <td>ultra</td>\n",
       "      <td>Краснодар</td>\n",
       "      <td>52</td>\n",
       "      <td>2018-05-25</td>\n",
       "      <td>1950</td>\n",
       "      <td>0.0</td>\n",
       "      <td>0.0</td>\n",
       "      <td>0.00</td>\n",
       "      <td>0.0</td>\n",
       "      <td>0.0</td>\n",
       "      <td>1950.0</td>\n",
       "    </tr>\n",
       "    <tr>\n",
       "      <td>2</td>\n",
       "      <td>1000</td>\n",
       "      <td>7.0</td>\n",
       "      <td>41.0</td>\n",
       "      <td>340.0</td>\n",
       "      <td>75.0</td>\n",
       "      <td>14003.64</td>\n",
       "      <td>ultra</td>\n",
       "      <td>Краснодар</td>\n",
       "      <td>52</td>\n",
       "      <td>2018-05-25</td>\n",
       "      <td>1950</td>\n",
       "      <td>0.0</td>\n",
       "      <td>0.0</td>\n",
       "      <td>0.00</td>\n",
       "      <td>0.0</td>\n",
       "      <td>0.0</td>\n",
       "      <td>1950.0</td>\n",
       "    </tr>\n",
       "    <tr>\n",
       "      <td>3</td>\n",
       "      <td>1000</td>\n",
       "      <td>8.0</td>\n",
       "      <td>42.0</td>\n",
       "      <td>408.0</td>\n",
       "      <td>81.0</td>\n",
       "      <td>14055.93</td>\n",
       "      <td>ultra</td>\n",
       "      <td>Краснодар</td>\n",
       "      <td>52</td>\n",
       "      <td>2018-05-25</td>\n",
       "      <td>1950</td>\n",
       "      <td>0.0</td>\n",
       "      <td>0.0</td>\n",
       "      <td>0.00</td>\n",
       "      <td>0.0</td>\n",
       "      <td>0.0</td>\n",
       "      <td>1950.0</td>\n",
       "    </tr>\n",
       "    <tr>\n",
       "      <td>4</td>\n",
       "      <td>1000</td>\n",
       "      <td>9.0</td>\n",
       "      <td>46.0</td>\n",
       "      <td>466.0</td>\n",
       "      <td>57.0</td>\n",
       "      <td>14568.91</td>\n",
       "      <td>ultra</td>\n",
       "      <td>Краснодар</td>\n",
       "      <td>52</td>\n",
       "      <td>2018-05-25</td>\n",
       "      <td>1950</td>\n",
       "      <td>0.0</td>\n",
       "      <td>0.0</td>\n",
       "      <td>0.00</td>\n",
       "      <td>0.0</td>\n",
       "      <td>0.0</td>\n",
       "      <td>1950.0</td>\n",
       "    </tr>\n",
       "    <tr>\n",
       "      <td>...</td>\n",
       "      <td>...</td>\n",
       "      <td>...</td>\n",
       "      <td>...</td>\n",
       "      <td>...</td>\n",
       "      <td>...</td>\n",
       "      <td>...</td>\n",
       "      <td>...</td>\n",
       "      <td>...</td>\n",
       "      <td>...</td>\n",
       "      <td>...</td>\n",
       "      <td>...</td>\n",
       "      <td>...</td>\n",
       "      <td>...</td>\n",
       "      <td>...</td>\n",
       "      <td>...</td>\n",
       "      <td>...</td>\n",
       "      <td>...</td>\n",
       "    </tr>\n",
       "    <tr>\n",
       "      <td>3211</td>\n",
       "      <td>1499</td>\n",
       "      <td>10.0</td>\n",
       "      <td>44.0</td>\n",
       "      <td>449.0</td>\n",
       "      <td>48.0</td>\n",
       "      <td>17788.51</td>\n",
       "      <td>smart</td>\n",
       "      <td>Пермь</td>\n",
       "      <td>35</td>\n",
       "      <td>2018-09-27</td>\n",
       "      <td>550</td>\n",
       "      <td>0.0</td>\n",
       "      <td>0.0</td>\n",
       "      <td>2428.51</td>\n",
       "      <td>3.0</td>\n",
       "      <td>600.0</td>\n",
       "      <td>1150.0</td>\n",
       "    </tr>\n",
       "    <tr>\n",
       "      <td>3212</td>\n",
       "      <td>1499</td>\n",
       "      <td>11.0</td>\n",
       "      <td>62.0</td>\n",
       "      <td>612.0</td>\n",
       "      <td>59.0</td>\n",
       "      <td>17963.31</td>\n",
       "      <td>smart</td>\n",
       "      <td>Пермь</td>\n",
       "      <td>35</td>\n",
       "      <td>2018-09-27</td>\n",
       "      <td>550</td>\n",
       "      <td>112.0</td>\n",
       "      <td>9.0</td>\n",
       "      <td>2603.31</td>\n",
       "      <td>3.0</td>\n",
       "      <td>963.0</td>\n",
       "      <td>1513.0</td>\n",
       "    </tr>\n",
       "    <tr>\n",
       "      <td>3213</td>\n",
       "      <td>1499</td>\n",
       "      <td>12.0</td>\n",
       "      <td>56.0</td>\n",
       "      <td>492.0</td>\n",
       "      <td>66.0</td>\n",
       "      <td>13055.58</td>\n",
       "      <td>smart</td>\n",
       "      <td>Пермь</td>\n",
       "      <td>35</td>\n",
       "      <td>2018-09-27</td>\n",
       "      <td>550</td>\n",
       "      <td>0.0</td>\n",
       "      <td>16.0</td>\n",
       "      <td>0.00</td>\n",
       "      <td>0.0</td>\n",
       "      <td>48.0</td>\n",
       "      <td>598.0</td>\n",
       "    </tr>\n",
       "    <tr>\n",
       "      <td>3214</td>\n",
       "      <td>1128</td>\n",
       "      <td>12.0</td>\n",
       "      <td>0.0</td>\n",
       "      <td>0.0</td>\n",
       "      <td>0.0</td>\n",
       "      <td>0.00</td>\n",
       "      <td>ultra</td>\n",
       "      <td>Волжский</td>\n",
       "      <td>51</td>\n",
       "      <td>2018-12-15</td>\n",
       "      <td>1950</td>\n",
       "      <td>0.0</td>\n",
       "      <td>0.0</td>\n",
       "      <td>0.00</td>\n",
       "      <td>0.0</td>\n",
       "      <td>0.0</td>\n",
       "      <td>1950.0</td>\n",
       "    </tr>\n",
       "    <tr>\n",
       "      <td>3215</td>\n",
       "      <td>1371</td>\n",
       "      <td>12.0</td>\n",
       "      <td>0.0</td>\n",
       "      <td>0.0</td>\n",
       "      <td>0.0</td>\n",
       "      <td>0.00</td>\n",
       "      <td>smart</td>\n",
       "      <td>Омск</td>\n",
       "      <td>50</td>\n",
       "      <td>2018-12-25</td>\n",
       "      <td>550</td>\n",
       "      <td>0.0</td>\n",
       "      <td>0.0</td>\n",
       "      <td>0.00</td>\n",
       "      <td>0.0</td>\n",
       "      <td>0.0</td>\n",
       "      <td>550.0</td>\n",
       "    </tr>\n",
       "  </tbody>\n",
       "</table>\n",
       "<p>3216 rows × 17 columns</p>\n",
       "</div>"
      ],
      "text/plain": [
       "      User_id  месяц  кол-во звонков, шт.  время звонков, мин.  смс, шт.  \\\n",
       "0        1000    5.0                 17.0                159.0      22.0   \n",
       "1        1000    6.0                 28.0                172.0      60.0   \n",
       "2        1000    7.0                 41.0                340.0      75.0   \n",
       "3        1000    8.0                 42.0                408.0      81.0   \n",
       "4        1000    9.0                 46.0                466.0      57.0   \n",
       "...       ...    ...                  ...                  ...       ...   \n",
       "3211     1499   10.0                 44.0                449.0      48.0   \n",
       "3212     1499   11.0                 62.0                612.0      59.0   \n",
       "3213     1499   12.0                 56.0                492.0      66.0   \n",
       "3214     1128   12.0                  0.0                  0.0       0.0   \n",
       "3215     1371   12.0                  0.0                  0.0       0.0   \n",
       "\n",
       "      трафик, мб.  тариф      город  возраст дата регистрации  \\\n",
       "0         2253.49  ultra  Краснодар       52       2018-05-25   \n",
       "1        23233.77  ultra  Краснодар       52       2018-05-25   \n",
       "2        14003.64  ultra  Краснодар       52       2018-05-25   \n",
       "3        14055.93  ultra  Краснодар       52       2018-05-25   \n",
       "4        14568.91  ultra  Краснодар       52       2018-05-25   \n",
       "...           ...    ...        ...      ...              ...   \n",
       "3211     17788.51  smart      Пермь       35       2018-09-27   \n",
       "3212     17963.31  smart      Пермь       35       2018-09-27   \n",
       "3213     13055.58  smart      Пермь       35       2018-09-27   \n",
       "3214         0.00  ultra   Волжский       51       2018-12-15   \n",
       "3215         0.00  smart       Омск       50       2018-12-25   \n",
       "\n",
       "      аб. плата, руб.  мин. сверх тарифа  смс. сверх тарифа  \\\n",
       "0                1950                0.0                0.0   \n",
       "1                1950                0.0                0.0   \n",
       "2                1950                0.0                0.0   \n",
       "3                1950                0.0                0.0   \n",
       "4                1950                0.0                0.0   \n",
       "...               ...                ...                ...   \n",
       "3211              550                0.0                0.0   \n",
       "3212              550              112.0                9.0   \n",
       "3213              550                0.0               16.0   \n",
       "3214             1950                0.0                0.0   \n",
       "3215              550                0.0                0.0   \n",
       "\n",
       "      трафик сверх тарифа мб.  трафик сверх тарифа гб.  \\\n",
       "0                        0.00                      0.0   \n",
       "1                        0.00                      0.0   \n",
       "2                        0.00                      0.0   \n",
       "3                        0.00                      0.0   \n",
       "4                        0.00                      0.0   \n",
       "...                       ...                      ...   \n",
       "3211                  2428.51                      3.0   \n",
       "3212                  2603.31                      3.0   \n",
       "3213                     0.00                      0.0   \n",
       "3214                     0.00                      0.0   \n",
       "3215                     0.00                      0.0   \n",
       "\n",
       "      общая плата сверх тарифа, руб.  всего за месяц, руб.  \n",
       "0                                0.0                1950.0  \n",
       "1                                0.0                1950.0  \n",
       "2                                0.0                1950.0  \n",
       "3                                0.0                1950.0  \n",
       "4                                0.0                1950.0  \n",
       "...                              ...                   ...  \n",
       "3211                           600.0                1150.0  \n",
       "3212                           963.0                1513.0  \n",
       "3213                            48.0                 598.0  \n",
       "3214                             0.0                1950.0  \n",
       "3215                             0.0                 550.0  \n",
       "\n",
       "[3216 rows x 17 columns]"
      ]
     },
     "execution_count": 37,
     "metadata": {},
     "output_type": "execute_result"
    }
   ],
   "source": [
    "data_final['всего за месяц, руб.'] = data_final['аб. плата, руб.'] + data_final['общая плата сверх тарифа, руб.']\n",
    "data_final"
   ]
  },
  {
   "cell_type": "markdown",
   "metadata": {},
   "source": [
    "__В конечном итоге сформирована сводная таблица и определена поэлементная структура месячных расходов для каждого абонента из выборки. Однозначно можно понять, что не все пользовтаели в равной мере пользуются звонками, смс и интернетом. В отдельные периоды значения могут быть нулевыми. Наличие расходов сверх тарифа для пользователей так же имеет место быть.__"
   ]
  },
  {
   "cell_type": "markdown",
   "metadata": {},
   "source": [
    "## Анализ данных"
   ]
  },
  {
   "cell_type": "markdown",
   "metadata": {},
   "source": [
    "Необходимо: \n",
    "- описать поведение клиентов оператора, исходя из выборки.  \n",
    "- определить сколько минут разговора, сколько сообщений и какой объём интернет-трафика требуется пользователям каждого тарифа в месяц. \n",
    "- посчитать среднее количество, дисперсию и стандартное отклонение. \n",
    "- построить гистограммы. \n",
    "- описать распределения."
   ]
  },
  {
   "cell_type": "markdown",
   "metadata": {},
   "source": [
    "### Анализ поведения клиентов оператора, исходя из выборки."
   ]
  },
  {
   "cell_type": "markdown",
   "metadata": {},
   "source": [
    "Ранее мы уже выявили некотоыре особенности пользоваталей, например в одном месяце пользователь может не делать звонки, а пользоваться СМС и интернетом, или наоборот. По результатам составления итоговой месячной платы каждого пользователя по его тарифу было выявлено, что превышения по тарифу имеются. Рассмотрим подробнее. Для начала построим боксплот по расходам клиентов для понимания количества аномальных значений (выбросов)."
   ]
  },
  {
   "cell_type": "code",
   "execution_count": 38,
   "metadata": {},
   "outputs": [
    {
     "data": {
      "image/png": "[encoded data removed]",
      "text/plain": [
       "<Figure size 2160x720 with 3 Axes>"
      ]
     },
     "metadata": {
      "needs_background": "light"
     },
     "output_type": "display_data"
    }
   ],
   "source": [
    "rows = 1\n",
    "cols = 3\n",
    "fig, axes = plt.subplots(rows, cols, figsize=(30,10))\n",
    "column_list = ['время звонков, мин.', 'смс, шт.', 'трафик, мб.']\n",
    "ylims = [1700, 250, 55000]\n",
    "count = 0\n",
    "for r in range(rows):\n",
    "    for c in range(cols):\n",
    "        ax = data_final.boxplot(column=column_list[count],by='тариф', ax=axes[c], fontsize=30)\n",
    "        ax.set_ylim([0, ylims[count]])\n",
    "        count += 1\n",
    "        ax.title.set_size(30)\n",
    "        ax.set_xlabel('')\n",
    "        plt.suptitle('Boxplot', y=1.1, fontsize=30)\n",
    "        \n",
    "fig.tight_layout()"
   ]
  },
  {
   "cell_type": "markdown",
   "metadata": {},
   "source": [
    "__Можно сделать следующие выводы:__  \n",
    "- не всем пользователям тарифа `smart` хватает включенных в тарифный план минут общения, присуствуют аномально большие значения. Пользователей тарифа `ultra` с аномальным превышением минут общения крайне мало.\n",
    "- по смс в тарифе `smart` такая же ситуация, как и со звонками, у пользователей с тарифом `ultra` ситуация с аномалиями в смс на порядок лучше.\n",
    "- с трафиком в тарифе `smart` аналогичная ситуация не всем пользователям тарифа хватает включенных лимитов. У пользователей тарифа `ultra` аномальных превышение крайне мало. С нулевыми, и около них, значениями в ситуация понятна, мы уже ранее выяснили, что некоторые пользователи попросту используют иные тарифные возможности.\n",
    "  \n",
    "По итогу анализа видно, что у нас имеются аномальные превышения по всем позициям в разном количестве. Приемущественно в тарифе `smart`. Если у пользователя имеется значительно превышение по всем параметрам, то возможно стоит подумать о смене тарифа на более выгодный.  \n",
    "Значениям с выбросами мы на данный момент отсеивать не будем, т.к. нет понимания в какой промежуток времени и как часто они возникали у пользователей, и у одного пользователя на протяжении года. Возможно это разовые инцинденты. В любом случае мы определяем суммарные значения и выражаем их в деньгах, которые должны оплатить пользователи за оказанные им услуги связи."
   ]
  },
  {
   "cell_type": "markdown",
   "metadata": {},
   "source": [
    "__Сформируем сводную таблицу со среднем и медианой по каждому месяцу__"
   ]
  },
  {
   "cell_type": "code",
   "execution_count": 39,
   "metadata": {},
   "outputs": [
    {
     "data": {
      "text/html": [
       "<style  type=\"text/css\" >\n",
       "    #T_ab07dec2_0068_11ec_b034_02420a39dd2brow0_col0 {\n",
       "            background-color:  #fcfbfd;\n",
       "            color:  #000000;\n",
       "        }    #T_ab07dec2_0068_11ec_b034_02420a39dd2brow0_col1 {\n",
       "            background-color:  #fcfbfd;\n",
       "            color:  #000000;\n",
       "        }    #T_ab07dec2_0068_11ec_b034_02420a39dd2brow0_col2 {\n",
       "            background-color:  #fcfbfd;\n",
       "            color:  #000000;\n",
       "        }    #T_ab07dec2_0068_11ec_b034_02420a39dd2brow0_col3 {\n",
       "            background-color:  #fcfbfd;\n",
       "            color:  #000000;\n",
       "        }    #T_ab07dec2_0068_11ec_b034_02420a39dd2brow0_col4 {\n",
       "            background-color:  #fcfbfd;\n",
       "            color:  #000000;\n",
       "        }    #T_ab07dec2_0068_11ec_b034_02420a39dd2brow0_col5 {\n",
       "            background-color:  #e2e1ef;\n",
       "            color:  #000000;\n",
       "        }    #T_ab07dec2_0068_11ec_b034_02420a39dd2brow0_col6 {\n",
       "            background-color:  #fcfbfd;\n",
       "            color:  #000000;\n",
       "        }    #T_ab07dec2_0068_11ec_b034_02420a39dd2brow0_col7 {\n",
       "            background-color:  #fcfbfd;\n",
       "            color:  #000000;\n",
       "        }    #T_ab07dec2_0068_11ec_b034_02420a39dd2brow1_col0 {\n",
       "            background-color:  #8b87bf;\n",
       "            color:  #000000;\n",
       "        }    #T_ab07dec2_0068_11ec_b034_02420a39dd2brow1_col1 {\n",
       "            background-color:  #9894c5;\n",
       "            color:  #000000;\n",
       "        }    #T_ab07dec2_0068_11ec_b034_02420a39dd2brow1_col2 {\n",
       "            background-color:  #908dc2;\n",
       "            color:  #000000;\n",
       "        }    #T_ab07dec2_0068_11ec_b034_02420a39dd2brow1_col3 {\n",
       "            background-color:  #a09dca;\n",
       "            color:  #000000;\n",
       "        }    #T_ab07dec2_0068_11ec_b034_02420a39dd2brow1_col4 {\n",
       "            background-color:  #bbbbdb;\n",
       "            color:  #000000;\n",
       "        }    #T_ab07dec2_0068_11ec_b034_02420a39dd2brow1_col5 {\n",
       "            background-color:  #8885be;\n",
       "            color:  #000000;\n",
       "        }    #T_ab07dec2_0068_11ec_b034_02420a39dd2brow1_col6 {\n",
       "            background-color:  #c1c2df;\n",
       "            color:  #000000;\n",
       "        }    #T_ab07dec2_0068_11ec_b034_02420a39dd2brow1_col7 {\n",
       "            background-color:  #9a96c6;\n",
       "            color:  #000000;\n",
       "        }    #T_ab07dec2_0068_11ec_b034_02420a39dd2brow2_col0 {\n",
       "            background-color:  #dadaeb;\n",
       "            color:  #000000;\n",
       "        }    #T_ab07dec2_0068_11ec_b034_02420a39dd2brow2_col1 {\n",
       "            background-color:  #dedded;\n",
       "            color:  #000000;\n",
       "        }    #T_ab07dec2_0068_11ec_b034_02420a39dd2brow2_col2 {\n",
       "            background-color:  #dbdbec;\n",
       "            color:  #000000;\n",
       "        }    #T_ab07dec2_0068_11ec_b034_02420a39dd2brow2_col3 {\n",
       "            background-color:  #dcdcec;\n",
       "            color:  #000000;\n",
       "        }    #T_ab07dec2_0068_11ec_b034_02420a39dd2brow2_col4 {\n",
       "            background-color:  #ecebf4;\n",
       "            color:  #000000;\n",
       "        }    #T_ab07dec2_0068_11ec_b034_02420a39dd2brow2_col5 {\n",
       "            background-color:  #cacae3;\n",
       "            color:  #000000;\n",
       "        }    #T_ab07dec2_0068_11ec_b034_02420a39dd2brow2_col6 {\n",
       "            background-color:  #dcdcec;\n",
       "            color:  #000000;\n",
       "        }    #T_ab07dec2_0068_11ec_b034_02420a39dd2brow2_col7 {\n",
       "            background-color:  #bebedd;\n",
       "            color:  #000000;\n",
       "        }    #T_ab07dec2_0068_11ec_b034_02420a39dd2brow3_col0 {\n",
       "            background-color:  #dcdcec;\n",
       "            color:  #000000;\n",
       "        }    #T_ab07dec2_0068_11ec_b034_02420a39dd2brow3_col1 {\n",
       "            background-color:  #fbfafc;\n",
       "            color:  #000000;\n",
       "        }    #T_ab07dec2_0068_11ec_b034_02420a39dd2brow3_col2 {\n",
       "            background-color:  #d6d6e9;\n",
       "            color:  #000000;\n",
       "        }    #T_ab07dec2_0068_11ec_b034_02420a39dd2brow3_col3 {\n",
       "            background-color:  #f2f0f7;\n",
       "            color:  #000000;\n",
       "        }    #T_ab07dec2_0068_11ec_b034_02420a39dd2brow3_col4 {\n",
       "            background-color:  #f2f0f7;\n",
       "            color:  #000000;\n",
       "        }    #T_ab07dec2_0068_11ec_b034_02420a39dd2brow3_col5 {\n",
       "            background-color:  #fcfbfd;\n",
       "            color:  #000000;\n",
       "        }    #T_ab07dec2_0068_11ec_b034_02420a39dd2brow3_col6 {\n",
       "            background-color:  #dadaeb;\n",
       "            color:  #000000;\n",
       "        }    #T_ab07dec2_0068_11ec_b034_02420a39dd2brow3_col7 {\n",
       "            background-color:  #fbfafc;\n",
       "            color:  #000000;\n",
       "        }    #T_ab07dec2_0068_11ec_b034_02420a39dd2brow4_col0 {\n",
       "            background-color:  #a29fcb;\n",
       "            color:  #000000;\n",
       "        }    #T_ab07dec2_0068_11ec_b034_02420a39dd2brow4_col1 {\n",
       "            background-color:  #8986be;\n",
       "            color:  #000000;\n",
       "        }    #T_ab07dec2_0068_11ec_b034_02420a39dd2brow4_col2 {\n",
       "            background-color:  #a09dca;\n",
       "            color:  #000000;\n",
       "        }    #T_ab07dec2_0068_11ec_b034_02420a39dd2brow4_col3 {\n",
       "            background-color:  #8e8ac0;\n",
       "            color:  #000000;\n",
       "        }    #T_ab07dec2_0068_11ec_b034_02420a39dd2brow4_col4 {\n",
       "            background-color:  #c6c7e1;\n",
       "            color:  #000000;\n",
       "        }    #T_ab07dec2_0068_11ec_b034_02420a39dd2brow4_col5 {\n",
       "            background-color:  #babadb;\n",
       "            color:  #000000;\n",
       "        }    #T_ab07dec2_0068_11ec_b034_02420a39dd2brow4_col6 {\n",
       "            background-color:  #9e9ac8;\n",
       "            color:  #000000;\n",
       "        }    #T_ab07dec2_0068_11ec_b034_02420a39dd2brow4_col7 {\n",
       "            background-color:  #8c88bf;\n",
       "            color:  #000000;\n",
       "        }    #T_ab07dec2_0068_11ec_b034_02420a39dd2brow5_col0 {\n",
       "            background-color:  #6b53a4;\n",
       "            color:  #f1f1f1;\n",
       "        }    #T_ab07dec2_0068_11ec_b034_02420a39dd2brow5_col1 {\n",
       "            background-color:  #8d89c0;\n",
       "            color:  #000000;\n",
       "        }    #T_ab07dec2_0068_11ec_b034_02420a39dd2brow5_col2 {\n",
       "            background-color:  #705eaa;\n",
       "            color:  #f1f1f1;\n",
       "        }    #T_ab07dec2_0068_11ec_b034_02420a39dd2brow5_col3 {\n",
       "            background-color:  #8986be;\n",
       "            color:  #000000;\n",
       "        }    #T_ab07dec2_0068_11ec_b034_02420a39dd2brow5_col4 {\n",
       "            background-color:  #c6c7e1;\n",
       "            color:  #000000;\n",
       "        }    #T_ab07dec2_0068_11ec_b034_02420a39dd2brow5_col5 {\n",
       "            background-color:  #cacae3;\n",
       "            color:  #000000;\n",
       "        }    #T_ab07dec2_0068_11ec_b034_02420a39dd2brow5_col6 {\n",
       "            background-color:  #7567af;\n",
       "            color:  #000000;\n",
       "        }    #T_ab07dec2_0068_11ec_b034_02420a39dd2brow5_col7 {\n",
       "            background-color:  #7262ac;\n",
       "            color:  #000000;\n",
       "        }    #T_ab07dec2_0068_11ec_b034_02420a39dd2brow6_col0 {\n",
       "            background-color:  #b0afd4;\n",
       "            color:  #000000;\n",
       "        }    #T_ab07dec2_0068_11ec_b034_02420a39dd2brow6_col1 {\n",
       "            background-color:  #a09dca;\n",
       "            color:  #000000;\n",
       "        }    #T_ab07dec2_0068_11ec_b034_02420a39dd2brow6_col2 {\n",
       "            background-color:  #b0afd4;\n",
       "            color:  #000000;\n",
       "        }    #T_ab07dec2_0068_11ec_b034_02420a39dd2brow6_col3 {\n",
       "            background-color:  #a5a2cd;\n",
       "            color:  #000000;\n",
       "        }    #T_ab07dec2_0068_11ec_b034_02420a39dd2brow6_col4 {\n",
       "            background-color:  #cccce4;\n",
       "            color:  #000000;\n",
       "        }    #T_ab07dec2_0068_11ec_b034_02420a39dd2brow6_col5 {\n",
       "            background-color:  #9e9ac8;\n",
       "            color:  #000000;\n",
       "        }    #T_ab07dec2_0068_11ec_b034_02420a39dd2brow6_col6 {\n",
       "            background-color:  #bcbddc;\n",
       "            color:  #000000;\n",
       "        }    #T_ab07dec2_0068_11ec_b034_02420a39dd2brow6_col7 {\n",
       "            background-color:  #a5a2cd;\n",
       "            color:  #000000;\n",
       "        }    #T_ab07dec2_0068_11ec_b034_02420a39dd2brow7_col0 {\n",
       "            background-color:  #7a71b4;\n",
       "            color:  #000000;\n",
       "        }    #T_ab07dec2_0068_11ec_b034_02420a39dd2brow7_col1 {\n",
       "            background-color:  #7465ad;\n",
       "            color:  #000000;\n",
       "        }    #T_ab07dec2_0068_11ec_b034_02420a39dd2brow7_col2 {\n",
       "            background-color:  #796eb2;\n",
       "            color:  #000000;\n",
       "        }    #T_ab07dec2_0068_11ec_b034_02420a39dd2brow7_col3 {\n",
       "            background-color:  #6e5aa8;\n",
       "            color:  #f1f1f1;\n",
       "        }    #T_ab07dec2_0068_11ec_b034_02420a39dd2brow7_col4 {\n",
       "            background-color:  #c6c7e1;\n",
       "            color:  #000000;\n",
       "        }    #T_ab07dec2_0068_11ec_b034_02420a39dd2brow7_col5 {\n",
       "            background-color:  #dadaeb;\n",
       "            color:  #000000;\n",
       "        }    #T_ab07dec2_0068_11ec_b034_02420a39dd2brow7_col6 {\n",
       "            background-color:  #7e79b8;\n",
       "            color:  #000000;\n",
       "        }    #T_ab07dec2_0068_11ec_b034_02420a39dd2brow7_col7 {\n",
       "            background-color:  #7d77b7;\n",
       "            color:  #000000;\n",
       "        }    #T_ab07dec2_0068_11ec_b034_02420a39dd2brow8_col0 {\n",
       "            background-color:  #a4a1cc;\n",
       "            color:  #000000;\n",
       "        }    #T_ab07dec2_0068_11ec_b034_02420a39dd2brow8_col1 {\n",
       "            background-color:  #7c75b6;\n",
       "            color:  #000000;\n",
       "        }    #T_ab07dec2_0068_11ec_b034_02420a39dd2brow8_col2 {\n",
       "            background-color:  #a09dca;\n",
       "            color:  #000000;\n",
       "        }    #T_ab07dec2_0068_11ec_b034_02420a39dd2brow8_col3 {\n",
       "            background-color:  #807cba;\n",
       "            color:  #000000;\n",
       "        }    #T_ab07dec2_0068_11ec_b034_02420a39dd2brow8_col4 {\n",
       "            background-color:  #bbbbdb;\n",
       "            color:  #000000;\n",
       "        }    #T_ab07dec2_0068_11ec_b034_02420a39dd2brow8_col5 {\n",
       "            background-color:  #9390c3;\n",
       "            color:  #000000;\n",
       "        }    #T_ab07dec2_0068_11ec_b034_02420a39dd2brow8_col6 {\n",
       "            background-color:  #908dc2;\n",
       "            color:  #000000;\n",
       "        }    #T_ab07dec2_0068_11ec_b034_02420a39dd2brow8_col7 {\n",
       "            background-color:  #817ebb;\n",
       "            color:  #000000;\n",
       "        }    #T_ab07dec2_0068_11ec_b034_02420a39dd2brow9_col0 {\n",
       "            background-color:  #62429c;\n",
       "            color:  #f1f1f1;\n",
       "        }    #T_ab07dec2_0068_11ec_b034_02420a39dd2brow9_col1 {\n",
       "            background-color:  #582f93;\n",
       "            color:  #f1f1f1;\n",
       "        }    #T_ab07dec2_0068_11ec_b034_02420a39dd2brow9_col2 {\n",
       "            background-color:  #61409b;\n",
       "            color:  #f1f1f1;\n",
       "        }    #T_ab07dec2_0068_11ec_b034_02420a39dd2brow9_col3 {\n",
       "            background-color:  #53258e;\n",
       "            color:  #f1f1f1;\n",
       "        }    #T_ab07dec2_0068_11ec_b034_02420a39dd2brow9_col4 {\n",
       "            background-color:  #a4a1cc;\n",
       "            color:  #000000;\n",
       "        }    #T_ab07dec2_0068_11ec_b034_02420a39dd2brow9_col5 {\n",
       "            background-color:  #aeadd3;\n",
       "            color:  #000000;\n",
       "        }    #T_ab07dec2_0068_11ec_b034_02420a39dd2brow9_col6 {\n",
       "            background-color:  #5c3797;\n",
       "            color:  #f1f1f1;\n",
       "        }    #T_ab07dec2_0068_11ec_b034_02420a39dd2brow9_col7 {\n",
       "            background-color:  #65479e;\n",
       "            color:  #f1f1f1;\n",
       "        }    #T_ab07dec2_0068_11ec_b034_02420a39dd2brow10_col0 {\n",
       "            background-color:  #9e9bc8;\n",
       "            color:  #000000;\n",
       "        }    #T_ab07dec2_0068_11ec_b034_02420a39dd2brow10_col1 {\n",
       "            background-color:  #8e8ac0;\n",
       "            color:  #000000;\n",
       "        }    #T_ab07dec2_0068_11ec_b034_02420a39dd2brow10_col2 {\n",
       "            background-color:  #a09dca;\n",
       "            color:  #000000;\n",
       "        }    #T_ab07dec2_0068_11ec_b034_02420a39dd2brow10_col3 {\n",
       "            background-color:  #8986be;\n",
       "            color:  #000000;\n",
       "        }    #T_ab07dec2_0068_11ec_b034_02420a39dd2brow10_col4 {\n",
       "            background-color:  #c0c1de;\n",
       "            color:  #000000;\n",
       "        }    #T_ab07dec2_0068_11ec_b034_02420a39dd2brow10_col5 {\n",
       "            background-color:  #9e9ac8;\n",
       "            color:  #000000;\n",
       "        }    #T_ab07dec2_0068_11ec_b034_02420a39dd2brow10_col6 {\n",
       "            background-color:  #908dc2;\n",
       "            color:  #000000;\n",
       "        }    #T_ab07dec2_0068_11ec_b034_02420a39dd2brow10_col7 {\n",
       "            background-color:  #8582bc;\n",
       "            color:  #000000;\n",
       "        }    #T_ab07dec2_0068_11ec_b034_02420a39dd2brow11_col0 {\n",
       "            background-color:  #705ca9;\n",
       "            color:  #f1f1f1;\n",
       "        }    #T_ab07dec2_0068_11ec_b034_02420a39dd2brow11_col1 {\n",
       "            background-color:  #694fa2;\n",
       "            color:  #f1f1f1;\n",
       "        }    #T_ab07dec2_0068_11ec_b034_02420a39dd2brow11_col2 {\n",
       "            background-color:  #705eaa;\n",
       "            color:  #f1f1f1;\n",
       "        }    #T_ab07dec2_0068_11ec_b034_02420a39dd2brow11_col3 {\n",
       "            background-color:  #6b53a4;\n",
       "            color:  #f1f1f1;\n",
       "        }    #T_ab07dec2_0068_11ec_b034_02420a39dd2brow11_col4 {\n",
       "            background-color:  #8d89c0;\n",
       "            color:  #000000;\n",
       "        }    #T_ab07dec2_0068_11ec_b034_02420a39dd2brow11_col5 {\n",
       "            background-color:  #9e9ac8;\n",
       "            color:  #000000;\n",
       "        }    #T_ab07dec2_0068_11ec_b034_02420a39dd2brow11_col6 {\n",
       "            background-color:  #62429c;\n",
       "            color:  #f1f1f1;\n",
       "        }    #T_ab07dec2_0068_11ec_b034_02420a39dd2brow11_col7 {\n",
       "            background-color:  #5b3495;\n",
       "            color:  #f1f1f1;\n",
       "        }    #T_ab07dec2_0068_11ec_b034_02420a39dd2brow12_col0 {\n",
       "            background-color:  #9793c5;\n",
       "            color:  #000000;\n",
       "        }    #T_ab07dec2_0068_11ec_b034_02420a39dd2brow12_col1 {\n",
       "            background-color:  #8683bd;\n",
       "            color:  #000000;\n",
       "        }    #T_ab07dec2_0068_11ec_b034_02420a39dd2brow12_col2 {\n",
       "            background-color:  #9692c4;\n",
       "            color:  #000000;\n",
       "        }    #T_ab07dec2_0068_11ec_b034_02420a39dd2brow12_col3 {\n",
       "            background-color:  #8986be;\n",
       "            color:  #000000;\n",
       "        }    #T_ab07dec2_0068_11ec_b034_02420a39dd2brow12_col4 {\n",
       "            background-color:  #bbbbdb;\n",
       "            color:  #000000;\n",
       "        }    #T_ab07dec2_0068_11ec_b034_02420a39dd2brow12_col5 {\n",
       "            background-color:  #9995c6;\n",
       "            color:  #000000;\n",
       "        }    #T_ab07dec2_0068_11ec_b034_02420a39dd2brow12_col6 {\n",
       "            background-color:  #918ec2;\n",
       "            color:  #000000;\n",
       "        }    #T_ab07dec2_0068_11ec_b034_02420a39dd2brow12_col7 {\n",
       "            background-color:  #8784bd;\n",
       "            color:  #000000;\n",
       "        }    #T_ab07dec2_0068_11ec_b034_02420a39dd2brow13_col0 {\n",
       "            background-color:  #51228d;\n",
       "            color:  #f1f1f1;\n",
       "        }    #T_ab07dec2_0068_11ec_b034_02420a39dd2brow13_col1 {\n",
       "            background-color:  #4f1d8b;\n",
       "            color:  #f1f1f1;\n",
       "        }    #T_ab07dec2_0068_11ec_b034_02420a39dd2brow13_col2 {\n",
       "            background-color:  #552a90;\n",
       "            color:  #f1f1f1;\n",
       "        }    #T_ab07dec2_0068_11ec_b034_02420a39dd2brow13_col3 {\n",
       "            background-color:  #4f1f8b;\n",
       "            color:  #f1f1f1;\n",
       "        }    #T_ab07dec2_0068_11ec_b034_02420a39dd2brow13_col4 {\n",
       "            background-color:  #674ca1;\n",
       "            color:  #f1f1f1;\n",
       "        }    #T_ab07dec2_0068_11ec_b034_02420a39dd2brow13_col5 {\n",
       "            background-color:  #6e58a7;\n",
       "            color:  #f1f1f1;\n",
       "        }    #T_ab07dec2_0068_11ec_b034_02420a39dd2brow13_col6 {\n",
       "            background-color:  #4d1b89;\n",
       "            color:  #f1f1f1;\n",
       "        }    #T_ab07dec2_0068_11ec_b034_02420a39dd2brow13_col7 {\n",
       "            background-color:  #552890;\n",
       "            color:  #f1f1f1;\n",
       "        }    #T_ab07dec2_0068_11ec_b034_02420a39dd2brow14_col0 {\n",
       "            background-color:  #8e8bc1;\n",
       "            color:  #000000;\n",
       "        }    #T_ab07dec2_0068_11ec_b034_02420a39dd2brow14_col1 {\n",
       "            background-color:  #7d77b7;\n",
       "            color:  #000000;\n",
       "        }    #T_ab07dec2_0068_11ec_b034_02420a39dd2brow14_col2 {\n",
       "            background-color:  #908dc2;\n",
       "            color:  #000000;\n",
       "        }    #T_ab07dec2_0068_11ec_b034_02420a39dd2brow14_col3 {\n",
       "            background-color:  #7c75b6;\n",
       "            color:  #000000;\n",
       "        }    #T_ab07dec2_0068_11ec_b034_02420a39dd2brow14_col4 {\n",
       "            background-color:  #bbbbdb;\n",
       "            color:  #000000;\n",
       "        }    #T_ab07dec2_0068_11ec_b034_02420a39dd2brow14_col5 {\n",
       "            background-color:  #a3a0cb;\n",
       "            color:  #000000;\n",
       "        }    #T_ab07dec2_0068_11ec_b034_02420a39dd2brow14_col6 {\n",
       "            background-color:  #827fbb;\n",
       "            color:  #000000;\n",
       "        }    #T_ab07dec2_0068_11ec_b034_02420a39dd2brow14_col7 {\n",
       "            background-color:  #7b72b4;\n",
       "            color:  #000000;\n",
       "        }    #T_ab07dec2_0068_11ec_b034_02420a39dd2brow15_col0 {\n",
       "            background-color:  #61409b;\n",
       "            color:  #f1f1f1;\n",
       "        }    #T_ab07dec2_0068_11ec_b034_02420a39dd2brow15_col1 {\n",
       "            background-color:  #603e9a;\n",
       "            color:  #f1f1f1;\n",
       "        }    #T_ab07dec2_0068_11ec_b034_02420a39dd2brow15_col2 {\n",
       "            background-color:  #65479e;\n",
       "            color:  #f1f1f1;\n",
       "        }    #T_ab07dec2_0068_11ec_b034_02420a39dd2brow15_col3 {\n",
       "            background-color:  #613f9a;\n",
       "            color:  #f1f1f1;\n",
       "        }    #T_ab07dec2_0068_11ec_b034_02420a39dd2brow15_col4 {\n",
       "            background-color:  #705eaa;\n",
       "            color:  #f1f1f1;\n",
       "        }    #T_ab07dec2_0068_11ec_b034_02420a39dd2brow15_col5 {\n",
       "            background-color:  #66499f;\n",
       "            color:  #f1f1f1;\n",
       "        }    #T_ab07dec2_0068_11ec_b034_02420a39dd2brow15_col6 {\n",
       "            background-color:  #5a3294;\n",
       "            color:  #f1f1f1;\n",
       "        }    #T_ab07dec2_0068_11ec_b034_02420a39dd2brow15_col7 {\n",
       "            background-color:  #62429c;\n",
       "            color:  #f1f1f1;\n",
       "        }    #T_ab07dec2_0068_11ec_b034_02420a39dd2brow16_col0 {\n",
       "            background-color:  #8a86bf;\n",
       "            color:  #000000;\n",
       "        }    #T_ab07dec2_0068_11ec_b034_02420a39dd2brow16_col1 {\n",
       "            background-color:  #7b74b5;\n",
       "            color:  #000000;\n",
       "        }    #T_ab07dec2_0068_11ec_b034_02420a39dd2brow16_col2 {\n",
       "            background-color:  #8c88bf;\n",
       "            color:  #000000;\n",
       "        }    #T_ab07dec2_0068_11ec_b034_02420a39dd2brow16_col3 {\n",
       "            background-color:  #796eb2;\n",
       "            color:  #000000;\n",
       "        }    #T_ab07dec2_0068_11ec_b034_02420a39dd2brow16_col4 {\n",
       "            background-color:  #bbbbdb;\n",
       "            color:  #000000;\n",
       "        }    #T_ab07dec2_0068_11ec_b034_02420a39dd2brow16_col5 {\n",
       "            background-color:  #9390c3;\n",
       "            color:  #000000;\n",
       "        }    #T_ab07dec2_0068_11ec_b034_02420a39dd2brow16_col6 {\n",
       "            background-color:  #8885be;\n",
       "            color:  #000000;\n",
       "        }    #T_ab07dec2_0068_11ec_b034_02420a39dd2brow16_col7 {\n",
       "            background-color:  #8683bd;\n",
       "            color:  #000000;\n",
       "        }    #T_ab07dec2_0068_11ec_b034_02420a39dd2brow17_col0 {\n",
       "            background-color:  #552890;\n",
       "            color:  #f1f1f1;\n",
       "        }    #T_ab07dec2_0068_11ec_b034_02420a39dd2brow17_col1 {\n",
       "            background-color:  #582e92;\n",
       "            color:  #f1f1f1;\n",
       "        }    #T_ab07dec2_0068_11ec_b034_02420a39dd2brow17_col2 {\n",
       "            background-color:  #593093;\n",
       "            color:  #f1f1f1;\n",
       "        }    #T_ab07dec2_0068_11ec_b034_02420a39dd2brow17_col3 {\n",
       "            background-color:  #5a3294;\n",
       "            color:  #f1f1f1;\n",
       "        }    #T_ab07dec2_0068_11ec_b034_02420a39dd2brow17_col4 {\n",
       "            background-color:  #5f3c99;\n",
       "            color:  #f1f1f1;\n",
       "        }    #T_ab07dec2_0068_11ec_b034_02420a39dd2brow17_col5 {\n",
       "            background-color:  #5a3294;\n",
       "            color:  #f1f1f1;\n",
       "        }    #T_ab07dec2_0068_11ec_b034_02420a39dd2brow17_col6 {\n",
       "            background-color:  #5e3b98;\n",
       "            color:  #f1f1f1;\n",
       "        }    #T_ab07dec2_0068_11ec_b034_02420a39dd2brow17_col7 {\n",
       "            background-color:  #593093;\n",
       "            color:  #f1f1f1;\n",
       "        }    #T_ab07dec2_0068_11ec_b034_02420a39dd2brow18_col0 {\n",
       "            background-color:  #8c88bf;\n",
       "            color:  #000000;\n",
       "        }    #T_ab07dec2_0068_11ec_b034_02420a39dd2brow18_col1 {\n",
       "            background-color:  #7e79b8;\n",
       "            color:  #000000;\n",
       "        }    #T_ab07dec2_0068_11ec_b034_02420a39dd2brow18_col2 {\n",
       "            background-color:  #8c88bf;\n",
       "            color:  #000000;\n",
       "        }    #T_ab07dec2_0068_11ec_b034_02420a39dd2brow18_col3 {\n",
       "            background-color:  #807cba;\n",
       "            color:  #000000;\n",
       "        }    #T_ab07dec2_0068_11ec_b034_02420a39dd2brow18_col4 {\n",
       "            background-color:  #bbbbdb;\n",
       "            color:  #000000;\n",
       "        }    #T_ab07dec2_0068_11ec_b034_02420a39dd2brow18_col5 {\n",
       "            background-color:  #9390c3;\n",
       "            color:  #000000;\n",
       "        }    #T_ab07dec2_0068_11ec_b034_02420a39dd2brow18_col6 {\n",
       "            background-color:  #807cba;\n",
       "            color:  #000000;\n",
       "        }    #T_ab07dec2_0068_11ec_b034_02420a39dd2brow18_col7 {\n",
       "            background-color:  #7669af;\n",
       "            color:  #000000;\n",
       "        }    #T_ab07dec2_0068_11ec_b034_02420a39dd2brow19_col0 {\n",
       "            background-color:  #4c1888;\n",
       "            color:  #f1f1f1;\n",
       "        }    #T_ab07dec2_0068_11ec_b034_02420a39dd2brow19_col1 {\n",
       "            background-color:  #52238d;\n",
       "            color:  #f1f1f1;\n",
       "        }    #T_ab07dec2_0068_11ec_b034_02420a39dd2brow19_col2 {\n",
       "            background-color:  #4d1b89;\n",
       "            color:  #f1f1f1;\n",
       "        }    #T_ab07dec2_0068_11ec_b034_02420a39dd2brow19_col3 {\n",
       "            background-color:  #562b91;\n",
       "            color:  #f1f1f1;\n",
       "        }    #T_ab07dec2_0068_11ec_b034_02420a39dd2brow19_col4 {\n",
       "            background-color:  #470f84;\n",
       "            color:  #f1f1f1;\n",
       "        }    #T_ab07dec2_0068_11ec_b034_02420a39dd2brow19_col5 {\n",
       "            background-color:  #420680;\n",
       "            color:  #f1f1f1;\n",
       "        }    #T_ab07dec2_0068_11ec_b034_02420a39dd2brow19_col6 {\n",
       "            background-color:  #53268f;\n",
       "            color:  #f1f1f1;\n",
       "        }    #T_ab07dec2_0068_11ec_b034_02420a39dd2brow19_col7 {\n",
       "            background-color:  #51218c;\n",
       "            color:  #f1f1f1;\n",
       "        }    #T_ab07dec2_0068_11ec_b034_02420a39dd2brow20_col0 {\n",
       "            background-color:  #8683bd;\n",
       "            color:  #000000;\n",
       "        }    #T_ab07dec2_0068_11ec_b034_02420a39dd2brow20_col1 {\n",
       "            background-color:  #7e79b8;\n",
       "            color:  #000000;\n",
       "        }    #T_ab07dec2_0068_11ec_b034_02420a39dd2brow20_col2 {\n",
       "            background-color:  #8683bd;\n",
       "            color:  #000000;\n",
       "        }    #T_ab07dec2_0068_11ec_b034_02420a39dd2brow20_col3 {\n",
       "            background-color:  #807cba;\n",
       "            color:  #000000;\n",
       "        }    #T_ab07dec2_0068_11ec_b034_02420a39dd2brow20_col4 {\n",
       "            background-color:  #bbbbdb;\n",
       "            color:  #000000;\n",
       "        }    #T_ab07dec2_0068_11ec_b034_02420a39dd2brow20_col5 {\n",
       "            background-color:  #9e9ac8;\n",
       "            color:  #000000;\n",
       "        }    #T_ab07dec2_0068_11ec_b034_02420a39dd2brow20_col6 {\n",
       "            background-color:  #7d78b7;\n",
       "            color:  #000000;\n",
       "        }    #T_ab07dec2_0068_11ec_b034_02420a39dd2brow20_col7 {\n",
       "            background-color:  #796eb2;\n",
       "            color:  #000000;\n",
       "        }    #T_ab07dec2_0068_11ec_b034_02420a39dd2brow21_col0 {\n",
       "            background-color:  #53268f;\n",
       "            color:  #f1f1f1;\n",
       "        }    #T_ab07dec2_0068_11ec_b034_02420a39dd2brow21_col1 {\n",
       "            background-color:  #4d1a89;\n",
       "            color:  #f1f1f1;\n",
       "        }    #T_ab07dec2_0068_11ec_b034_02420a39dd2brow21_col2 {\n",
       "            background-color:  #552a90;\n",
       "            color:  #f1f1f1;\n",
       "        }    #T_ab07dec2_0068_11ec_b034_02420a39dd2brow21_col3 {\n",
       "            background-color:  #4f1f8b;\n",
       "            color:  #f1f1f1;\n",
       "        }    #T_ab07dec2_0068_11ec_b034_02420a39dd2brow21_col4 {\n",
       "            background-color:  #4f1d8b;\n",
       "            color:  #f1f1f1;\n",
       "        }    #T_ab07dec2_0068_11ec_b034_02420a39dd2brow21_col5 {\n",
       "            background-color:  #5a3294;\n",
       "            color:  #f1f1f1;\n",
       "        }    #T_ab07dec2_0068_11ec_b034_02420a39dd2brow21_col6 {\n",
       "            background-color:  #572c92;\n",
       "            color:  #f1f1f1;\n",
       "        }    #T_ab07dec2_0068_11ec_b034_02420a39dd2brow21_col7 {\n",
       "            background-color:  #684da1;\n",
       "            color:  #f1f1f1;\n",
       "        }    #T_ab07dec2_0068_11ec_b034_02420a39dd2brow22_col0 {\n",
       "            background-color:  #715faa;\n",
       "            color:  #000000;\n",
       "        }    #T_ab07dec2_0068_11ec_b034_02420a39dd2brow22_col1 {\n",
       "            background-color:  #6c55a5;\n",
       "            color:  #f1f1f1;\n",
       "        }    #T_ab07dec2_0068_11ec_b034_02420a39dd2brow22_col2 {\n",
       "            background-color:  #7566ae;\n",
       "            color:  #000000;\n",
       "        }    #T_ab07dec2_0068_11ec_b034_02420a39dd2brow22_col3 {\n",
       "            background-color:  #7261ab;\n",
       "            color:  #000000;\n",
       "        }    #T_ab07dec2_0068_11ec_b034_02420a39dd2brow22_col4 {\n",
       "            background-color:  #afaed4;\n",
       "            color:  #000000;\n",
       "        }    #T_ab07dec2_0068_11ec_b034_02420a39dd2brow22_col5 {\n",
       "            background-color:  #9995c6;\n",
       "            color:  #000000;\n",
       "        }    #T_ab07dec2_0068_11ec_b034_02420a39dd2brow22_col6 {\n",
       "            background-color:  #6e58a7;\n",
       "            color:  #f1f1f1;\n",
       "        }    #T_ab07dec2_0068_11ec_b034_02420a39dd2brow22_col7 {\n",
       "            background-color:  #705eaa;\n",
       "            color:  #f1f1f1;\n",
       "        }    #T_ab07dec2_0068_11ec_b034_02420a39dd2brow23_col0 {\n",
       "            background-color:  #3f007d;\n",
       "            color:  #f1f1f1;\n",
       "        }    #T_ab07dec2_0068_11ec_b034_02420a39dd2brow23_col1 {\n",
       "            background-color:  #3f007d;\n",
       "            color:  #f1f1f1;\n",
       "        }    #T_ab07dec2_0068_11ec_b034_02420a39dd2brow23_col2 {\n",
       "            background-color:  #3f007d;\n",
       "            color:  #f1f1f1;\n",
       "        }    #T_ab07dec2_0068_11ec_b034_02420a39dd2brow23_col3 {\n",
       "            background-color:  #3f007d;\n",
       "            color:  #f1f1f1;\n",
       "        }    #T_ab07dec2_0068_11ec_b034_02420a39dd2brow23_col4 {\n",
       "            background-color:  #3f007d;\n",
       "            color:  #f1f1f1;\n",
       "        }    #T_ab07dec2_0068_11ec_b034_02420a39dd2brow23_col5 {\n",
       "            background-color:  #3f007d;\n",
       "            color:  #f1f1f1;\n",
       "        }    #T_ab07dec2_0068_11ec_b034_02420a39dd2brow23_col6 {\n",
       "            background-color:  #3f007d;\n",
       "            color:  #f1f1f1;\n",
       "        }    #T_ab07dec2_0068_11ec_b034_02420a39dd2brow23_col7 {\n",
       "            background-color:  #3f007d;\n",
       "            color:  #f1f1f1;\n",
       "        }</style><table id=\"T_ab07dec2_0068_11ec_b034_02420a39dd2b\" ><thead>    <tr>        <th class=\"blank\" ></th>        <th class=\"blank level0\" ></th>        <th class=\"col_heading level0 col0\" colspan=2>время звонков, мин.</th>        <th class=\"col_heading level0 col2\" colspan=2>кол-во звонков, шт.</th>        <th class=\"col_heading level0 col4\" colspan=2>смс, шт.</th>        <th class=\"col_heading level0 col6\" colspan=2>трафик, мб.</th>    </tr>    <tr>        <th class=\"blank\" ></th>        <th class=\"blank level1\" ></th>        <th class=\"col_heading level1 col0\" >mean</th>        <th class=\"col_heading level1 col1\" >median</th>        <th class=\"col_heading level1 col2\" >mean</th>        <th class=\"col_heading level1 col3\" >median</th>        <th class=\"col_heading level1 col4\" >mean</th>        <th class=\"col_heading level1 col5\" >median</th>        <th class=\"col_heading level1 col6\" >mean</th>        <th class=\"col_heading level1 col7\" >median</th>    </tr>    <tr>        <th class=\"index_name level0\" >месяц</th>        <th class=\"index_name level1\" >тариф</th>        <th class=\"blank\" ></th>        <th class=\"blank\" ></th>        <th class=\"blank\" ></th>        <th class=\"blank\" ></th>        <th class=\"blank\" ></th>        <th class=\"blank\" ></th>        <th class=\"blank\" ></th>        <th class=\"blank\" ></th>    </tr></thead><tbody>\n",
       "                <tr>\n",
       "                        <th id=\"T_ab07dec2_0068_11ec_b034_02420a39dd2blevel0_row0\" class=\"row_heading level0 row0\" rowspan=2>1.0</th>\n",
       "                        <th id=\"T_ab07dec2_0068_11ec_b034_02420a39dd2blevel1_row0\" class=\"row_heading level1 row0\" >smart</th>\n",
       "                        <td id=\"T_ab07dec2_0068_11ec_b034_02420a39dd2brow0_col0\" class=\"data row0 col0\" >204</td>\n",
       "                        <td id=\"T_ab07dec2_0068_11ec_b034_02420a39dd2brow0_col1\" class=\"data row0 col1\" >162</td>\n",
       "                        <td id=\"T_ab07dec2_0068_11ec_b034_02420a39dd2brow0_col2\" class=\"data row0 col2\" >22</td>\n",
       "                        <td id=\"T_ab07dec2_0068_11ec_b034_02420a39dd2brow0_col3\" class=\"data row0 col3\" >16</td>\n",
       "                        <td id=\"T_ab07dec2_0068_11ec_b034_02420a39dd2brow0_col4\" class=\"data row0 col4\" >18</td>\n",
       "                        <td id=\"T_ab07dec2_0068_11ec_b034_02420a39dd2brow0_col5\" class=\"data row0 col5\" >15</td>\n",
       "                        <td id=\"T_ab07dec2_0068_11ec_b034_02420a39dd2brow0_col6\" class=\"data row0 col6\" >8514</td>\n",
       "                        <td id=\"T_ab07dec2_0068_11ec_b034_02420a39dd2brow0_col7\" class=\"data row0 col7\" >7096</td>\n",
       "            </tr>\n",
       "            <tr>\n",
       "                                <th id=\"T_ab07dec2_0068_11ec_b034_02420a39dd2blevel1_row1\" class=\"row_heading level1 row1\" >ultra</th>\n",
       "                        <td id=\"T_ab07dec2_0068_11ec_b034_02420a39dd2brow1_col0\" class=\"data row1 col0\" >428</td>\n",
       "                        <td id=\"T_ab07dec2_0068_11ec_b034_02420a39dd2brow1_col1\" class=\"data row1 col1\" >382</td>\n",
       "                        <td id=\"T_ab07dec2_0068_11ec_b034_02420a39dd2brow1_col2\" class=\"data row1 col2\" >47</td>\n",
       "                        <td id=\"T_ab07dec2_0068_11ec_b034_02420a39dd2brow1_col3\" class=\"data row1 col3\" >41</td>\n",
       "                        <td id=\"T_ab07dec2_0068_11ec_b034_02420a39dd2brow1_col4\" class=\"data row1 col4\" >34</td>\n",
       "                        <td id=\"T_ab07dec2_0068_11ec_b034_02420a39dd2brow1_col5\" class=\"data row1 col5\" >32</td>\n",
       "                        <td id=\"T_ab07dec2_0068_11ec_b034_02420a39dd2brow1_col6\" class=\"data row1 col6\" >13141</td>\n",
       "                        <td id=\"T_ab07dec2_0068_11ec_b034_02420a39dd2brow1_col7\" class=\"data row1 col7\" >14791</td>\n",
       "            </tr>\n",
       "            <tr>\n",
       "                        <th id=\"T_ab07dec2_0068_11ec_b034_02420a39dd2blevel0_row2\" class=\"row_heading level0 row2\" rowspan=2>2.0</th>\n",
       "                        <th id=\"T_ab07dec2_0068_11ec_b034_02420a39dd2blevel1_row2\" class=\"row_heading level1 row2\" >smart</th>\n",
       "                        <td id=\"T_ab07dec2_0068_11ec_b034_02420a39dd2brow2_col0\" class=\"data row2 col0\" >299</td>\n",
       "                        <td id=\"T_ab07dec2_0068_11ec_b034_02420a39dd2brow2_col1\" class=\"data row2 col1\" >258</td>\n",
       "                        <td id=\"T_ab07dec2_0068_11ec_b034_02420a39dd2brow2_col2\" class=\"data row2 col2\" >33</td>\n",
       "                        <td id=\"T_ab07dec2_0068_11ec_b034_02420a39dd2brow2_col3\" class=\"data row2 col3\" >28</td>\n",
       "                        <td id=\"T_ab07dec2_0068_11ec_b034_02420a39dd2brow2_col4\" class=\"data row2 col4\" >24</td>\n",
       "                        <td id=\"T_ab07dec2_0068_11ec_b034_02420a39dd2brow2_col5\" class=\"data row2 col5\" >20</td>\n",
       "                        <td id=\"T_ab07dec2_0068_11ec_b034_02420a39dd2brow2_col6\" class=\"data row2 col6\" >11597</td>\n",
       "                        <td id=\"T_ab07dec2_0068_11ec_b034_02420a39dd2brow2_col7\" class=\"data row2 col7\" >12554</td>\n",
       "            </tr>\n",
       "            <tr>\n",
       "                                <th id=\"T_ab07dec2_0068_11ec_b034_02420a39dd2blevel1_row3\" class=\"row_heading level1 row3\" >ultra</th>\n",
       "                        <td id=\"T_ab07dec2_0068_11ec_b034_02420a39dd2brow3_col0\" class=\"data row3 col0\" >297</td>\n",
       "                        <td id=\"T_ab07dec2_0068_11ec_b034_02420a39dd2brow3_col1\" class=\"data row3 col1\" >168</td>\n",
       "                        <td id=\"T_ab07dec2_0068_11ec_b034_02420a39dd2brow3_col2\" class=\"data row3 col2\" >34</td>\n",
       "                        <td id=\"T_ab07dec2_0068_11ec_b034_02420a39dd2brow3_col3\" class=\"data row3 col3\" >21</td>\n",
       "                        <td id=\"T_ab07dec2_0068_11ec_b034_02420a39dd2brow3_col4\" class=\"data row3 col4\" >22</td>\n",
       "                        <td id=\"T_ab07dec2_0068_11ec_b034_02420a39dd2brow3_col5\" class=\"data row3 col5\" >6</td>\n",
       "                        <td id=\"T_ab07dec2_0068_11ec_b034_02420a39dd2brow3_col6\" class=\"data row3 col6\" >11776</td>\n",
       "                        <td id=\"T_ab07dec2_0068_11ec_b034_02420a39dd2brow3_col7\" class=\"data row3 col7\" >7327</td>\n",
       "            </tr>\n",
       "            <tr>\n",
       "                        <th id=\"T_ab07dec2_0068_11ec_b034_02420a39dd2blevel0_row4\" class=\"row_heading level0 row4\" rowspan=2>3.0</th>\n",
       "                        <th id=\"T_ab07dec2_0068_11ec_b034_02420a39dd2blevel1_row4\" class=\"row_heading level1 row4\" >smart</th>\n",
       "                        <td id=\"T_ab07dec2_0068_11ec_b034_02420a39dd2brow4_col0\" class=\"data row4 col0\" >390</td>\n",
       "                        <td id=\"T_ab07dec2_0068_11ec_b034_02420a39dd2brow4_col1\" class=\"data row4 col1\" >409</td>\n",
       "                        <td id=\"T_ab07dec2_0068_11ec_b034_02420a39dd2brow4_col2\" class=\"data row4 col2\" >44</td>\n",
       "                        <td id=\"T_ab07dec2_0068_11ec_b034_02420a39dd2brow4_col3\" class=\"data row4 col3\" >45</td>\n",
       "                        <td id=\"T_ab07dec2_0068_11ec_b034_02420a39dd2brow4_col4\" class=\"data row4 col4\" >32</td>\n",
       "                        <td id=\"T_ab07dec2_0068_11ec_b034_02420a39dd2brow4_col5\" class=\"data row4 col5\" >23</td>\n",
       "                        <td id=\"T_ab07dec2_0068_11ec_b034_02420a39dd2brow4_col6\" class=\"data row4 col6\" >15104</td>\n",
       "                        <td id=\"T_ab07dec2_0068_11ec_b034_02420a39dd2brow4_col7\" class=\"data row4 col7\" >15670</td>\n",
       "            </tr>\n",
       "            <tr>\n",
       "                                <th id=\"T_ab07dec2_0068_11ec_b034_02420a39dd2blevel1_row5\" class=\"row_heading level1 row5\" >ultra</th>\n",
       "                        <td id=\"T_ab07dec2_0068_11ec_b034_02420a39dd2brow5_col0\" class=\"data row5 col0\" >490</td>\n",
       "                        <td id=\"T_ab07dec2_0068_11ec_b034_02420a39dd2brow5_col1\" class=\"data row5 col1\" >403</td>\n",
       "                        <td id=\"T_ab07dec2_0068_11ec_b034_02420a39dd2brow5_col2\" class=\"data row5 col2\" >54</td>\n",
       "                        <td id=\"T_ab07dec2_0068_11ec_b034_02420a39dd2brow5_col3\" class=\"data row5 col3\" >46</td>\n",
       "                        <td id=\"T_ab07dec2_0068_11ec_b034_02420a39dd2brow5_col4\" class=\"data row5 col4\" >32</td>\n",
       "                        <td id=\"T_ab07dec2_0068_11ec_b034_02420a39dd2brow5_col5\" class=\"data row5 col5\" >20</td>\n",
       "                        <td id=\"T_ab07dec2_0068_11ec_b034_02420a39dd2brow5_col6\" class=\"data row5 col6\" >17536</td>\n",
       "                        <td id=\"T_ab07dec2_0068_11ec_b034_02420a39dd2brow5_col7\" class=\"data row5 col7\" >17495</td>\n",
       "            </tr>\n",
       "            <tr>\n",
       "                        <th id=\"T_ab07dec2_0068_11ec_b034_02420a39dd2blevel0_row6\" class=\"row_heading level0 row6\" rowspan=2>4.0</th>\n",
       "                        <th id=\"T_ab07dec2_0068_11ec_b034_02420a39dd2blevel1_row6\" class=\"row_heading level1 row6\" >smart</th>\n",
       "                        <td id=\"T_ab07dec2_0068_11ec_b034_02420a39dd2brow6_col0\" class=\"data row6 col0\" >367</td>\n",
       "                        <td id=\"T_ab07dec2_0068_11ec_b034_02420a39dd2brow6_col1\" class=\"data row6 col1\" >368</td>\n",
       "                        <td id=\"T_ab07dec2_0068_11ec_b034_02420a39dd2brow6_col2\" class=\"data row6 col2\" >41</td>\n",
       "                        <td id=\"T_ab07dec2_0068_11ec_b034_02420a39dd2brow6_col3\" class=\"data row6 col3\" >40</td>\n",
       "                        <td id=\"T_ab07dec2_0068_11ec_b034_02420a39dd2brow6_col4\" class=\"data row6 col4\" >31</td>\n",
       "                        <td id=\"T_ab07dec2_0068_11ec_b034_02420a39dd2brow6_col5\" class=\"data row6 col5\" >28</td>\n",
       "                        <td id=\"T_ab07dec2_0068_11ec_b034_02420a39dd2brow6_col6\" class=\"data row6 col6\" >13462</td>\n",
       "                        <td id=\"T_ab07dec2_0068_11ec_b034_02420a39dd2brow6_col7\" class=\"data row6 col7\" >14088</td>\n",
       "            </tr>\n",
       "            <tr>\n",
       "                                <th id=\"T_ab07dec2_0068_11ec_b034_02420a39dd2blevel1_row7\" class=\"row_heading level1 row7\" >ultra</th>\n",
       "                        <td id=\"T_ab07dec2_0068_11ec_b034_02420a39dd2brow7_col0\" class=\"data row7 col0\" >458</td>\n",
       "                        <td id=\"T_ab07dec2_0068_11ec_b034_02420a39dd2brow7_col1\" class=\"data row7 col1\" >453</td>\n",
       "                        <td id=\"T_ab07dec2_0068_11ec_b034_02420a39dd2brow7_col2\" class=\"data row7 col2\" >52</td>\n",
       "                        <td id=\"T_ab07dec2_0068_11ec_b034_02420a39dd2brow7_col3\" class=\"data row7 col3\" >53</td>\n",
       "                        <td id=\"T_ab07dec2_0068_11ec_b034_02420a39dd2brow7_col4\" class=\"data row7 col4\" >32</td>\n",
       "                        <td id=\"T_ab07dec2_0068_11ec_b034_02420a39dd2brow7_col5\" class=\"data row7 col5\" >17</td>\n",
       "                        <td id=\"T_ab07dec2_0068_11ec_b034_02420a39dd2brow7_col6\" class=\"data row7 col6\" >16828</td>\n",
       "                        <td id=\"T_ab07dec2_0068_11ec_b034_02420a39dd2brow7_col7\" class=\"data row7 col7\" >16646</td>\n",
       "            </tr>\n",
       "            <tr>\n",
       "                        <th id=\"T_ab07dec2_0068_11ec_b034_02420a39dd2blevel0_row8\" class=\"row_heading level0 row8\" rowspan=2>5.0</th>\n",
       "                        <th id=\"T_ab07dec2_0068_11ec_b034_02420a39dd2blevel1_row8\" class=\"row_heading level1 row8\" >smart</th>\n",
       "                        <td id=\"T_ab07dec2_0068_11ec_b034_02420a39dd2brow8_col0\" class=\"data row8 col0\" >387</td>\n",
       "                        <td id=\"T_ab07dec2_0068_11ec_b034_02420a39dd2brow8_col1\" class=\"data row8 col1\" >433</td>\n",
       "                        <td id=\"T_ab07dec2_0068_11ec_b034_02420a39dd2brow8_col2\" class=\"data row8 col2\" >44</td>\n",
       "                        <td id=\"T_ab07dec2_0068_11ec_b034_02420a39dd2brow8_col3\" class=\"data row8 col3\" >48</td>\n",
       "                        <td id=\"T_ab07dec2_0068_11ec_b034_02420a39dd2brow8_col4\" class=\"data row8 col4\" >34</td>\n",
       "                        <td id=\"T_ab07dec2_0068_11ec_b034_02420a39dd2brow8_col5\" class=\"data row8 col5\" >30</td>\n",
       "                        <td id=\"T_ab07dec2_0068_11ec_b034_02420a39dd2brow8_col6\" class=\"data row8 col6\" >15805</td>\n",
       "                        <td id=\"T_ab07dec2_0068_11ec_b034_02420a39dd2brow8_col7\" class=\"data row8 col7\" >16324</td>\n",
       "            </tr>\n",
       "            <tr>\n",
       "                                <th id=\"T_ab07dec2_0068_11ec_b034_02420a39dd2blevel1_row9\" class=\"row_heading level1 row9\" >ultra</th>\n",
       "                        <td id=\"T_ab07dec2_0068_11ec_b034_02420a39dd2brow9_col0\" class=\"data row9 col0\" >510</td>\n",
       "                        <td id=\"T_ab07dec2_0068_11ec_b034_02420a39dd2brow9_col1\" class=\"data row9 col1\" >519</td>\n",
       "                        <td id=\"T_ab07dec2_0068_11ec_b034_02420a39dd2brow9_col2\" class=\"data row9 col2\" >58</td>\n",
       "                        <td id=\"T_ab07dec2_0068_11ec_b034_02420a39dd2brow9_col3\" class=\"data row9 col3\" >61</td>\n",
       "                        <td id=\"T_ab07dec2_0068_11ec_b034_02420a39dd2brow9_col4\" class=\"data row9 col4\" >38</td>\n",
       "                        <td id=\"T_ab07dec2_0068_11ec_b034_02420a39dd2brow9_col5\" class=\"data row9 col5\" >25</td>\n",
       "                        <td id=\"T_ab07dec2_0068_11ec_b034_02420a39dd2brow9_col6\" class=\"data row9 col6\" >19363</td>\n",
       "                        <td id=\"T_ab07dec2_0068_11ec_b034_02420a39dd2brow9_col7\" class=\"data row9 col7\" >18696</td>\n",
       "            </tr>\n",
       "            <tr>\n",
       "                        <th id=\"T_ab07dec2_0068_11ec_b034_02420a39dd2blevel0_row10\" class=\"row_heading level0 row10\" rowspan=2>6.0</th>\n",
       "                        <th id=\"T_ab07dec2_0068_11ec_b034_02420a39dd2blevel1_row10\" class=\"row_heading level1 row10\" >smart</th>\n",
       "                        <td id=\"T_ab07dec2_0068_11ec_b034_02420a39dd2brow10_col0\" class=\"data row10 col0\" >396</td>\n",
       "                        <td id=\"T_ab07dec2_0068_11ec_b034_02420a39dd2brow10_col1\" class=\"data row10 col1\" >400</td>\n",
       "                        <td id=\"T_ab07dec2_0068_11ec_b034_02420a39dd2brow10_col2\" class=\"data row10 col2\" >44</td>\n",
       "                        <td id=\"T_ab07dec2_0068_11ec_b034_02420a39dd2brow10_col3\" class=\"data row10 col3\" >46</td>\n",
       "                        <td id=\"T_ab07dec2_0068_11ec_b034_02420a39dd2brow10_col4\" class=\"data row10 col4\" >33</td>\n",
       "                        <td id=\"T_ab07dec2_0068_11ec_b034_02420a39dd2brow10_col5\" class=\"data row10 col5\" >28</td>\n",
       "                        <td id=\"T_ab07dec2_0068_11ec_b034_02420a39dd2brow10_col6\" class=\"data row10 col6\" >15795</td>\n",
       "                        <td id=\"T_ab07dec2_0068_11ec_b034_02420a39dd2brow10_col7\" class=\"data row10 col7\" >16077</td>\n",
       "            </tr>\n",
       "            <tr>\n",
       "                                <th id=\"T_ab07dec2_0068_11ec_b034_02420a39dd2blevel1_row11\" class=\"row_heading level1 row11\" >ultra</th>\n",
       "                        <td id=\"T_ab07dec2_0068_11ec_b034_02420a39dd2brow11_col0\" class=\"data row11 col0\" >480</td>\n",
       "                        <td id=\"T_ab07dec2_0068_11ec_b034_02420a39dd2brow11_col1\" class=\"data row11 col1\" >479</td>\n",
       "                        <td id=\"T_ab07dec2_0068_11ec_b034_02420a39dd2brow11_col2\" class=\"data row11 col2\" >54</td>\n",
       "                        <td id=\"T_ab07dec2_0068_11ec_b034_02420a39dd2brow11_col3\" class=\"data row11 col3\" >54</td>\n",
       "                        <td id=\"T_ab07dec2_0068_11ec_b034_02420a39dd2brow11_col4\" class=\"data row11 col4\" >42</td>\n",
       "                        <td id=\"T_ab07dec2_0068_11ec_b034_02420a39dd2brow11_col5\" class=\"data row11 col5\" >28</td>\n",
       "                        <td id=\"T_ab07dec2_0068_11ec_b034_02420a39dd2brow11_col6\" class=\"data row11 col6\" >18925</td>\n",
       "                        <td id=\"T_ab07dec2_0068_11ec_b034_02420a39dd2brow11_col7\" class=\"data row11 col7\" >19480</td>\n",
       "            </tr>\n",
       "            <tr>\n",
       "                        <th id=\"T_ab07dec2_0068_11ec_b034_02420a39dd2blevel0_row12\" class=\"row_heading level0 row12\" rowspan=2>7.0</th>\n",
       "                        <th id=\"T_ab07dec2_0068_11ec_b034_02420a39dd2blevel1_row12\" class=\"row_heading level1 row12\" >smart</th>\n",
       "                        <td id=\"T_ab07dec2_0068_11ec_b034_02420a39dd2brow12_col0\" class=\"data row12 col0\" >408</td>\n",
       "                        <td id=\"T_ab07dec2_0068_11ec_b034_02420a39dd2brow12_col1\" class=\"data row12 col1\" >414</td>\n",
       "                        <td id=\"T_ab07dec2_0068_11ec_b034_02420a39dd2brow12_col2\" class=\"data row12 col2\" >46</td>\n",
       "                        <td id=\"T_ab07dec2_0068_11ec_b034_02420a39dd2brow12_col3\" class=\"data row12 col3\" >46</td>\n",
       "                        <td id=\"T_ab07dec2_0068_11ec_b034_02420a39dd2brow12_col4\" class=\"data row12 col4\" >34</td>\n",
       "                        <td id=\"T_ab07dec2_0068_11ec_b034_02420a39dd2brow12_col5\" class=\"data row12 col5\" >29</td>\n",
       "                        <td id=\"T_ab07dec2_0068_11ec_b034_02420a39dd2brow12_col6\" class=\"data row12 col6\" >15743</td>\n",
       "                        <td id=\"T_ab07dec2_0068_11ec_b034_02420a39dd2brow12_col7\" class=\"data row12 col7\" >15925</td>\n",
       "            </tr>\n",
       "            <tr>\n",
       "                                <th id=\"T_ab07dec2_0068_11ec_b034_02420a39dd2blevel1_row13\" class=\"row_heading level1 row13\" >ultra</th>\n",
       "                        <td id=\"T_ab07dec2_0068_11ec_b034_02420a39dd2brow13_col0\" class=\"data row13 col0\" >546</td>\n",
       "                        <td id=\"T_ab07dec2_0068_11ec_b034_02420a39dd2brow13_col1\" class=\"data row13 col1\" >542</td>\n",
       "                        <td id=\"T_ab07dec2_0068_11ec_b034_02420a39dd2brow13_col2\" class=\"data row13 col2\" >61</td>\n",
       "                        <td id=\"T_ab07dec2_0068_11ec_b034_02420a39dd2brow13_col3\" class=\"data row13 col3\" >62</td>\n",
       "                        <td id=\"T_ab07dec2_0068_11ec_b034_02420a39dd2brow13_col4\" class=\"data row13 col4\" >50</td>\n",
       "                        <td id=\"T_ab07dec2_0068_11ec_b034_02420a39dd2brow13_col5\" class=\"data row13 col5\" >38</td>\n",
       "                        <td id=\"T_ab07dec2_0068_11ec_b034_02420a39dd2brow13_col6\" class=\"data row13 col6\" >20496</td>\n",
       "                        <td id=\"T_ab07dec2_0068_11ec_b034_02420a39dd2brow13_col7\" class=\"data row13 col7\" >20014</td>\n",
       "            </tr>\n",
       "            <tr>\n",
       "                        <th id=\"T_ab07dec2_0068_11ec_b034_02420a39dd2blevel0_row14\" class=\"row_heading level0 row14\" rowspan=2>8.0</th>\n",
       "                        <th id=\"T_ab07dec2_0068_11ec_b034_02420a39dd2blevel1_row14\" class=\"row_heading level1 row14\" >smart</th>\n",
       "                        <td id=\"T_ab07dec2_0068_11ec_b034_02420a39dd2brow14_col0\" class=\"data row14 col0\" >421</td>\n",
       "                        <td id=\"T_ab07dec2_0068_11ec_b034_02420a39dd2brow14_col1\" class=\"data row14 col1\" >432</td>\n",
       "                        <td id=\"T_ab07dec2_0068_11ec_b034_02420a39dd2brow14_col2\" class=\"data row14 col2\" >47</td>\n",
       "                        <td id=\"T_ab07dec2_0068_11ec_b034_02420a39dd2brow14_col3\" class=\"data row14 col3\" >49</td>\n",
       "                        <td id=\"T_ab07dec2_0068_11ec_b034_02420a39dd2brow14_col4\" class=\"data row14 col4\" >34</td>\n",
       "                        <td id=\"T_ab07dec2_0068_11ec_b034_02420a39dd2brow14_col5\" class=\"data row14 col5\" >27</td>\n",
       "                        <td id=\"T_ab07dec2_0068_11ec_b034_02420a39dd2brow14_col6\" class=\"data row14 col6\" >16611</td>\n",
       "                        <td id=\"T_ab07dec2_0068_11ec_b034_02420a39dd2brow14_col7\" class=\"data row14 col7\" >16833</td>\n",
       "            </tr>\n",
       "            <tr>\n",
       "                                <th id=\"T_ab07dec2_0068_11ec_b034_02420a39dd2blevel1_row15\" class=\"row_heading level1 row15\" >ultra</th>\n",
       "                        <td id=\"T_ab07dec2_0068_11ec_b034_02420a39dd2brow15_col0\" class=\"data row15 col0\" >511</td>\n",
       "                        <td id=\"T_ab07dec2_0068_11ec_b034_02420a39dd2brow15_col1\" class=\"data row15 col1\" >500</td>\n",
       "                        <td id=\"T_ab07dec2_0068_11ec_b034_02420a39dd2brow15_col2\" class=\"data row15 col2\" >57</td>\n",
       "                        <td id=\"T_ab07dec2_0068_11ec_b034_02420a39dd2brow15_col3\" class=\"data row15 col3\" >57</td>\n",
       "                        <td id=\"T_ab07dec2_0068_11ec_b034_02420a39dd2brow15_col4\" class=\"data row15 col4\" >48</td>\n",
       "                        <td id=\"T_ab07dec2_0068_11ec_b034_02420a39dd2brow15_col5\" class=\"data row15 col5\" >40</td>\n",
       "                        <td id=\"T_ab07dec2_0068_11ec_b034_02420a39dd2brow15_col6\" class=\"data row15 col6\" >19576</td>\n",
       "                        <td id=\"T_ab07dec2_0068_11ec_b034_02420a39dd2brow15_col7\" class=\"data row15 col7\" >18933</td>\n",
       "            </tr>\n",
       "            <tr>\n",
       "                        <th id=\"T_ab07dec2_0068_11ec_b034_02420a39dd2blevel0_row16\" class=\"row_heading level0 row16\" rowspan=2>9.0</th>\n",
       "                        <th id=\"T_ab07dec2_0068_11ec_b034_02420a39dd2blevel1_row16\" class=\"row_heading level1 row16\" >smart</th>\n",
       "                        <td id=\"T_ab07dec2_0068_11ec_b034_02420a39dd2brow16_col0\" class=\"data row16 col0\" >429</td>\n",
       "                        <td id=\"T_ab07dec2_0068_11ec_b034_02420a39dd2brow16_col1\" class=\"data row16 col1\" >435</td>\n",
       "                        <td id=\"T_ab07dec2_0068_11ec_b034_02420a39dd2brow16_col2\" class=\"data row16 col2\" >48</td>\n",
       "                        <td id=\"T_ab07dec2_0068_11ec_b034_02420a39dd2brow16_col3\" class=\"data row16 col3\" >50</td>\n",
       "                        <td id=\"T_ab07dec2_0068_11ec_b034_02420a39dd2brow16_col4\" class=\"data row16 col4\" >34</td>\n",
       "                        <td id=\"T_ab07dec2_0068_11ec_b034_02420a39dd2brow16_col5\" class=\"data row16 col5\" >30</td>\n",
       "                        <td id=\"T_ab07dec2_0068_11ec_b034_02420a39dd2brow16_col6\" class=\"data row16 col6\" >16304</td>\n",
       "                        <td id=\"T_ab07dec2_0068_11ec_b034_02420a39dd2brow16_col7\" class=\"data row16 col7\" >16028</td>\n",
       "            </tr>\n",
       "            <tr>\n",
       "                                <th id=\"T_ab07dec2_0068_11ec_b034_02420a39dd2blevel1_row17\" class=\"row_heading level1 row17\" >ultra</th>\n",
       "                        <td id=\"T_ab07dec2_0068_11ec_b034_02420a39dd2brow17_col0\" class=\"data row17 col0\" >539</td>\n",
       "                        <td id=\"T_ab07dec2_0068_11ec_b034_02420a39dd2brow17_col1\" class=\"data row17 col1\" >520</td>\n",
       "                        <td id=\"T_ab07dec2_0068_11ec_b034_02420a39dd2brow17_col2\" class=\"data row17 col2\" >60</td>\n",
       "                        <td id=\"T_ab07dec2_0068_11ec_b034_02420a39dd2brow17_col3\" class=\"data row17 col3\" >59</td>\n",
       "                        <td id=\"T_ab07dec2_0068_11ec_b034_02420a39dd2brow17_col4\" class=\"data row17 col4\" >52</td>\n",
       "                        <td id=\"T_ab07dec2_0068_11ec_b034_02420a39dd2brow17_col5\" class=\"data row17 col5\" >43</td>\n",
       "                        <td id=\"T_ab07dec2_0068_11ec_b034_02420a39dd2brow17_col6\" class=\"data row17 col6\" >19204</td>\n",
       "                        <td id=\"T_ab07dec2_0068_11ec_b034_02420a39dd2brow17_col7\" class=\"data row17 col7\" >19656</td>\n",
       "            </tr>\n",
       "            <tr>\n",
       "                        <th id=\"T_ab07dec2_0068_11ec_b034_02420a39dd2blevel0_row18\" class=\"row_heading level0 row18\" rowspan=2>10.0</th>\n",
       "                        <th id=\"T_ab07dec2_0068_11ec_b034_02420a39dd2blevel1_row18\" class=\"row_heading level1 row18\" >smart</th>\n",
       "                        <td id=\"T_ab07dec2_0068_11ec_b034_02420a39dd2brow18_col0\" class=\"data row18 col0\" >426</td>\n",
       "                        <td id=\"T_ab07dec2_0068_11ec_b034_02420a39dd2brow18_col1\" class=\"data row18 col1\" >428</td>\n",
       "                        <td id=\"T_ab07dec2_0068_11ec_b034_02420a39dd2brow18_col2\" class=\"data row18 col2\" >48</td>\n",
       "                        <td id=\"T_ab07dec2_0068_11ec_b034_02420a39dd2brow18_col3\" class=\"data row18 col3\" >48</td>\n",
       "                        <td id=\"T_ab07dec2_0068_11ec_b034_02420a39dd2brow18_col4\" class=\"data row18 col4\" >34</td>\n",
       "                        <td id=\"T_ab07dec2_0068_11ec_b034_02420a39dd2brow18_col5\" class=\"data row18 col5\" >30</td>\n",
       "                        <td id=\"T_ab07dec2_0068_11ec_b034_02420a39dd2brow18_col6\" class=\"data row18 col6\" >16757</td>\n",
       "                        <td id=\"T_ab07dec2_0068_11ec_b034_02420a39dd2brow18_col7\" class=\"data row18 col7\" >17225</td>\n",
       "            </tr>\n",
       "            <tr>\n",
       "                                <th id=\"T_ab07dec2_0068_11ec_b034_02420a39dd2blevel1_row19\" class=\"row_heading level1 row19\" >ultra</th>\n",
       "                        <td id=\"T_ab07dec2_0068_11ec_b034_02420a39dd2brow19_col0\" class=\"data row19 col0\" >558</td>\n",
       "                        <td id=\"T_ab07dec2_0068_11ec_b034_02420a39dd2brow19_col1\" class=\"data row19 col1\" >533</td>\n",
       "                        <td id=\"T_ab07dec2_0068_11ec_b034_02420a39dd2brow19_col2\" class=\"data row19 col2\" >63</td>\n",
       "                        <td id=\"T_ab07dec2_0068_11ec_b034_02420a39dd2brow19_col3\" class=\"data row19 col3\" >60</td>\n",
       "                        <td id=\"T_ab07dec2_0068_11ec_b034_02420a39dd2brow19_col4\" class=\"data row19 col4\" >58</td>\n",
       "                        <td id=\"T_ab07dec2_0068_11ec_b034_02420a39dd2brow19_col5\" class=\"data row19 col5\" >49</td>\n",
       "                        <td id=\"T_ab07dec2_0068_11ec_b034_02420a39dd2brow19_col6\" class=\"data row19 col6\" >20045</td>\n",
       "                        <td id=\"T_ab07dec2_0068_11ec_b034_02420a39dd2brow19_col7\" class=\"data row19 col7\" >20338</td>\n",
       "            </tr>\n",
       "            <tr>\n",
       "                        <th id=\"T_ab07dec2_0068_11ec_b034_02420a39dd2blevel0_row20\" class=\"row_heading level0 row20\" rowspan=2>11.0</th>\n",
       "                        <th id=\"T_ab07dec2_0068_11ec_b034_02420a39dd2blevel1_row20\" class=\"row_heading level1 row20\" >smart</th>\n",
       "                        <td id=\"T_ab07dec2_0068_11ec_b034_02420a39dd2brow20_col0\" class=\"data row20 col0\" >435</td>\n",
       "                        <td id=\"T_ab07dec2_0068_11ec_b034_02420a39dd2brow20_col1\" class=\"data row20 col1\" >428</td>\n",
       "                        <td id=\"T_ab07dec2_0068_11ec_b034_02420a39dd2brow20_col2\" class=\"data row20 col2\" >49</td>\n",
       "                        <td id=\"T_ab07dec2_0068_11ec_b034_02420a39dd2brow20_col3\" class=\"data row20 col3\" >48</td>\n",
       "                        <td id=\"T_ab07dec2_0068_11ec_b034_02420a39dd2brow20_col4\" class=\"data row20 col4\" >34</td>\n",
       "                        <td id=\"T_ab07dec2_0068_11ec_b034_02420a39dd2brow20_col5\" class=\"data row20 col5\" >28</td>\n",
       "                        <td id=\"T_ab07dec2_0068_11ec_b034_02420a39dd2brow20_col6\" class=\"data row20 col6\" >16896</td>\n",
       "                        <td id=\"T_ab07dec2_0068_11ec_b034_02420a39dd2brow20_col7\" class=\"data row20 col7\" >17014</td>\n",
       "            </tr>\n",
       "            <tr>\n",
       "                                <th id=\"T_ab07dec2_0068_11ec_b034_02420a39dd2blevel1_row21\" class=\"row_heading level1 row21\" >ultra</th>\n",
       "                        <td id=\"T_ab07dec2_0068_11ec_b034_02420a39dd2brow21_col0\" class=\"data row21 col0\" >541</td>\n",
       "                        <td id=\"T_ab07dec2_0068_11ec_b034_02420a39dd2brow21_col1\" class=\"data row21 col1\" >546</td>\n",
       "                        <td id=\"T_ab07dec2_0068_11ec_b034_02420a39dd2brow21_col2\" class=\"data row21 col2\" >61</td>\n",
       "                        <td id=\"T_ab07dec2_0068_11ec_b034_02420a39dd2brow21_col3\" class=\"data row21 col3\" >62</td>\n",
       "                        <td id=\"T_ab07dec2_0068_11ec_b034_02420a39dd2brow21_col4\" class=\"data row21 col4\" >56</td>\n",
       "                        <td id=\"T_ab07dec2_0068_11ec_b034_02420a39dd2brow21_col5\" class=\"data row21 col5\" >43</td>\n",
       "                        <td id=\"T_ab07dec2_0068_11ec_b034_02420a39dd2brow21_col6\" class=\"data row21 col6\" >19787</td>\n",
       "                        <td id=\"T_ab07dec2_0068_11ec_b034_02420a39dd2brow21_col7\" class=\"data row21 col7\" >18378</td>\n",
       "            </tr>\n",
       "            <tr>\n",
       "                        <th id=\"T_ab07dec2_0068_11ec_b034_02420a39dd2blevel0_row22\" class=\"row_heading level0 row22\" rowspan=2>12.0</th>\n",
       "                        <th id=\"T_ab07dec2_0068_11ec_b034_02420a39dd2blevel1_row22\" class=\"row_heading level1 row22\" >smart</th>\n",
       "                        <td id=\"T_ab07dec2_0068_11ec_b034_02420a39dd2brow22_col0\" class=\"data row22 col0\" >477</td>\n",
       "                        <td id=\"T_ab07dec2_0068_11ec_b034_02420a39dd2brow22_col1\" class=\"data row22 col1\" >471</td>\n",
       "                        <td id=\"T_ab07dec2_0068_11ec_b034_02420a39dd2brow22_col2\" class=\"data row22 col2\" >53</td>\n",
       "                        <td id=\"T_ab07dec2_0068_11ec_b034_02420a39dd2brow22_col3\" class=\"data row22 col3\" >52</td>\n",
       "                        <td id=\"T_ab07dec2_0068_11ec_b034_02420a39dd2brow22_col4\" class=\"data row22 col4\" >36</td>\n",
       "                        <td id=\"T_ab07dec2_0068_11ec_b034_02420a39dd2brow22_col5\" class=\"data row22 col5\" >29</td>\n",
       "                        <td id=\"T_ab07dec2_0068_11ec_b034_02420a39dd2brow22_col6\" class=\"data row22 col6\" >18060</td>\n",
       "                        <td id=\"T_ab07dec2_0068_11ec_b034_02420a39dd2brow22_col7\" class=\"data row22 col7\" >17672</td>\n",
       "            </tr>\n",
       "            <tr>\n",
       "                                <th id=\"T_ab07dec2_0068_11ec_b034_02420a39dd2blevel1_row23\" class=\"row_heading level1 row23\" >ultra</th>\n",
       "                        <td id=\"T_ab07dec2_0068_11ec_b034_02420a39dd2brow23_col0\" class=\"data row23 col0\" >589</td>\n",
       "                        <td id=\"T_ab07dec2_0068_11ec_b034_02420a39dd2brow23_col1\" class=\"data row23 col1\" >582</td>\n",
       "                        <td id=\"T_ab07dec2_0068_11ec_b034_02420a39dd2brow23_col2\" class=\"data row23 col2\" >67</td>\n",
       "                        <td id=\"T_ab07dec2_0068_11ec_b034_02420a39dd2brow23_col3\" class=\"data row23 col3\" >67</td>\n",
       "                        <td id=\"T_ab07dec2_0068_11ec_b034_02420a39dd2brow23_col4\" class=\"data row23 col4\" >60</td>\n",
       "                        <td id=\"T_ab07dec2_0068_11ec_b034_02420a39dd2brow23_col5\" class=\"data row23 col5\" >50</td>\n",
       "                        <td id=\"T_ab07dec2_0068_11ec_b034_02420a39dd2brow23_col6\" class=\"data row23 col6\" >21638</td>\n",
       "                        <td id=\"T_ab07dec2_0068_11ec_b034_02420a39dd2brow23_col7\" class=\"data row23 col7\" >21956</td>\n",
       "            </tr>\n",
       "    </tbody></table>"
      ],
      "text/plain": [
       "<pandas.io.formats.style.Styler at 0x7fa493e742d0>"
      ]
     },
     "execution_count": 39,
     "metadata": {},
     "output_type": "execute_result"
    }
   ],
   "source": [
    "month_tariff_stat = data_final.pivot_table(index=['месяц', 'тариф'],\n",
    "                    values = ['кол-во звонков, шт.', 'время звонков, мин.', 'смс, шт.', 'трафик, мб.'], \n",
    "                                           aggfunc=('mean', 'median'))\n",
    "month_tariff_stat = month_tariff_stat.round().style.background_gradient(axis=0, cmap='Purples')\n",
    "month_tariff_stat"
   ]
  },
  {
   "cell_type": "markdown",
   "metadata": {},
   "source": [
    "__Проанализируем количество звонков, смс, трафика по месяцам__"
   ]
  },
  {
   "cell_type": "code",
   "execution_count": 40,
   "metadata": {},
   "outputs": [
    {
     "data": {
      "image/png": "[encoded data removed]",
      "text/plain": [
       "<Figure size 432x288 with 1 Axes>"
      ]
     },
     "metadata": {
      "needs_background": "light"
     },
     "output_type": "display_data"
    }
   ],
   "source": [
    "month_to_calls=data_final.groupby('месяц')['кол-во звонков, шт.'].mean()\n",
    "month_to_calls.plot(kind='bar')\n",
    "plt.show()"
   ]
  },
  {
   "cell_type": "code",
   "execution_count": 41,
   "metadata": {},
   "outputs": [
    {
     "data": {
      "image/png": "[encoded data removed]",
      "text/plain": [
       "<Figure size 432x288 with 1 Axes>"
      ]
     },
     "metadata": {
      "needs_background": "light"
     },
     "output_type": "display_data"
    }
   ],
   "source": [
    "month_to_calls=data_final.groupby('месяц')['время звонков, мин.'].mean()\n",
    "month_to_calls.plot(kind='bar')\n",
    "plt.show()"
   ]
  },
  {
   "cell_type": "code",
   "execution_count": 42,
   "metadata": {},
   "outputs": [
    {
     "data": {
      "image/png": "[encoded data removed]",
      "text/plain": [
       "<Figure size 432x288 with 1 Axes>"
      ]
     },
     "metadata": {
      "needs_background": "light"
     },
     "output_type": "display_data"
    }
   ],
   "source": [
    "month_to_calls=data_final.groupby('месяц')['смс, шт.'].mean()\n",
    "month_to_calls.plot(kind='bar')\n",
    "plt.show()"
   ]
  },
  {
   "cell_type": "code",
   "execution_count": 43,
   "metadata": {},
   "outputs": [
    {
     "data": {
      "image/png": "[encoded data removed]",
      "text/plain": [
       "<Figure size 432x288 with 1 Axes>"
      ]
     },
     "metadata": {
      "needs_background": "light"
     },
     "output_type": "display_data"
    }
   ],
   "source": [
    "month_to_calls=data_final.groupby('месяц')['трафик, мб.'].mean()\n",
    "month_to_calls.plot(kind='bar')\n",
    "plt.show()"
   ]
  },
  {
   "cell_type": "markdown",
   "metadata": {},
   "source": [
    "Заметно, что с каждым месяцем количество значений по всем параметрам растет. По значениям стобца дата регистрации можно заметить, что пользователи подключались в к тарифами в течении года, а не разово, чем можно и обьяснить данный рост значений. К концу года клиентов было больше, чем в начале. Конечно некоторые из них сменили тариф, но кардинально ситуацию это не изменило."
   ]
  },
  {
   "cell_type": "markdown",
   "metadata": {},
   "source": [
    "__Сформируем средние значения по каждому параметру для каждого тарифа__"
   ]
  },
  {
   "cell_type": "code",
   "execution_count": 44,
   "metadata": {},
   "outputs": [
    {
     "data": {
      "text/plain": [
       "тариф\n",
       "smart    418.0\n",
       "ultra    526.0\n",
       "Name: время звонков, мин., dtype: float64"
      ]
     },
     "execution_count": 44,
     "metadata": {},
     "output_type": "execute_result"
    }
   ],
   "source": [
    "data_final.groupby(['тариф'])['время звонков, мин.'].mean().round()"
   ]
  },
  {
   "cell_type": "code",
   "execution_count": 45,
   "metadata": {},
   "outputs": [
    {
     "data": {
      "text/plain": [
       "тариф\n",
       "smart    33.0\n",
       "ultra    49.0\n",
       "Name: смс, шт., dtype: float64"
      ]
     },
     "execution_count": 45,
     "metadata": {},
     "output_type": "execute_result"
    }
   ],
   "source": [
    "data_final.groupby(['тариф'])['смс, шт.'].mean().round()"
   ]
  },
  {
   "cell_type": "code",
   "execution_count": 46,
   "metadata": {},
   "outputs": [
    {
     "data": {
      "text/plain": [
       "тариф\n",
       "smart    16201.0\n",
       "ultra    19449.0\n",
       "Name: трафик, мб., dtype: float64"
      ]
     },
     "execution_count": 46,
     "metadata": {},
     "output_type": "execute_result"
    }
   ],
   "source": [
    "data_final.groupby(['тариф'])['трафик, мб.'].mean().round()"
   ]
  },
  {
   "cell_type": "markdown",
   "metadata": {},
   "source": [
    "__В итоге получаем:__  \n",
    "- пользователям тарифа `smart` в среднем необходимо:  \n",
    "  418 минут  \n",
    "  33 смс  \n",
    "  16201 мб  \n",
    "- пользователям тарифа `ultra` в среднем необходимо:  \n",
    "  526 минут  \n",
    "  49 смс  \n",
    "  19449 мб  "
   ]
  },
  {
   "cell_type": "markdown",
   "metadata": {},
   "source": [
    "__Определим дисперсию и стандартное отклонение__"
   ]
  },
  {
   "cell_type": "code",
   "execution_count": 47,
   "metadata": {},
   "outputs": [
    {
     "data": {
      "text/html": [
       "<div>\n",
       "<style scoped>\n",
       "    .dataframe tbody tr th:only-of-type {\n",
       "        vertical-align: middle;\n",
       "    }\n",
       "\n",
       "    .dataframe tbody tr th {\n",
       "        vertical-align: top;\n",
       "    }\n",
       "\n",
       "    .dataframe thead tr th {\n",
       "        text-align: left;\n",
       "    }\n",
       "\n",
       "    .dataframe thead tr:last-of-type th {\n",
       "        text-align: right;\n",
       "    }\n",
       "</style>\n",
       "<table border=\"1\" class=\"dataframe\">\n",
       "  <thead>\n",
       "    <tr>\n",
       "      <th></th>\n",
       "      <th colspan=\"2\" halign=\"left\">время звонков, мин.</th>\n",
       "      <th colspan=\"2\" halign=\"left\">смс, шт.</th>\n",
       "      <th colspan=\"2\" halign=\"left\">трафик, мб.</th>\n",
       "    </tr>\n",
       "    <tr>\n",
       "      <th></th>\n",
       "      <th>std</th>\n",
       "      <th>var</th>\n",
       "      <th>std</th>\n",
       "      <th>var</th>\n",
       "      <th>std</th>\n",
       "      <th>var</th>\n",
       "    </tr>\n",
       "    <tr>\n",
       "      <th>тариф</th>\n",
       "      <th></th>\n",
       "      <th></th>\n",
       "      <th></th>\n",
       "      <th></th>\n",
       "      <th></th>\n",
       "      <th></th>\n",
       "    </tr>\n",
       "  </thead>\n",
       "  <tbody>\n",
       "    <tr>\n",
       "      <td>smart</td>\n",
       "      <td>190.476754</td>\n",
       "      <td>36281.393836</td>\n",
       "      <td>28.230396</td>\n",
       "      <td>796.955256</td>\n",
       "      <td>5879.187315</td>\n",
       "      <td>3.456484e+07</td>\n",
       "    </tr>\n",
       "    <tr>\n",
       "      <td>ultra</td>\n",
       "      <td>317.887549</td>\n",
       "      <td>101052.493549</td>\n",
       "      <td>47.806040</td>\n",
       "      <td>2285.417425</td>\n",
       "      <td>10101.095459</td>\n",
       "      <td>1.020321e+08</td>\n",
       "    </tr>\n",
       "  </tbody>\n",
       "</table>\n",
       "</div>"
      ],
      "text/plain": [
       "      время звонков, мин.                  смс, шт.               \\\n",
       "                      std            var        std          var   \n",
       "тариф                                                              \n",
       "smart          190.476754   36281.393836  28.230396   796.955256   \n",
       "ultra          317.887549  101052.493549  47.806040  2285.417425   \n",
       "\n",
       "        трафик, мб.                \n",
       "                std           var  \n",
       "тариф                              \n",
       "smart   5879.187315  3.456484e+07  \n",
       "ultra  10101.095459  1.020321e+08  "
      ]
     },
     "execution_count": 47,
     "metadata": {},
     "output_type": "execute_result"
    }
   ],
   "source": [
    "data_stat = data_final.pivot_table(index=['тариф'], values=['время звонков, мин.', 'смс, шт.', 'трафик, мб.'], \n",
    "                    aggfunc={\n",
    "                        'время звонков, мин.': [ np.var, np.std], \n",
    "                        'смс, шт.': [ np.var, np.std], \n",
    "                        'трафик, мб.': [ np.var, np.std]\n",
    "                    })\n",
    "data_stat"
   ]
  },
  {
   "cell_type": "markdown",
   "metadata": {},
   "source": [
    "Время звонков, количество смс, трафик по тарифу `smart` имеют меньшую дисперсию и отклонению по сравнению с тарифом `ultra`."
   ]
  },
  {
   "cell_type": "markdown",
   "metadata": {},
   "source": [
    "### Определение количества минут разговора, сообщений и объёма интернет-трафика, необходимых пользователям каждого тарифа в месяц."
   ]
  },
  {
   "cell_type": "markdown",
   "metadata": {},
   "source": [
    "__Построим гистограммы по каждому параметру для каждого тарифа__"
   ]
  },
  {
   "cell_type": "code",
   "execution_count": 48,
   "metadata": {},
   "outputs": [
    {
     "data": {
      "image/png": "[encoded data removed]",
      "text/plain": [
       "<Figure size 864x432 with 1 Axes>"
      ]
     },
     "metadata": {
      "needs_background": "light"
     },
     "output_type": "display_data"
    }
   ],
   "source": [
    "data_final.groupby(['тариф'])['время звонков, мин.'].hist(bins = 20, alpha = 0.5, ec='black', figsize=(12,6))\n",
    "plt.legend(['smart', 'ultra'])\n",
    "plt.xlabel('Время звонков, мин.')\n",
    "plt.ylabel('Количество пользователей')\n",
    "plt.title('Среднемесчное количество минут разговора по тарифам')\n",
    "plt.show()"
   ]
  },
  {
   "cell_type": "markdown",
   "metadata": {},
   "source": [
    "- Пользователи тарифа `smart` в среднем в месяц разговаривают в диапазоне от ~250 до ~550 мин. Среднее значение равно 418 минут. Лимит согласно тарифу составляет 500 мин. Большая часть клиентов использует полный почти полный лимит, а некоторые дажее более.  \n",
    "- Пользователи тарифа `ultra` в среднем в месяц разговаривают в диапазоне от ~250 до ~800 мин., причем равномерно. Среднее значение равно 526 минут. Максимальне значение составляет 1750 мин. При этом лимит составляет 3000 миинут. Получается, что большая часть клиентов использует выделенные по тарифу лимиты менее чем на 20% . Единины используют хотя бы около половины. "
   ]
  },
  {
   "cell_type": "code",
   "execution_count": 49,
   "metadata": {},
   "outputs": [
    {
     "data": {
      "image/png": "[encoded data removed]",
      "text/plain": [
       "<Figure size 864x432 with 1 Axes>"
      ]
     },
     "metadata": {
      "needs_background": "light"
     },
     "output_type": "display_data"
    }
   ],
   "source": [
    "data_final.groupby(['тариф'])['смс, шт.'].hist(bins = 20, alpha = 0.5, ec='black', figsize=(12,6))\n",
    "plt.legend(['smart', 'ultra'])\n",
    "plt.xlabel('СМС, шт.')\n",
    "plt.ylabel('Количество пользователей')\n",
    "plt.title('Среднемесчное количество СМС по тарифам')\n",
    "plt.show()"
   ]
  },
  {
   "cell_type": "markdown",
   "metadata": {},
   "source": [
    "- Пользователи тарифа `smart` в среднем в месяц отправляют до 65 смс, среднее значение равно 33 смс. Что почти укладывается в лимит тарифа - 50 в месяц. Есть превышения, но не очень значительные.      \n",
    "- Пользователи тарифа `ultra` в среднем в месяц отправляют примерно столько-же - до 65 смс, среднее значение равно 49 смс, при лимите в месяц 1000.  \n",
    "В обоих тарифах видно, что доля значений от 0 до 50 очень большая, пользователи мало отправляют смс."
   ]
  },
  {
   "cell_type": "code",
   "execution_count": 50,
   "metadata": {},
   "outputs": [
    {
     "data": {
      "image/png": "[encoded data removed]",
      "text/plain": [
       "<Figure size 864x432 with 1 Axes>"
      ]
     },
     "metadata": {
      "needs_background": "light"
     },
     "output_type": "display_data"
    }
   ],
   "source": [
    "data_final.groupby(['тариф'])['трафик, мб.'].hist(bins = 20, alpha = 0.5, ec='black', figsize=(12,6))\n",
    "plt.legend(['smart', 'ultra'])\n",
    "plt.xlabel('Трафик, мб.')\n",
    "plt.ylabel('Количество пользователей')\n",
    "plt.title('Среднемесчное количество используемого трафика по тарифам, мб.')\n",
    "plt.show()"
   ]
  },
  {
   "cell_type": "markdown",
   "metadata": {},
   "source": [
    "- Пользователи тарифа `smart` в среднем в месяц от 13 до 22 гб трафика. Среднее значение составляет 16,2 гб, что выше установленного тарифом лимита в 15 гб. Клиентам тарифа не хватает интернета и они покупают его дополнительно.  \n",
    "- Пользователи тарифа `ultra` в среднем в месяц используют чуть больше от 15 до 25 гб. Среднее значение составляет 19,5 гб, что укладывается в тарифный лимит 30 гб. Однако есть и привышения."
   ]
  },
  {
   "cell_type": "markdown",
   "metadata": {},
   "source": [
    "### Определим структуру недорасходов и перерасходов по тарифам"
   ]
  },
  {
   "cell_type": "markdown",
   "metadata": {},
   "source": [
    "Построим график со средним значением оплаты в месяц по каждому тарифу"
   ]
  },
  {
   "cell_type": "code",
   "execution_count": 51,
   "metadata": {},
   "outputs": [
    {
     "data": {
      "image/png": "[encoded data removed]",
      "text/plain": [
       "<Figure size 432x288 with 1 Axes>"
      ]
     },
     "metadata": {
      "needs_background": "light"
     },
     "output_type": "display_data"
    }
   ],
   "source": [
    "data_over_pay=data_final.groupby('тариф')['всего за месяц, руб.'].mean()\n",
    "data_over_pay.plot(kind='bar')\n",
    "plt.ylabel('Всего за месяц, руб.')\n",
    "plt.title('Среднемесчная плата по тарифам, руб.')\n",
    "plt.show()"
   ]
  },
  {
   "cell_type": "markdown",
   "metadata": {},
   "source": [
    "Видмно, что ежемесячная плата по тарифу `smart` составляет 550 руб, а средняя плата в месяц получается около 1250 руб., что почти в 2,5 раза больше тарифа.\n",
    "В тарифе `ultra` среднее значение составляет 1950 руб. - переплаты не значительны.\n"
   ]
  },
  {
   "cell_type": "markdown",
   "metadata": {},
   "source": [
    "Построем гистограмму суммарных плат за месяц по каждому тарифу"
   ]
  },
  {
   "cell_type": "code",
   "execution_count": 52,
   "metadata": {},
   "outputs": [
    {
     "data": {
      "image/png": "[encoded data removed]",
      "text/plain": [
       "<Figure size 864x432 with 1 Axes>"
      ]
     },
     "metadata": {
      "needs_background": "light"
     },
     "output_type": "display_data"
    }
   ],
   "source": [
    "data_final.groupby(['тариф'])['всего за месяц, руб.'].hist(bins = 40, alpha = 1, ec='red', figsize=(12,6))\n",
    "plt.legend(['smart', 'ultra'])\n",
    "plt.xlabel('Стоимость, руб.')\n",
    "plt.ylabel('Количество пользователей')\n",
    "plt.title('Суммарные платы по тарифам в месяц, руб.')\n",
    "plt.show()"
   ]
  },
  {
   "cell_type": "markdown",
   "metadata": {},
   "source": [
    "Как видно из гистограммы суммарные платежи по тарифу `smart` имеют большой размах, некоторые клиенты в отдельный период даже могут заплатить в пяти, семи и десятикратном размере. В тарифе `ultra` ситуация стабильная, в среднем переплат нет."
   ]
  },
  {
   "cell_type": "code",
   "execution_count": 53,
   "metadata": {},
   "outputs": [
    {
     "data": {
      "text/html": [
       "<div>\n",
       "<style scoped>\n",
       "    .dataframe tbody tr th:only-of-type {\n",
       "        vertical-align: middle;\n",
       "    }\n",
       "\n",
       "    .dataframe tbody tr th {\n",
       "        vertical-align: top;\n",
       "    }\n",
       "\n",
       "    .dataframe thead th {\n",
       "        text-align: right;\n",
       "    }\n",
       "</style>\n",
       "<table border=\"1\" class=\"dataframe\">\n",
       "  <thead>\n",
       "    <tr style=\"text-align: right;\">\n",
       "      <th></th>\n",
       "      <th>User_id</th>\n",
       "      <th>месяц</th>\n",
       "      <th>кол-во звонков, шт.</th>\n",
       "      <th>время звонков, мин.</th>\n",
       "      <th>смс, шт.</th>\n",
       "      <th>трафик, мб.</th>\n",
       "      <th>тариф</th>\n",
       "      <th>город</th>\n",
       "      <th>возраст</th>\n",
       "      <th>дата регистрации</th>\n",
       "      <th>аб. плата, руб.</th>\n",
       "      <th>мин. сверх тарифа</th>\n",
       "      <th>смс. сверх тарифа</th>\n",
       "      <th>трафик сверх тарифа мб.</th>\n",
       "      <th>трафик сверх тарифа гб.</th>\n",
       "      <th>общая плата сверх тарифа, руб.</th>\n",
       "      <th>всего за месяц, руб.</th>\n",
       "    </tr>\n",
       "  </thead>\n",
       "  <tbody>\n",
       "    <tr>\n",
       "      <td>0</td>\n",
       "      <td>1000</td>\n",
       "      <td>5.0</td>\n",
       "      <td>17.0</td>\n",
       "      <td>159.0</td>\n",
       "      <td>22.0</td>\n",
       "      <td>2253.49</td>\n",
       "      <td>ultra</td>\n",
       "      <td>Краснодар</td>\n",
       "      <td>52</td>\n",
       "      <td>2018-05-25</td>\n",
       "      <td>1950</td>\n",
       "      <td>0.0</td>\n",
       "      <td>0.0</td>\n",
       "      <td>0.0</td>\n",
       "      <td>0.0</td>\n",
       "      <td>0.0</td>\n",
       "      <td>1950.0</td>\n",
       "    </tr>\n",
       "    <tr>\n",
       "      <td>1</td>\n",
       "      <td>1000</td>\n",
       "      <td>6.0</td>\n",
       "      <td>28.0</td>\n",
       "      <td>172.0</td>\n",
       "      <td>60.0</td>\n",
       "      <td>23233.77</td>\n",
       "      <td>ultra</td>\n",
       "      <td>Краснодар</td>\n",
       "      <td>52</td>\n",
       "      <td>2018-05-25</td>\n",
       "      <td>1950</td>\n",
       "      <td>0.0</td>\n",
       "      <td>0.0</td>\n",
       "      <td>0.0</td>\n",
       "      <td>0.0</td>\n",
       "      <td>0.0</td>\n",
       "      <td>1950.0</td>\n",
       "    </tr>\n",
       "    <tr>\n",
       "      <td>2</td>\n",
       "      <td>1000</td>\n",
       "      <td>7.0</td>\n",
       "      <td>41.0</td>\n",
       "      <td>340.0</td>\n",
       "      <td>75.0</td>\n",
       "      <td>14003.64</td>\n",
       "      <td>ultra</td>\n",
       "      <td>Краснодар</td>\n",
       "      <td>52</td>\n",
       "      <td>2018-05-25</td>\n",
       "      <td>1950</td>\n",
       "      <td>0.0</td>\n",
       "      <td>0.0</td>\n",
       "      <td>0.0</td>\n",
       "      <td>0.0</td>\n",
       "      <td>0.0</td>\n",
       "      <td>1950.0</td>\n",
       "    </tr>\n",
       "    <tr>\n",
       "      <td>3</td>\n",
       "      <td>1000</td>\n",
       "      <td>8.0</td>\n",
       "      <td>42.0</td>\n",
       "      <td>408.0</td>\n",
       "      <td>81.0</td>\n",
       "      <td>14055.93</td>\n",
       "      <td>ultra</td>\n",
       "      <td>Краснодар</td>\n",
       "      <td>52</td>\n",
       "      <td>2018-05-25</td>\n",
       "      <td>1950</td>\n",
       "      <td>0.0</td>\n",
       "      <td>0.0</td>\n",
       "      <td>0.0</td>\n",
       "      <td>0.0</td>\n",
       "      <td>0.0</td>\n",
       "      <td>1950.0</td>\n",
       "    </tr>\n",
       "    <tr>\n",
       "      <td>4</td>\n",
       "      <td>1000</td>\n",
       "      <td>9.0</td>\n",
       "      <td>46.0</td>\n",
       "      <td>466.0</td>\n",
       "      <td>57.0</td>\n",
       "      <td>14568.91</td>\n",
       "      <td>ultra</td>\n",
       "      <td>Краснодар</td>\n",
       "      <td>52</td>\n",
       "      <td>2018-05-25</td>\n",
       "      <td>1950</td>\n",
       "      <td>0.0</td>\n",
       "      <td>0.0</td>\n",
       "      <td>0.0</td>\n",
       "      <td>0.0</td>\n",
       "      <td>0.0</td>\n",
       "      <td>1950.0</td>\n",
       "    </tr>\n",
       "  </tbody>\n",
       "</table>\n",
       "</div>"
      ],
      "text/plain": [
       "   User_id  месяц  кол-во звонков, шт.  время звонков, мин.  смс, шт.  \\\n",
       "0     1000    5.0                 17.0                159.0      22.0   \n",
       "1     1000    6.0                 28.0                172.0      60.0   \n",
       "2     1000    7.0                 41.0                340.0      75.0   \n",
       "3     1000    8.0                 42.0                408.0      81.0   \n",
       "4     1000    9.0                 46.0                466.0      57.0   \n",
       "\n",
       "   трафик, мб.  тариф      город  возраст дата регистрации  аб. плата, руб.  \\\n",
       "0      2253.49  ultra  Краснодар       52       2018-05-25             1950   \n",
       "1     23233.77  ultra  Краснодар       52       2018-05-25             1950   \n",
       "2     14003.64  ultra  Краснодар       52       2018-05-25             1950   \n",
       "3     14055.93  ultra  Краснодар       52       2018-05-25             1950   \n",
       "4     14568.91  ultra  Краснодар       52       2018-05-25             1950   \n",
       "\n",
       "   мин. сверх тарифа  смс. сверх тарифа  трафик сверх тарифа мб.  \\\n",
       "0                0.0                0.0                      0.0   \n",
       "1                0.0                0.0                      0.0   \n",
       "2                0.0                0.0                      0.0   \n",
       "3                0.0                0.0                      0.0   \n",
       "4                0.0                0.0                      0.0   \n",
       "\n",
       "   трафик сверх тарифа гб.  общая плата сверх тарифа, руб.  \\\n",
       "0                      0.0                             0.0   \n",
       "1                      0.0                             0.0   \n",
       "2                      0.0                             0.0   \n",
       "3                      0.0                             0.0   \n",
       "4                      0.0                             0.0   \n",
       "\n",
       "   всего за месяц, руб.  \n",
       "0                1950.0  \n",
       "1                1950.0  \n",
       "2                1950.0  \n",
       "3                1950.0  \n",
       "4                1950.0  "
      ]
     },
     "execution_count": 53,
     "metadata": {},
     "output_type": "execute_result"
    }
   ],
   "source": [
    "data_final.head()"
   ]
  },
  {
   "cell_type": "markdown",
   "metadata": {},
   "source": [
    "Определим среднее значение переплаты по тарифу `smart` в рублях"
   ]
  },
  {
   "cell_type": "code",
   "execution_count": 54,
   "metadata": {},
   "outputs": [
    {
     "name": "stdout",
     "output_type": "stream",
     "text": [
      "Среднее превышение по тарифу \"smart\" - 740 руб.\n"
     ]
    }
   ],
   "source": [
    "smart_over_pay = data_final[(data_final['тариф'] == 'smart')]['общая плата сверх тарифа, руб.'].mean()\n",
    "print('Среднее превышение по тарифу \"smart\" - {:.0f} руб.'.format(smart_over_pay))"
   ]
  },
  {
   "cell_type": "markdown",
   "metadata": {},
   "source": [
    "Среднее превышени в 740 руб. при цене тарифа в 550 руб. Выглядит не очень оптимистично, с точки зрения затрат."
   ]
  },
  {
   "cell_type": "markdown",
   "metadata": {},
   "source": [
    "#### Недорасход"
   ]
  },
  {
   "cell_type": "markdown",
   "metadata": {},
   "source": [
    "Создадим отдельный скопированный датафрейм"
   ]
  },
  {
   "cell_type": "code",
   "execution_count": 55,
   "metadata": {},
   "outputs": [],
   "source": [
    "data_less = data_final.copy()"
   ]
  },
  {
   "cell_type": "code",
   "execution_count": 56,
   "metadata": {},
   "outputs": [
    {
     "data": {
      "text/html": [
       "<div>\n",
       "<style scoped>\n",
       "    .dataframe tbody tr th:only-of-type {\n",
       "        vertical-align: middle;\n",
       "    }\n",
       "\n",
       "    .dataframe tbody tr th {\n",
       "        vertical-align: top;\n",
       "    }\n",
       "\n",
       "    .dataframe thead th {\n",
       "        text-align: right;\n",
       "    }\n",
       "</style>\n",
       "<table border=\"1\" class=\"dataframe\">\n",
       "  <thead>\n",
       "    <tr style=\"text-align: right;\">\n",
       "      <th></th>\n",
       "      <th>User_id</th>\n",
       "      <th>месяц</th>\n",
       "      <th>кол-во звонков, шт.</th>\n",
       "      <th>время звонков, мин.</th>\n",
       "      <th>смс, шт.</th>\n",
       "      <th>трафик, мб.</th>\n",
       "      <th>тариф</th>\n",
       "      <th>город</th>\n",
       "      <th>возраст</th>\n",
       "      <th>дата регистрации</th>\n",
       "      <th>аб. плата, руб.</th>\n",
       "      <th>мин. сверх тарифа</th>\n",
       "      <th>смс. сверх тарифа</th>\n",
       "      <th>трафик сверх тарифа мб.</th>\n",
       "      <th>трафик сверх тарифа гб.</th>\n",
       "      <th>общая плата сверх тарифа, руб.</th>\n",
       "      <th>всего за месяц, руб.</th>\n",
       "      <th>мин. меньше тарифа</th>\n",
       "      <th>смс. меньше тарифа</th>\n",
       "      <th>трафик меньше тарифа мб.</th>\n",
       "    </tr>\n",
       "  </thead>\n",
       "  <tbody>\n",
       "    <tr>\n",
       "      <td>0</td>\n",
       "      <td>1000</td>\n",
       "      <td>5.0</td>\n",
       "      <td>17.0</td>\n",
       "      <td>159.0</td>\n",
       "      <td>22.0</td>\n",
       "      <td>2253.49</td>\n",
       "      <td>ultra</td>\n",
       "      <td>Краснодар</td>\n",
       "      <td>52</td>\n",
       "      <td>2018-05-25</td>\n",
       "      <td>1950</td>\n",
       "      <td>0.0</td>\n",
       "      <td>0.0</td>\n",
       "      <td>0.00</td>\n",
       "      <td>0.0</td>\n",
       "      <td>0.0</td>\n",
       "      <td>1950.0</td>\n",
       "      <td>2841.0</td>\n",
       "      <td>978.0</td>\n",
       "      <td>28466.51</td>\n",
       "    </tr>\n",
       "    <tr>\n",
       "      <td>1</td>\n",
       "      <td>1000</td>\n",
       "      <td>6.0</td>\n",
       "      <td>28.0</td>\n",
       "      <td>172.0</td>\n",
       "      <td>60.0</td>\n",
       "      <td>23233.77</td>\n",
       "      <td>ultra</td>\n",
       "      <td>Краснодар</td>\n",
       "      <td>52</td>\n",
       "      <td>2018-05-25</td>\n",
       "      <td>1950</td>\n",
       "      <td>0.0</td>\n",
       "      <td>0.0</td>\n",
       "      <td>0.00</td>\n",
       "      <td>0.0</td>\n",
       "      <td>0.0</td>\n",
       "      <td>1950.0</td>\n",
       "      <td>2828.0</td>\n",
       "      <td>940.0</td>\n",
       "      <td>7486.23</td>\n",
       "    </tr>\n",
       "    <tr>\n",
       "      <td>2</td>\n",
       "      <td>1000</td>\n",
       "      <td>7.0</td>\n",
       "      <td>41.0</td>\n",
       "      <td>340.0</td>\n",
       "      <td>75.0</td>\n",
       "      <td>14003.64</td>\n",
       "      <td>ultra</td>\n",
       "      <td>Краснодар</td>\n",
       "      <td>52</td>\n",
       "      <td>2018-05-25</td>\n",
       "      <td>1950</td>\n",
       "      <td>0.0</td>\n",
       "      <td>0.0</td>\n",
       "      <td>0.00</td>\n",
       "      <td>0.0</td>\n",
       "      <td>0.0</td>\n",
       "      <td>1950.0</td>\n",
       "      <td>2660.0</td>\n",
       "      <td>925.0</td>\n",
       "      <td>16716.36</td>\n",
       "    </tr>\n",
       "    <tr>\n",
       "      <td>3</td>\n",
       "      <td>1000</td>\n",
       "      <td>8.0</td>\n",
       "      <td>42.0</td>\n",
       "      <td>408.0</td>\n",
       "      <td>81.0</td>\n",
       "      <td>14055.93</td>\n",
       "      <td>ultra</td>\n",
       "      <td>Краснодар</td>\n",
       "      <td>52</td>\n",
       "      <td>2018-05-25</td>\n",
       "      <td>1950</td>\n",
       "      <td>0.0</td>\n",
       "      <td>0.0</td>\n",
       "      <td>0.00</td>\n",
       "      <td>0.0</td>\n",
       "      <td>0.0</td>\n",
       "      <td>1950.0</td>\n",
       "      <td>2592.0</td>\n",
       "      <td>919.0</td>\n",
       "      <td>16664.07</td>\n",
       "    </tr>\n",
       "    <tr>\n",
       "      <td>4</td>\n",
       "      <td>1000</td>\n",
       "      <td>9.0</td>\n",
       "      <td>46.0</td>\n",
       "      <td>466.0</td>\n",
       "      <td>57.0</td>\n",
       "      <td>14568.91</td>\n",
       "      <td>ultra</td>\n",
       "      <td>Краснодар</td>\n",
       "      <td>52</td>\n",
       "      <td>2018-05-25</td>\n",
       "      <td>1950</td>\n",
       "      <td>0.0</td>\n",
       "      <td>0.0</td>\n",
       "      <td>0.00</td>\n",
       "      <td>0.0</td>\n",
       "      <td>0.0</td>\n",
       "      <td>1950.0</td>\n",
       "      <td>2534.0</td>\n",
       "      <td>943.0</td>\n",
       "      <td>16151.09</td>\n",
       "    </tr>\n",
       "    <tr>\n",
       "      <td>...</td>\n",
       "      <td>...</td>\n",
       "      <td>...</td>\n",
       "      <td>...</td>\n",
       "      <td>...</td>\n",
       "      <td>...</td>\n",
       "      <td>...</td>\n",
       "      <td>...</td>\n",
       "      <td>...</td>\n",
       "      <td>...</td>\n",
       "      <td>...</td>\n",
       "      <td>...</td>\n",
       "      <td>...</td>\n",
       "      <td>...</td>\n",
       "      <td>...</td>\n",
       "      <td>...</td>\n",
       "      <td>...</td>\n",
       "      <td>...</td>\n",
       "      <td>...</td>\n",
       "      <td>...</td>\n",
       "      <td>...</td>\n",
       "    </tr>\n",
       "    <tr>\n",
       "      <td>3211</td>\n",
       "      <td>1499</td>\n",
       "      <td>10.0</td>\n",
       "      <td>44.0</td>\n",
       "      <td>449.0</td>\n",
       "      <td>48.0</td>\n",
       "      <td>17788.51</td>\n",
       "      <td>smart</td>\n",
       "      <td>Пермь</td>\n",
       "      <td>35</td>\n",
       "      <td>2018-09-27</td>\n",
       "      <td>550</td>\n",
       "      <td>0.0</td>\n",
       "      <td>0.0</td>\n",
       "      <td>2428.51</td>\n",
       "      <td>3.0</td>\n",
       "      <td>600.0</td>\n",
       "      <td>1150.0</td>\n",
       "      <td>51.0</td>\n",
       "      <td>2.0</td>\n",
       "      <td>0.00</td>\n",
       "    </tr>\n",
       "    <tr>\n",
       "      <td>3212</td>\n",
       "      <td>1499</td>\n",
       "      <td>11.0</td>\n",
       "      <td>62.0</td>\n",
       "      <td>612.0</td>\n",
       "      <td>59.0</td>\n",
       "      <td>17963.31</td>\n",
       "      <td>smart</td>\n",
       "      <td>Пермь</td>\n",
       "      <td>35</td>\n",
       "      <td>2018-09-27</td>\n",
       "      <td>550</td>\n",
       "      <td>112.0</td>\n",
       "      <td>9.0</td>\n",
       "      <td>2603.31</td>\n",
       "      <td>3.0</td>\n",
       "      <td>963.0</td>\n",
       "      <td>1513.0</td>\n",
       "      <td>0.0</td>\n",
       "      <td>0.0</td>\n",
       "      <td>0.00</td>\n",
       "    </tr>\n",
       "    <tr>\n",
       "      <td>3213</td>\n",
       "      <td>1499</td>\n",
       "      <td>12.0</td>\n",
       "      <td>56.0</td>\n",
       "      <td>492.0</td>\n",
       "      <td>66.0</td>\n",
       "      <td>13055.58</td>\n",
       "      <td>smart</td>\n",
       "      <td>Пермь</td>\n",
       "      <td>35</td>\n",
       "      <td>2018-09-27</td>\n",
       "      <td>550</td>\n",
       "      <td>0.0</td>\n",
       "      <td>16.0</td>\n",
       "      <td>0.00</td>\n",
       "      <td>0.0</td>\n",
       "      <td>48.0</td>\n",
       "      <td>598.0</td>\n",
       "      <td>8.0</td>\n",
       "      <td>0.0</td>\n",
       "      <td>2304.42</td>\n",
       "    </tr>\n",
       "    <tr>\n",
       "      <td>3214</td>\n",
       "      <td>1128</td>\n",
       "      <td>12.0</td>\n",
       "      <td>0.0</td>\n",
       "      <td>0.0</td>\n",
       "      <td>0.0</td>\n",
       "      <td>0.00</td>\n",
       "      <td>ultra</td>\n",
       "      <td>Волжский</td>\n",
       "      <td>51</td>\n",
       "      <td>2018-12-15</td>\n",
       "      <td>1950</td>\n",
       "      <td>0.0</td>\n",
       "      <td>0.0</td>\n",
       "      <td>0.00</td>\n",
       "      <td>0.0</td>\n",
       "      <td>0.0</td>\n",
       "      <td>1950.0</td>\n",
       "      <td>3000.0</td>\n",
       "      <td>1000.0</td>\n",
       "      <td>30720.00</td>\n",
       "    </tr>\n",
       "    <tr>\n",
       "      <td>3215</td>\n",
       "      <td>1371</td>\n",
       "      <td>12.0</td>\n",
       "      <td>0.0</td>\n",
       "      <td>0.0</td>\n",
       "      <td>0.0</td>\n",
       "      <td>0.00</td>\n",
       "      <td>smart</td>\n",
       "      <td>Омск</td>\n",
       "      <td>50</td>\n",
       "      <td>2018-12-25</td>\n",
       "      <td>550</td>\n",
       "      <td>0.0</td>\n",
       "      <td>0.0</td>\n",
       "      <td>0.00</td>\n",
       "      <td>0.0</td>\n",
       "      <td>0.0</td>\n",
       "      <td>550.0</td>\n",
       "      <td>500.0</td>\n",
       "      <td>50.0</td>\n",
       "      <td>15360.00</td>\n",
       "    </tr>\n",
       "  </tbody>\n",
       "</table>\n",
       "<p>3216 rows × 20 columns</p>\n",
       "</div>"
      ],
      "text/plain": [
       "      User_id  месяц  кол-во звонков, шт.  время звонков, мин.  смс, шт.  \\\n",
       "0        1000    5.0                 17.0                159.0      22.0   \n",
       "1        1000    6.0                 28.0                172.0      60.0   \n",
       "2        1000    7.0                 41.0                340.0      75.0   \n",
       "3        1000    8.0                 42.0                408.0      81.0   \n",
       "4        1000    9.0                 46.0                466.0      57.0   \n",
       "...       ...    ...                  ...                  ...       ...   \n",
       "3211     1499   10.0                 44.0                449.0      48.0   \n",
       "3212     1499   11.0                 62.0                612.0      59.0   \n",
       "3213     1499   12.0                 56.0                492.0      66.0   \n",
       "3214     1128   12.0                  0.0                  0.0       0.0   \n",
       "3215     1371   12.0                  0.0                  0.0       0.0   \n",
       "\n",
       "      трафик, мб.  тариф      город  возраст дата регистрации  \\\n",
       "0         2253.49  ultra  Краснодар       52       2018-05-25   \n",
       "1        23233.77  ultra  Краснодар       52       2018-05-25   \n",
       "2        14003.64  ultra  Краснодар       52       2018-05-25   \n",
       "3        14055.93  ultra  Краснодар       52       2018-05-25   \n",
       "4        14568.91  ultra  Краснодар       52       2018-05-25   \n",
       "...           ...    ...        ...      ...              ...   \n",
       "3211     17788.51  smart      Пермь       35       2018-09-27   \n",
       "3212     17963.31  smart      Пермь       35       2018-09-27   \n",
       "3213     13055.58  smart      Пермь       35       2018-09-27   \n",
       "3214         0.00  ultra   Волжский       51       2018-12-15   \n",
       "3215         0.00  smart       Омск       50       2018-12-25   \n",
       "\n",
       "      аб. плата, руб.  мин. сверх тарифа  смс. сверх тарифа  \\\n",
       "0                1950                0.0                0.0   \n",
       "1                1950                0.0                0.0   \n",
       "2                1950                0.0                0.0   \n",
       "3                1950                0.0                0.0   \n",
       "4                1950                0.0                0.0   \n",
       "...               ...                ...                ...   \n",
       "3211              550                0.0                0.0   \n",
       "3212              550              112.0                9.0   \n",
       "3213              550                0.0               16.0   \n",
       "3214             1950                0.0                0.0   \n",
       "3215              550                0.0                0.0   \n",
       "\n",
       "      трафик сверх тарифа мб.  трафик сверх тарифа гб.  \\\n",
       "0                        0.00                      0.0   \n",
       "1                        0.00                      0.0   \n",
       "2                        0.00                      0.0   \n",
       "3                        0.00                      0.0   \n",
       "4                        0.00                      0.0   \n",
       "...                       ...                      ...   \n",
       "3211                  2428.51                      3.0   \n",
       "3212                  2603.31                      3.0   \n",
       "3213                     0.00                      0.0   \n",
       "3214                     0.00                      0.0   \n",
       "3215                     0.00                      0.0   \n",
       "\n",
       "      общая плата сверх тарифа, руб.  всего за месяц, руб.  \\\n",
       "0                                0.0                1950.0   \n",
       "1                                0.0                1950.0   \n",
       "2                                0.0                1950.0   \n",
       "3                                0.0                1950.0   \n",
       "4                                0.0                1950.0   \n",
       "...                              ...                   ...   \n",
       "3211                           600.0                1150.0   \n",
       "3212                           963.0                1513.0   \n",
       "3213                            48.0                 598.0   \n",
       "3214                             0.0                1950.0   \n",
       "3215                             0.0                 550.0   \n",
       "\n",
       "      мин. меньше тарифа  смс. меньше тарифа  трафик меньше тарифа мб.  \n",
       "0                 2841.0               978.0                  28466.51  \n",
       "1                 2828.0               940.0                   7486.23  \n",
       "2                 2660.0               925.0                  16716.36  \n",
       "3                 2592.0               919.0                  16664.07  \n",
       "4                 2534.0               943.0                  16151.09  \n",
       "...                  ...                 ...                       ...  \n",
       "3211                51.0                 2.0                      0.00  \n",
       "3212                 0.0                 0.0                      0.00  \n",
       "3213                 8.0                 0.0                   2304.42  \n",
       "3214              3000.0              1000.0                  30720.00  \n",
       "3215               500.0                50.0                  15360.00  \n",
       "\n",
       "[3216 rows x 20 columns]"
      ]
     },
     "execution_count": 56,
     "metadata": {},
     "output_type": "execute_result"
    }
   ],
   "source": [
    "def calls_less_tariff(row):\n",
    "    if row['тариф'] == 'smart':\n",
    "        if row['время звонков, мин.'] < tariffs.loc[0, 'minutes_included']:\n",
    "            return (tariffs.loc[0, 'minutes_included'] - row['время звонков, мин.'])\n",
    "        return 0\n",
    "    else:\n",
    "        if row['тариф'] == 'ultra': \n",
    "            if row['время звонков, мин.'] < tariffs.loc[1, 'minutes_included']:\n",
    "                return (tariffs.loc[1, 'minutes_included'] - row['время звонков, мин.'])\n",
    "        return 0\n",
    "    \n",
    "def messages_less_tariff(row):\n",
    "    if row['тариф'] == 'smart':\n",
    "        if row['смс, шт.'] < tariffs.loc[0, 'messages_included']:\n",
    "            return (tariffs.loc[0, 'messages_included'] - row['смс, шт.'])\n",
    "        return 0\n",
    "    else:\n",
    "        if row['тариф'] == 'ultra': \n",
    "            if row['смс, шт.'] < tariffs.loc[1, 'messages_included']:\n",
    "                return (tariffs.loc[1, 'messages_included'] - row['смс, шт.'])\n",
    "        return 0\n",
    "    \n",
    "def trafic_less_tariff(row):\n",
    "    if row['тариф'] == 'smart':\n",
    "        if row['трафик, мб.'] < tariffs.loc[0, 'mb_per_month_included']:\n",
    "            return (tariffs.loc[0, 'mb_per_month_included'] - row['трафик, мб.'])\n",
    "        return 0\n",
    "    else:\n",
    "        if row['тариф'] == 'ultra': \n",
    "            if row['трафик, мб.'] < tariffs.loc[1, 'mb_per_month_included']:\n",
    "                return (tariffs.loc[1, 'mb_per_month_included'] - row['трафик, мб.'])\n",
    "        return 0\n",
    "    \n",
    "data_less['мин. меньше тарифа'] = data_less.apply(calls_less_tariff, axis=1)\n",
    "data_less['смс. меньше тарифа'] = data_less.apply(messages_less_tariff, axis=1)\n",
    "data_less['трафик меньше тарифа мб.'] = data_less.apply(trafic_less_tariff, axis=1)\n",
    "\n",
    "data_less"
   ]
  },
  {
   "cell_type": "code",
   "execution_count": 57,
   "metadata": {},
   "outputs": [
    {
     "data": {
      "text/html": [
       "<style  type=\"text/css\" >\n",
       "    #T_acaa6862_0068_11ec_b034_02420a39dd2brow0_col0 {\n",
       "            background-color:  #3f007d;\n",
       "            color:  #f1f1f1;\n",
       "        }    #T_acaa6862_0068_11ec_b034_02420a39dd2brow0_col1 {\n",
       "            background-color:  #fcfbfd;\n",
       "            color:  #000000;\n",
       "        }    #T_acaa6862_0068_11ec_b034_02420a39dd2brow0_col2 {\n",
       "            background-color:  #fcfbfd;\n",
       "            color:  #000000;\n",
       "        }    #T_acaa6862_0068_11ec_b034_02420a39dd2brow0_col3 {\n",
       "            background-color:  #3f007d;\n",
       "            color:  #f1f1f1;\n",
       "        }    #T_acaa6862_0068_11ec_b034_02420a39dd2brow0_col4 {\n",
       "            background-color:  #fcfbfd;\n",
       "            color:  #000000;\n",
       "        }    #T_acaa6862_0068_11ec_b034_02420a39dd2brow0_col5 {\n",
       "            background-color:  #fcfbfd;\n",
       "            color:  #000000;\n",
       "        }    #T_acaa6862_0068_11ec_b034_02420a39dd2brow0_col6 {\n",
       "            background-color:  #3f007d;\n",
       "            color:  #f1f1f1;\n",
       "        }    #T_acaa6862_0068_11ec_b034_02420a39dd2brow0_col7 {\n",
       "            background-color:  #fcfbfd;\n",
       "            color:  #000000;\n",
       "        }    #T_acaa6862_0068_11ec_b034_02420a39dd2brow0_col8 {\n",
       "            background-color:  #fcfbfd;\n",
       "            color:  #000000;\n",
       "        }    #T_acaa6862_0068_11ec_b034_02420a39dd2brow1_col0 {\n",
       "            background-color:  #fcfbfd;\n",
       "            color:  #000000;\n",
       "        }    #T_acaa6862_0068_11ec_b034_02420a39dd2brow1_col1 {\n",
       "            background-color:  #3f007d;\n",
       "            color:  #f1f1f1;\n",
       "        }    #T_acaa6862_0068_11ec_b034_02420a39dd2brow1_col2 {\n",
       "            background-color:  #3f007d;\n",
       "            color:  #f1f1f1;\n",
       "        }    #T_acaa6862_0068_11ec_b034_02420a39dd2brow1_col3 {\n",
       "            background-color:  #fcfbfd;\n",
       "            color:  #000000;\n",
       "        }    #T_acaa6862_0068_11ec_b034_02420a39dd2brow1_col4 {\n",
       "            background-color:  #3f007d;\n",
       "            color:  #f1f1f1;\n",
       "        }    #T_acaa6862_0068_11ec_b034_02420a39dd2brow1_col5 {\n",
       "            background-color:  #3f007d;\n",
       "            color:  #f1f1f1;\n",
       "        }    #T_acaa6862_0068_11ec_b034_02420a39dd2brow1_col6 {\n",
       "            background-color:  #fcfbfd;\n",
       "            color:  #000000;\n",
       "        }    #T_acaa6862_0068_11ec_b034_02420a39dd2brow1_col7 {\n",
       "            background-color:  #3f007d;\n",
       "            color:  #f1f1f1;\n",
       "        }    #T_acaa6862_0068_11ec_b034_02420a39dd2brow1_col8 {\n",
       "            background-color:  #3f007d;\n",
       "            color:  #f1f1f1;\n",
       "        }</style><table id=\"T_acaa6862_0068_11ec_b034_02420a39dd2b\" ><thead>    <tr>        <th class=\"blank level0\" ></th>        <th class=\"col_heading level0 col0\" colspan=3>мин. меньше тарифа</th>        <th class=\"col_heading level0 col3\" colspan=3>смс. меньше тарифа</th>        <th class=\"col_heading level0 col6\" colspan=3>трафик меньше тарифа мб.</th>    </tr>    <tr>        <th class=\"blank level1\" ></th>        <th class=\"col_heading level1 col0\" >count</th>        <th class=\"col_heading level1 col1\" >mean</th>        <th class=\"col_heading level1 col2\" >sum</th>        <th class=\"col_heading level1 col3\" >count</th>        <th class=\"col_heading level1 col4\" >mean</th>        <th class=\"col_heading level1 col5\" >sum</th>        <th class=\"col_heading level1 col6\" >count</th>        <th class=\"col_heading level1 col7\" >mean</th>        <th class=\"col_heading level1 col8\" >sum</th>    </tr>    <tr>        <th class=\"index_name level0\" >тариф</th>        <th class=\"blank\" ></th>        <th class=\"blank\" ></th>        <th class=\"blank\" ></th>        <th class=\"blank\" ></th>        <th class=\"blank\" ></th>        <th class=\"blank\" ></th>        <th class=\"blank\" ></th>        <th class=\"blank\" ></th>        <th class=\"blank\" ></th>    </tr></thead><tbody>\n",
       "                <tr>\n",
       "                        <th id=\"T_acaa6862_0068_11ec_b034_02420a39dd2blevel0_row0\" class=\"row_heading level0 row0\" >smart</th>\n",
       "                        <td id=\"T_acaa6862_0068_11ec_b034_02420a39dd2brow0_col0\" class=\"data row0 col0\" >2230</td>\n",
       "                        <td id=\"T_acaa6862_0068_11ec_b034_02420a39dd2brow0_col1\" class=\"data row0 col1\" >124</td>\n",
       "                        <td id=\"T_acaa6862_0068_11ec_b034_02420a39dd2brow0_col2\" class=\"data row0 col2\" >276162</td>\n",
       "                        <td id=\"T_acaa6862_0068_11ec_b034_02420a39dd2brow0_col3\" class=\"data row0 col3\" >2230</td>\n",
       "                        <td id=\"T_acaa6862_0068_11ec_b034_02420a39dd2brow0_col4\" class=\"data row0 col4\" >22</td>\n",
       "                        <td id=\"T_acaa6862_0068_11ec_b034_02420a39dd2brow0_col5\" class=\"data row0 col5\" >50015</td>\n",
       "                        <td id=\"T_acaa6862_0068_11ec_b034_02420a39dd2brow0_col6\" class=\"data row0 col6\" >2230</td>\n",
       "                        <td id=\"T_acaa6862_0068_11ec_b034_02420a39dd2brow0_col7\" class=\"data row0 col7\" >1913</td>\n",
       "                        <td id=\"T_acaa6862_0068_11ec_b034_02420a39dd2brow0_col8\" class=\"data row0 col8\" >4.2668e+06</td>\n",
       "            </tr>\n",
       "            <tr>\n",
       "                        <th id=\"T_acaa6862_0068_11ec_b034_02420a39dd2blevel0_row1\" class=\"row_heading level0 row1\" >ultra</th>\n",
       "                        <td id=\"T_acaa6862_0068_11ec_b034_02420a39dd2brow1_col0\" class=\"data row1 col0\" >986</td>\n",
       "                        <td id=\"T_acaa6862_0068_11ec_b034_02420a39dd2brow1_col1\" class=\"data row1 col1\" >2474</td>\n",
       "                        <td id=\"T_acaa6862_0068_11ec_b034_02420a39dd2brow1_col2\" class=\"data row1 col2\" >2.43928e+06</td>\n",
       "                        <td id=\"T_acaa6862_0068_11ec_b034_02420a39dd2brow1_col3\" class=\"data row1 col3\" >986</td>\n",
       "                        <td id=\"T_acaa6862_0068_11ec_b034_02420a39dd2brow1_col4\" class=\"data row1 col4\" >951</td>\n",
       "                        <td id=\"T_acaa6862_0068_11ec_b034_02420a39dd2brow1_col5\" class=\"data row1 col5\" >937377</td>\n",
       "                        <td id=\"T_acaa6862_0068_11ec_b034_02420a39dd2brow1_col6\" class=\"data row1 col6\" >986</td>\n",
       "                        <td id=\"T_acaa6862_0068_11ec_b034_02420a39dd2brow1_col7\" class=\"data row1 col7\" >12020</td>\n",
       "                        <td id=\"T_acaa6862_0068_11ec_b034_02420a39dd2brow1_col8\" class=\"data row1 col8\" >1.18519e+07</td>\n",
       "            </tr>\n",
       "    </tbody></table>"
      ],
      "text/plain": [
       "<pandas.io.formats.style.Styler at 0x7fa4fd67e050>"
      ]
     },
     "execution_count": 57,
     "metadata": {},
     "output_type": "execute_result"
    }
   ],
   "source": [
    "data_less_tariff = data_less.pivot_table(index=['тариф'],\n",
    "                    values = ['мин. меньше тарифа', 'смс. меньше тарифа', 'трафик меньше тарифа мб.'], \n",
    "                                           aggfunc=('mean', 'sum', 'count'))\n",
    "data_less_tariff = data_less_tariff.round().style.background_gradient(axis=0, cmap='Purples')\n",
    "data_less_tariff"
   ]
  },
  {
   "cell_type": "markdown",
   "metadata": {},
   "source": [
    "Данные расчеты подтверждают ранее выявленные факты, что в тарифе `ultra` имеется избыточное предложение минут, смс. С трафиком ситуация неоднозначна, т.к. ряду пользователей его значительно не хватает, но для большей части он так же избыточен."
   ]
  },
  {
   "cell_type": "markdown",
   "metadata": {},
   "source": [
    "#### Перерасход"
   ]
  },
  {
   "cell_type": "markdown",
   "metadata": {},
   "source": [
    "Сформируем таблицу со средними показателями превышений по всем тарифам"
   ]
  },
  {
   "cell_type": "code",
   "execution_count": 58,
   "metadata": {},
   "outputs": [
    {
     "data": {
      "text/html": [
       "<style  type=\"text/css\" >\n",
       "    #T_acb27e6c_0068_11ec_b034_02420a39dd2brow0_col0 {\n",
       "            background-color:  #3f007d;\n",
       "            color:  #f1f1f1;\n",
       "        }    #T_acb27e6c_0068_11ec_b034_02420a39dd2brow0_col1 {\n",
       "            background-color:  #3f007d;\n",
       "            color:  #f1f1f1;\n",
       "        }    #T_acb27e6c_0068_11ec_b034_02420a39dd2brow0_col2 {\n",
       "            background-color:  #3f007d;\n",
       "            color:  #f1f1f1;\n",
       "        }    #T_acb27e6c_0068_11ec_b034_02420a39dd2brow0_col3 {\n",
       "            background-color:  #3f007d;\n",
       "            color:  #f1f1f1;\n",
       "        }    #T_acb27e6c_0068_11ec_b034_02420a39dd2brow0_col4 {\n",
       "            background-color:  #3f007d;\n",
       "            color:  #f1f1f1;\n",
       "        }    #T_acb27e6c_0068_11ec_b034_02420a39dd2brow0_col5 {\n",
       "            background-color:  #3f007d;\n",
       "            color:  #f1f1f1;\n",
       "        }    #T_acb27e6c_0068_11ec_b034_02420a39dd2brow0_col6 {\n",
       "            background-color:  #3f007d;\n",
       "            color:  #f1f1f1;\n",
       "        }    #T_acb27e6c_0068_11ec_b034_02420a39dd2brow0_col7 {\n",
       "            background-color:  #3f007d;\n",
       "            color:  #f1f1f1;\n",
       "        }    #T_acb27e6c_0068_11ec_b034_02420a39dd2brow0_col8 {\n",
       "            background-color:  #3f007d;\n",
       "            color:  #f1f1f1;\n",
       "        }    #T_acb27e6c_0068_11ec_b034_02420a39dd2brow1_col0 {\n",
       "            background-color:  #fcfbfd;\n",
       "            color:  #000000;\n",
       "        }    #T_acb27e6c_0068_11ec_b034_02420a39dd2brow1_col1 {\n",
       "            background-color:  #fcfbfd;\n",
       "            color:  #000000;\n",
       "        }    #T_acb27e6c_0068_11ec_b034_02420a39dd2brow1_col2 {\n",
       "            background-color:  #fcfbfd;\n",
       "            color:  #000000;\n",
       "        }    #T_acb27e6c_0068_11ec_b034_02420a39dd2brow1_col3 {\n",
       "            background-color:  #fcfbfd;\n",
       "            color:  #000000;\n",
       "        }    #T_acb27e6c_0068_11ec_b034_02420a39dd2brow1_col4 {\n",
       "            background-color:  #fcfbfd;\n",
       "            color:  #000000;\n",
       "        }    #T_acb27e6c_0068_11ec_b034_02420a39dd2brow1_col5 {\n",
       "            background-color:  #fcfbfd;\n",
       "            color:  #000000;\n",
       "        }    #T_acb27e6c_0068_11ec_b034_02420a39dd2brow1_col6 {\n",
       "            background-color:  #fcfbfd;\n",
       "            color:  #000000;\n",
       "        }    #T_acb27e6c_0068_11ec_b034_02420a39dd2brow1_col7 {\n",
       "            background-color:  #fcfbfd;\n",
       "            color:  #000000;\n",
       "        }    #T_acb27e6c_0068_11ec_b034_02420a39dd2brow1_col8 {\n",
       "            background-color:  #fcfbfd;\n",
       "            color:  #000000;\n",
       "        }</style><table id=\"T_acb27e6c_0068_11ec_b034_02420a39dd2b\" ><thead>    <tr>        <th class=\"blank level0\" ></th>        <th class=\"col_heading level0 col0\" colspan=3>мин. сверх тарифа</th>        <th class=\"col_heading level0 col3\" colspan=3>смс. сверх тарифа</th>        <th class=\"col_heading level0 col6\" colspan=3>трафик сверх тарифа мб.</th>    </tr>    <tr>        <th class=\"blank level1\" ></th>        <th class=\"col_heading level1 col0\" >count</th>        <th class=\"col_heading level1 col1\" >mean</th>        <th class=\"col_heading level1 col2\" >sum</th>        <th class=\"col_heading level1 col3\" >count</th>        <th class=\"col_heading level1 col4\" >mean</th>        <th class=\"col_heading level1 col5\" >sum</th>        <th class=\"col_heading level1 col6\" >count</th>        <th class=\"col_heading level1 col7\" >mean</th>        <th class=\"col_heading level1 col8\" >sum</th>    </tr>    <tr>        <th class=\"index_name level0\" >тариф</th>        <th class=\"blank\" ></th>        <th class=\"blank\" ></th>        <th class=\"blank\" ></th>        <th class=\"blank\" ></th>        <th class=\"blank\" ></th>        <th class=\"blank\" ></th>        <th class=\"blank\" ></th>        <th class=\"blank\" ></th>        <th class=\"blank\" ></th>    </tr></thead><tbody>\n",
       "                <tr>\n",
       "                        <th id=\"T_acb27e6c_0068_11ec_b034_02420a39dd2blevel0_row0\" class=\"row_heading level0 row0\" >smart</th>\n",
       "                        <td id=\"T_acb27e6c_0068_11ec_b034_02420a39dd2brow0_col0\" class=\"data row0 col0\" >2230</td>\n",
       "                        <td id=\"T_acb27e6c_0068_11ec_b034_02420a39dd2brow0_col1\" class=\"data row0 col1\" >42</td>\n",
       "                        <td id=\"T_acb27e6c_0068_11ec_b034_02420a39dd2brow0_col2\" class=\"data row0 col2\" >92739</td>\n",
       "                        <td id=\"T_acb27e6c_0068_11ec_b034_02420a39dd2brow0_col3\" class=\"data row0 col3\" >2230</td>\n",
       "                        <td id=\"T_acb27e6c_0068_11ec_b034_02420a39dd2brow0_col4\" class=\"data row0 col4\" >6</td>\n",
       "                        <td id=\"T_acb27e6c_0068_11ec_b034_02420a39dd2brow0_col5\" class=\"data row0 col5\" >12928</td>\n",
       "                        <td id=\"T_acb27e6c_0068_11ec_b034_02420a39dd2brow0_col6\" class=\"data row0 col6\" >2230</td>\n",
       "                        <td id=\"T_acb27e6c_0068_11ec_b034_02420a39dd2brow0_col7\" class=\"data row0 col7\" >2754</td>\n",
       "                        <td id=\"T_acb27e6c_0068_11ec_b034_02420a39dd2brow0_col8\" class=\"data row0 col8\" >6.14249e+06</td>\n",
       "            </tr>\n",
       "            <tr>\n",
       "                        <th id=\"T_acb27e6c_0068_11ec_b034_02420a39dd2blevel0_row1\" class=\"row_heading level0 row1\" >ultra</th>\n",
       "                        <td id=\"T_acb27e6c_0068_11ec_b034_02420a39dd2brow1_col0\" class=\"data row1 col0\" >986</td>\n",
       "                        <td id=\"T_acb27e6c_0068_11ec_b034_02420a39dd2brow1_col1\" class=\"data row1 col1\" >0</td>\n",
       "                        <td id=\"T_acb27e6c_0068_11ec_b034_02420a39dd2brow1_col2\" class=\"data row1 col2\" >0</td>\n",
       "                        <td id=\"T_acb27e6c_0068_11ec_b034_02420a39dd2brow1_col3\" class=\"data row1 col3\" >986</td>\n",
       "                        <td id=\"T_acb27e6c_0068_11ec_b034_02420a39dd2brow1_col4\" class=\"data row1 col4\" >0</td>\n",
       "                        <td id=\"T_acb27e6c_0068_11ec_b034_02420a39dd2brow1_col5\" class=\"data row1 col5\" >0</td>\n",
       "                        <td id=\"T_acb27e6c_0068_11ec_b034_02420a39dd2brow1_col6\" class=\"data row1 col6\" >986</td>\n",
       "                        <td id=\"T_acb27e6c_0068_11ec_b034_02420a39dd2brow1_col7\" class=\"data row1 col7\" >749</td>\n",
       "                        <td id=\"T_acb27e6c_0068_11ec_b034_02420a39dd2brow1_col8\" class=\"data row1 col8\" >738788</td>\n",
       "            </tr>\n",
       "    </tbody></table>"
      ],
      "text/plain": [
       "<pandas.io.formats.style.Styler at 0x7fa4fd2f6ad0>"
      ]
     },
     "execution_count": 58,
     "metadata": {},
     "output_type": "execute_result"
    }
   ],
   "source": [
    "data_over_tariff = data_final.pivot_table(index=['тариф'],\n",
    "                    values = ['мин. сверх тарифа', 'смс. сверх тарифа', 'трафик сверх тарифа мб.'], \n",
    "                                           aggfunc=('mean', 'sum', 'count'))\n",
    "data_over_tariff = data_over_tariff.round().style.background_gradient(axis=0, cmap='Purples')\n",
    "data_over_tariff"
   ]
  },
  {
   "cell_type": "markdown",
   "metadata": {},
   "source": [
    "Видим, что пользователям тарифа `smart` сталкиваются с нехваткой по всем показателям. У пользователей тарифа `ultra` иногда возникают проблемы только с интернетом."
   ]
  },
  {
   "cell_type": "markdown",
   "metadata": {},
   "source": [
    "## Проверка гипотезы"
   ]
  },
  {
   "cell_type": "markdown",
   "metadata": {},
   "source": [
    "### Гипотеза 1. Средняя выручка пользователей тарифов «Ультра» и «Смарт» различаются."
   ]
  },
  {
   "cell_type": "markdown",
   "metadata": {},
   "source": [
    "- Нулевая гипотеза: средняя выручка пользователей тарифов «Ультра» и «Смарт» не различается.\n",
    "- Альтернативная гипотеза: средняя выручка пользователей тарифов «Ультра» и «Смарт» различается."
   ]
  },
  {
   "cell_type": "code",
   "execution_count": 59,
   "metadata": {},
   "outputs": [
    {
     "data": {
      "text/plain": [
       "месяц\n",
       "1.0      721.323529\n",
       "2.0      827.603448\n",
       "3.0     1164.623377\n",
       "4.0      963.089286\n",
       "5.0     1197.510638\n",
       "6.0     1204.018293\n",
       "7.0     1223.950249\n",
       "8.0     1320.595745\n",
       "9.0     1249.946154\n",
       "10.0    1364.853741\n",
       "11.0    1343.047468\n",
       "12.0    1575.488166\n",
       "Name: всего за месяц, руб., dtype: float64"
      ]
     },
     "execution_count": 59,
     "metadata": {},
     "output_type": "execute_result"
    }
   ],
   "source": [
    "revenue_smart = data_final[data_final['тариф'] == 'smart'].pivot_table(\n",
    "                index='месяц',values='всего за месяц, руб.',\n",
    "                aggfunc='mean')\n",
    "revenue_smart_final = revenue_smart['всего за месяц, руб.']\n",
    "revenue_smart_final"
   ]
  },
  {
   "cell_type": "code",
   "execution_count": 60,
   "metadata": {},
   "outputs": [
    {
     "data": {
      "text/plain": [
       "месяц\n",
       "1.0     1950.0\n",
       "2.0     1950.0\n",
       "3.0     1950.0\n",
       "4.0     1950.0\n",
       "5.0     1950.0\n",
       "6.0     1950.0\n",
       "7.0     1950.0\n",
       "8.0     1950.0\n",
       "9.0     1950.0\n",
       "10.0    1950.0\n",
       "11.0    1950.0\n",
       "12.0    1950.0\n",
       "Name: всего за месяц, руб., dtype: float64"
      ]
     },
     "execution_count": 60,
     "metadata": {},
     "output_type": "execute_result"
    }
   ],
   "source": [
    "revenue_ultra = data_final.loc[data_final['тариф'] == 'ultra'].pivot_table(\n",
    "                index='месяц',values='всего за месяц, руб.',\n",
    "                aggfunc='mean')\n",
    "revenue_ultra_final = revenue_ultra['всего за месяц, руб.']\n",
    "revenue_ultra_final"
   ]
  },
  {
   "cell_type": "code",
   "execution_count": 61,
   "metadata": {},
   "outputs": [
    {
     "name": "stdout",
     "output_type": "stream",
     "text": [
      "p-значение: 1.524348592011026e-10\n",
      "Отвергаем нулевую гипотезу\n"
     ]
    }
   ],
   "source": [
    "alpha = 0.05    # критический уровень статистической значимости\n",
    "                # если p-value окажется меньше него - отвергнем гипотезу\n",
    "\n",
    "\n",
    "results = st.ttest_ind(revenue_smart_final, revenue_ultra_final)\n",
    "print('p-значение:', results.pvalue)\n",
    "if (results.pvalue < alpha):\n",
    "    print(\"Отвергаем нулевую гипотезу\")\n",
    "else:\n",
    "    print(\"Не получилось отвергнуть нулевую гипотезу\")       "
   ]
  },
  {
   "cell_type": "markdown",
   "metadata": {},
   "source": [
    "__Средняя выручка пользователей тарифов «Ультра» и «Смарт» различается.__"
   ]
  },
  {
   "cell_type": "markdown",
   "metadata": {},
   "source": [
    "__Определим насколько она отличается. Отобразим на круговой диаграмме__"
   ]
  },
  {
   "cell_type": "code",
   "execution_count": 62,
   "metadata": {},
   "outputs": [
    {
     "data": {
      "image/png": "[encoded data removed]",
      "text/plain": [
       "<Figure size 1800x360 with 1 Axes>"
      ]
     },
     "metadata": {},
     "output_type": "display_data"
    }
   ],
   "source": [
    "all_revenue = data_final['всего за месяц, руб.'].sum()\n",
    "\n",
    "def func_pct(pct):\n",
    "    value = float(pct/100.*all_revenue)\n",
    "    return \"{:.2f}%\\n({:,.0f} руб.)\".format(pct, value)\n",
    "\n",
    "axes = data_final.groupby('тариф')['всего за месяц, руб.'].sum().plot(kind='pie', \n",
    "                                                                      title = 'Общая выручка за год по тарифам, руб.',\n",
    "                                                                      fontsize=14, \n",
    "                                                                      figsize=(25,5), \n",
    "                                                                      subplots=True, \n",
    "                                                                      pctdistance=0.5, \n",
    "                                                                      autopct=lambda pct: func_pct(pct))\n",
    "\n",
    "for ax in axes:\n",
    "    ax.legend(['Smart', 'Ultra'], bbox_to_anchor=(1,1), prop={'size':15})\n",
    "    ax.set_ylabel('')"
   ]
  },
  {
   "cell_type": "markdown",
   "metadata": {},
   "source": [
    "Соотношение 60 на 40. Пользователей тарифа `smart` больше, чем пользователей тарифа `ultra` и несмотря на меньшую сумму платежа в месяц, даже с учетом перерасходов, они все равно приносят большую выручку, чем меньшее количество пользователей с более дорогим тарифом."
   ]
  },
  {
   "cell_type": "markdown",
   "metadata": {},
   "source": [
    "### Гипотеза 2. Средняя выручка пользователей из Москвы отличается от выручки пользователей из других регионов."
   ]
  },
  {
   "cell_type": "markdown",
   "metadata": {},
   "source": [
    "- Нулевая гипотеза: средняя выручка пользователей из Москвы __не отличается__ от выручки пользователей из регионов.\n",
    "- Альтернативная гипотеза: средняя выручка пользователей из Москвы __отличается__ от выручки пользователей из регионов."
   ]
  },
  {
   "cell_type": "markdown",
   "metadata": {},
   "source": [
    "Определим из каких городов клиенты"
   ]
  },
  {
   "cell_type": "code",
   "execution_count": 63,
   "metadata": {},
   "outputs": [
    {
     "data": {
      "text/html": [
       "<div>\n",
       "<style scoped>\n",
       "    .dataframe tbody tr th:only-of-type {\n",
       "        vertical-align: middle;\n",
       "    }\n",
       "\n",
       "    .dataframe tbody tr th {\n",
       "        vertical-align: top;\n",
       "    }\n",
       "\n",
       "    .dataframe thead th {\n",
       "        text-align: right;\n",
       "    }\n",
       "</style>\n",
       "<table border=\"1\" class=\"dataframe\">\n",
       "  <thead>\n",
       "    <tr style=\"text-align: right;\">\n",
       "      <th></th>\n",
       "      <th>count</th>\n",
       "    </tr>\n",
       "    <tr>\n",
       "      <th>city</th>\n",
       "      <th></th>\n",
       "    </tr>\n",
       "  </thead>\n",
       "  <tbody>\n",
       "    <tr>\n",
       "      <td>Москва</td>\n",
       "      <td>99</td>\n",
       "    </tr>\n",
       "    <tr>\n",
       "      <td>Санкт-Петербург</td>\n",
       "      <td>39</td>\n",
       "    </tr>\n",
       "    <tr>\n",
       "      <td>Новосибирск</td>\n",
       "      <td>16</td>\n",
       "    </tr>\n",
       "    <tr>\n",
       "      <td>Казань</td>\n",
       "      <td>14</td>\n",
       "    </tr>\n",
       "    <tr>\n",
       "      <td>Омск</td>\n",
       "      <td>14</td>\n",
       "    </tr>\n",
       "    <tr>\n",
       "      <td>...</td>\n",
       "      <td>...</td>\n",
       "    </tr>\n",
       "    <tr>\n",
       "      <td>Подольск</td>\n",
       "      <td>1</td>\n",
       "    </tr>\n",
       "    <tr>\n",
       "      <td>Химки</td>\n",
       "      <td>1</td>\n",
       "    </tr>\n",
       "    <tr>\n",
       "      <td>Иваново</td>\n",
       "      <td>1</td>\n",
       "    </tr>\n",
       "    <tr>\n",
       "      <td>Нижневартовск</td>\n",
       "      <td>1</td>\n",
       "    </tr>\n",
       "    <tr>\n",
       "      <td>Архангельск</td>\n",
       "      <td>1</td>\n",
       "    </tr>\n",
       "  </tbody>\n",
       "</table>\n",
       "<p>76 rows × 1 columns</p>\n",
       "</div>"
      ],
      "text/plain": [
       "                 count\n",
       "city                  \n",
       "Москва              99\n",
       "Санкт-Петербург     39\n",
       "Новосибирск         16\n",
       "Казань              14\n",
       "Омск                14\n",
       "...                ...\n",
       "Подольск             1\n",
       "Химки                1\n",
       "Иваново              1\n",
       "Нижневартовск        1\n",
       "Архангельск          1\n",
       "\n",
       "[76 rows x 1 columns]"
      ]
     },
     "execution_count": 63,
     "metadata": {},
     "output_type": "execute_result"
    }
   ],
   "source": [
    "users.groupby('city').count().sort_values('city' , ascending = False).index\n",
    "users_final_table=users.pivot_table(index = 'city',values = 'user_id', \n",
    "                                        aggfunc = 'count').sort_values(by='user_id', ascending = False)\n",
    "users_final_table.columns = ['count']\n",
    "users_final_table"
   ]
  },
  {
   "cell_type": "markdown",
   "metadata": {},
   "source": [
    "76 городов, больше всего пользователей в Москве и Санкт-Петербурге"
   ]
  },
  {
   "cell_type": "markdown",
   "metadata": {},
   "source": [
    "Создадим значения для Москвы и регионов"
   ]
  },
  {
   "cell_type": "code",
   "execution_count": 64,
   "metadata": {},
   "outputs": [
    {
     "data": {
      "text/plain": [
       "месяц\n",
       "1.0     1475.000000\n",
       "2.0     1153.714286\n",
       "3.0     1589.600000\n",
       "4.0     1498.137931\n",
       "5.0     1395.897436\n",
       "6.0     1462.425532\n",
       "7.0     1408.392857\n",
       "8.0     1566.838710\n",
       "9.0     1502.220588\n",
       "10.0    1488.530864\n",
       "11.0    1527.373626\n",
       "12.0    1594.281250\n",
       "Name: всего за месяц, руб., dtype: float64"
      ]
     },
     "execution_count": 64,
     "metadata": {},
     "output_type": "execute_result"
    }
   ],
   "source": [
    "moscow_revenue = data_final.loc[data_final['город'] == 'Москва'].pivot_table(\n",
    "                 index='месяц', values='всего за месяц, руб.', aggfunc='mean')\n",
    "moscow_revenue = moscow_revenue['всего за месяц, руб.']\n",
    "moscow_revenue"
   ]
  },
  {
   "cell_type": "code",
   "execution_count": 65,
   "metadata": {},
   "outputs": [
    {
     "data": {
      "text/plain": [
       "месяц\n",
       "1.0      865.000000\n",
       "2.0     1156.602941\n",
       "3.0     1383.340426\n",
       "4.0     1243.985507\n",
       "5.0     1450.053254\n",
       "6.0     1455.348259\n",
       "7.0     1460.144068\n",
       "8.0     1506.592857\n",
       "9.0     1456.302932\n",
       "10.0    1549.244048\n",
       "11.0    1522.874652\n",
       "12.0    1708.020942\n",
       "Name: всего за месяц, руб., dtype: float64"
      ]
     },
     "execution_count": 65,
     "metadata": {},
     "output_type": "execute_result"
    }
   ],
   "source": [
    "regions_revenue = data_final.loc[data_final['город'] != 'Москва'].pivot_table(\n",
    "                 index='месяц', values='всего за месяц, руб.', aggfunc='mean')\n",
    "regions_revenue = regions_revenue['всего за месяц, руб.']\n",
    "regions_revenue"
   ]
  },
  {
   "cell_type": "code",
   "execution_count": 66,
   "metadata": {},
   "outputs": [
    {
     "name": "stdout",
     "output_type": "stream",
     "text": [
      "p-значение: 0.30477996433572224\n",
      "Не получилось отвергнуть нулевую гипотезу\n"
     ]
    }
   ],
   "source": [
    "alpha = 0.05    # критический уровень статистической значимости\n",
    "                # если p-value окажется меньше него - отвергнем гипотезу\n",
    "\n",
    "\n",
    "results = st.ttest_ind(moscow_revenue, regions_revenue)\n",
    "print('p-значение:', results.pvalue)\n",
    "if (results.pvalue < alpha):\n",
    "    print(\"Отвергаем нулевую гипотезу\")\n",
    "else:\n",
    "    print(\"Не получилось отвергнуть нулевую гипотезу\") "
   ]
  },
  {
   "cell_type": "markdown",
   "metadata": {},
   "source": [
    "__Средняя выручка пользователей из Москвы не отличается от выручки пользователей из регионов.__"
   ]
  },
  {
   "cell_type": "markdown",
   "metadata": {},
   "source": [
    "## Общий вывод"
   ]
  },
  {
   "cell_type": "markdown",
   "metadata": {},
   "source": [
    "__В процессе анализа выявлено:__"
   ]
  },
  {
   "cell_type": "markdown",
   "metadata": {},
   "source": [
    "1. Количество пользователей тарифами в течение года росло.  \n",
    "2. Выявлено, что не все пользовтаели в равной мере пользуются звонками, смс и интернетом. В отдельные периоды значения могут быть нулевыми. Наличие расходов сверх тарифа для пользователей так же имеет место быть.\n",
    "3. Отдельные пользователи тарифов могут значительно превышать лимиты тарифов.\n",
    "4. Пользователи тарифа `smart` сталкиваются с нехваткой включенных в тариф лимитов и часто докупают дополнительно минуты, смс, трафик. У пользователей тарифа `ultra` обратная ситуация - предлагаемые лимиты звонков и смс очень избыточны для всех пользователей, лимит трафика в среднем ипользуется на 65% (19,5 гб из 30 гб).  \n",
    "5. Пользователи тарифа `smart` в среднем в месяц переплачивают 740 рублей, это больше чем цена тарифа, которая составляет 550 руб. \n",
    "6. Пользователи тарифа `ultra` в среднем в месяц не переплачивают.\n",
    "7. Пользователям тарифа smart в среднем необходимо:  \n",
    "        418 минут  \n",
    "        33 смс  \n",
    "        16201 мб  \n",
    "8. Пользователям тарифа ultra в среднем необходимо:  \n",
    "        526 минут  \n",
    "        49 смс  \n",
    "        19449 мб  \n",
    "7. По результатам `t` тестирования было выявлено, что средняя выручка пользователей тарифов «Ультра» и «Смарт» различается. Большее количество пользователей дешевого тарифа `smart` приносят суммарную выручку больше, чем меньшее количество пользователей с более дорогим тарифом `ultra`. Коммерческому Департаменту в поставленных задачах по коректировке рекламного бюджета стоит руководствоваться тем фактом, что тариф  `smart` приносит больше денег.   \n",
    "8. По результатам `t` тестирования было выявлено, что средняя выручка пользователей из Москвы не отличается от выручки пользователей из регионов. При этом мы знаем, что всего пользователей 500, в Москве пользователей 99, в регионах соответственно 401. Вполне возможно на данный результат повлияала разница в используемых тарифах и датах подключения.  "
   ]
  }
 ],
 "metadata": {
  "ExecuteTimeLog": [
   {
    "duration": 1657,
    "start_time": "2021-08-11T20:24:11.370Z"
   },
   {
    "duration": 6,
    "start_time": "2021-08-11T20:24:16.256Z"
   },
   {
    "duration": 533,
    "start_time": "2021-08-11T20:24:47.968Z"
   },
   {
    "duration": 23,
    "start_time": "2021-08-11T20:28:56.083Z"
   },
   {
    "duration": 11,
    "start_time": "2021-08-11T20:29:13.567Z"
   },
   {
    "duration": 12,
    "start_time": "2021-08-11T20:29:25.879Z"
   },
   {
    "duration": 1382,
    "start_time": "2021-08-11T20:30:39.752Z"
   },
   {
    "duration": 551,
    "start_time": "2021-08-11T20:30:41.137Z"
   },
   {
    "duration": 20,
    "start_time": "2021-08-11T20:30:41.690Z"
   },
   {
    "duration": 13,
    "start_time": "2021-08-11T20:30:41.713Z"
   },
   {
    "duration": 31,
    "start_time": "2021-08-11T20:30:41.729Z"
   },
   {
    "duration": 27,
    "start_time": "2021-08-11T20:30:41.762Z"
   },
   {
    "duration": 11,
    "start_time": "2021-08-11T20:30:41.791Z"
   },
   {
    "duration": 20,
    "start_time": "2021-08-11T20:30:41.805Z"
   },
   {
    "duration": 13,
    "start_time": "2021-08-11T20:30:41.856Z"
   },
   {
    "duration": 26,
    "start_time": "2021-08-11T20:30:41.871Z"
   },
   {
    "duration": 12,
    "start_time": "2021-08-11T20:30:41.900Z"
   },
   {
    "duration": 45,
    "start_time": "2021-08-11T20:30:41.915Z"
   },
   {
    "duration": 354,
    "start_time": "2021-08-11T20:33:53.021Z"
   },
   {
    "duration": 12,
    "start_time": "2021-08-11T20:34:03.973Z"
   },
   {
    "duration": 7,
    "start_time": "2021-08-11T20:34:11.037Z"
   },
   {
    "duration": 12,
    "start_time": "2021-08-11T20:34:15.612Z"
   },
   {
    "duration": 319,
    "start_time": "2021-08-12T18:55:50.348Z"
   },
   {
    "duration": 262,
    "start_time": "2021-08-12T18:55:58.463Z"
   },
   {
    "duration": 258,
    "start_time": "2021-08-12T18:56:09.683Z"
   },
   {
    "duration": 1337,
    "start_time": "2021-08-12T18:56:14.588Z"
   },
   {
    "duration": 535,
    "start_time": "2021-08-12T18:56:16.787Z"
   },
   {
    "duration": 352,
    "start_time": "2021-08-12T18:56:30.219Z"
   },
   {
    "duration": 24,
    "start_time": "2021-08-12T18:56:38.763Z"
   },
   {
    "duration": 30,
    "start_time": "2021-08-12T18:56:52.498Z"
   },
   {
    "duration": 263,
    "start_time": "2021-08-12T18:57:26.695Z"
   },
   {
    "duration": 21,
    "start_time": "2021-08-12T18:57:35.123Z"
   },
   {
    "duration": 21,
    "start_time": "2021-08-12T18:57:47.346Z"
   },
   {
    "duration": 22,
    "start_time": "2021-08-12T18:57:51.611Z"
   },
   {
    "duration": 22,
    "start_time": "2021-08-12T18:58:57.082Z"
   },
   {
    "duration": 20,
    "start_time": "2021-08-12T18:59:22.625Z"
   },
   {
    "duration": 24,
    "start_time": "2021-08-12T18:59:27.009Z"
   },
   {
    "duration": 45,
    "start_time": "2021-08-12T19:01:48.050Z"
   },
   {
    "duration": 22,
    "start_time": "2021-08-12T19:01:59.185Z"
   },
   {
    "duration": 1298,
    "start_time": "2021-08-12T19:02:11.215Z"
   },
   {
    "duration": 531,
    "start_time": "2021-08-12T19:02:12.516Z"
   },
   {
    "duration": 21,
    "start_time": "2021-08-12T19:02:13.051Z"
   },
   {
    "duration": 14,
    "start_time": "2021-08-12T19:02:13.074Z"
   },
   {
    "duration": 12,
    "start_time": "2021-08-12T19:02:13.091Z"
   },
   {
    "duration": 57,
    "start_time": "2021-08-12T19:02:13.106Z"
   },
   {
    "duration": 25,
    "start_time": "2021-08-12T19:02:13.166Z"
   },
   {
    "duration": 63,
    "start_time": "2021-08-12T19:02:13.193Z"
   },
   {
    "duration": 22,
    "start_time": "2021-08-12T19:02:13.259Z"
   },
   {
    "duration": 10,
    "start_time": "2021-08-12T19:02:13.284Z"
   },
   {
    "duration": 19,
    "start_time": "2021-08-12T19:02:13.297Z"
   },
   {
    "duration": 43,
    "start_time": "2021-08-12T19:02:13.318Z"
   },
   {
    "duration": 26,
    "start_time": "2021-08-12T19:02:13.364Z"
   },
   {
    "duration": 12,
    "start_time": "2021-08-12T19:02:13.393Z"
   },
   {
    "duration": 13,
    "start_time": "2021-08-12T19:02:13.408Z"
   },
   {
    "duration": 60,
    "start_time": "2021-08-12T19:06:43.657Z"
   },
   {
    "duration": 14,
    "start_time": "2021-08-12T19:06:45.217Z"
   },
   {
    "duration": 47,
    "start_time": "2021-08-12T19:07:08.456Z"
   },
   {
    "duration": 13,
    "start_time": "2021-08-12T19:07:10.032Z"
   },
   {
    "duration": 25,
    "start_time": "2021-08-12T19:07:17.713Z"
   },
   {
    "duration": 541,
    "start_time": "2021-08-12T19:09:23.104Z"
   },
   {
    "duration": 437,
    "start_time": "2021-08-12T19:09:33.344Z"
   },
   {
    "duration": 446,
    "start_time": "2021-08-12T19:10:03.696Z"
   },
   {
    "duration": 532,
    "start_time": "2021-08-12T19:10:08.095Z"
   },
   {
    "duration": 512,
    "start_time": "2021-08-12T19:10:21.927Z"
   },
   {
    "duration": 588,
    "start_time": "2021-08-12T19:10:27.103Z"
   },
   {
    "duration": 507,
    "start_time": "2021-08-12T19:10:35.480Z"
   },
   {
    "duration": 511,
    "start_time": "2021-08-12T19:11:17.967Z"
   },
   {
    "duration": 534,
    "start_time": "2021-08-12T19:11:21.158Z"
   },
   {
    "duration": 572,
    "start_time": "2021-08-12T19:11:23.750Z"
   },
   {
    "duration": 597,
    "start_time": "2021-08-12T19:11:28.366Z"
   },
   {
    "duration": 519,
    "start_time": "2021-08-12T19:11:45.918Z"
   },
   {
    "duration": 527,
    "start_time": "2021-08-12T19:12:09.758Z"
   },
   {
    "duration": 503,
    "start_time": "2021-08-12T19:12:16.495Z"
   },
   {
    "duration": 524,
    "start_time": "2021-08-12T19:12:20.551Z"
   },
   {
    "duration": 564,
    "start_time": "2021-08-12T19:12:47.774Z"
   },
   {
    "duration": 13,
    "start_time": "2021-08-12T19:19:17.076Z"
   },
   {
    "duration": 19,
    "start_time": "2021-08-12T19:19:28.156Z"
   },
   {
    "duration": 18,
    "start_time": "2021-08-12T19:19:31.812Z"
   },
   {
    "duration": 18,
    "start_time": "2021-08-12T19:19:34.292Z"
   },
   {
    "duration": 19,
    "start_time": "2021-08-12T19:25:32.882Z"
   },
   {
    "duration": 14,
    "start_time": "2021-08-12T19:28:57.824Z"
   },
   {
    "duration": 26,
    "start_time": "2021-08-12T19:30:32.855Z"
   },
   {
    "duration": 97,
    "start_time": "2021-08-12T19:31:33.263Z"
   },
   {
    "duration": 86,
    "start_time": "2021-08-12T19:31:46.854Z"
   },
   {
    "duration": 26,
    "start_time": "2021-08-12T19:31:52.991Z"
   },
   {
    "duration": 12,
    "start_time": "2021-08-12T19:31:59.719Z"
   },
   {
    "duration": 1395,
    "start_time": "2021-08-12T19:35:03.340Z"
   },
   {
    "duration": 537,
    "start_time": "2021-08-12T19:35:04.738Z"
   },
   {
    "duration": 21,
    "start_time": "2021-08-12T19:35:05.278Z"
   },
   {
    "duration": 16,
    "start_time": "2021-08-12T19:35:05.302Z"
   },
   {
    "duration": 17,
    "start_time": "2021-08-12T19:35:05.320Z"
   },
   {
    "duration": 31,
    "start_time": "2021-08-12T19:35:05.340Z"
   },
   {
    "duration": 20,
    "start_time": "2021-08-12T19:35:05.374Z"
   },
   {
    "duration": 28,
    "start_time": "2021-08-12T19:35:05.397Z"
   },
   {
    "duration": 44,
    "start_time": "2021-08-12T19:35:05.428Z"
   },
   {
    "duration": 671,
    "start_time": "2021-08-12T19:35:05.475Z"
   },
   {
    "duration": 12,
    "start_time": "2021-08-12T19:35:06.148Z"
   },
   {
    "duration": 27,
    "start_time": "2021-08-12T19:35:06.162Z"
   },
   {
    "duration": 15,
    "start_time": "2021-08-12T19:35:06.192Z"
   },
   {
    "duration": 29,
    "start_time": "2021-08-12T19:35:06.210Z"
   },
   {
    "duration": 14,
    "start_time": "2021-08-12T19:35:06.242Z"
   },
   {
    "duration": 27,
    "start_time": "2021-08-12T19:35:06.258Z"
   },
   {
    "duration": 30,
    "start_time": "2021-08-12T19:35:06.287Z"
   },
   {
    "duration": 13,
    "start_time": "2021-08-12T19:35:06.319Z"
   },
   {
    "duration": 9,
    "start_time": "2021-08-12T19:35:06.334Z"
   },
   {
    "duration": 458,
    "start_time": "2021-08-12T19:35:17.845Z"
   },
   {
    "duration": 520,
    "start_time": "2021-08-12T19:35:22.748Z"
   },
   {
    "duration": 6353,
    "start_time": "2021-08-12T19:47:29.024Z"
   },
   {
    "duration": 67,
    "start_time": "2021-08-12T19:47:53.215Z"
   },
   {
    "duration": 23,
    "start_time": "2021-08-12T19:47:55.519Z"
   },
   {
    "duration": 258,
    "start_time": "2021-08-12T19:48:13.736Z"
   },
   {
    "duration": 9,
    "start_time": "2021-08-12T19:48:16.536Z"
   },
   {
    "duration": 18,
    "start_time": "2021-08-12T19:48:24.601Z"
   },
   {
    "duration": 16,
    "start_time": "2021-08-12T19:48:29.608Z"
   },
   {
    "duration": 36,
    "start_time": "2021-08-12T19:51:33.983Z"
   },
   {
    "duration": 21,
    "start_time": "2021-08-12T19:51:42.606Z"
   },
   {
    "duration": 519,
    "start_time": "2021-08-12T19:54:33.037Z"
   },
   {
    "duration": 271,
    "start_time": "2021-08-13T16:44:58.335Z"
   },
   {
    "duration": 1016,
    "start_time": "2021-08-13T16:45:05.162Z"
   },
   {
    "duration": 510,
    "start_time": "2021-08-13T16:45:06.179Z"
   },
   {
    "duration": 16,
    "start_time": "2021-08-13T16:45:06.691Z"
   },
   {
    "duration": 14,
    "start_time": "2021-08-13T16:45:06.709Z"
   },
   {
    "duration": 16,
    "start_time": "2021-08-13T16:45:06.724Z"
   },
   {
    "duration": 33,
    "start_time": "2021-08-13T16:45:06.742Z"
   },
   {
    "duration": 18,
    "start_time": "2021-08-13T16:45:06.776Z"
   },
   {
    "duration": 27,
    "start_time": "2021-08-13T16:45:06.796Z"
   },
   {
    "duration": 44,
    "start_time": "2021-08-13T16:45:06.826Z"
   },
   {
    "duration": 432,
    "start_time": "2021-08-13T16:45:06.872Z"
   },
   {
    "duration": 9,
    "start_time": "2021-08-13T16:45:07.306Z"
   },
   {
    "duration": 40,
    "start_time": "2021-08-13T16:45:07.316Z"
   },
   {
    "duration": 15,
    "start_time": "2021-08-13T16:45:07.357Z"
   },
   {
    "duration": 33,
    "start_time": "2021-08-13T16:45:07.374Z"
   },
   {
    "duration": 11,
    "start_time": "2021-08-13T16:45:07.409Z"
   },
   {
    "duration": 32,
    "start_time": "2021-08-13T16:45:07.421Z"
   },
   {
    "duration": 23,
    "start_time": "2021-08-13T16:45:07.455Z"
   },
   {
    "duration": 420,
    "start_time": "2021-08-13T16:45:07.480Z"
   },
   {
    "duration": 9,
    "start_time": "2021-08-13T16:45:07.902Z"
   },
   {
    "duration": 14,
    "start_time": "2021-08-13T16:45:07.912Z"
   },
   {
    "duration": 74,
    "start_time": "2021-08-13T16:45:07.927Z"
   },
   {
    "duration": 6232,
    "start_time": "2021-08-13T16:45:08.003Z"
   },
   {
    "duration": 6284,
    "start_time": "2021-08-13T16:47:40.177Z"
   },
   {
    "duration": 15,
    "start_time": "2021-08-13T16:48:14.722Z"
   },
   {
    "duration": 272,
    "start_time": "2021-08-13T16:48:16.874Z"
   },
   {
    "duration": 41,
    "start_time": "2021-08-13T16:48:21.761Z"
   },
   {
    "duration": 13,
    "start_time": "2021-08-13T16:55:57.278Z"
   },
   {
    "duration": 124,
    "start_time": "2021-08-13T16:57:22.026Z"
   },
   {
    "duration": 19,
    "start_time": "2021-08-13T16:57:23.461Z"
   },
   {
    "duration": 103,
    "start_time": "2021-08-13T17:13:12.072Z"
   },
   {
    "duration": 18,
    "start_time": "2021-08-13T17:13:13.536Z"
   },
   {
    "duration": 7,
    "start_time": "2021-08-13T17:13:33.276Z"
   },
   {
    "duration": 8,
    "start_time": "2021-08-13T17:13:43.175Z"
   },
   {
    "duration": 25,
    "start_time": "2021-08-13T17:17:37.430Z"
   },
   {
    "duration": 50,
    "start_time": "2021-08-13T17:21:36.393Z"
   },
   {
    "duration": 73,
    "start_time": "2021-08-13T17:21:37.532Z"
   },
   {
    "duration": 11,
    "start_time": "2021-08-13T17:21:38.645Z"
   },
   {
    "duration": 17,
    "start_time": "2021-08-13T17:21:46.197Z"
   },
   {
    "duration": 272,
    "start_time": "2021-08-13T17:23:49.556Z"
   },
   {
    "duration": 67,
    "start_time": "2021-08-13T17:23:54.939Z"
   },
   {
    "duration": 52,
    "start_time": "2021-08-13T17:24:41.819Z"
   },
   {
    "duration": 21,
    "start_time": "2021-08-13T17:25:43.907Z"
   },
   {
    "duration": 996,
    "start_time": "2021-08-13T17:29:08.010Z"
   },
   {
    "duration": 3,
    "start_time": "2021-08-13T17:29:45.362Z"
   },
   {
    "duration": 19,
    "start_time": "2021-08-13T17:30:00.665Z"
   },
   {
    "duration": 19,
    "start_time": "2021-08-13T17:30:17.142Z"
   },
   {
    "duration": 19,
    "start_time": "2021-08-13T17:31:12.840Z"
   },
   {
    "duration": 13,
    "start_time": "2021-08-13T17:31:40.008Z"
   },
   {
    "duration": 23,
    "start_time": "2021-08-13T17:31:45.872Z"
   },
   {
    "duration": 269,
    "start_time": "2021-08-13T17:34:16.576Z"
   },
   {
    "duration": 21,
    "start_time": "2021-08-13T17:34:23.480Z"
   },
   {
    "duration": 53,
    "start_time": "2021-08-13T17:35:00.383Z"
   },
   {
    "duration": 14,
    "start_time": "2021-08-13T17:36:48.038Z"
   },
   {
    "duration": 20,
    "start_time": "2021-08-13T17:37:21.392Z"
   },
   {
    "duration": 15,
    "start_time": "2021-08-13T17:37:35.886Z"
   },
   {
    "duration": 6062,
    "start_time": "2021-08-13T17:42:31.704Z"
   },
   {
    "duration": 10,
    "start_time": "2021-08-13T17:42:45.013Z"
   },
   {
    "duration": 9,
    "start_time": "2021-08-13T17:43:58.363Z"
   },
   {
    "duration": 87,
    "start_time": "2021-08-13T17:47:31.975Z"
   },
   {
    "duration": 46,
    "start_time": "2021-08-13T17:47:36.009Z"
   },
   {
    "duration": 3552,
    "start_time": "2021-08-13T19:00:23.336Z"
   },
   {
    "duration": 1368,
    "start_time": "2021-08-13T19:00:59.710Z"
   },
   {
    "duration": 559,
    "start_time": "2021-08-13T19:01:01.081Z"
   },
   {
    "duration": 19,
    "start_time": "2021-08-13T19:01:01.642Z"
   },
   {
    "duration": 9,
    "start_time": "2021-08-13T19:01:01.664Z"
   },
   {
    "duration": 14,
    "start_time": "2021-08-13T19:01:01.675Z"
   },
   {
    "duration": 51,
    "start_time": "2021-08-13T19:01:01.691Z"
   },
   {
    "duration": 20,
    "start_time": "2021-08-13T19:01:01.744Z"
   },
   {
    "duration": 24,
    "start_time": "2021-08-13T19:01:01.766Z"
   },
   {
    "duration": 65,
    "start_time": "2021-08-13T19:01:01.794Z"
   },
   {
    "duration": 552,
    "start_time": "2021-08-13T19:01:01.862Z"
   },
   {
    "duration": 10,
    "start_time": "2021-08-13T19:01:02.416Z"
   },
   {
    "duration": 35,
    "start_time": "2021-08-13T19:01:02.428Z"
   },
   {
    "duration": 15,
    "start_time": "2021-08-13T19:01:02.465Z"
   },
   {
    "duration": 25,
    "start_time": "2021-08-13T19:01:02.482Z"
   },
   {
    "duration": 12,
    "start_time": "2021-08-13T19:01:02.509Z"
   },
   {
    "duration": 17,
    "start_time": "2021-08-13T19:01:02.542Z"
   },
   {
    "duration": 20,
    "start_time": "2021-08-13T19:01:02.561Z"
   },
   {
    "duration": 346,
    "start_time": "2021-08-13T19:01:02.582Z"
   },
   {
    "duration": 13,
    "start_time": "2021-08-13T19:01:02.930Z"
   },
   {
    "duration": 10,
    "start_time": "2021-08-13T19:01:02.945Z"
   },
   {
    "duration": 66,
    "start_time": "2021-08-13T19:01:02.957Z"
   },
   {
    "duration": 134,
    "start_time": "2021-08-13T19:01:03.025Z"
   },
   {
    "duration": 16,
    "start_time": "2021-08-13T19:01:03.161Z"
   },
   {
    "duration": 124,
    "start_time": "2021-08-13T19:01:03.178Z"
   },
   {
    "duration": 37,
    "start_time": "2021-08-13T19:01:03.304Z"
   },
   {
    "duration": 25,
    "start_time": "2021-08-13T19:01:03.342Z"
   },
   {
    "duration": 72,
    "start_time": "2021-08-13T19:01:03.370Z"
   },
   {
    "duration": 13,
    "start_time": "2021-08-13T19:01:03.444Z"
   },
   {
    "duration": 16,
    "start_time": "2021-08-13T19:01:03.459Z"
   },
   {
    "duration": 10,
    "start_time": "2021-08-13T19:01:03.477Z"
   },
   {
    "duration": 3503,
    "start_time": "2021-08-13T19:01:03.489Z"
   },
   {
    "duration": 1666,
    "start_time": "2021-08-13T19:01:05.328Z"
   },
   {
    "duration": 3752,
    "start_time": "2021-08-13T19:01:57.797Z"
   },
   {
    "duration": 3357,
    "start_time": "2021-08-13T19:02:49.728Z"
   },
   {
    "duration": 71,
    "start_time": "2021-08-13T19:05:15.426Z"
   },
   {
    "duration": 82,
    "start_time": "2021-08-13T19:05:21.362Z"
   },
   {
    "duration": 82,
    "start_time": "2021-08-13T19:05:31.306Z"
   },
   {
    "duration": 1022,
    "start_time": "2021-08-13T19:06:28.754Z"
   },
   {
    "duration": 437,
    "start_time": "2021-08-13T19:06:29.778Z"
   },
   {
    "duration": 21,
    "start_time": "2021-08-13T19:06:30.218Z"
   },
   {
    "duration": 9,
    "start_time": "2021-08-13T19:06:30.242Z"
   },
   {
    "duration": 19,
    "start_time": "2021-08-13T19:06:30.253Z"
   },
   {
    "duration": 41,
    "start_time": "2021-08-13T19:06:30.275Z"
   },
   {
    "duration": 30,
    "start_time": "2021-08-13T19:06:30.318Z"
   },
   {
    "duration": 30,
    "start_time": "2021-08-13T19:06:30.351Z"
   },
   {
    "duration": 57,
    "start_time": "2021-08-13T19:06:30.384Z"
   },
   {
    "duration": 322,
    "start_time": "2021-08-13T19:06:30.445Z"
   },
   {
    "duration": 8,
    "start_time": "2021-08-13T19:06:30.770Z"
   },
   {
    "duration": 25,
    "start_time": "2021-08-13T19:06:30.780Z"
   },
   {
    "duration": 22,
    "start_time": "2021-08-13T19:06:30.807Z"
   },
   {
    "duration": 33,
    "start_time": "2021-08-13T19:06:30.831Z"
   },
   {
    "duration": 12,
    "start_time": "2021-08-13T19:06:30.866Z"
   },
   {
    "duration": 26,
    "start_time": "2021-08-13T19:06:30.880Z"
   },
   {
    "duration": 24,
    "start_time": "2021-08-13T19:06:30.908Z"
   },
   {
    "duration": 309,
    "start_time": "2021-08-13T19:06:30.933Z"
   },
   {
    "duration": 11,
    "start_time": "2021-08-13T19:06:31.245Z"
   },
   {
    "duration": 22,
    "start_time": "2021-08-13T19:06:31.258Z"
   },
   {
    "duration": 74,
    "start_time": "2021-08-13T19:06:31.281Z"
   },
   {
    "duration": 115,
    "start_time": "2021-08-13T19:06:31.357Z"
   },
   {
    "duration": 16,
    "start_time": "2021-08-13T19:06:31.474Z"
   },
   {
    "duration": 113,
    "start_time": "2021-08-13T19:06:31.492Z"
   },
   {
    "duration": 35,
    "start_time": "2021-08-13T19:06:31.606Z"
   },
   {
    "duration": 26,
    "start_time": "2021-08-13T19:06:31.642Z"
   },
   {
    "duration": 47,
    "start_time": "2021-08-13T19:06:31.671Z"
   },
   {
    "duration": 31,
    "start_time": "2021-08-13T19:06:31.720Z"
   },
   {
    "duration": 31,
    "start_time": "2021-08-13T19:06:31.753Z"
   },
   {
    "duration": 17,
    "start_time": "2021-08-13T19:06:31.786Z"
   },
   {
    "duration": 87,
    "start_time": "2021-08-13T19:06:31.805Z"
   },
   {
    "duration": 187,
    "start_time": "2021-08-13T19:06:31.894Z"
   },
   {
    "duration": 126,
    "start_time": "2021-08-13T19:08:36.857Z"
   },
   {
    "duration": 147,
    "start_time": "2021-08-13T19:09:02.432Z"
   },
   {
    "duration": 122,
    "start_time": "2021-08-13T19:10:05.928Z"
   },
   {
    "duration": 131,
    "start_time": "2021-08-13T19:12:19.710Z"
   },
   {
    "duration": 241,
    "start_time": "2021-08-13T19:13:05.342Z"
   },
   {
    "duration": 7491,
    "start_time": "2021-08-13T19:17:38.708Z"
   },
   {
    "duration": 7756,
    "start_time": "2021-08-13T19:19:04.820Z"
   },
   {
    "duration": 143,
    "start_time": "2021-08-13T19:19:47.476Z"
   },
   {
    "duration": 368,
    "start_time": "2021-08-13T19:20:44.660Z"
   },
   {
    "duration": 23,
    "start_time": "2021-08-13T19:23:17.378Z"
   },
   {
    "duration": 22,
    "start_time": "2021-08-13T19:23:58.083Z"
   },
   {
    "duration": 355,
    "start_time": "2021-08-13T19:24:56.203Z"
   },
   {
    "duration": 967,
    "start_time": "2021-08-13T19:35:56.606Z"
   },
   {
    "duration": 1031,
    "start_time": "2021-08-13T19:36:11.647Z"
   },
   {
    "duration": 392,
    "start_time": "2021-08-13T19:36:12.680Z"
   },
   {
    "duration": 13,
    "start_time": "2021-08-13T19:36:13.074Z"
   },
   {
    "duration": 19,
    "start_time": "2021-08-13T19:36:13.089Z"
   },
   {
    "duration": 10,
    "start_time": "2021-08-13T19:36:13.110Z"
   },
   {
    "duration": 21,
    "start_time": "2021-08-13T19:36:13.122Z"
   },
   {
    "duration": 14,
    "start_time": "2021-08-13T19:36:13.145Z"
   },
   {
    "duration": 19,
    "start_time": "2021-08-13T19:36:13.162Z"
   },
   {
    "duration": 26,
    "start_time": "2021-08-13T19:36:13.183Z"
   },
   {
    "duration": 312,
    "start_time": "2021-08-13T19:36:13.211Z"
   },
   {
    "duration": 7,
    "start_time": "2021-08-13T19:36:13.525Z"
   },
   {
    "duration": 20,
    "start_time": "2021-08-13T19:36:13.541Z"
   },
   {
    "duration": 12,
    "start_time": "2021-08-13T19:36:13.562Z"
   },
   {
    "duration": 24,
    "start_time": "2021-08-13T19:36:13.575Z"
   },
   {
    "duration": 9,
    "start_time": "2021-08-13T19:36:13.601Z"
   },
   {
    "duration": 18,
    "start_time": "2021-08-13T19:36:13.611Z"
   },
   {
    "duration": 17,
    "start_time": "2021-08-13T19:36:13.641Z"
   },
   {
    "duration": 300,
    "start_time": "2021-08-13T19:36:13.660Z"
   },
   {
    "duration": 8,
    "start_time": "2021-08-13T19:36:13.962Z"
   },
   {
    "duration": 15,
    "start_time": "2021-08-13T19:36:13.971Z"
   },
   {
    "duration": 78,
    "start_time": "2021-08-13T19:36:13.987Z"
   },
   {
    "duration": 112,
    "start_time": "2021-08-13T19:36:14.067Z"
   },
   {
    "duration": 16,
    "start_time": "2021-08-13T19:36:14.182Z"
   },
   {
    "duration": 113,
    "start_time": "2021-08-13T19:36:14.200Z"
   },
   {
    "duration": 34,
    "start_time": "2021-08-13T19:36:14.314Z"
   },
   {
    "duration": 24,
    "start_time": "2021-08-13T19:36:14.349Z"
   },
   {
    "duration": 68,
    "start_time": "2021-08-13T19:36:14.375Z"
   },
   {
    "duration": 12,
    "start_time": "2021-08-13T19:36:14.445Z"
   },
   {
    "duration": 6152,
    "start_time": "2021-08-13T19:36:14.458Z"
   },
   {
    "duration": 1665,
    "start_time": "2021-08-13T19:36:18.947Z"
   },
   {
    "duration": 1664,
    "start_time": "2021-08-13T19:36:18.949Z"
   },
   {
    "duration": 1663,
    "start_time": "2021-08-13T19:36:18.951Z"
   },
   {
    "duration": 1662,
    "start_time": "2021-08-13T19:36:18.953Z"
   },
   {
    "duration": 10,
    "start_time": "2021-08-13T19:36:33.279Z"
   },
   {
    "duration": 71,
    "start_time": "2021-08-13T19:36:40.855Z"
   },
   {
    "duration": 363,
    "start_time": "2021-08-13T19:36:42.367Z"
   },
   {
    "duration": 86,
    "start_time": "2021-08-13T19:39:10.270Z"
   },
   {
    "duration": 93,
    "start_time": "2021-08-13T19:39:20.542Z"
   },
   {
    "duration": 87,
    "start_time": "2021-08-13T19:39:33.710Z"
   },
   {
    "duration": 447,
    "start_time": "2021-08-13T19:40:12.334Z"
   },
   {
    "duration": 432,
    "start_time": "2021-08-13T19:40:23.214Z"
   },
   {
    "duration": 479,
    "start_time": "2021-08-13T19:40:34.406Z"
   },
   {
    "duration": 6990,
    "start_time": "2021-08-13T19:40:51.398Z"
   },
   {
    "duration": 92,
    "start_time": "2021-08-13T19:46:49.068Z"
   },
   {
    "duration": 7805,
    "start_time": "2021-08-13T19:46:59.787Z"
   },
   {
    "duration": 84,
    "start_time": "2021-08-13T19:47:46.963Z"
   },
   {
    "duration": 180,
    "start_time": "2021-08-13T19:48:39.218Z"
   },
   {
    "duration": 177,
    "start_time": "2021-08-13T19:49:52.450Z"
   },
   {
    "duration": 1062,
    "start_time": "2021-08-13T19:50:03.272Z"
   },
   {
    "duration": 411,
    "start_time": "2021-08-13T19:50:04.336Z"
   },
   {
    "duration": 13,
    "start_time": "2021-08-13T19:50:04.749Z"
   },
   {
    "duration": 7,
    "start_time": "2021-08-13T19:50:04.764Z"
   },
   {
    "duration": 10,
    "start_time": "2021-08-13T19:50:04.773Z"
   },
   {
    "duration": 26,
    "start_time": "2021-08-13T19:50:04.785Z"
   },
   {
    "duration": 33,
    "start_time": "2021-08-13T19:50:04.813Z"
   },
   {
    "duration": 20,
    "start_time": "2021-08-13T19:50:04.848Z"
   },
   {
    "duration": 30,
    "start_time": "2021-08-13T19:50:04.871Z"
   },
   {
    "duration": 343,
    "start_time": "2021-08-13T19:50:04.903Z"
   },
   {
    "duration": 7,
    "start_time": "2021-08-13T19:50:05.248Z"
   },
   {
    "duration": 16,
    "start_time": "2021-08-13T19:50:05.257Z"
   },
   {
    "duration": 8,
    "start_time": "2021-08-13T19:50:05.275Z"
   },
   {
    "duration": 19,
    "start_time": "2021-08-13T19:50:05.285Z"
   },
   {
    "duration": 38,
    "start_time": "2021-08-13T19:50:05.305Z"
   },
   {
    "duration": 17,
    "start_time": "2021-08-13T19:50:05.344Z"
   },
   {
    "duration": 19,
    "start_time": "2021-08-13T19:50:05.363Z"
   },
   {
    "duration": 320,
    "start_time": "2021-08-13T19:50:05.383Z"
   },
   {
    "duration": 8,
    "start_time": "2021-08-13T19:50:05.705Z"
   },
   {
    "duration": 10,
    "start_time": "2021-08-13T19:50:05.714Z"
   },
   {
    "duration": 72,
    "start_time": "2021-08-13T19:50:05.725Z"
   },
   {
    "duration": 122,
    "start_time": "2021-08-13T19:50:05.799Z"
   },
   {
    "duration": 24,
    "start_time": "2021-08-13T19:50:05.923Z"
   },
   {
    "duration": 113,
    "start_time": "2021-08-13T19:50:05.949Z"
   },
   {
    "duration": 25,
    "start_time": "2021-08-13T19:50:06.064Z"
   },
   {
    "duration": 21,
    "start_time": "2021-08-13T19:50:06.091Z"
   },
   {
    "duration": 71,
    "start_time": "2021-08-13T19:50:06.115Z"
   },
   {
    "duration": 12,
    "start_time": "2021-08-13T19:50:06.188Z"
   },
   {
    "duration": 12,
    "start_time": "2021-08-13T19:50:06.202Z"
   },
   {
    "duration": 34,
    "start_time": "2021-08-13T19:50:06.215Z"
   },
   {
    "duration": 92,
    "start_time": "2021-08-13T19:50:06.251Z"
   },
   {
    "duration": 419,
    "start_time": "2021-08-13T19:50:06.345Z"
   },
   {
    "duration": 255,
    "start_time": "2021-08-13T19:50:06.766Z"
   },
   {
    "duration": 67,
    "start_time": "2021-08-13T19:53:22.384Z"
   },
   {
    "duration": 6297,
    "start_time": "2021-08-13T19:53:33.706Z"
   },
   {
    "duration": 979,
    "start_time": "2021-08-13T19:53:47.101Z"
   },
   {
    "duration": 391,
    "start_time": "2021-08-13T19:53:48.081Z"
   },
   {
    "duration": 14,
    "start_time": "2021-08-13T19:53:48.477Z"
   },
   {
    "duration": 5,
    "start_time": "2021-08-13T19:53:48.493Z"
   },
   {
    "duration": 9,
    "start_time": "2021-08-13T19:53:48.499Z"
   },
   {
    "duration": 31,
    "start_time": "2021-08-13T19:53:48.510Z"
   },
   {
    "duration": 14,
    "start_time": "2021-08-13T19:53:48.542Z"
   },
   {
    "duration": 18,
    "start_time": "2021-08-13T19:53:48.559Z"
   },
   {
    "duration": 26,
    "start_time": "2021-08-13T19:53:48.579Z"
   },
   {
    "duration": 323,
    "start_time": "2021-08-13T19:53:48.607Z"
   },
   {
    "duration": 11,
    "start_time": "2021-08-13T19:53:48.931Z"
   },
   {
    "duration": 15,
    "start_time": "2021-08-13T19:53:48.944Z"
   },
   {
    "duration": 7,
    "start_time": "2021-08-13T19:53:48.961Z"
   },
   {
    "duration": 18,
    "start_time": "2021-08-13T19:53:48.970Z"
   },
   {
    "duration": 9,
    "start_time": "2021-08-13T19:53:48.990Z"
   },
   {
    "duration": 47,
    "start_time": "2021-08-13T19:53:49.000Z"
   },
   {
    "duration": 19,
    "start_time": "2021-08-13T19:53:49.048Z"
   },
   {
    "duration": 303,
    "start_time": "2021-08-13T19:53:49.068Z"
   },
   {
    "duration": 7,
    "start_time": "2021-08-13T19:53:49.373Z"
   },
   {
    "duration": 9,
    "start_time": "2021-08-13T19:53:49.381Z"
   },
   {
    "duration": 80,
    "start_time": "2021-08-13T19:53:49.392Z"
   },
   {
    "duration": 110,
    "start_time": "2021-08-13T19:53:49.474Z"
   },
   {
    "duration": 15,
    "start_time": "2021-08-13T19:53:49.586Z"
   },
   {
    "duration": 115,
    "start_time": "2021-08-13T19:53:49.603Z"
   },
   {
    "duration": 29,
    "start_time": "2021-08-13T19:53:49.719Z"
   },
   {
    "duration": 23,
    "start_time": "2021-08-13T19:53:49.751Z"
   },
   {
    "duration": 44,
    "start_time": "2021-08-13T19:53:49.775Z"
   },
   {
    "duration": 31,
    "start_time": "2021-08-13T19:53:49.821Z"
   },
   {
    "duration": 12,
    "start_time": "2021-08-13T19:53:49.854Z"
   },
   {
    "duration": 10,
    "start_time": "2021-08-13T19:53:49.867Z"
   },
   {
    "duration": 94,
    "start_time": "2021-08-13T19:53:49.878Z"
   },
   {
    "duration": 380,
    "start_time": "2021-08-13T19:53:49.974Z"
   },
   {
    "duration": 239,
    "start_time": "2021-08-13T19:53:50.355Z"
   },
   {
    "duration": 6149,
    "start_time": "2021-08-13T19:53:50.595Z"
   },
   {
    "duration": 72,
    "start_time": "2021-08-13T19:54:12.506Z"
   },
   {
    "duration": 26,
    "start_time": "2021-08-13T19:54:15.906Z"
   },
   {
    "duration": 992,
    "start_time": "2021-08-13T19:54:32.005Z"
   },
   {
    "duration": 395,
    "start_time": "2021-08-13T19:54:32.999Z"
   },
   {
    "duration": 13,
    "start_time": "2021-08-13T19:54:33.397Z"
   },
   {
    "duration": 9,
    "start_time": "2021-08-13T19:54:33.411Z"
   },
   {
    "duration": 15,
    "start_time": "2021-08-13T19:54:33.422Z"
   },
   {
    "duration": 24,
    "start_time": "2021-08-13T19:54:33.438Z"
   },
   {
    "duration": 14,
    "start_time": "2021-08-13T19:54:33.464Z"
   },
   {
    "duration": 20,
    "start_time": "2021-08-13T19:54:33.479Z"
   },
   {
    "duration": 44,
    "start_time": "2021-08-13T19:54:33.501Z"
   },
   {
    "duration": 305,
    "start_time": "2021-08-13T19:54:33.547Z"
   },
   {
    "duration": 7,
    "start_time": "2021-08-13T19:54:33.854Z"
   },
   {
    "duration": 22,
    "start_time": "2021-08-13T19:54:33.863Z"
   },
   {
    "duration": 10,
    "start_time": "2021-08-13T19:54:33.887Z"
   },
   {
    "duration": 18,
    "start_time": "2021-08-13T19:54:33.899Z"
   },
   {
    "duration": 30,
    "start_time": "2021-08-13T19:54:33.919Z"
   },
   {
    "duration": 16,
    "start_time": "2021-08-13T19:54:33.951Z"
   },
   {
    "duration": 18,
    "start_time": "2021-08-13T19:54:33.968Z"
   },
   {
    "duration": 311,
    "start_time": "2021-08-13T19:54:33.988Z"
   },
   {
    "duration": 8,
    "start_time": "2021-08-13T19:54:34.301Z"
   },
   {
    "duration": 14,
    "start_time": "2021-08-13T19:54:34.310Z"
   },
   {
    "duration": 76,
    "start_time": "2021-08-13T19:54:34.326Z"
   },
   {
    "duration": 117,
    "start_time": "2021-08-13T19:54:34.404Z"
   },
   {
    "duration": 24,
    "start_time": "2021-08-13T19:54:34.523Z"
   },
   {
    "duration": 109,
    "start_time": "2021-08-13T19:54:34.549Z"
   },
   {
    "duration": 24,
    "start_time": "2021-08-13T19:54:34.659Z"
   },
   {
    "duration": 22,
    "start_time": "2021-08-13T19:54:34.684Z"
   },
   {
    "duration": 67,
    "start_time": "2021-08-13T19:54:34.710Z"
   },
   {
    "duration": 13,
    "start_time": "2021-08-13T19:54:34.779Z"
   },
   {
    "duration": 12,
    "start_time": "2021-08-13T19:54:34.794Z"
   },
   {
    "duration": 34,
    "start_time": "2021-08-13T19:54:34.808Z"
   },
   {
    "duration": 71,
    "start_time": "2021-08-13T19:54:34.845Z"
   },
   {
    "duration": 392,
    "start_time": "2021-08-13T19:54:34.918Z"
   },
   {
    "duration": 244,
    "start_time": "2021-08-13T19:54:35.312Z"
   },
   {
    "duration": 24,
    "start_time": "2021-08-13T19:54:35.558Z"
   },
   {
    "duration": 1267,
    "start_time": "2021-08-14T09:15:53.883Z"
   },
   {
    "duration": 330,
    "start_time": "2021-08-15T14:37:14.868Z"
   },
   {
    "duration": 1033,
    "start_time": "2021-08-15T14:37:21.446Z"
   },
   {
    "duration": 378,
    "start_time": "2021-08-15T14:37:22.480Z"
   },
   {
    "duration": 12,
    "start_time": "2021-08-15T14:37:22.860Z"
   },
   {
    "duration": 26,
    "start_time": "2021-08-15T14:37:22.874Z"
   },
   {
    "duration": 17,
    "start_time": "2021-08-15T14:37:22.902Z"
   },
   {
    "duration": 31,
    "start_time": "2021-08-15T14:37:22.921Z"
   },
   {
    "duration": 13,
    "start_time": "2021-08-15T14:37:22.954Z"
   },
   {
    "duration": 18,
    "start_time": "2021-08-15T14:37:22.969Z"
   },
   {
    "duration": 31,
    "start_time": "2021-08-15T14:37:22.989Z"
   },
   {
    "duration": 306,
    "start_time": "2021-08-15T14:37:23.022Z"
   },
   {
    "duration": 6,
    "start_time": "2021-08-15T14:37:23.330Z"
   },
   {
    "duration": 20,
    "start_time": "2021-08-15T14:37:23.341Z"
   },
   {
    "duration": 9,
    "start_time": "2021-08-15T14:37:23.362Z"
   },
   {
    "duration": 24,
    "start_time": "2021-08-15T14:37:23.373Z"
   },
   {
    "duration": 9,
    "start_time": "2021-08-15T14:37:23.398Z"
   },
   {
    "duration": 36,
    "start_time": "2021-08-15T14:37:23.408Z"
   },
   {
    "duration": 18,
    "start_time": "2021-08-15T14:37:23.445Z"
   },
   {
    "duration": 293,
    "start_time": "2021-08-15T14:37:23.465Z"
   },
   {
    "duration": 8,
    "start_time": "2021-08-15T14:37:23.760Z"
   },
   {
    "duration": 12,
    "start_time": "2021-08-15T14:37:23.769Z"
   },
   {
    "duration": 73,
    "start_time": "2021-08-15T14:37:23.782Z"
   },
   {
    "duration": 113,
    "start_time": "2021-08-15T14:37:23.857Z"
   },
   {
    "duration": 14,
    "start_time": "2021-08-15T14:37:23.972Z"
   },
   {
    "duration": 106,
    "start_time": "2021-08-15T14:37:23.988Z"
   },
   {
    "duration": 22,
    "start_time": "2021-08-15T14:37:24.096Z"
   },
   {
    "duration": 30,
    "start_time": "2021-08-15T14:37:24.119Z"
   },
   {
    "duration": 42,
    "start_time": "2021-08-15T14:37:24.152Z"
   },
   {
    "duration": 10,
    "start_time": "2021-08-15T14:37:24.196Z"
   },
   {
    "duration": 34,
    "start_time": "2021-08-15T14:37:24.208Z"
   },
   {
    "duration": 8,
    "start_time": "2021-08-15T14:37:24.244Z"
   },
   {
    "duration": 66,
    "start_time": "2021-08-15T14:37:24.253Z"
   },
   {
    "duration": 379,
    "start_time": "2021-08-15T14:37:24.321Z"
   },
   {
    "duration": 239,
    "start_time": "2021-08-15T14:37:24.702Z"
   },
   {
    "duration": 23,
    "start_time": "2021-08-15T14:37:24.943Z"
   },
   {
    "duration": 152,
    "start_time": "2021-08-15T14:37:24.967Z"
   },
   {
    "duration": 593,
    "start_time": "2021-08-15T14:38:43.599Z"
   },
   {
    "duration": 282,
    "start_time": "2021-08-15T14:42:16.759Z"
   },
   {
    "duration": 256,
    "start_time": "2021-08-15T14:42:25.558Z"
   },
   {
    "duration": 247,
    "start_time": "2021-08-15T14:42:38.950Z"
   },
   {
    "duration": 247,
    "start_time": "2021-08-15T14:44:20.222Z"
   },
   {
    "duration": 257,
    "start_time": "2021-08-15T14:44:42.245Z"
   },
   {
    "duration": 78,
    "start_time": "2021-08-15T14:45:52.629Z"
   },
   {
    "duration": 252,
    "start_time": "2021-08-15T14:45:55.805Z"
   },
   {
    "duration": 319,
    "start_time": "2021-08-15T14:46:07.732Z"
   },
   {
    "duration": 281,
    "start_time": "2021-08-15T14:47:51.980Z"
   },
   {
    "duration": 257,
    "start_time": "2021-08-15T14:48:22.949Z"
   },
   {
    "duration": 299,
    "start_time": "2021-08-15T14:48:44.365Z"
   },
   {
    "duration": 272,
    "start_time": "2021-08-15T14:48:48.876Z"
   },
   {
    "duration": 246,
    "start_time": "2021-08-15T14:49:11.844Z"
   },
   {
    "duration": 246,
    "start_time": "2021-08-15T14:49:20.619Z"
   },
   {
    "duration": 242,
    "start_time": "2021-08-15T14:51:20.731Z"
   },
   {
    "duration": 5,
    "start_time": "2021-08-15T14:51:32.202Z"
   },
   {
    "duration": 220,
    "start_time": "2021-08-15T14:53:50.625Z"
   },
   {
    "duration": 220,
    "start_time": "2021-08-15T14:54:38.353Z"
   },
   {
    "duration": 231,
    "start_time": "2021-08-15T14:54:44.209Z"
   },
   {
    "duration": 235,
    "start_time": "2021-08-15T14:54:49.889Z"
   },
   {
    "duration": 263,
    "start_time": "2021-08-15T14:55:11.625Z"
   },
   {
    "duration": 251,
    "start_time": "2021-08-15T14:56:01.257Z"
   },
   {
    "duration": 5,
    "start_time": "2021-08-15T14:56:06.449Z"
   },
   {
    "duration": 251,
    "start_time": "2021-08-15T14:56:26.457Z"
   },
   {
    "duration": 261,
    "start_time": "2021-08-15T14:56:35.913Z"
   },
   {
    "duration": 265,
    "start_time": "2021-08-15T14:56:49.897Z"
   },
   {
    "duration": 222,
    "start_time": "2021-08-15T14:57:09.993Z"
   },
   {
    "duration": 226,
    "start_time": "2021-08-15T14:57:19.216Z"
   },
   {
    "duration": 238,
    "start_time": "2021-08-15T14:57:25.641Z"
   },
   {
    "duration": 258,
    "start_time": "2021-08-15T14:59:01.768Z"
   },
   {
    "duration": 191,
    "start_time": "2021-08-15T14:59:17.623Z"
   },
   {
    "duration": 202,
    "start_time": "2021-08-15T14:59:23.840Z"
   },
   {
    "duration": 197,
    "start_time": "2021-08-15T14:59:53.471Z"
   },
   {
    "duration": 210,
    "start_time": "2021-08-15T15:00:04.704Z"
   },
   {
    "duration": 209,
    "start_time": "2021-08-15T15:00:11.719Z"
   },
   {
    "duration": 283,
    "start_time": "2021-08-15T15:03:59.477Z"
   },
   {
    "duration": 262,
    "start_time": "2021-08-15T15:04:08.798Z"
   },
   {
    "duration": 281,
    "start_time": "2021-08-15T15:04:16.077Z"
   },
   {
    "duration": 203,
    "start_time": "2021-08-15T15:04:25.990Z"
   },
   {
    "duration": 197,
    "start_time": "2021-08-15T15:04:40.333Z"
   },
   {
    "duration": 273,
    "start_time": "2021-08-15T15:04:48.190Z"
   },
   {
    "duration": 214,
    "start_time": "2021-08-15T15:05:02.230Z"
   },
   {
    "duration": 201,
    "start_time": "2021-08-15T15:05:17.372Z"
   },
   {
    "duration": 201,
    "start_time": "2021-08-15T15:05:36.142Z"
   },
   {
    "duration": 205,
    "start_time": "2021-08-15T15:05:45.285Z"
   },
   {
    "duration": 197,
    "start_time": "2021-08-15T15:05:49.733Z"
   },
   {
    "duration": 251,
    "start_time": "2021-08-15T15:06:01.285Z"
   },
   {
    "duration": 208,
    "start_time": "2021-08-15T15:06:07.197Z"
   },
   {
    "duration": 195,
    "start_time": "2021-08-15T15:06:14.836Z"
   },
   {
    "duration": 211,
    "start_time": "2021-08-15T15:06:25.375Z"
   },
   {
    "duration": 20,
    "start_time": "2021-08-15T15:10:46.571Z"
   },
   {
    "duration": 18,
    "start_time": "2021-08-15T15:13:16.434Z"
   },
   {
    "duration": 1338,
    "start_time": "2021-08-15T15:13:26.633Z"
   },
   {
    "duration": 527,
    "start_time": "2021-08-15T15:13:27.973Z"
   },
   {
    "duration": 18,
    "start_time": "2021-08-15T15:13:28.503Z"
   },
   {
    "duration": 10,
    "start_time": "2021-08-15T15:13:28.523Z"
   },
   {
    "duration": 22,
    "start_time": "2021-08-15T15:13:28.535Z"
   },
   {
    "duration": 40,
    "start_time": "2021-08-15T15:13:28.559Z"
   },
   {
    "duration": 19,
    "start_time": "2021-08-15T15:13:28.601Z"
   },
   {
    "duration": 27,
    "start_time": "2021-08-15T15:13:28.622Z"
   },
   {
    "duration": 27,
    "start_time": "2021-08-15T15:13:28.651Z"
   },
   {
    "duration": 315,
    "start_time": "2021-08-15T15:13:28.680Z"
   },
   {
    "duration": 7,
    "start_time": "2021-08-15T15:13:28.997Z"
   },
   {
    "duration": 23,
    "start_time": "2021-08-15T15:13:29.005Z"
   },
   {
    "duration": 17,
    "start_time": "2021-08-15T15:13:29.029Z"
   },
   {
    "duration": 32,
    "start_time": "2021-08-15T15:13:29.048Z"
   },
   {
    "duration": 10,
    "start_time": "2021-08-15T15:13:29.082Z"
   },
   {
    "duration": 22,
    "start_time": "2021-08-15T15:13:29.093Z"
   },
   {
    "duration": 27,
    "start_time": "2021-08-15T15:13:29.117Z"
   },
   {
    "duration": 303,
    "start_time": "2021-08-15T15:13:29.146Z"
   },
   {
    "duration": 8,
    "start_time": "2021-08-15T15:13:29.451Z"
   },
   {
    "duration": 11,
    "start_time": "2021-08-15T15:13:29.460Z"
   },
   {
    "duration": 75,
    "start_time": "2021-08-15T15:13:29.473Z"
   },
   {
    "duration": 116,
    "start_time": "2021-08-15T15:13:29.549Z"
   },
   {
    "duration": 15,
    "start_time": "2021-08-15T15:13:29.667Z"
   },
   {
    "duration": 110,
    "start_time": "2021-08-15T15:13:29.684Z"
   },
   {
    "duration": 23,
    "start_time": "2021-08-15T15:13:29.796Z"
   },
   {
    "duration": 37,
    "start_time": "2021-08-15T15:13:29.821Z"
   },
   {
    "duration": 54,
    "start_time": "2021-08-15T15:13:29.862Z"
   },
   {
    "duration": 23,
    "start_time": "2021-08-15T15:13:29.918Z"
   },
   {
    "duration": 8,
    "start_time": "2021-08-15T15:13:29.943Z"
   },
   {
    "duration": 19,
    "start_time": "2021-08-15T15:13:29.953Z"
   },
   {
    "duration": 77,
    "start_time": "2021-08-15T15:13:29.974Z"
   },
   {
    "duration": 389,
    "start_time": "2021-08-15T15:13:30.053Z"
   },
   {
    "duration": 237,
    "start_time": "2021-08-15T15:13:30.444Z"
   },
   {
    "duration": 25,
    "start_time": "2021-08-15T15:13:30.683Z"
   },
   {
    "duration": 5,
    "start_time": "2021-08-15T15:13:30.709Z"
   },
   {
    "duration": 37,
    "start_time": "2021-08-15T15:13:30.716Z"
   },
   {
    "duration": 165,
    "start_time": "2021-08-15T15:13:30.755Z"
   },
   {
    "duration": 22,
    "start_time": "2021-08-15T15:15:10.707Z"
   },
   {
    "duration": 686,
    "start_time": "2021-08-15T15:15:38.987Z"
   },
   {
    "duration": 327,
    "start_time": "2021-08-15T15:15:50.098Z"
   },
   {
    "duration": 47,
    "start_time": "2021-08-15T15:16:02.378Z"
   },
   {
    "duration": 58,
    "start_time": "2021-08-15T15:17:04.067Z"
   },
   {
    "duration": 42,
    "start_time": "2021-08-15T15:17:22.971Z"
   },
   {
    "duration": 944,
    "start_time": "2021-08-15T15:18:38.802Z"
   },
   {
    "duration": 259,
    "start_time": "2021-08-15T15:19:05.145Z"
   },
   {
    "duration": 84,
    "start_time": "2021-08-15T15:19:30.137Z"
   },
   {
    "duration": 259,
    "start_time": "2021-08-15T15:19:32.865Z"
   },
   {
    "duration": 258,
    "start_time": "2021-08-15T15:19:37.472Z"
   },
   {
    "duration": 85,
    "start_time": "2021-08-15T15:19:40.713Z"
   },
   {
    "duration": 88,
    "start_time": "2021-08-15T15:19:52.625Z"
   },
   {
    "duration": 55,
    "start_time": "2021-08-15T15:19:56.280Z"
   },
   {
    "duration": 495,
    "start_time": "2021-08-15T15:20:01.785Z"
   },
   {
    "duration": 474,
    "start_time": "2021-08-15T15:20:10.770Z"
   },
   {
    "duration": 482,
    "start_time": "2021-08-15T15:22:57.880Z"
   },
   {
    "duration": 455,
    "start_time": "2021-08-15T15:23:10.648Z"
   },
   {
    "duration": 470,
    "start_time": "2021-08-15T15:24:10.760Z"
   },
   {
    "duration": 473,
    "start_time": "2021-08-15T15:24:30.968Z"
   },
   {
    "duration": 148,
    "start_time": "2021-08-15T15:35:14.747Z"
   },
   {
    "duration": 150,
    "start_time": "2021-08-15T15:35:18.411Z"
   },
   {
    "duration": 143,
    "start_time": "2021-08-15T15:35:29.227Z"
   },
   {
    "duration": 134,
    "start_time": "2021-08-15T15:36:36.506Z"
   },
   {
    "duration": 153,
    "start_time": "2021-08-15T15:36:54.291Z"
   },
   {
    "duration": 137,
    "start_time": "2021-08-15T15:36:59.506Z"
   },
   {
    "duration": 218,
    "start_time": "2021-08-15T15:37:02.194Z"
   },
   {
    "duration": 131,
    "start_time": "2021-08-15T15:37:06.690Z"
   },
   {
    "duration": 140,
    "start_time": "2021-08-15T15:37:12.227Z"
   },
   {
    "duration": 145,
    "start_time": "2021-08-15T15:37:15.322Z"
   },
   {
    "duration": 141,
    "start_time": "2021-08-15T15:37:21.825Z"
   },
   {
    "duration": 131,
    "start_time": "2021-08-15T15:37:29.378Z"
   },
   {
    "duration": 139,
    "start_time": "2021-08-15T15:37:35.882Z"
   },
   {
    "duration": 134,
    "start_time": "2021-08-15T15:37:42.891Z"
   },
   {
    "duration": 169,
    "start_time": "2021-08-15T15:37:48.482Z"
   },
   {
    "duration": 137,
    "start_time": "2021-08-15T15:37:54.610Z"
   },
   {
    "duration": 154,
    "start_time": "2021-08-15T15:38:02.315Z"
   },
   {
    "duration": 143,
    "start_time": "2021-08-15T15:38:05.805Z"
   },
   {
    "duration": 205,
    "start_time": "2021-08-15T15:38:11.306Z"
   },
   {
    "duration": 144,
    "start_time": "2021-08-15T15:38:56.033Z"
   },
   {
    "duration": 154,
    "start_time": "2021-08-15T15:39:00.289Z"
   },
   {
    "duration": 151,
    "start_time": "2021-08-15T15:39:04.521Z"
   },
   {
    "duration": 1349,
    "start_time": "2021-08-15T15:47:02.695Z"
   },
   {
    "duration": 1298,
    "start_time": "2021-08-15T15:47:10.878Z"
   },
   {
    "duration": 1272,
    "start_time": "2021-08-15T15:47:28.054Z"
   },
   {
    "duration": 1433,
    "start_time": "2021-08-15T15:47:35.006Z"
   },
   {
    "duration": 1301,
    "start_time": "2021-08-15T15:50:19.205Z"
   },
   {
    "duration": 1472,
    "start_time": "2021-08-15T15:50:27.037Z"
   },
   {
    "duration": 1528,
    "start_time": "2021-08-15T15:50:56.213Z"
   },
   {
    "duration": 1521,
    "start_time": "2021-08-15T15:51:06.677Z"
   },
   {
    "duration": 1484,
    "start_time": "2021-08-15T15:51:18.556Z"
   },
   {
    "duration": 1528,
    "start_time": "2021-08-15T15:52:26.676Z"
   },
   {
    "duration": 1436,
    "start_time": "2021-08-15T15:52:35.372Z"
   },
   {
    "duration": 1422,
    "start_time": "2021-08-15T15:52:51.852Z"
   },
   {
    "duration": 1451,
    "start_time": "2021-08-15T15:52:58.484Z"
   },
   {
    "duration": 1440,
    "start_time": "2021-08-15T15:53:09.484Z"
   },
   {
    "duration": 2456,
    "start_time": "2021-08-15T15:54:01.412Z"
   },
   {
    "duration": 1306,
    "start_time": "2021-08-15T15:55:00.124Z"
   },
   {
    "duration": 1038,
    "start_time": "2021-08-15T15:55:06.266Z"
   },
   {
    "duration": 1468,
    "start_time": "2021-08-15T15:55:14.611Z"
   },
   {
    "duration": 1279,
    "start_time": "2021-08-15T15:55:22.155Z"
   },
   {
    "duration": 785,
    "start_time": "2021-08-15T15:55:29.835Z"
   },
   {
    "duration": 865,
    "start_time": "2021-08-15T15:55:49.243Z"
   },
   {
    "duration": 763,
    "start_time": "2021-08-15T15:55:54.195Z"
   },
   {
    "duration": 817,
    "start_time": "2021-08-15T15:56:51.795Z"
   },
   {
    "duration": 1193,
    "start_time": "2021-08-15T15:57:02.131Z"
   },
   {
    "duration": 1113,
    "start_time": "2021-08-15T15:57:07.411Z"
   },
   {
    "duration": 1403,
    "start_time": "2021-08-15T15:57:24.298Z"
   },
   {
    "duration": 1302,
    "start_time": "2021-08-15T15:57:31.562Z"
   },
   {
    "duration": 1370,
    "start_time": "2021-08-15T15:57:48.106Z"
   },
   {
    "duration": 856,
    "start_time": "2021-08-15T15:58:14.962Z"
   },
   {
    "duration": 4,
    "start_time": "2021-08-15T15:59:35.953Z"
   },
   {
    "duration": 839,
    "start_time": "2021-08-15T15:59:39.386Z"
   },
   {
    "duration": 956,
    "start_time": "2021-08-15T16:00:21.626Z"
   },
   {
    "duration": 993,
    "start_time": "2021-08-15T16:02:51.992Z"
   },
   {
    "duration": 929,
    "start_time": "2021-08-15T16:04:02.272Z"
   },
   {
    "duration": 105,
    "start_time": "2021-08-15T16:04:06.416Z"
   },
   {
    "duration": 1275,
    "start_time": "2021-08-15T16:04:11.431Z"
   },
   {
    "duration": 659,
    "start_time": "2021-08-15T16:04:22.850Z"
   },
   {
    "duration": 847,
    "start_time": "2021-08-15T16:04:27.968Z"
   },
   {
    "duration": 754,
    "start_time": "2021-08-15T16:04:32.719Z"
   },
   {
    "duration": 845,
    "start_time": "2021-08-15T16:04:38.671Z"
   },
   {
    "duration": 667,
    "start_time": "2021-08-15T16:04:43.159Z"
   },
   {
    "duration": 662,
    "start_time": "2021-08-15T16:05:00.592Z"
   },
   {
    "duration": 688,
    "start_time": "2021-08-15T16:06:57.422Z"
   },
   {
    "duration": 83,
    "start_time": "2021-08-15T16:07:01.310Z"
   },
   {
    "duration": 967,
    "start_time": "2021-08-15T16:07:09.126Z"
   },
   {
    "duration": 875,
    "start_time": "2021-08-15T16:07:19.726Z"
   },
   {
    "duration": 903,
    "start_time": "2021-08-15T16:07:33.718Z"
   },
   {
    "duration": 840,
    "start_time": "2021-08-15T16:08:22.976Z"
   },
   {
    "duration": 1010,
    "start_time": "2021-08-15T16:08:28.782Z"
   },
   {
    "duration": 903,
    "start_time": "2021-08-15T16:08:39.629Z"
   },
   {
    "duration": 989,
    "start_time": "2021-08-15T16:08:42.749Z"
   },
   {
    "duration": 896,
    "start_time": "2021-08-15T16:08:46.318Z"
   },
   {
    "duration": 892,
    "start_time": "2021-08-15T16:08:53.110Z"
   },
   {
    "duration": 893,
    "start_time": "2021-08-15T16:09:21.213Z"
   },
   {
    "duration": 293,
    "start_time": "2021-08-15T16:46:30.191Z"
   },
   {
    "duration": 259,
    "start_time": "2021-08-15T16:46:35.862Z"
   },
   {
    "duration": 7,
    "start_time": "2021-08-15T16:46:40.471Z"
   },
   {
    "duration": 16,
    "start_time": "2021-08-15T16:52:25.108Z"
   },
   {
    "duration": 8,
    "start_time": "2021-08-15T16:52:56.213Z"
   },
   {
    "duration": 10,
    "start_time": "2021-08-15T16:53:13.740Z"
   },
   {
    "duration": 81,
    "start_time": "2021-08-15T16:53:24.596Z"
   },
   {
    "duration": 7,
    "start_time": "2021-08-15T16:53:28.396Z"
   },
   {
    "duration": 273,
    "start_time": "2021-08-15T16:55:34.948Z"
   },
   {
    "duration": 18,
    "start_time": "2021-08-15T16:55:56.475Z"
   },
   {
    "duration": 16,
    "start_time": "2021-08-15T16:56:08.467Z"
   },
   {
    "duration": 16,
    "start_time": "2021-08-15T16:56:36.563Z"
   },
   {
    "duration": 20,
    "start_time": "2021-08-15T16:56:55.442Z"
   },
   {
    "duration": 19,
    "start_time": "2021-08-15T16:57:00.562Z"
   },
   {
    "duration": 4,
    "start_time": "2021-08-15T16:59:09.914Z"
   },
   {
    "duration": 18,
    "start_time": "2021-08-15T16:59:13.459Z"
   },
   {
    "duration": 319,
    "start_time": "2021-08-15T17:01:20.529Z"
   },
   {
    "duration": 739,
    "start_time": "2021-08-15T17:01:39.137Z"
   },
   {
    "duration": 274,
    "start_time": "2021-08-15T17:01:50.481Z"
   },
   {
    "duration": 262,
    "start_time": "2021-08-15T17:01:55.617Z"
   },
   {
    "duration": 19,
    "start_time": "2021-08-15T17:02:13.296Z"
   },
   {
    "duration": 264,
    "start_time": "2021-08-15T17:03:27.833Z"
   },
   {
    "duration": 349,
    "start_time": "2021-08-15T17:03:37.184Z"
   },
   {
    "duration": 258,
    "start_time": "2021-08-15T17:03:55.416Z"
   },
   {
    "duration": 1021,
    "start_time": "2021-08-15T17:04:31.560Z"
   },
   {
    "duration": 18,
    "start_time": "2021-08-15T17:05:01.199Z"
   },
   {
    "duration": 18,
    "start_time": "2021-08-15T17:05:11.567Z"
   },
   {
    "duration": 70,
    "start_time": "2021-08-15T17:20:43.905Z"
   },
   {
    "duration": 14242,
    "start_time": "2021-08-15T17:20:45.826Z"
   },
   {
    "duration": 247,
    "start_time": "2021-08-15T17:21:43.946Z"
   },
   {
    "duration": 41,
    "start_time": "2021-08-15T17:21:58.211Z"
   },
   {
    "duration": 161,
    "start_time": "2021-08-15T17:22:10.442Z"
   },
   {
    "duration": 1087,
    "start_time": "2021-08-15T17:22:24.426Z"
   },
   {
    "duration": 429,
    "start_time": "2021-08-15T17:22:25.515Z"
   },
   {
    "duration": 18,
    "start_time": "2021-08-15T17:22:25.946Z"
   },
   {
    "duration": 10,
    "start_time": "2021-08-15T17:22:25.966Z"
   },
   {
    "duration": 9,
    "start_time": "2021-08-15T17:22:25.977Z"
   },
   {
    "duration": 21,
    "start_time": "2021-08-15T17:22:25.988Z"
   },
   {
    "duration": 44,
    "start_time": "2021-08-15T17:22:26.010Z"
   },
   {
    "duration": 6131,
    "start_time": "2021-08-15T17:22:26.056Z"
   },
   {
    "duration": 27,
    "start_time": "2021-08-15T17:22:32.189Z"
   },
   {
    "duration": 1762,
    "start_time": "2021-08-15T17:22:32.217Z"
   },
   {
    "duration": 7,
    "start_time": "2021-08-15T17:22:33.981Z"
   },
   {
    "duration": 13,
    "start_time": "2021-08-15T17:22:34.042Z"
   },
   {
    "duration": 16,
    "start_time": "2021-08-15T17:22:34.057Z"
   },
   {
    "duration": 18,
    "start_time": "2021-08-15T17:22:34.074Z"
   },
   {
    "duration": 10,
    "start_time": "2021-08-15T17:22:34.141Z"
   },
   {
    "duration": 2140,
    "start_time": "2021-08-15T17:22:34.153Z"
   },
   {
    "duration": 46,
    "start_time": "2021-08-15T17:22:36.297Z"
   },
   {
    "duration": 441,
    "start_time": "2021-08-15T17:22:36.345Z"
   },
   {
    "duration": 8,
    "start_time": "2021-08-15T17:22:36.788Z"
   },
   {
    "duration": 9,
    "start_time": "2021-08-15T17:22:36.798Z"
   },
   {
    "duration": 81,
    "start_time": "2021-08-15T17:22:36.808Z"
   },
   {
    "duration": 52,
    "start_time": "2021-08-15T17:22:36.890Z"
   },
   {
    "duration": 14586,
    "start_time": "2021-08-15T17:22:36.946Z"
   },
   {
    "duration": 118,
    "start_time": "2021-08-15T17:22:51.541Z"
   },
   {
    "duration": 80,
    "start_time": "2021-08-15T17:22:51.661Z"
   },
   {
    "duration": 1428,
    "start_time": "2021-08-15T17:22:51.743Z"
   },
   {
    "duration": 973,
    "start_time": "2021-08-15T17:22:53.173Z"
   },
   {
    "duration": 12,
    "start_time": "2021-08-15T17:22:54.147Z"
   },
   {
    "duration": 15,
    "start_time": "2021-08-15T17:22:54.162Z"
   },
   {
    "duration": 10,
    "start_time": "2021-08-15T17:22:54.179Z"
   },
   {
    "duration": 171,
    "start_time": "2021-08-15T17:22:54.191Z"
   },
   {
    "duration": 1442,
    "start_time": "2021-08-15T17:22:54.365Z"
   },
   {
    "duration": 1445,
    "start_time": "2021-08-15T17:22:55.809Z"
   },
   {
    "duration": 1305,
    "start_time": "2021-08-15T17:22:57.256Z"
   },
   {
    "duration": 7,
    "start_time": "2021-08-15T17:22:58.563Z"
   },
   {
    "duration": 1140,
    "start_time": "2021-08-15T17:22:58.572Z"
   },
   {
    "duration": 1041,
    "start_time": "2021-08-15T17:22:59.714Z"
   },
   {
    "duration": 175,
    "start_time": "2021-08-15T17:23:00.757Z"
   },
   {
    "duration": 23,
    "start_time": "2021-08-15T17:23:00.933Z"
   },
   {
    "duration": 13,
    "start_time": "2021-08-15T17:23:50.356Z"
   },
   {
    "duration": 5,
    "start_time": "2021-08-15T17:24:20.464Z"
   },
   {
    "duration": 1036,
    "start_time": "2021-08-15T17:24:30.848Z"
   },
   {
    "duration": 393,
    "start_time": "2021-08-15T17:24:31.885Z"
   },
   {
    "duration": 12,
    "start_time": "2021-08-15T17:24:32.280Z"
   },
   {
    "duration": 17,
    "start_time": "2021-08-15T17:24:32.294Z"
   },
   {
    "duration": 14,
    "start_time": "2021-08-15T17:24:32.313Z"
   },
   {
    "duration": 43,
    "start_time": "2021-08-15T17:24:32.329Z"
   },
   {
    "duration": 14,
    "start_time": "2021-08-15T17:24:32.373Z"
   },
   {
    "duration": 3435,
    "start_time": "2021-08-15T17:24:32.390Z"
   },
   {
    "duration": 46,
    "start_time": "2021-08-15T17:24:35.828Z"
   },
   {
    "duration": 594,
    "start_time": "2021-08-15T17:24:35.876Z"
   },
   {
    "duration": 8,
    "start_time": "2021-08-15T17:24:36.472Z"
   },
   {
    "duration": 30,
    "start_time": "2021-08-15T17:24:36.481Z"
   },
   {
    "duration": 20,
    "start_time": "2021-08-15T17:24:36.513Z"
   },
   {
    "duration": 49,
    "start_time": "2021-08-15T17:24:36.535Z"
   },
   {
    "duration": 25,
    "start_time": "2021-08-15T17:24:36.586Z"
   },
   {
    "duration": 2111,
    "start_time": "2021-08-15T17:24:36.613Z"
   },
   {
    "duration": 36,
    "start_time": "2021-08-15T17:24:38.727Z"
   },
   {
    "duration": 490,
    "start_time": "2021-08-15T17:24:38.765Z"
   },
   {
    "duration": 9,
    "start_time": "2021-08-15T17:24:39.257Z"
   },
   {
    "duration": 30,
    "start_time": "2021-08-15T17:24:39.268Z"
   },
   {
    "duration": 70,
    "start_time": "2021-08-15T17:24:39.300Z"
   },
   {
    "duration": 45,
    "start_time": "2021-08-15T17:24:39.372Z"
   },
   {
    "duration": 16009,
    "start_time": "2021-08-15T17:24:39.420Z"
   },
   {
    "duration": 127,
    "start_time": "2021-08-15T17:24:55.440Z"
   },
   {
    "duration": 80,
    "start_time": "2021-08-15T17:24:55.569Z"
   },
   {
    "duration": 1492,
    "start_time": "2021-08-15T17:24:55.651Z"
   },
   {
    "duration": 1240,
    "start_time": "2021-08-15T17:24:57.145Z"
   },
   {
    "duration": 70,
    "start_time": "2021-08-15T17:24:58.387Z"
   },
   {
    "duration": 13,
    "start_time": "2021-08-15T17:24:58.460Z"
   },
   {
    "duration": 10,
    "start_time": "2021-08-15T17:24:58.475Z"
   },
   {
    "duration": 108,
    "start_time": "2021-08-15T17:24:58.487Z"
   },
   {
    "duration": 2093,
    "start_time": "2021-08-15T17:24:58.597Z"
   },
   {
    "duration": 1384,
    "start_time": "2021-08-15T17:25:00.692Z"
   },
   {
    "duration": 1400,
    "start_time": "2021-08-15T17:25:02.078Z"
   },
   {
    "duration": 5,
    "start_time": "2021-08-15T17:25:03.480Z"
   },
   {
    "duration": 1018,
    "start_time": "2021-08-15T17:25:03.487Z"
   },
   {
    "duration": 1003,
    "start_time": "2021-08-15T17:25:04.506Z"
   },
   {
    "duration": 181,
    "start_time": "2021-08-15T17:25:05.510Z"
   },
   {
    "duration": 19,
    "start_time": "2021-08-15T17:25:05.692Z"
   },
   {
    "duration": 1092,
    "start_time": "2021-08-15T17:26:01.624Z"
   },
   {
    "duration": 415,
    "start_time": "2021-08-15T17:26:02.718Z"
   },
   {
    "duration": 16,
    "start_time": "2021-08-15T17:26:03.135Z"
   },
   {
    "duration": 16,
    "start_time": "2021-08-15T17:26:03.154Z"
   },
   {
    "duration": 15,
    "start_time": "2021-08-15T17:26:03.172Z"
   },
   {
    "duration": 32,
    "start_time": "2021-08-15T17:26:03.189Z"
   },
   {
    "duration": 29,
    "start_time": "2021-08-15T17:26:03.223Z"
   },
   {
    "duration": 20,
    "start_time": "2021-08-15T17:26:03.254Z"
   },
   {
    "duration": 28,
    "start_time": "2021-08-15T17:26:03.276Z"
   },
   {
    "duration": 337,
    "start_time": "2021-08-15T17:26:03.306Z"
   },
   {
    "duration": 8,
    "start_time": "2021-08-15T17:26:03.645Z"
   },
   {
    "duration": 22,
    "start_time": "2021-08-15T17:26:03.655Z"
   },
   {
    "duration": 10,
    "start_time": "2021-08-15T17:26:03.678Z"
   },
   {
    "duration": 23,
    "start_time": "2021-08-15T17:26:03.689Z"
   },
   {
    "duration": 39,
    "start_time": "2021-08-15T17:26:03.714Z"
   },
   {
    "duration": 22,
    "start_time": "2021-08-15T17:26:03.754Z"
   },
   {
    "duration": 19,
    "start_time": "2021-08-15T17:26:03.777Z"
   },
   {
    "duration": 398,
    "start_time": "2021-08-15T17:26:03.798Z"
   },
   {
    "duration": 8,
    "start_time": "2021-08-15T17:26:04.198Z"
   },
   {
    "duration": 7,
    "start_time": "2021-08-15T17:26:04.209Z"
   },
   {
    "duration": 79,
    "start_time": "2021-08-15T17:26:04.218Z"
   },
   {
    "duration": 52,
    "start_time": "2021-08-15T17:26:04.299Z"
   },
   {
    "duration": 16,
    "start_time": "2021-08-15T17:26:05.099Z"
   },
   {
    "duration": 67,
    "start_time": "2021-08-15T17:26:05.117Z"
   },
   {
    "duration": 26,
    "start_time": "2021-08-15T17:26:05.186Z"
   },
   {
    "duration": 36,
    "start_time": "2021-08-15T17:26:05.214Z"
   },
   {
    "duration": 49,
    "start_time": "2021-08-15T17:26:05.272Z"
   },
   {
    "duration": 12,
    "start_time": "2021-08-15T17:26:05.322Z"
   },
   {
    "duration": 12,
    "start_time": "2021-08-15T17:26:05.345Z"
   },
   {
    "duration": 14,
    "start_time": "2021-08-15T17:26:05.359Z"
   },
   {
    "duration": 97,
    "start_time": "2021-08-15T17:26:05.374Z"
   },
   {
    "duration": 509,
    "start_time": "2021-08-15T17:26:05.473Z"
   },
   {
    "duration": 225,
    "start_time": "2021-08-15T17:26:05.984Z"
   },
   {
    "duration": 31,
    "start_time": "2021-08-15T17:26:06.211Z"
   },
   {
    "duration": 7,
    "start_time": "2021-08-15T17:26:06.244Z"
   },
   {
    "duration": 966,
    "start_time": "2021-08-15T17:26:06.253Z"
   },
   {
    "duration": 1041,
    "start_time": "2021-08-15T17:26:07.221Z"
   },
   {
    "duration": 180,
    "start_time": "2021-08-15T17:26:08.264Z"
   },
   {
    "duration": 19,
    "start_time": "2021-08-15T17:26:08.447Z"
   },
   {
    "duration": 1297,
    "start_time": "2021-08-15T17:33:51.096Z"
   },
   {
    "duration": 18,
    "start_time": "2021-08-15T17:34:16.945Z"
   },
   {
    "duration": 16,
    "start_time": "2021-08-15T17:34:46.257Z"
   },
   {
    "duration": 289,
    "start_time": "2021-08-15T17:34:59.968Z"
   },
   {
    "duration": 17,
    "start_time": "2021-08-15T17:35:06.872Z"
   },
   {
    "duration": 20,
    "start_time": "2021-08-15T17:35:10.240Z"
   },
   {
    "duration": 18,
    "start_time": "2021-08-15T17:35:18.167Z"
   },
   {
    "duration": 632,
    "start_time": "2021-08-15T17:39:19.999Z"
   },
   {
    "duration": 8,
    "start_time": "2021-08-15T17:39:24.839Z"
   },
   {
    "duration": 84,
    "start_time": "2021-08-15T17:40:16.414Z"
   },
   {
    "duration": 244,
    "start_time": "2021-08-15T17:40:22.925Z"
   },
   {
    "duration": 243,
    "start_time": "2021-08-15T17:40:37.085Z"
   },
   {
    "duration": 8,
    "start_time": "2021-08-15T17:41:35.525Z"
   },
   {
    "duration": 6,
    "start_time": "2021-08-15T17:41:48.894Z"
   },
   {
    "duration": 7,
    "start_time": "2021-08-15T17:42:08.853Z"
   },
   {
    "duration": 7,
    "start_time": "2021-08-15T17:42:13.677Z"
   },
   {
    "duration": 6,
    "start_time": "2021-08-15T17:42:19.630Z"
   },
   {
    "duration": 6,
    "start_time": "2021-08-15T17:42:27.365Z"
   },
   {
    "duration": 7,
    "start_time": "2021-08-15T17:42:33.517Z"
   },
   {
    "duration": 7,
    "start_time": "2021-08-15T17:42:38.165Z"
   },
   {
    "duration": 2363,
    "start_time": "2021-08-15T17:45:15.092Z"
   },
   {
    "duration": 2668,
    "start_time": "2021-08-15T17:46:49.116Z"
   },
   {
    "duration": 8292,
    "start_time": "2021-08-15T17:49:01.427Z"
   },
   {
    "duration": 153,
    "start_time": "2021-08-15T17:58:20.775Z"
   },
   {
    "duration": 171,
    "start_time": "2021-08-15T17:58:30.255Z"
   },
   {
    "duration": 173,
    "start_time": "2021-08-15T17:58:35.551Z"
   },
   {
    "duration": 154,
    "start_time": "2021-08-15T17:58:57.134Z"
   },
   {
    "duration": 165,
    "start_time": "2021-08-15T17:59:32.326Z"
   },
   {
    "duration": 270,
    "start_time": "2021-08-15T18:00:36.877Z"
   },
   {
    "duration": 6,
    "start_time": "2021-08-15T18:00:54.565Z"
   },
   {
    "duration": 7,
    "start_time": "2021-08-15T18:01:05.309Z"
   },
   {
    "duration": 7,
    "start_time": "2021-08-15T18:01:27.645Z"
   },
   {
    "duration": 6,
    "start_time": "2021-08-15T18:01:33.574Z"
   },
   {
    "duration": 6,
    "start_time": "2021-08-15T18:01:36.165Z"
   },
   {
    "duration": 6,
    "start_time": "2021-08-15T18:01:39.798Z"
   },
   {
    "duration": 8,
    "start_time": "2021-08-15T18:01:54.068Z"
   },
   {
    "duration": 28,
    "start_time": "2021-08-15T18:09:02.818Z"
   },
   {
    "duration": 23,
    "start_time": "2021-08-15T18:09:21.610Z"
   },
   {
    "duration": 24,
    "start_time": "2021-08-15T18:09:40.849Z"
   },
   {
    "duration": 23,
    "start_time": "2021-08-15T18:09:47.217Z"
   },
   {
    "duration": 251,
    "start_time": "2021-08-15T18:10:32.050Z"
   },
   {
    "duration": 25,
    "start_time": "2021-08-15T18:10:40.233Z"
   },
   {
    "duration": 340,
    "start_time": "2021-08-15T18:17:36.863Z"
   },
   {
    "duration": 211,
    "start_time": "2021-08-15T18:18:38.375Z"
   },
   {
    "duration": 210,
    "start_time": "2021-08-15T18:18:47.022Z"
   },
   {
    "duration": 210,
    "start_time": "2021-08-15T18:18:50.526Z"
   },
   {
    "duration": 245,
    "start_time": "2021-08-15T18:18:55.974Z"
   },
   {
    "duration": 81,
    "start_time": "2021-08-15T18:19:28.638Z"
   },
   {
    "duration": 505,
    "start_time": "2021-08-15T18:19:31.014Z"
   },
   {
    "duration": 1094,
    "start_time": "2021-08-15T18:19:50.574Z"
   },
   {
    "duration": 85,
    "start_time": "2021-08-15T18:20:04.374Z"
   },
   {
    "duration": 1018,
    "start_time": "2021-08-15T18:20:07.316Z"
   },
   {
    "duration": 241,
    "start_time": "2021-08-15T18:20:11.613Z"
   },
   {
    "duration": 220,
    "start_time": "2021-08-15T18:20:24.333Z"
   },
   {
    "duration": 212,
    "start_time": "2021-08-15T18:20:33.972Z"
   },
   {
    "duration": 215,
    "start_time": "2021-08-15T18:20:42.781Z"
   },
   {
    "duration": 577,
    "start_time": "2021-08-15T18:22:10.075Z"
   },
   {
    "duration": 211,
    "start_time": "2021-08-15T18:24:37.051Z"
   },
   {
    "duration": 213,
    "start_time": "2021-08-15T18:24:42.763Z"
   },
   {
    "duration": 527,
    "start_time": "2021-08-15T18:25:55.523Z"
   },
   {
    "duration": 508,
    "start_time": "2021-08-15T18:26:06.571Z"
   },
   {
    "duration": 85,
    "start_time": "2021-08-15T18:26:39.882Z"
   },
   {
    "duration": 339,
    "start_time": "2021-08-15T18:26:51.914Z"
   },
   {
    "duration": 217,
    "start_time": "2021-08-15T18:27:38.906Z"
   },
   {
    "duration": 229,
    "start_time": "2021-08-15T18:28:01.658Z"
   },
   {
    "duration": 239,
    "start_time": "2021-08-15T18:29:26.073Z"
   },
   {
    "duration": 224,
    "start_time": "2021-08-15T18:29:29.832Z"
   },
   {
    "duration": 232,
    "start_time": "2021-08-15T18:29:34.329Z"
   },
   {
    "duration": 221,
    "start_time": "2021-08-15T18:30:32.280Z"
   },
   {
    "duration": 238,
    "start_time": "2021-08-15T18:30:48.769Z"
   },
   {
    "duration": 234,
    "start_time": "2021-08-15T18:31:06.249Z"
   },
   {
    "duration": 889,
    "start_time": "2021-08-15T18:32:16.712Z"
   },
   {
    "duration": 1012,
    "start_time": "2021-08-15T18:33:16.296Z"
   },
   {
    "duration": 896,
    "start_time": "2021-08-15T18:33:33.823Z"
   },
   {
    "duration": 909,
    "start_time": "2021-08-15T18:33:44.496Z"
   },
   {
    "duration": 1063,
    "start_time": "2021-08-15T18:33:54.680Z"
   },
   {
    "duration": 1659,
    "start_time": "2021-08-15T18:35:05.192Z"
   },
   {
    "duration": 1293,
    "start_time": "2021-08-15T18:35:17.184Z"
   },
   {
    "duration": 1292,
    "start_time": "2021-08-15T18:35:36.278Z"
   },
   {
    "duration": 1415,
    "start_time": "2021-08-15T18:35:43.078Z"
   },
   {
    "duration": 253,
    "start_time": "2021-08-15T18:54:44.743Z"
   },
   {
    "duration": 222,
    "start_time": "2021-08-15T18:54:54.367Z"
   },
   {
    "duration": 232,
    "start_time": "2021-08-15T18:55:00.446Z"
   },
   {
    "duration": 281,
    "start_time": "2021-08-15T18:56:04.735Z"
   },
   {
    "duration": 262,
    "start_time": "2021-08-15T18:56:10.630Z"
   },
   {
    "duration": 286,
    "start_time": "2021-08-15T18:56:14.214Z"
   },
   {
    "duration": 1066,
    "start_time": "2021-08-15T19:34:56.615Z"
   },
   {
    "duration": 393,
    "start_time": "2021-08-15T19:34:57.683Z"
   },
   {
    "duration": 13,
    "start_time": "2021-08-15T19:34:58.078Z"
   },
   {
    "duration": 8,
    "start_time": "2021-08-15T19:34:58.093Z"
   },
   {
    "duration": 9,
    "start_time": "2021-08-15T19:34:58.103Z"
   },
   {
    "duration": 28,
    "start_time": "2021-08-15T19:34:58.113Z"
   },
   {
    "duration": 14,
    "start_time": "2021-08-15T19:34:58.142Z"
   },
   {
    "duration": 21,
    "start_time": "2021-08-15T19:34:58.157Z"
   },
   {
    "duration": 27,
    "start_time": "2021-08-15T19:34:58.180Z"
   },
   {
    "duration": 318,
    "start_time": "2021-08-15T19:34:58.209Z"
   },
   {
    "duration": 12,
    "start_time": "2021-08-15T19:34:58.529Z"
   },
   {
    "duration": 13,
    "start_time": "2021-08-15T19:34:58.543Z"
   },
   {
    "duration": 8,
    "start_time": "2021-08-15T19:34:58.557Z"
   },
   {
    "duration": 17,
    "start_time": "2021-08-15T19:34:58.567Z"
   },
   {
    "duration": 9,
    "start_time": "2021-08-15T19:34:58.585Z"
   },
   {
    "duration": 46,
    "start_time": "2021-08-15T19:34:58.596Z"
   },
   {
    "duration": 21,
    "start_time": "2021-08-15T19:34:58.644Z"
   },
   {
    "duration": 382,
    "start_time": "2021-08-15T19:34:58.666Z"
   },
   {
    "duration": 9,
    "start_time": "2021-08-15T19:34:59.050Z"
   },
   {
    "duration": 8,
    "start_time": "2021-08-15T19:34:59.061Z"
   },
   {
    "duration": 86,
    "start_time": "2021-08-15T19:34:59.071Z"
   },
   {
    "duration": 45,
    "start_time": "2021-08-15T19:34:59.159Z"
   },
   {
    "duration": 14,
    "start_time": "2021-08-15T19:34:59.205Z"
   },
   {
    "duration": 70,
    "start_time": "2021-08-15T19:34:59.220Z"
   },
   {
    "duration": 24,
    "start_time": "2021-08-15T19:34:59.292Z"
   },
   {
    "duration": 37,
    "start_time": "2021-08-15T19:34:59.318Z"
   },
   {
    "duration": 47,
    "start_time": "2021-08-15T19:34:59.358Z"
   },
   {
    "duration": 34,
    "start_time": "2021-08-15T19:34:59.408Z"
   },
   {
    "duration": 11,
    "start_time": "2021-08-15T19:34:59.444Z"
   },
   {
    "duration": 8,
    "start_time": "2021-08-15T19:34:59.457Z"
   },
   {
    "duration": 80,
    "start_time": "2021-08-15T19:34:59.467Z"
   },
   {
    "duration": 365,
    "start_time": "2021-08-15T19:34:59.548Z"
   },
   {
    "duration": 237,
    "start_time": "2021-08-15T19:34:59.915Z"
   },
   {
    "duration": 24,
    "start_time": "2021-08-15T19:35:00.154Z"
   },
   {
    "duration": 1048,
    "start_time": "2021-08-15T19:35:00.180Z"
   },
   {
    "duration": 963,
    "start_time": "2021-08-15T19:35:01.230Z"
   },
   {
    "duration": 178,
    "start_time": "2021-08-15T19:35:02.195Z"
   },
   {
    "duration": 189,
    "start_time": "2021-08-15T19:35:02.375Z"
   },
   {
    "duration": 173,
    "start_time": "2021-08-15T19:35:02.565Z"
   },
   {
    "duration": 184,
    "start_time": "2021-08-15T19:35:02.741Z"
   },
   {
    "duration": 7,
    "start_time": "2021-08-15T19:35:02.926Z"
   },
   {
    "duration": 10,
    "start_time": "2021-08-15T19:35:02.941Z"
   },
   {
    "duration": 8,
    "start_time": "2021-08-15T19:35:02.953Z"
   },
   {
    "duration": 31,
    "start_time": "2021-08-15T19:35:02.962Z"
   },
   {
    "duration": 328,
    "start_time": "2021-08-15T19:35:02.995Z"
   },
   {
    "duration": 370,
    "start_time": "2021-08-15T19:35:03.325Z"
   },
   {
    "duration": 313,
    "start_time": "2021-08-15T19:35:03.697Z"
   },
   {
    "duration": 19,
    "start_time": "2021-08-15T19:35:04.011Z"
   },
   {
    "duration": 45,
    "start_time": "2021-08-15T19:40:58.123Z"
   },
   {
    "duration": 273,
    "start_time": "2021-08-15T19:44:57.913Z"
   },
   {
    "duration": 376,
    "start_time": "2021-08-15T19:46:48.392Z"
   },
   {
    "duration": 256,
    "start_time": "2021-08-15T19:47:04.088Z"
   },
   {
    "duration": 395,
    "start_time": "2021-08-15T19:47:50.760Z"
   },
   {
    "duration": 975,
    "start_time": "2021-08-15T19:50:27.375Z"
   },
   {
    "duration": 965,
    "start_time": "2021-08-15T19:52:01.023Z"
   },
   {
    "duration": 942,
    "start_time": "2021-08-15T19:52:36.567Z"
   },
   {
    "duration": 107111,
    "start_time": "2021-08-15T19:53:34.013Z"
   },
   {
    "duration": -119,
    "start_time": "2021-08-15T19:55:21.246Z"
   },
   {
    "duration": 261,
    "start_time": "2021-08-15T19:55:25.203Z"
   },
   {
    "duration": 5638,
    "start_time": "2021-08-15T19:55:51.237Z"
   },
   {
    "duration": 241,
    "start_time": "2021-08-15T19:56:12.260Z"
   },
   {
    "duration": 126,
    "start_time": "2021-08-15T19:58:33.427Z"
   },
   {
    "duration": 120,
    "start_time": "2021-08-15T19:59:44.858Z"
   },
   {
    "duration": 538,
    "start_time": "2021-08-15T20:00:09.783Z"
   },
   {
    "duration": 1046,
    "start_time": "2021-08-15T20:04:09.340Z"
   },
   {
    "duration": 398,
    "start_time": "2021-08-15T20:04:10.388Z"
   },
   {
    "duration": 12,
    "start_time": "2021-08-15T20:04:10.788Z"
   },
   {
    "duration": 6,
    "start_time": "2021-08-15T20:04:10.802Z"
   },
   {
    "duration": 9,
    "start_time": "2021-08-15T20:04:10.810Z"
   },
   {
    "duration": 21,
    "start_time": "2021-08-15T20:04:10.821Z"
   },
   {
    "duration": 13,
    "start_time": "2021-08-15T20:04:10.844Z"
   },
   {
    "duration": 19,
    "start_time": "2021-08-15T20:04:10.860Z"
   },
   {
    "duration": 25,
    "start_time": "2021-08-15T20:04:10.881Z"
   },
   {
    "duration": 313,
    "start_time": "2021-08-15T20:04:10.908Z"
   },
   {
    "duration": 7,
    "start_time": "2021-08-15T20:04:11.223Z"
   },
   {
    "duration": 22,
    "start_time": "2021-08-15T20:04:11.231Z"
   },
   {
    "duration": 9,
    "start_time": "2021-08-15T20:04:11.254Z"
   },
   {
    "duration": 25,
    "start_time": "2021-08-15T20:04:11.264Z"
   },
   {
    "duration": 8,
    "start_time": "2021-08-15T20:04:11.291Z"
   },
   {
    "duration": 16,
    "start_time": "2021-08-15T20:04:11.300Z"
   },
   {
    "duration": 20,
    "start_time": "2021-08-15T20:04:11.341Z"
   },
   {
    "duration": 299,
    "start_time": "2021-08-15T20:04:11.362Z"
   },
   {
    "duration": 8,
    "start_time": "2021-08-15T20:04:11.662Z"
   },
   {
    "duration": 8,
    "start_time": "2021-08-15T20:04:11.671Z"
   },
   {
    "duration": 75,
    "start_time": "2021-08-15T20:04:11.681Z"
   },
   {
    "duration": 44,
    "start_time": "2021-08-15T20:04:11.758Z"
   },
   {
    "duration": 66,
    "start_time": "2021-08-15T20:04:11.805Z"
   },
   {
    "duration": 24,
    "start_time": "2021-08-15T20:04:11.872Z"
   },
   {
    "duration": 20,
    "start_time": "2021-08-15T20:04:11.897Z"
   },
   {
    "duration": 62,
    "start_time": "2021-08-15T20:04:11.919Z"
   },
   {
    "duration": 11,
    "start_time": "2021-08-15T20:04:11.982Z"
   },
   {
    "duration": 8,
    "start_time": "2021-08-15T20:04:11.995Z"
   },
   {
    "duration": 9,
    "start_time": "2021-08-15T20:04:12.005Z"
   },
   {
    "duration": 67,
    "start_time": "2021-08-15T20:04:12.041Z"
   },
   {
    "duration": 373,
    "start_time": "2021-08-15T20:04:12.109Z"
   },
   {
    "duration": 242,
    "start_time": "2021-08-15T20:04:12.483Z"
   },
   {
    "duration": 28,
    "start_time": "2021-08-15T20:04:12.728Z"
   },
   {
    "duration": 900,
    "start_time": "2021-08-15T20:04:12.758Z"
   },
   {
    "duration": 949,
    "start_time": "2021-08-15T20:04:13.660Z"
   },
   {
    "duration": 237,
    "start_time": "2021-08-15T20:04:14.611Z"
   },
   {
    "duration": 166,
    "start_time": "2021-08-15T20:04:14.850Z"
   },
   {
    "duration": 152,
    "start_time": "2021-08-15T20:04:15.018Z"
   },
   {
    "duration": 171,
    "start_time": "2021-08-15T20:04:15.172Z"
   },
   {
    "duration": 8,
    "start_time": "2021-08-15T20:04:15.345Z"
   },
   {
    "duration": 7,
    "start_time": "2021-08-15T20:04:15.354Z"
   },
   {
    "duration": 6,
    "start_time": "2021-08-15T20:04:15.364Z"
   },
   {
    "duration": 32,
    "start_time": "2021-08-15T20:04:15.372Z"
   },
   {
    "duration": 321,
    "start_time": "2021-08-15T20:04:15.405Z"
   },
   {
    "duration": 338,
    "start_time": "2021-08-15T20:04:15.728Z"
   },
   {
    "duration": 279,
    "start_time": "2021-08-15T20:04:16.068Z"
   },
   {
    "duration": 137,
    "start_time": "2021-08-15T20:04:16.348Z"
   },
   {
    "duration": 493,
    "start_time": "2021-08-15T20:04:16.487Z"
   },
   {
    "duration": 18,
    "start_time": "2021-08-15T20:04:16.981Z"
   },
   {
    "duration": 274,
    "start_time": "2021-08-15T20:05:01.664Z"
   },
   {
    "duration": 280,
    "start_time": "2021-08-15T20:05:08.719Z"
   },
   {
    "duration": 24657,
    "start_time": "2021-08-15T20:08:06.927Z"
   },
   {
    "duration": 278,
    "start_time": "2021-08-15T20:08:42.496Z"
   },
   {
    "duration": 21,
    "start_time": "2021-08-15T20:16:07.244Z"
   },
   {
    "duration": 253,
    "start_time": "2021-08-15T20:16:35.932Z"
   },
   {
    "duration": 12,
    "start_time": "2021-08-15T20:17:11.195Z"
   },
   {
    "duration": 12,
    "start_time": "2021-08-15T20:18:40.643Z"
   },
   {
    "duration": 13,
    "start_time": "2021-08-15T20:18:59.234Z"
   },
   {
    "duration": 14,
    "start_time": "2021-08-15T20:19:02.747Z"
   },
   {
    "duration": 14,
    "start_time": "2021-08-15T20:20:05.314Z"
   },
   {
    "duration": 14,
    "start_time": "2021-08-15T20:20:34.545Z"
   },
   {
    "duration": 8,
    "start_time": "2021-08-15T20:30:07.268Z"
   },
   {
    "duration": 235,
    "start_time": "2021-08-15T20:43:50.568Z"
   },
   {
    "duration": 5,
    "start_time": "2021-08-15T20:44:23.096Z"
   },
   {
    "duration": 261,
    "start_time": "2021-08-15T20:45:31.111Z"
   },
   {
    "duration": 402,
    "start_time": "2021-08-15T20:45:36.583Z"
   },
   {
    "duration": 253,
    "start_time": "2021-08-15T20:45:54.079Z"
   },
   {
    "duration": 463,
    "start_time": "2021-08-15T20:46:17.830Z"
   },
   {
    "duration": 4,
    "start_time": "2021-08-15T20:47:18.374Z"
   },
   {
    "duration": 1075,
    "start_time": "2021-08-15T20:47:33.317Z"
   },
   {
    "duration": 413,
    "start_time": "2021-08-15T20:47:34.394Z"
   },
   {
    "duration": 14,
    "start_time": "2021-08-15T20:47:34.812Z"
   },
   {
    "duration": 8,
    "start_time": "2021-08-15T20:47:34.828Z"
   },
   {
    "duration": 9,
    "start_time": "2021-08-15T20:47:34.840Z"
   },
   {
    "duration": 20,
    "start_time": "2021-08-15T20:47:34.851Z"
   },
   {
    "duration": 14,
    "start_time": "2021-08-15T20:47:34.875Z"
   },
   {
    "duration": 51,
    "start_time": "2021-08-15T20:47:34.891Z"
   },
   {
    "duration": 27,
    "start_time": "2021-08-15T20:47:34.943Z"
   },
   {
    "duration": 328,
    "start_time": "2021-08-15T20:47:34.971Z"
   },
   {
    "duration": 7,
    "start_time": "2021-08-15T20:47:35.301Z"
   },
   {
    "duration": 16,
    "start_time": "2021-08-15T20:47:35.310Z"
   },
   {
    "duration": 8,
    "start_time": "2021-08-15T20:47:35.341Z"
   },
   {
    "duration": 18,
    "start_time": "2021-08-15T20:47:35.351Z"
   },
   {
    "duration": 8,
    "start_time": "2021-08-15T20:47:35.371Z"
   },
   {
    "duration": 16,
    "start_time": "2021-08-15T20:47:35.381Z"
   },
   {
    "duration": 47,
    "start_time": "2021-08-15T20:47:35.398Z"
   },
   {
    "duration": 299,
    "start_time": "2021-08-15T20:47:35.447Z"
   },
   {
    "duration": 7,
    "start_time": "2021-08-15T20:47:35.748Z"
   },
   {
    "duration": 10,
    "start_time": "2021-08-15T20:47:35.757Z"
   },
   {
    "duration": 75,
    "start_time": "2021-08-15T20:47:35.768Z"
   },
   {
    "duration": 46,
    "start_time": "2021-08-15T20:47:35.847Z"
   },
   {
    "duration": 68,
    "start_time": "2021-08-15T20:47:35.895Z"
   },
   {
    "duration": 24,
    "start_time": "2021-08-15T20:47:35.965Z"
   },
   {
    "duration": 19,
    "start_time": "2021-08-15T20:47:35.991Z"
   },
   {
    "duration": 67,
    "start_time": "2021-08-15T20:47:36.012Z"
   },
   {
    "duration": 11,
    "start_time": "2021-08-15T20:47:36.081Z"
   },
   {
    "duration": 11,
    "start_time": "2021-08-15T20:47:36.093Z"
   },
   {
    "duration": 7,
    "start_time": "2021-08-15T20:47:36.105Z"
   },
   {
    "duration": 95,
    "start_time": "2021-08-15T20:47:36.113Z"
   },
   {
    "duration": 376,
    "start_time": "2021-08-15T20:47:36.210Z"
   },
   {
    "duration": 245,
    "start_time": "2021-08-15T20:47:36.587Z"
   },
   {
    "duration": 26,
    "start_time": "2021-08-15T20:47:36.834Z"
   },
   {
    "duration": 916,
    "start_time": "2021-08-15T20:47:36.862Z"
   },
   {
    "duration": 1054,
    "start_time": "2021-08-15T20:47:37.780Z"
   },
   {
    "duration": 180,
    "start_time": "2021-08-15T20:47:38.835Z"
   },
   {
    "duration": 161,
    "start_time": "2021-08-15T20:47:39.017Z"
   },
   {
    "duration": 155,
    "start_time": "2021-08-15T20:47:39.180Z"
   },
   {
    "duration": 165,
    "start_time": "2021-08-15T20:47:39.340Z"
   },
   {
    "duration": 7,
    "start_time": "2021-08-15T20:47:39.506Z"
   },
   {
    "duration": 8,
    "start_time": "2021-08-15T20:47:39.514Z"
   },
   {
    "duration": 19,
    "start_time": "2021-08-15T20:47:39.524Z"
   },
   {
    "duration": 24,
    "start_time": "2021-08-15T20:47:39.545Z"
   },
   {
    "duration": 303,
    "start_time": "2021-08-15T20:47:39.570Z"
   },
   {
    "duration": 341,
    "start_time": "2021-08-15T20:47:39.874Z"
   },
   {
    "duration": 277,
    "start_time": "2021-08-15T20:47:40.217Z"
   },
   {
    "duration": 137,
    "start_time": "2021-08-15T20:47:40.495Z"
   },
   {
    "duration": 274,
    "start_time": "2021-08-15T20:47:40.633Z"
   },
   {
    "duration": 14,
    "start_time": "2021-08-15T20:47:40.909Z"
   },
   {
    "duration": 18,
    "start_time": "2021-08-15T20:47:40.924Z"
   },
   {
    "duration": 474,
    "start_time": "2021-08-15T20:47:40.944Z"
   },
   {
    "duration": -115,
    "start_time": "2021-08-15T20:47:41.534Z"
   },
   {
    "duration": -123,
    "start_time": "2021-08-15T20:47:41.543Z"
   },
   {
    "duration": -123,
    "start_time": "2021-08-15T20:47:41.544Z"
   },
   {
    "duration": 251,
    "start_time": "2021-08-15T20:48:30.627Z"
   },
   {
    "duration": 23,
    "start_time": "2021-08-15T20:48:35.962Z"
   },
   {
    "duration": 431,
    "start_time": "2021-08-15T20:48:56.227Z"
   },
   {
    "duration": 13,
    "start_time": "2021-08-15T20:50:16.289Z"
   },
   {
    "duration": 5,
    "start_time": "2021-08-15T21:14:21.056Z"
   },
   {
    "duration": 14,
    "start_time": "2021-08-15T21:14:45.415Z"
   },
   {
    "duration": 13,
    "start_time": "2021-08-15T21:14:47.503Z"
   },
   {
    "duration": 258,
    "start_time": "2021-08-15T21:42:34.002Z"
   },
   {
    "duration": 81,
    "start_time": "2021-08-15T21:42:49.659Z"
   },
   {
    "duration": 261,
    "start_time": "2021-08-15T21:42:55.386Z"
   },
   {
    "duration": 1066,
    "start_time": "2021-08-15T21:43:06.916Z"
   },
   {
    "duration": 395,
    "start_time": "2021-08-15T21:43:07.984Z"
   },
   {
    "duration": 12,
    "start_time": "2021-08-15T21:43:08.381Z"
   },
   {
    "duration": 8,
    "start_time": "2021-08-15T21:43:08.395Z"
   },
   {
    "duration": 8,
    "start_time": "2021-08-15T21:43:08.405Z"
   },
   {
    "duration": 20,
    "start_time": "2021-08-15T21:43:08.414Z"
   },
   {
    "duration": 18,
    "start_time": "2021-08-15T21:43:08.435Z"
   },
   {
    "duration": 20,
    "start_time": "2021-08-15T21:43:08.455Z"
   },
   {
    "duration": 25,
    "start_time": "2021-08-15T21:43:08.477Z"
   },
   {
    "duration": 316,
    "start_time": "2021-08-15T21:43:08.504Z"
   },
   {
    "duration": 19,
    "start_time": "2021-08-15T21:43:08.821Z"
   },
   {
    "duration": 14,
    "start_time": "2021-08-15T21:43:08.842Z"
   },
   {
    "duration": 9,
    "start_time": "2021-08-15T21:43:08.858Z"
   },
   {
    "duration": 19,
    "start_time": "2021-08-15T21:43:08.868Z"
   },
   {
    "duration": 9,
    "start_time": "2021-08-15T21:43:08.889Z"
   },
   {
    "duration": 45,
    "start_time": "2021-08-15T21:43:08.900Z"
   },
   {
    "duration": 19,
    "start_time": "2021-08-15T21:43:08.947Z"
   },
   {
    "duration": 305,
    "start_time": "2021-08-15T21:43:08.968Z"
   },
   {
    "duration": 9,
    "start_time": "2021-08-15T21:43:09.275Z"
   },
   {
    "duration": 31,
    "start_time": "2021-08-15T21:43:09.286Z"
   },
   {
    "duration": 76,
    "start_time": "2021-08-15T21:43:09.319Z"
   },
   {
    "duration": 45,
    "start_time": "2021-08-15T21:43:09.397Z"
   },
   {
    "duration": 53,
    "start_time": "2021-08-15T21:43:09.446Z"
   },
   {
    "duration": 41,
    "start_time": "2021-08-15T21:43:09.502Z"
   },
   {
    "duration": 20,
    "start_time": "2021-08-15T21:43:09.545Z"
   },
   {
    "duration": 47,
    "start_time": "2021-08-15T21:43:09.567Z"
   },
   {
    "duration": 34,
    "start_time": "2021-08-15T21:43:09.615Z"
   },
   {
    "duration": 18,
    "start_time": "2021-08-15T21:43:09.651Z"
   },
   {
    "duration": 14,
    "start_time": "2021-08-15T21:43:09.671Z"
   },
   {
    "duration": 70,
    "start_time": "2021-08-15T21:43:09.686Z"
   },
   {
    "duration": 372,
    "start_time": "2021-08-15T21:43:09.758Z"
   },
   {
    "duration": 231,
    "start_time": "2021-08-15T21:43:10.132Z"
   },
   {
    "duration": 23,
    "start_time": "2021-08-15T21:43:10.365Z"
   },
   {
    "duration": 919,
    "start_time": "2021-08-15T21:43:10.389Z"
   },
   {
    "duration": 972,
    "start_time": "2021-08-15T21:43:11.310Z"
   },
   {
    "duration": 172,
    "start_time": "2021-08-15T21:43:12.284Z"
   },
   {
    "duration": 161,
    "start_time": "2021-08-15T21:43:12.458Z"
   },
   {
    "duration": 151,
    "start_time": "2021-08-15T21:43:12.620Z"
   },
   {
    "duration": 167,
    "start_time": "2021-08-15T21:43:12.773Z"
   },
   {
    "duration": 6,
    "start_time": "2021-08-15T21:43:12.942Z"
   },
   {
    "duration": 8,
    "start_time": "2021-08-15T21:43:12.949Z"
   },
   {
    "duration": 6,
    "start_time": "2021-08-15T21:43:12.959Z"
   },
   {
    "duration": 25,
    "start_time": "2021-08-15T21:43:12.967Z"
   },
   {
    "duration": 320,
    "start_time": "2021-08-15T21:43:12.994Z"
   },
   {
    "duration": 344,
    "start_time": "2021-08-15T21:43:13.316Z"
   },
   {
    "duration": 299,
    "start_time": "2021-08-15T21:43:13.662Z"
   },
   {
    "duration": 140,
    "start_time": "2021-08-15T21:43:13.964Z"
   },
   {
    "duration": 279,
    "start_time": "2021-08-15T21:43:14.105Z"
   },
   {
    "duration": 15,
    "start_time": "2021-08-15T21:43:14.386Z"
   },
   {
    "duration": 5,
    "start_time": "2021-08-15T21:43:14.403Z"
   },
   {
    "duration": 442,
    "start_time": "2021-08-15T21:43:14.410Z"
   },
   {
    "duration": 13,
    "start_time": "2021-08-15T21:43:14.853Z"
   },
   {
    "duration": 11,
    "start_time": "2021-08-15T21:43:14.868Z"
   },
   {
    "duration": 12,
    "start_time": "2021-08-15T21:43:14.880Z"
   },
   {
    "duration": 15,
    "start_time": "2021-08-15T21:43:14.894Z"
   },
   {
    "duration": 346,
    "start_time": "2021-08-15T21:46:10.498Z"
   },
   {
    "duration": 53,
    "start_time": "2021-08-15T21:46:19.177Z"
   },
   {
    "duration": 58,
    "start_time": "2021-08-15T21:46:53.825Z"
   },
   {
    "duration": 265,
    "start_time": "2021-08-15T21:50:30.118Z"
   },
   {
    "duration": 57,
    "start_time": "2021-08-15T21:50:58.655Z"
   },
   {
    "duration": 290,
    "start_time": "2021-08-15T21:53:42.295Z"
   },
   {
    "duration": 55,
    "start_time": "2021-08-15T21:53:51.126Z"
   },
   {
    "duration": 275,
    "start_time": "2021-08-15T21:53:56.320Z"
   },
   {
    "duration": 57,
    "start_time": "2021-08-15T21:54:01.078Z"
   },
   {
    "duration": 26,
    "start_time": "2021-08-15T21:54:59.357Z"
   },
   {
    "duration": 23,
    "start_time": "2021-08-15T21:55:07.661Z"
   },
   {
    "duration": 26,
    "start_time": "2021-08-15T21:55:14.636Z"
   },
   {
    "duration": 54,
    "start_time": "2021-08-15T21:55:23.076Z"
   },
   {
    "duration": 300,
    "start_time": "2021-08-16T08:44:49.850Z"
   },
   {
    "duration": 1371,
    "start_time": "2021-08-16T08:44:56.372Z"
   },
   {
    "duration": 568,
    "start_time": "2021-08-16T08:44:57.746Z"
   },
   {
    "duration": 21,
    "start_time": "2021-08-16T08:44:58.321Z"
   },
   {
    "duration": 29,
    "start_time": "2021-08-16T08:44:58.344Z"
   },
   {
    "duration": 11,
    "start_time": "2021-08-16T08:44:58.376Z"
   },
   {
    "duration": 28,
    "start_time": "2021-08-16T08:44:58.390Z"
   },
   {
    "duration": 55,
    "start_time": "2021-08-16T08:44:58.420Z"
   },
   {
    "duration": 29,
    "start_time": "2021-08-16T08:44:58.479Z"
   },
   {
    "duration": 56,
    "start_time": "2021-08-16T08:44:58.513Z"
   },
   {
    "duration": 571,
    "start_time": "2021-08-16T08:44:58.571Z"
   },
   {
    "duration": 23,
    "start_time": "2021-08-16T08:44:59.144Z"
   },
   {
    "duration": 26,
    "start_time": "2021-08-16T08:44:59.170Z"
   },
   {
    "duration": 14,
    "start_time": "2021-08-16T08:44:59.199Z"
   },
   {
    "duration": 52,
    "start_time": "2021-08-16T08:44:59.215Z"
   },
   {
    "duration": 15,
    "start_time": "2021-08-16T08:44:59.270Z"
   },
   {
    "duration": 32,
    "start_time": "2021-08-16T08:44:59.287Z"
   },
   {
    "duration": 63,
    "start_time": "2021-08-16T08:44:59.321Z"
   },
   {
    "duration": 525,
    "start_time": "2021-08-16T08:44:59.387Z"
   },
   {
    "duration": 14,
    "start_time": "2021-08-16T08:44:59.915Z"
   },
   {
    "duration": 35,
    "start_time": "2021-08-16T08:44:59.932Z"
   },
   {
    "duration": 123,
    "start_time": "2021-08-16T08:44:59.969Z"
   },
   {
    "duration": 173,
    "start_time": "2021-08-16T08:45:00.095Z"
   },
   {
    "duration": 133,
    "start_time": "2021-08-16T08:45:00.271Z"
   },
   {
    "duration": 87,
    "start_time": "2021-08-16T08:45:00.407Z"
   },
   {
    "duration": 89,
    "start_time": "2021-08-16T08:45:00.496Z"
   },
   {
    "duration": 181,
    "start_time": "2021-08-16T08:45:00.591Z"
   },
   {
    "duration": 20,
    "start_time": "2021-08-16T08:45:00.775Z"
   },
   {
    "duration": 71,
    "start_time": "2021-08-16T08:45:00.798Z"
   },
   {
    "duration": 13,
    "start_time": "2021-08-16T08:45:00.871Z"
   },
   {
    "duration": 269,
    "start_time": "2021-08-16T08:45:00.887Z"
   },
   {
    "duration": 1128,
    "start_time": "2021-08-16T08:45:01.160Z"
   },
   {
    "duration": 684,
    "start_time": "2021-08-16T08:45:02.291Z"
   },
   {
    "duration": 39,
    "start_time": "2021-08-16T08:45:02.978Z"
   },
   {
    "duration": 1648,
    "start_time": "2021-08-16T08:45:03.020Z"
   },
   {
    "duration": 1620,
    "start_time": "2021-08-16T08:45:04.671Z"
   },
   {
    "duration": 309,
    "start_time": "2021-08-16T08:45:06.294Z"
   },
   {
    "duration": 305,
    "start_time": "2021-08-16T08:45:06.606Z"
   },
   {
    "duration": 289,
    "start_time": "2021-08-16T08:45:06.913Z"
   },
   {
    "duration": 305,
    "start_time": "2021-08-16T08:45:07.205Z"
   },
   {
    "duration": 12,
    "start_time": "2021-08-16T08:45:07.513Z"
   },
   {
    "duration": 10,
    "start_time": "2021-08-16T08:45:07.528Z"
   },
   {
    "duration": 12,
    "start_time": "2021-08-16T08:45:07.566Z"
   },
   {
    "duration": 41,
    "start_time": "2021-08-16T08:45:07.580Z"
   },
   {
    "duration": 571,
    "start_time": "2021-08-16T08:45:07.624Z"
   },
   {
    "duration": 601,
    "start_time": "2021-08-16T08:45:08.198Z"
   },
   {
    "duration": 528,
    "start_time": "2021-08-16T08:45:08.802Z"
   },
   {
    "duration": 246,
    "start_time": "2021-08-16T08:45:09.333Z"
   },
   {
    "duration": 469,
    "start_time": "2021-08-16T08:45:09.581Z"
   },
   {
    "duration": 34,
    "start_time": "2021-08-16T08:45:10.052Z"
   },
   {
    "duration": 10,
    "start_time": "2021-08-16T08:45:10.088Z"
   },
   {
    "duration": 830,
    "start_time": "2021-08-16T08:45:10.101Z"
   },
   {
    "duration": 110,
    "start_time": "2021-08-16T08:45:10.934Z"
   },
   {
    "duration": 104,
    "start_time": "2021-08-16T08:45:11.047Z"
   },
   {
    "duration": 34,
    "start_time": "2021-08-16T08:45:11.153Z"
   },
   {
    "duration": 431,
    "start_time": "2021-08-16T08:45:26.211Z"
   },
   {
    "duration": 538,
    "start_time": "2021-08-16T08:45:40.643Z"
   },
   {
    "duration": 661,
    "start_time": "2021-08-16T08:45:46.283Z"
   },
   {
    "duration": 412,
    "start_time": "2021-08-16T08:45:53.714Z"
   },
   {
    "duration": 480,
    "start_time": "2021-08-16T08:45:58.234Z"
   },
   {
    "duration": 364,
    "start_time": "2021-08-16T08:46:15.242Z"
   },
   {
    "duration": 433,
    "start_time": "2021-08-16T08:46:33.347Z"
   },
   {
    "duration": 439,
    "start_time": "2021-08-16T08:46:42.058Z"
   },
   {
    "duration": 457,
    "start_time": "2021-08-16T08:46:46.402Z"
   },
   {
    "duration": 1020,
    "start_time": "2021-08-16T08:47:48.090Z"
   },
   {
    "duration": 364,
    "start_time": "2021-08-16T08:49:00.650Z"
   },
   {
    "duration": 380,
    "start_time": "2021-08-16T08:49:05.697Z"
   },
   {
    "duration": 494,
    "start_time": "2021-08-16T08:49:08.026Z"
   },
   {
    "duration": 594,
    "start_time": "2021-08-16T08:49:30.706Z"
   },
   {
    "duration": 622,
    "start_time": "2021-08-16T08:49:50.737Z"
   },
   {
    "duration": 26,
    "start_time": "2021-08-16T11:04:26.204Z"
   },
   {
    "duration": 10,
    "start_time": "2021-08-16T11:04:43.931Z"
   },
   {
    "duration": 9,
    "start_time": "2021-08-16T11:05:03.429Z"
   },
   {
    "duration": 383,
    "start_time": "2021-08-16T11:07:03.851Z"
   },
   {
    "duration": 7,
    "start_time": "2021-08-16T11:07:36.675Z"
   },
   {
    "duration": 1331,
    "start_time": "2021-08-16T11:07:42.217Z"
   },
   {
    "duration": 542,
    "start_time": "2021-08-16T11:07:43.550Z"
   },
   {
    "duration": 21,
    "start_time": "2021-08-16T11:07:44.099Z"
   },
   {
    "duration": 12,
    "start_time": "2021-08-16T11:07:44.122Z"
   },
   {
    "duration": 30,
    "start_time": "2021-08-16T11:07:44.137Z"
   },
   {
    "duration": 27,
    "start_time": "2021-08-16T11:07:44.169Z"
   },
   {
    "duration": 21,
    "start_time": "2021-08-16T11:07:44.199Z"
   },
   {
    "duration": 57,
    "start_time": "2021-08-16T11:07:44.224Z"
   },
   {
    "duration": 39,
    "start_time": "2021-08-16T11:07:44.284Z"
   },
   {
    "duration": 554,
    "start_time": "2021-08-16T11:07:44.325Z"
   },
   {
    "duration": 11,
    "start_time": "2021-08-16T11:07:44.881Z"
   },
   {
    "duration": 28,
    "start_time": "2021-08-16T11:07:44.894Z"
   },
   {
    "duration": 14,
    "start_time": "2021-08-16T11:07:44.925Z"
   },
   {
    "duration": 23,
    "start_time": "2021-08-16T11:07:44.968Z"
   },
   {
    "duration": 18,
    "start_time": "2021-08-16T11:07:44.993Z"
   },
   {
    "duration": 54,
    "start_time": "2021-08-16T11:07:45.014Z"
   },
   {
    "duration": 27,
    "start_time": "2021-08-16T11:07:45.071Z"
   },
   {
    "duration": 551,
    "start_time": "2021-08-16T11:07:45.101Z"
   },
   {
    "duration": 16,
    "start_time": "2021-08-16T11:07:45.654Z"
   },
   {
    "duration": 10,
    "start_time": "2021-08-16T11:07:45.672Z"
   },
   {
    "duration": 124,
    "start_time": "2021-08-16T11:07:45.685Z"
   },
   {
    "duration": 84,
    "start_time": "2021-08-16T11:07:45.812Z"
   },
   {
    "duration": 92,
    "start_time": "2021-08-16T11:07:45.899Z"
   },
   {
    "duration": 36,
    "start_time": "2021-08-16T11:07:45.994Z"
   },
   {
    "duration": 51,
    "start_time": "2021-08-16T11:07:46.032Z"
   },
   {
    "duration": 101,
    "start_time": "2021-08-16T11:07:46.089Z"
   },
   {
    "duration": 20,
    "start_time": "2021-08-16T11:07:46.193Z"
   },
   {
    "duration": 21,
    "start_time": "2021-08-16T11:07:46.215Z"
   },
   {
    "duration": 38,
    "start_time": "2021-08-16T11:07:46.238Z"
   },
   {
    "duration": 147,
    "start_time": "2021-08-16T11:07:46.279Z"
   },
   {
    "duration": 739,
    "start_time": "2021-08-16T11:07:46.428Z"
   },
   {
    "duration": 417,
    "start_time": "2021-08-16T11:07:47.169Z"
   },
   {
    "duration": 40,
    "start_time": "2021-08-16T11:07:47.588Z"
   },
   {
    "duration": 3067,
    "start_time": "2021-08-16T11:07:47.631Z"
   },
   {
    "duration": 1509,
    "start_time": "2021-08-16T11:07:50.701Z"
   },
   {
    "duration": 317,
    "start_time": "2021-08-16T11:07:52.213Z"
   },
   {
    "duration": 303,
    "start_time": "2021-08-16T11:07:52.532Z"
   },
   {
    "duration": 291,
    "start_time": "2021-08-16T11:07:52.838Z"
   },
   {
    "duration": 315,
    "start_time": "2021-08-16T11:07:53.131Z"
   },
   {
    "duration": 8,
    "start_time": "2021-08-16T11:07:53.448Z"
   },
   {
    "duration": 14,
    "start_time": "2021-08-16T11:07:53.467Z"
   },
   {
    "duration": 26,
    "start_time": "2021-08-16T11:07:53.483Z"
   },
   {
    "duration": 46,
    "start_time": "2021-08-16T11:07:53.512Z"
   },
   {
    "duration": 532,
    "start_time": "2021-08-16T11:07:53.568Z"
   },
   {
    "duration": 578,
    "start_time": "2021-08-16T11:07:54.102Z"
   },
   {
    "duration": 525,
    "start_time": "2021-08-16T11:07:54.683Z"
   },
   {
    "duration": 244,
    "start_time": "2021-08-16T11:07:55.211Z"
   },
   {
    "duration": 831,
    "start_time": "2021-08-16T11:07:55.457Z"
   },
   {
    "duration": 4,
    "start_time": "2021-08-16T11:07:56.290Z"
   },
   {
    "duration": 1031,
    "start_time": "2021-08-16T11:07:56.297Z"
   },
   {
    "duration": 115,
    "start_time": "2021-08-16T11:07:57.331Z"
   },
   {
    "duration": 119,
    "start_time": "2021-08-16T11:07:57.448Z"
   },
   {
    "duration": 24,
    "start_time": "2021-08-16T11:07:57.569Z"
   },
   {
    "duration": 35,
    "start_time": "2021-08-16T11:07:57.595Z"
   },
   {
    "duration": 431,
    "start_time": "2021-08-16T11:07:57.632Z"
   },
   {
    "duration": 242,
    "start_time": "2021-08-16T11:07:57.823Z"
   },
   {
    "duration": 242,
    "start_time": "2021-08-16T11:07:57.825Z"
   },
   {
    "duration": 241,
    "start_time": "2021-08-16T11:07:57.827Z"
   },
   {
    "duration": 245,
    "start_time": "2021-08-16T11:08:24.211Z"
   },
   {
    "duration": 7,
    "start_time": "2021-08-16T11:08:55.251Z"
   },
   {
    "duration": 7,
    "start_time": "2021-08-16T11:08:58.979Z"
   },
   {
    "duration": 231,
    "start_time": "2021-08-16T11:12:09.841Z"
   },
   {
    "duration": 7,
    "start_time": "2021-08-16T11:13:25.226Z"
   },
   {
    "duration": 7,
    "start_time": "2021-08-16T11:13:40.754Z"
   },
   {
    "duration": 7,
    "start_time": "2021-08-16T11:13:43.777Z"
   },
   {
    "duration": 6902,
    "start_time": "2021-08-16T11:13:48.721Z"
   },
   {
    "duration": 7,
    "start_time": "2021-08-16T11:14:07.057Z"
   },
   {
    "duration": 278,
    "start_time": "2021-08-16T11:15:38.632Z"
   },
   {
    "duration": 6,
    "start_time": "2021-08-16T11:15:58.960Z"
   },
   {
    "duration": 84,
    "start_time": "2021-08-16T11:16:28.673Z"
   },
   {
    "duration": 274,
    "start_time": "2021-08-16T11:19:19.567Z"
   },
   {
    "duration": 75,
    "start_time": "2021-08-16T11:27:08.813Z"
   },
   {
    "duration": 250,
    "start_time": "2021-08-16T11:27:18.203Z"
   },
   {
    "duration": 288,
    "start_time": "2021-08-16T11:30:08.667Z"
   },
   {
    "duration": 10,
    "start_time": "2021-08-16T11:30:19.954Z"
   },
   {
    "duration": 269,
    "start_time": "2021-08-16T11:30:21.922Z"
   },
   {
    "duration": 261,
    "start_time": "2021-08-16T11:31:07.331Z"
   },
   {
    "duration": 269,
    "start_time": "2021-08-16T11:31:33.531Z"
   },
   {
    "duration": 270,
    "start_time": "2021-08-16T11:31:52.611Z"
   },
   {
    "duration": 11,
    "start_time": "2021-08-16T11:35:02.585Z"
   },
   {
    "duration": 6,
    "start_time": "2021-08-16T11:35:12.906Z"
   },
   {
    "duration": 8,
    "start_time": "2021-08-16T11:35:25.049Z"
   },
   {
    "duration": 402,
    "start_time": "2021-08-16T11:36:34.905Z"
   },
   {
    "duration": 6429,
    "start_time": "2021-08-16T11:38:40.024Z"
   },
   {
    "duration": 249,
    "start_time": "2021-08-16T11:40:14.456Z"
   },
   {
    "duration": 6642,
    "start_time": "2021-08-16T11:40:34.832Z"
   },
   {
    "duration": 232,
    "start_time": "2021-08-16T11:40:41.244Z"
   },
   {
    "duration": 19,
    "start_time": "2021-08-16T11:40:54.895Z"
   },
   {
    "duration": 18,
    "start_time": "2021-08-16T11:41:00.519Z"
   },
   {
    "duration": 7,
    "start_time": "2021-08-16T11:41:15.934Z"
   },
   {
    "duration": 12,
    "start_time": "2021-08-16T11:43:04.255Z"
   },
   {
    "duration": 22,
    "start_time": "2021-08-16T11:43:10.245Z"
   },
   {
    "duration": 279,
    "start_time": "2021-08-16T11:45:48.733Z"
   },
   {
    "duration": 9,
    "start_time": "2021-08-16T11:47:06.509Z"
   },
   {
    "duration": 8,
    "start_time": "2021-08-16T11:48:51.979Z"
   },
   {
    "duration": 8,
    "start_time": "2021-08-16T11:49:08.204Z"
   },
   {
    "duration": 7,
    "start_time": "2021-08-16T11:49:58.755Z"
   },
   {
    "duration": 9,
    "start_time": "2021-08-16T11:51:33.602Z"
   },
   {
    "duration": 7,
    "start_time": "2021-08-16T11:51:34.746Z"
   },
   {
    "duration": 7,
    "start_time": "2021-08-16T12:03:19.927Z"
   },
   {
    "duration": 7,
    "start_time": "2021-08-16T12:27:06.349Z"
   },
   {
    "duration": 20,
    "start_time": "2021-08-16T14:24:00.745Z"
   },
   {
    "duration": 22,
    "start_time": "2021-08-16T14:24:02.384Z"
   },
   {
    "duration": 7,
    "start_time": "2021-08-16T14:24:04.078Z"
   },
   {
    "duration": 21,
    "start_time": "2021-08-16T14:28:44.047Z"
   },
   {
    "duration": 256,
    "start_time": "2021-08-16T14:28:47.063Z"
   },
   {
    "duration": 264,
    "start_time": "2021-08-16T14:28:54.655Z"
   },
   {
    "duration": 19,
    "start_time": "2021-08-16T14:29:02.150Z"
   },
   {
    "duration": 7,
    "start_time": "2021-08-16T14:29:20.879Z"
   },
   {
    "duration": 19,
    "start_time": "2021-08-16T14:30:52.294Z"
   },
   {
    "duration": 21,
    "start_time": "2021-08-16T14:30:55.718Z"
   },
   {
    "duration": 6,
    "start_time": "2021-08-16T14:31:00.070Z"
   },
   {
    "duration": 18,
    "start_time": "2021-08-16T14:31:24.990Z"
   },
   {
    "duration": 18,
    "start_time": "2021-08-16T14:31:26.949Z"
   },
   {
    "duration": 7,
    "start_time": "2021-08-16T14:31:33.965Z"
   },
   {
    "duration": 27,
    "start_time": "2021-08-16T14:32:28.100Z"
   },
   {
    "duration": 7,
    "start_time": "2021-08-16T14:33:31.365Z"
   },
   {
    "duration": 7,
    "start_time": "2021-08-16T14:33:47.797Z"
   },
   {
    "duration": 21,
    "start_time": "2021-08-16T14:34:45.892Z"
   },
   {
    "duration": 20,
    "start_time": "2021-08-16T14:34:52.757Z"
   },
   {
    "duration": 21,
    "start_time": "2021-08-16T14:35:12.549Z"
   },
   {
    "duration": 21,
    "start_time": "2021-08-16T14:35:32.396Z"
   },
   {
    "duration": 19,
    "start_time": "2021-08-16T14:35:53.124Z"
   },
   {
    "duration": 20,
    "start_time": "2021-08-16T14:36:08.124Z"
   },
   {
    "duration": 233,
    "start_time": "2021-08-16T14:52:48.630Z"
   },
   {
    "duration": 25,
    "start_time": "2021-08-16T14:54:50.732Z"
   },
   {
    "duration": 40,
    "start_time": "2021-08-16T14:56:01.389Z"
   },
   {
    "duration": 248,
    "start_time": "2021-08-16T14:59:09.339Z"
   },
   {
    "duration": 254,
    "start_time": "2021-08-16T14:59:17.907Z"
   },
   {
    "duration": 8,
    "start_time": "2021-08-16T15:00:01.067Z"
   },
   {
    "duration": 9,
    "start_time": "2021-08-16T15:00:26.995Z"
   },
   {
    "duration": 1352,
    "start_time": "2021-08-16T15:15:33.597Z"
   },
   {
    "duration": 557,
    "start_time": "2021-08-16T15:15:34.951Z"
   },
   {
    "duration": 20,
    "start_time": "2021-08-16T15:15:35.511Z"
   },
   {
    "duration": 10,
    "start_time": "2021-08-16T15:15:35.534Z"
   },
   {
    "duration": 29,
    "start_time": "2021-08-16T15:15:35.546Z"
   },
   {
    "duration": 46,
    "start_time": "2021-08-16T15:15:35.578Z"
   },
   {
    "duration": 20,
    "start_time": "2021-08-16T15:15:35.627Z"
   },
   {
    "duration": 39,
    "start_time": "2021-08-16T15:15:35.651Z"
   },
   {
    "duration": 36,
    "start_time": "2021-08-16T15:15:35.693Z"
   },
   {
    "duration": 559,
    "start_time": "2021-08-16T15:15:35.731Z"
   },
   {
    "duration": 11,
    "start_time": "2021-08-16T15:15:36.292Z"
   },
   {
    "duration": 22,
    "start_time": "2021-08-16T15:15:36.305Z"
   },
   {
    "duration": 41,
    "start_time": "2021-08-16T15:15:36.330Z"
   },
   {
    "duration": 23,
    "start_time": "2021-08-16T15:15:36.374Z"
   },
   {
    "duration": 13,
    "start_time": "2021-08-16T15:15:36.400Z"
   },
   {
    "duration": 63,
    "start_time": "2021-08-16T15:15:36.416Z"
   },
   {
    "duration": 26,
    "start_time": "2021-08-16T15:15:36.481Z"
   },
   {
    "duration": 546,
    "start_time": "2021-08-16T15:15:36.510Z"
   },
   {
    "duration": 19,
    "start_time": "2021-08-16T15:15:37.058Z"
   },
   {
    "duration": 19,
    "start_time": "2021-08-16T15:15:37.079Z"
   },
   {
    "duration": 112,
    "start_time": "2021-08-16T15:15:37.100Z"
   },
   {
    "duration": 81,
    "start_time": "2021-08-16T15:15:37.214Z"
   },
   {
    "duration": 89,
    "start_time": "2021-08-16T15:15:37.302Z"
   },
   {
    "duration": 36,
    "start_time": "2021-08-16T15:15:37.394Z"
   },
   {
    "duration": 52,
    "start_time": "2021-08-16T15:15:37.432Z"
   },
   {
    "duration": 98,
    "start_time": "2021-08-16T15:15:37.487Z"
   },
   {
    "duration": 18,
    "start_time": "2021-08-16T15:15:37.587Z"
   },
   {
    "duration": 18,
    "start_time": "2021-08-16T15:15:37.608Z"
   },
   {
    "duration": 43,
    "start_time": "2021-08-16T15:15:37.629Z"
   },
   {
    "duration": 139,
    "start_time": "2021-08-16T15:15:37.675Z"
   },
   {
    "duration": 718,
    "start_time": "2021-08-16T15:15:37.816Z"
   },
   {
    "duration": 420,
    "start_time": "2021-08-16T15:15:38.536Z"
   },
   {
    "duration": 47,
    "start_time": "2021-08-16T15:15:38.958Z"
   },
   {
    "duration": 1569,
    "start_time": "2021-08-16T15:15:39.007Z"
   },
   {
    "duration": 1482,
    "start_time": "2021-08-16T15:15:40.578Z"
   },
   {
    "duration": 318,
    "start_time": "2021-08-16T15:15:42.068Z"
   },
   {
    "duration": 308,
    "start_time": "2021-08-16T15:15:42.389Z"
   },
   {
    "duration": 281,
    "start_time": "2021-08-16T15:15:42.699Z"
   },
   {
    "duration": 312,
    "start_time": "2021-08-16T15:15:42.982Z"
   },
   {
    "duration": 9,
    "start_time": "2021-08-16T15:15:43.296Z"
   },
   {
    "duration": 26,
    "start_time": "2021-08-16T15:15:43.307Z"
   },
   {
    "duration": 13,
    "start_time": "2021-08-16T15:15:43.335Z"
   },
   {
    "duration": 53,
    "start_time": "2021-08-16T15:15:43.350Z"
   },
   {
    "duration": 539,
    "start_time": "2021-08-16T15:15:43.405Z"
   },
   {
    "duration": 585,
    "start_time": "2021-08-16T15:15:43.946Z"
   },
   {
    "duration": 509,
    "start_time": "2021-08-16T15:15:44.534Z"
   },
   {
    "duration": 242,
    "start_time": "2021-08-16T15:15:45.045Z"
   },
   {
    "duration": 645,
    "start_time": "2021-08-16T15:15:45.289Z"
   },
   {
    "duration": 33,
    "start_time": "2021-08-16T15:15:45.936Z"
   },
   {
    "duration": 9,
    "start_time": "2021-08-16T15:15:45.972Z"
   },
   {
    "duration": 7,
    "start_time": "2021-08-16T15:15:45.983Z"
   },
   {
    "duration": 878,
    "start_time": "2021-08-16T15:15:45.992Z"
   },
   {
    "duration": 109,
    "start_time": "2021-08-16T15:15:46.873Z"
   },
   {
    "duration": 113,
    "start_time": "2021-08-16T15:15:46.985Z"
   },
   {
    "duration": 24,
    "start_time": "2021-08-16T15:15:47.101Z"
   },
   {
    "duration": 41,
    "start_time": "2021-08-16T15:15:47.127Z"
   },
   {
    "duration": 20,
    "start_time": "2021-08-16T15:15:47.170Z"
   },
   {
    "duration": 7,
    "start_time": "2021-08-16T15:15:47.192Z"
   },
   {
    "duration": 37,
    "start_time": "2021-08-16T15:15:47.202Z"
   },
   {
    "duration": 21,
    "start_time": "2021-08-16T15:15:47.268Z"
   },
   {
    "duration": 21,
    "start_time": "2021-08-16T15:15:47.292Z"
   },
   {
    "duration": 7,
    "start_time": "2021-08-16T15:15:47.316Z"
   },
   {
    "duration": 14,
    "start_time": "2021-08-16T15:17:36.760Z"
   },
   {
    "duration": 15,
    "start_time": "2021-08-16T15:17:40.776Z"
   },
   {
    "duration": 1424,
    "start_time": "2021-08-16T15:17:51.134Z"
   },
   {
    "duration": 823,
    "start_time": "2021-08-16T15:17:52.561Z"
   },
   {
    "duration": 21,
    "start_time": "2021-08-16T15:17:53.386Z"
   },
   {
    "duration": 59,
    "start_time": "2021-08-16T15:17:53.410Z"
   },
   {
    "duration": 16,
    "start_time": "2021-08-16T15:17:53.471Z"
   },
   {
    "duration": 84,
    "start_time": "2021-08-16T15:17:53.489Z"
   },
   {
    "duration": 21,
    "start_time": "2021-08-16T15:17:53.575Z"
   },
   {
    "duration": 82,
    "start_time": "2021-08-16T15:17:53.598Z"
   },
   {
    "duration": 39,
    "start_time": "2021-08-16T15:17:53.685Z"
   },
   {
    "duration": 583,
    "start_time": "2021-08-16T15:17:53.727Z"
   },
   {
    "duration": 10,
    "start_time": "2021-08-16T15:17:54.313Z"
   },
   {
    "duration": 43,
    "start_time": "2021-08-16T15:17:54.326Z"
   },
   {
    "duration": 13,
    "start_time": "2021-08-16T15:17:54.371Z"
   },
   {
    "duration": 25,
    "start_time": "2021-08-16T15:17:54.387Z"
   },
   {
    "duration": 14,
    "start_time": "2021-08-16T15:17:54.415Z"
   },
   {
    "duration": 58,
    "start_time": "2021-08-16T15:17:54.431Z"
   },
   {
    "duration": 27,
    "start_time": "2021-08-16T15:17:54.491Z"
   },
   {
    "duration": 556,
    "start_time": "2021-08-16T15:17:54.520Z"
   },
   {
    "duration": 12,
    "start_time": "2021-08-16T15:17:55.079Z"
   },
   {
    "duration": 10,
    "start_time": "2021-08-16T15:17:55.093Z"
   },
   {
    "duration": 125,
    "start_time": "2021-08-16T15:17:55.105Z"
   },
   {
    "duration": 75,
    "start_time": "2021-08-16T15:17:55.233Z"
   },
   {
    "duration": 87,
    "start_time": "2021-08-16T15:17:55.310Z"
   },
   {
    "duration": 38,
    "start_time": "2021-08-16T15:17:55.400Z"
   },
   {
    "duration": 58,
    "start_time": "2021-08-16T15:17:55.441Z"
   },
   {
    "duration": 99,
    "start_time": "2021-08-16T15:17:55.502Z"
   },
   {
    "duration": 21,
    "start_time": "2021-08-16T15:17:55.608Z"
   },
   {
    "duration": 36,
    "start_time": "2021-08-16T15:17:55.633Z"
   },
   {
    "duration": 12,
    "start_time": "2021-08-16T15:17:55.672Z"
   },
   {
    "duration": 144,
    "start_time": "2021-08-16T15:17:55.687Z"
   },
   {
    "duration": 714,
    "start_time": "2021-08-16T15:17:55.834Z"
   },
   {
    "duration": 421,
    "start_time": "2021-08-16T15:17:56.550Z"
   },
   {
    "duration": 40,
    "start_time": "2021-08-16T15:17:56.973Z"
   },
   {
    "duration": 1553,
    "start_time": "2021-08-16T15:17:57.015Z"
   },
   {
    "duration": 1844,
    "start_time": "2021-08-16T15:17:58.571Z"
   },
   {
    "duration": 451,
    "start_time": "2021-08-16T15:18:00.419Z"
   },
   {
    "duration": 304,
    "start_time": "2021-08-16T15:18:00.874Z"
   },
   {
    "duration": 289,
    "start_time": "2021-08-16T15:18:01.180Z"
   },
   {
    "duration": 387,
    "start_time": "2021-08-16T15:18:01.472Z"
   },
   {
    "duration": 13,
    "start_time": "2021-08-16T15:18:01.867Z"
   },
   {
    "duration": 21,
    "start_time": "2021-08-16T15:18:01.883Z"
   },
   {
    "duration": 21,
    "start_time": "2021-08-16T15:18:01.907Z"
   },
   {
    "duration": 63,
    "start_time": "2021-08-16T15:18:01.931Z"
   },
   {
    "duration": 550,
    "start_time": "2021-08-16T15:18:01.997Z"
   },
   {
    "duration": 609,
    "start_time": "2021-08-16T15:18:02.551Z"
   },
   {
    "duration": 510,
    "start_time": "2021-08-16T15:18:03.167Z"
   },
   {
    "duration": 246,
    "start_time": "2021-08-16T15:18:03.680Z"
   },
   {
    "duration": 647,
    "start_time": "2021-08-16T15:18:03.928Z"
   },
   {
    "duration": 27,
    "start_time": "2021-08-16T15:18:04.577Z"
   },
   {
    "duration": 12,
    "start_time": "2021-08-16T15:18:04.606Z"
   },
   {
    "duration": 7,
    "start_time": "2021-08-16T15:18:04.621Z"
   },
   {
    "duration": 907,
    "start_time": "2021-08-16T15:18:04.630Z"
   },
   {
    "duration": 114,
    "start_time": "2021-08-16T15:18:05.539Z"
   },
   {
    "duration": 122,
    "start_time": "2021-08-16T15:18:05.656Z"
   },
   {
    "duration": 26,
    "start_time": "2021-08-16T15:18:05.780Z"
   },
   {
    "duration": 20,
    "start_time": "2021-08-16T15:18:05.808Z"
   },
   {
    "duration": 45,
    "start_time": "2021-08-16T15:18:05.831Z"
   },
   {
    "duration": 7,
    "start_time": "2021-08-16T15:18:05.878Z"
   },
   {
    "duration": 28,
    "start_time": "2021-08-16T15:18:05.887Z"
   },
   {
    "duration": 49,
    "start_time": "2021-08-16T15:18:05.918Z"
   },
   {
    "duration": 31,
    "start_time": "2021-08-16T15:18:05.969Z"
   },
   {
    "duration": 9,
    "start_time": "2021-08-16T15:18:06.003Z"
   },
   {
    "duration": 1545,
    "start_time": "2021-08-16T15:29:56.508Z"
   },
   {
    "duration": 691,
    "start_time": "2021-08-16T15:29:58.055Z"
   },
   {
    "duration": 21,
    "start_time": "2021-08-16T15:29:58.749Z"
   },
   {
    "duration": 12,
    "start_time": "2021-08-16T15:29:58.773Z"
   },
   {
    "duration": 14,
    "start_time": "2021-08-16T15:29:58.788Z"
   },
   {
    "duration": 65,
    "start_time": "2021-08-16T15:29:58.804Z"
   },
   {
    "duration": 22,
    "start_time": "2021-08-16T15:29:58.872Z"
   },
   {
    "duration": 35,
    "start_time": "2021-08-16T15:29:58.896Z"
   },
   {
    "duration": 99,
    "start_time": "2021-08-16T15:29:58.970Z"
   },
   {
    "duration": 581,
    "start_time": "2021-08-16T15:29:59.072Z"
   },
   {
    "duration": 16,
    "start_time": "2021-08-16T15:29:59.656Z"
   },
   {
    "duration": 21,
    "start_time": "2021-08-16T15:29:59.675Z"
   },
   {
    "duration": 12,
    "start_time": "2021-08-16T15:29:59.699Z"
   },
   {
    "duration": 25,
    "start_time": "2021-08-16T15:29:59.714Z"
   },
   {
    "duration": 27,
    "start_time": "2021-08-16T15:29:59.742Z"
   },
   {
    "duration": 40,
    "start_time": "2021-08-16T15:29:59.772Z"
   },
   {
    "duration": 40,
    "start_time": "2021-08-16T15:29:59.815Z"
   },
   {
    "duration": 927,
    "start_time": "2021-08-16T15:29:59.868Z"
   },
   {
    "duration": 11,
    "start_time": "2021-08-16T15:30:00.798Z"
   },
   {
    "duration": 57,
    "start_time": "2021-08-16T15:30:00.811Z"
   },
   {
    "duration": 119,
    "start_time": "2021-08-16T15:30:00.871Z"
   },
   {
    "duration": 83,
    "start_time": "2021-08-16T15:30:00.993Z"
   },
   {
    "duration": 90,
    "start_time": "2021-08-16T15:30:01.079Z"
   },
   {
    "duration": 39,
    "start_time": "2021-08-16T15:30:01.172Z"
   },
   {
    "duration": 55,
    "start_time": "2021-08-16T15:30:01.214Z"
   },
   {
    "duration": 98,
    "start_time": "2021-08-16T15:30:01.272Z"
   },
   {
    "duration": 21,
    "start_time": "2021-08-16T15:30:01.376Z"
   },
   {
    "duration": 35,
    "start_time": "2021-08-16T15:30:01.400Z"
   },
   {
    "duration": 35,
    "start_time": "2021-08-16T15:30:01.438Z"
   },
   {
    "duration": 149,
    "start_time": "2021-08-16T15:30:01.476Z"
   },
   {
    "duration": 740,
    "start_time": "2021-08-16T15:30:01.628Z"
   },
   {
    "duration": 424,
    "start_time": "2021-08-16T15:30:02.371Z"
   },
   {
    "duration": 41,
    "start_time": "2021-08-16T15:30:02.797Z"
   },
   {
    "duration": 1889,
    "start_time": "2021-08-16T15:30:02.841Z"
   },
   {
    "duration": 1601,
    "start_time": "2021-08-16T15:30:04.733Z"
   },
   {
    "duration": 318,
    "start_time": "2021-08-16T15:30:06.337Z"
   },
   {
    "duration": 414,
    "start_time": "2021-08-16T15:30:06.658Z"
   },
   {
    "duration": 462,
    "start_time": "2021-08-16T15:30:07.075Z"
   },
   {
    "duration": 473,
    "start_time": "2021-08-16T15:30:07.540Z"
   },
   {
    "duration": 12,
    "start_time": "2021-08-16T15:30:08.016Z"
   },
   {
    "duration": 35,
    "start_time": "2021-08-16T15:30:08.032Z"
   },
   {
    "duration": 12,
    "start_time": "2021-08-16T15:30:08.070Z"
   },
   {
    "duration": 88,
    "start_time": "2021-08-16T15:30:08.086Z"
   },
   {
    "duration": 547,
    "start_time": "2021-08-16T15:30:08.177Z"
   },
   {
    "duration": 601,
    "start_time": "2021-08-16T15:30:08.726Z"
   },
   {
    "duration": 520,
    "start_time": "2021-08-16T15:30:09.329Z"
   },
   {
    "duration": 246,
    "start_time": "2021-08-16T15:30:09.851Z"
   },
   {
    "duration": 660,
    "start_time": "2021-08-16T15:30:10.099Z"
   },
   {
    "duration": 29,
    "start_time": "2021-08-16T15:30:10.761Z"
   },
   {
    "duration": 15,
    "start_time": "2021-08-16T15:30:10.792Z"
   },
   {
    "duration": 18,
    "start_time": "2021-08-16T15:30:10.809Z"
   },
   {
    "duration": 1555,
    "start_time": "2021-08-16T15:30:10.830Z"
   },
   {
    "duration": 182,
    "start_time": "2021-08-16T15:30:12.388Z"
   },
   {
    "duration": 184,
    "start_time": "2021-08-16T15:30:12.573Z"
   },
   {
    "duration": 39,
    "start_time": "2021-08-16T15:30:12.769Z"
   },
   {
    "duration": 29,
    "start_time": "2021-08-16T15:30:12.811Z"
   },
   {
    "duration": 43,
    "start_time": "2021-08-16T15:30:12.843Z"
   },
   {
    "duration": 7,
    "start_time": "2021-08-16T15:30:12.889Z"
   },
   {
    "duration": 72,
    "start_time": "2021-08-16T15:30:12.899Z"
   },
   {
    "duration": 29,
    "start_time": "2021-08-16T15:30:12.974Z"
   },
   {
    "duration": 19,
    "start_time": "2021-08-16T15:30:13.006Z"
   },
   {
    "duration": 41,
    "start_time": "2021-08-16T15:30:13.027Z"
   },
   {
    "duration": 525,
    "start_time": "2021-08-16T15:30:35.660Z"
   },
   {
    "duration": 541,
    "start_time": "2021-08-16T15:30:42.747Z"
   },
   {
    "duration": 1405,
    "start_time": "2021-08-16T15:30:52.528Z"
   },
   {
    "duration": 557,
    "start_time": "2021-08-16T15:30:53.936Z"
   },
   {
    "duration": 23,
    "start_time": "2021-08-16T15:30:54.496Z"
   },
   {
    "duration": 10,
    "start_time": "2021-08-16T15:30:54.522Z"
   },
   {
    "duration": 36,
    "start_time": "2021-08-16T15:30:54.535Z"
   },
   {
    "duration": 31,
    "start_time": "2021-08-16T15:30:54.574Z"
   },
   {
    "duration": 24,
    "start_time": "2021-08-16T15:30:54.608Z"
   },
   {
    "duration": 58,
    "start_time": "2021-08-16T15:30:54.635Z"
   },
   {
    "duration": 44,
    "start_time": "2021-08-16T15:30:54.699Z"
   },
   {
    "duration": 661,
    "start_time": "2021-08-16T15:30:54.747Z"
   },
   {
    "duration": 11,
    "start_time": "2021-08-16T15:30:55.411Z"
   },
   {
    "duration": 41,
    "start_time": "2021-08-16T15:30:55.425Z"
   },
   {
    "duration": 12,
    "start_time": "2021-08-16T15:30:55.470Z"
   },
   {
    "duration": 27,
    "start_time": "2021-08-16T15:30:55.485Z"
   },
   {
    "duration": 14,
    "start_time": "2021-08-16T15:30:55.514Z"
   },
   {
    "duration": 57,
    "start_time": "2021-08-16T15:30:55.530Z"
   },
   {
    "duration": 25,
    "start_time": "2021-08-16T15:30:55.590Z"
   },
   {
    "duration": 559,
    "start_time": "2021-08-16T15:30:55.618Z"
   },
   {
    "duration": 12,
    "start_time": "2021-08-16T15:30:56.180Z"
   },
   {
    "duration": 17,
    "start_time": "2021-08-16T15:30:56.195Z"
   },
   {
    "duration": 115,
    "start_time": "2021-08-16T15:30:56.214Z"
   },
   {
    "duration": 80,
    "start_time": "2021-08-16T15:30:56.332Z"
   },
   {
    "duration": 91,
    "start_time": "2021-08-16T15:30:56.415Z"
   },
   {
    "duration": 38,
    "start_time": "2021-08-16T15:30:56.508Z"
   },
   {
    "duration": 50,
    "start_time": "2021-08-16T15:30:56.549Z"
   },
   {
    "duration": 103,
    "start_time": "2021-08-16T15:30:56.602Z"
   },
   {
    "duration": 21,
    "start_time": "2021-08-16T15:30:56.711Z"
   },
   {
    "duration": 35,
    "start_time": "2021-08-16T15:30:56.735Z"
   },
   {
    "duration": 15,
    "start_time": "2021-08-16T15:30:56.773Z"
   },
   {
    "duration": 151,
    "start_time": "2021-08-16T15:30:56.790Z"
   },
   {
    "duration": 699,
    "start_time": "2021-08-16T15:30:56.944Z"
   },
   {
    "duration": 406,
    "start_time": "2021-08-16T15:30:57.645Z"
   },
   {
    "duration": 48,
    "start_time": "2021-08-16T15:30:58.054Z"
   },
   {
    "duration": 1546,
    "start_time": "2021-08-16T15:30:58.105Z"
   },
   {
    "duration": 1506,
    "start_time": "2021-08-16T15:30:59.653Z"
   },
   {
    "duration": 313,
    "start_time": "2021-08-16T15:31:01.167Z"
   },
   {
    "duration": 341,
    "start_time": "2021-08-16T15:31:01.483Z"
   },
   {
    "duration": 288,
    "start_time": "2021-08-16T15:31:01.826Z"
   },
   {
    "duration": 318,
    "start_time": "2021-08-16T15:31:02.117Z"
   },
   {
    "duration": 11,
    "start_time": "2021-08-16T15:31:02.438Z"
   },
   {
    "duration": 11,
    "start_time": "2021-08-16T15:31:02.468Z"
   },
   {
    "duration": 14,
    "start_time": "2021-08-16T15:31:02.482Z"
   },
   {
    "duration": 71,
    "start_time": "2021-08-16T15:31:02.499Z"
   },
   {
    "duration": 543,
    "start_time": "2021-08-16T15:31:02.573Z"
   },
   {
    "duration": 593,
    "start_time": "2021-08-16T15:31:03.119Z"
   },
   {
    "duration": 519,
    "start_time": "2021-08-16T15:31:03.714Z"
   },
   {
    "duration": 236,
    "start_time": "2021-08-16T15:31:04.236Z"
   },
   {
    "duration": 648,
    "start_time": "2021-08-16T15:31:04.474Z"
   },
   {
    "duration": 25,
    "start_time": "2021-08-16T15:31:05.124Z"
   },
   {
    "duration": 21,
    "start_time": "2021-08-16T15:31:05.152Z"
   },
   {
    "duration": 9,
    "start_time": "2021-08-16T15:31:05.175Z"
   },
   {
    "duration": 872,
    "start_time": "2021-08-16T15:31:05.186Z"
   },
   {
    "duration": 110,
    "start_time": "2021-08-16T15:31:06.060Z"
   },
   {
    "duration": 112,
    "start_time": "2021-08-16T15:31:06.172Z"
   },
   {
    "duration": 24,
    "start_time": "2021-08-16T15:31:06.286Z"
   },
   {
    "duration": 21,
    "start_time": "2021-08-16T15:31:06.312Z"
   },
   {
    "duration": 42,
    "start_time": "2021-08-16T15:31:06.335Z"
   },
   {
    "duration": 6,
    "start_time": "2021-08-16T15:31:06.380Z"
   },
   {
    "duration": 28,
    "start_time": "2021-08-16T15:31:06.388Z"
   },
   {
    "duration": 51,
    "start_time": "2021-08-16T15:31:06.418Z"
   },
   {
    "duration": 18,
    "start_time": "2021-08-16T15:31:06.472Z"
   },
   {
    "duration": 7,
    "start_time": "2021-08-16T15:31:06.492Z"
   },
   {
    "duration": 1314,
    "start_time": "2021-08-17T06:16:29.047Z"
   },
   {
    "duration": 531,
    "start_time": "2021-08-17T06:16:30.364Z"
   },
   {
    "duration": 20,
    "start_time": "2021-08-17T06:16:30.898Z"
   },
   {
    "duration": 18,
    "start_time": "2021-08-17T06:16:30.921Z"
   },
   {
    "duration": 14,
    "start_time": "2021-08-17T06:16:30.942Z"
   },
   {
    "duration": 44,
    "start_time": "2021-08-17T06:16:30.958Z"
   },
   {
    "duration": 22,
    "start_time": "2021-08-17T06:16:31.004Z"
   },
   {
    "duration": 25,
    "start_time": "2021-08-17T06:16:31.029Z"
   },
   {
    "duration": 71,
    "start_time": "2021-08-17T06:16:31.057Z"
   },
   {
    "duration": 522,
    "start_time": "2021-08-17T06:16:31.130Z"
   },
   {
    "duration": 12,
    "start_time": "2021-08-17T06:16:31.654Z"
   },
   {
    "duration": 38,
    "start_time": "2021-08-17T06:16:31.668Z"
   },
   {
    "duration": 13,
    "start_time": "2021-08-17T06:16:31.709Z"
   },
   {
    "duration": 26,
    "start_time": "2021-08-17T06:16:31.725Z"
   },
   {
    "duration": 14,
    "start_time": "2021-08-17T06:16:31.753Z"
   },
   {
    "duration": 56,
    "start_time": "2021-08-17T06:16:31.769Z"
   },
   {
    "duration": 25,
    "start_time": "2021-08-17T06:16:31.828Z"
   },
   {
    "duration": 538,
    "start_time": "2021-08-17T06:16:31.856Z"
   },
   {
    "duration": 12,
    "start_time": "2021-08-17T06:16:32.396Z"
   },
   {
    "duration": 24,
    "start_time": "2021-08-17T06:16:32.411Z"
   },
   {
    "duration": 102,
    "start_time": "2021-08-17T06:16:32.437Z"
   },
   {
    "duration": 74,
    "start_time": "2021-08-17T06:16:32.542Z"
   },
   {
    "duration": 90,
    "start_time": "2021-08-17T06:16:32.622Z"
   },
   {
    "duration": 38,
    "start_time": "2021-08-17T06:16:32.716Z"
   },
   {
    "duration": 57,
    "start_time": "2021-08-17T06:16:32.756Z"
   },
   {
    "duration": 95,
    "start_time": "2021-08-17T06:16:32.816Z"
   },
   {
    "duration": 19,
    "start_time": "2021-08-17T06:16:32.914Z"
   },
   {
    "duration": 19,
    "start_time": "2021-08-17T06:16:32.936Z"
   },
   {
    "duration": 44,
    "start_time": "2021-08-17T06:16:32.957Z"
   },
   {
    "duration": 133,
    "start_time": "2021-08-17T06:16:33.004Z"
   },
   {
    "duration": 676,
    "start_time": "2021-08-17T06:16:33.140Z"
   },
   {
    "duration": 416,
    "start_time": "2021-08-17T06:16:33.818Z"
   },
   {
    "duration": 38,
    "start_time": "2021-08-17T06:16:34.236Z"
   },
   {
    "duration": 1524,
    "start_time": "2021-08-17T06:16:34.277Z"
   },
   {
    "duration": 2030,
    "start_time": "2021-08-17T06:16:35.804Z"
   },
   {
    "duration": 299,
    "start_time": "2021-08-17T06:16:37.836Z"
   },
   {
    "duration": 300,
    "start_time": "2021-08-17T06:16:38.138Z"
   },
   {
    "duration": 270,
    "start_time": "2021-08-17T06:16:38.441Z"
   },
   {
    "duration": 297,
    "start_time": "2021-08-17T06:16:38.714Z"
   },
   {
    "duration": 9,
    "start_time": "2021-08-17T06:16:39.014Z"
   },
   {
    "duration": 8,
    "start_time": "2021-08-17T06:16:39.026Z"
   },
   {
    "duration": 9,
    "start_time": "2021-08-17T06:16:39.037Z"
   },
   {
    "duration": 83,
    "start_time": "2021-08-17T06:16:39.048Z"
   },
   {
    "duration": 505,
    "start_time": "2021-08-17T06:16:39.134Z"
   },
   {
    "duration": 654,
    "start_time": "2021-08-17T06:16:39.642Z"
   },
   {
    "duration": 486,
    "start_time": "2021-08-17T06:16:40.301Z"
   },
   {
    "duration": 217,
    "start_time": "2021-08-17T06:16:40.801Z"
   },
   {
    "duration": 620,
    "start_time": "2021-08-17T06:16:41.021Z"
   },
   {
    "duration": 24,
    "start_time": "2021-08-17T06:16:41.645Z"
   },
   {
    "duration": 32,
    "start_time": "2021-08-17T06:16:41.672Z"
   },
   {
    "duration": 3,
    "start_time": "2021-08-17T06:16:41.707Z"
   },
   {
    "duration": 999,
    "start_time": "2021-08-17T06:16:41.713Z"
   },
   {
    "duration": 116,
    "start_time": "2021-08-17T06:16:42.714Z"
   },
   {
    "duration": 102,
    "start_time": "2021-08-17T06:16:42.832Z"
   },
   {
    "duration": 22,
    "start_time": "2021-08-17T06:16:42.937Z"
   },
   {
    "duration": 25,
    "start_time": "2021-08-17T06:16:42.961Z"
   },
   {
    "duration": 17,
    "start_time": "2021-08-17T06:16:43.001Z"
   },
   {
    "duration": 9,
    "start_time": "2021-08-17T06:16:43.021Z"
   },
   {
    "duration": 28,
    "start_time": "2021-08-17T06:16:43.033Z"
   },
   {
    "duration": 46,
    "start_time": "2021-08-17T06:16:43.063Z"
   },
   {
    "duration": 17,
    "start_time": "2021-08-17T06:16:43.112Z"
   },
   {
    "duration": 6,
    "start_time": "2021-08-17T06:16:43.131Z"
   },
   {
    "duration": 26,
    "start_time": "2021-08-17T08:30:50.699Z"
   },
   {
    "duration": 26,
    "start_time": "2021-08-17T08:34:58.619Z"
   },
   {
    "duration": 346,
    "start_time": "2021-08-17T13:10:42.510Z"
   },
   {
    "duration": 1354,
    "start_time": "2021-08-17T13:10:54.564Z"
   },
   {
    "duration": 533,
    "start_time": "2021-08-17T13:10:55.921Z"
   },
   {
    "duration": 21,
    "start_time": "2021-08-17T13:10:56.456Z"
   },
   {
    "duration": 12,
    "start_time": "2021-08-17T13:10:56.480Z"
   },
   {
    "duration": 17,
    "start_time": "2021-08-17T13:10:56.495Z"
   },
   {
    "duration": 72,
    "start_time": "2021-08-17T13:10:56.515Z"
   },
   {
    "duration": 29,
    "start_time": "2021-08-17T13:10:56.591Z"
   },
   {
    "duration": 56,
    "start_time": "2021-08-17T13:10:56.626Z"
   },
   {
    "duration": 71,
    "start_time": "2021-08-17T13:10:56.686Z"
   },
   {
    "duration": 854,
    "start_time": "2021-08-17T13:10:56.760Z"
   },
   {
    "duration": 15,
    "start_time": "2021-08-17T13:10:57.617Z"
   },
   {
    "duration": 21,
    "start_time": "2021-08-17T13:10:57.655Z"
   },
   {
    "duration": 16,
    "start_time": "2021-08-17T13:10:57.679Z"
   },
   {
    "duration": 21,
    "start_time": "2021-08-17T13:10:57.698Z"
   },
   {
    "duration": 43,
    "start_time": "2021-08-17T13:10:57.722Z"
   },
   {
    "duration": 25,
    "start_time": "2021-08-17T13:10:57.767Z"
   },
   {
    "duration": 26,
    "start_time": "2021-08-17T13:10:57.794Z"
   },
   {
    "duration": 538,
    "start_time": "2021-08-17T13:10:57.855Z"
   },
   {
    "duration": 13,
    "start_time": "2021-08-17T13:10:58.395Z"
   },
   {
    "duration": 10,
    "start_time": "2021-08-17T13:10:58.410Z"
   },
   {
    "duration": 131,
    "start_time": "2021-08-17T13:10:58.423Z"
   },
   {
    "duration": 67,
    "start_time": "2021-08-17T13:10:58.557Z"
   },
   {
    "duration": 94,
    "start_time": "2021-08-17T13:10:58.630Z"
   },
   {
    "duration": 50,
    "start_time": "2021-08-17T13:10:58.727Z"
   },
   {
    "duration": 34,
    "start_time": "2021-08-17T13:10:58.779Z"
   },
   {
    "duration": 107,
    "start_time": "2021-08-17T13:10:58.816Z"
   },
   {
    "duration": 39,
    "start_time": "2021-08-17T13:10:58.926Z"
   },
   {
    "duration": 24,
    "start_time": "2021-08-17T13:10:58.968Z"
   },
   {
    "duration": 21,
    "start_time": "2021-08-17T13:10:58.994Z"
   },
   {
    "duration": 145,
    "start_time": "2021-08-17T13:10:59.019Z"
   },
   {
    "duration": 721,
    "start_time": "2021-08-17T13:10:59.167Z"
   },
   {
    "duration": 414,
    "start_time": "2021-08-17T13:10:59.891Z"
   },
   {
    "duration": 62,
    "start_time": "2021-08-17T13:11:00.308Z"
   },
   {
    "duration": 1629,
    "start_time": "2021-08-17T13:11:00.374Z"
   },
   {
    "duration": 1658,
    "start_time": "2021-08-17T13:11:02.006Z"
   },
   {
    "duration": 300,
    "start_time": "2021-08-17T13:11:03.667Z"
   },
   {
    "duration": 288,
    "start_time": "2021-08-17T13:11:03.969Z"
   },
   {
    "duration": 394,
    "start_time": "2021-08-17T13:11:04.260Z"
   },
   {
    "duration": 336,
    "start_time": "2021-08-17T13:11:04.656Z"
   },
   {
    "duration": 9,
    "start_time": "2021-08-17T13:11:04.995Z"
   },
   {
    "duration": 19,
    "start_time": "2021-08-17T13:11:05.006Z"
   },
   {
    "duration": 31,
    "start_time": "2021-08-17T13:11:05.027Z"
   },
   {
    "duration": 60,
    "start_time": "2021-08-17T13:11:05.061Z"
   },
   {
    "duration": 541,
    "start_time": "2021-08-17T13:11:05.123Z"
   },
   {
    "duration": 591,
    "start_time": "2021-08-17T13:11:05.666Z"
   },
   {
    "duration": 529,
    "start_time": "2021-08-17T13:11:06.261Z"
   },
   {
    "duration": 234,
    "start_time": "2021-08-17T13:11:06.793Z"
   },
   {
    "duration": 664,
    "start_time": "2021-08-17T13:11:07.030Z"
   },
   {
    "duration": 26,
    "start_time": "2021-08-17T13:11:07.697Z"
   },
   {
    "duration": 32,
    "start_time": "2021-08-17T13:11:07.725Z"
   },
   {
    "duration": 7,
    "start_time": "2021-08-17T13:11:07.760Z"
   },
   {
    "duration": 892,
    "start_time": "2021-08-17T13:11:07.769Z"
   },
   {
    "duration": 116,
    "start_time": "2021-08-17T13:11:08.664Z"
   },
   {
    "duration": 116,
    "start_time": "2021-08-17T13:11:08.782Z"
   },
   {
    "duration": 25,
    "start_time": "2021-08-17T13:11:08.900Z"
   },
   {
    "duration": 42,
    "start_time": "2021-08-17T13:11:08.928Z"
   },
   {
    "duration": 27,
    "start_time": "2021-08-17T13:11:08.973Z"
   },
   {
    "duration": 11,
    "start_time": "2021-08-17T13:11:09.003Z"
   },
   {
    "duration": 54,
    "start_time": "2021-08-17T13:11:09.016Z"
   },
   {
    "duration": 20,
    "start_time": "2021-08-17T13:11:09.073Z"
   },
   {
    "duration": 28,
    "start_time": "2021-08-17T13:11:09.095Z"
   },
   {
    "duration": 33,
    "start_time": "2021-08-17T13:11:09.126Z"
   },
   {
    "duration": 4,
    "start_time": "2021-08-17T13:11:56.501Z"
   },
   {
    "duration": 1350,
    "start_time": "2021-08-17T13:12:11.207Z"
   },
   {
    "duration": 533,
    "start_time": "2021-08-17T13:12:12.560Z"
   },
   {
    "duration": 21,
    "start_time": "2021-08-17T13:12:13.095Z"
   },
   {
    "duration": 14,
    "start_time": "2021-08-17T13:12:13.119Z"
   },
   {
    "duration": 34,
    "start_time": "2021-08-17T13:12:13.137Z"
   },
   {
    "duration": 33,
    "start_time": "2021-08-17T13:12:13.173Z"
   },
   {
    "duration": 19,
    "start_time": "2021-08-17T13:12:13.209Z"
   },
   {
    "duration": 28,
    "start_time": "2021-08-17T13:12:13.257Z"
   },
   {
    "duration": 37,
    "start_time": "2021-08-17T13:12:13.288Z"
   },
   {
    "duration": 569,
    "start_time": "2021-08-17T13:12:13.327Z"
   },
   {
    "duration": 11,
    "start_time": "2021-08-17T13:12:13.898Z"
   },
   {
    "duration": 43,
    "start_time": "2021-08-17T13:12:13.911Z"
   },
   {
    "duration": 13,
    "start_time": "2021-08-17T13:12:13.957Z"
   },
   {
    "duration": 29,
    "start_time": "2021-08-17T13:12:13.972Z"
   },
   {
    "duration": 3,
    "start_time": "2021-08-17T13:12:14.003Z"
   },
   {
    "duration": 61,
    "start_time": "2021-08-17T13:12:14.009Z"
   },
   {
    "duration": 25,
    "start_time": "2021-08-17T13:12:14.072Z"
   },
   {
    "duration": 558,
    "start_time": "2021-08-17T13:12:14.099Z"
   },
   {
    "duration": 11,
    "start_time": "2021-08-17T13:12:14.660Z"
   },
   {
    "duration": 18,
    "start_time": "2021-08-17T13:12:14.673Z"
   },
   {
    "duration": 122,
    "start_time": "2021-08-17T13:12:14.693Z"
   },
   {
    "duration": 77,
    "start_time": "2021-08-17T13:12:14.818Z"
   },
   {
    "duration": 89,
    "start_time": "2021-08-17T13:12:14.901Z"
   },
   {
    "duration": 41,
    "start_time": "2021-08-17T13:12:14.993Z"
   },
   {
    "duration": 46,
    "start_time": "2021-08-17T13:12:15.037Z"
   },
   {
    "duration": 103,
    "start_time": "2021-08-17T13:12:15.086Z"
   },
   {
    "duration": 20,
    "start_time": "2021-08-17T13:12:15.192Z"
   },
   {
    "duration": 47,
    "start_time": "2021-08-17T13:12:15.215Z"
   },
   {
    "duration": 19,
    "start_time": "2021-08-17T13:12:15.264Z"
   },
   {
    "duration": 139,
    "start_time": "2021-08-17T13:12:15.285Z"
   },
   {
    "duration": 686,
    "start_time": "2021-08-17T13:12:15.427Z"
   },
   {
    "duration": 399,
    "start_time": "2021-08-17T13:12:16.116Z"
   },
   {
    "duration": 54,
    "start_time": "2021-08-17T13:12:16.517Z"
   },
   {
    "duration": 2165,
    "start_time": "2021-08-17T13:12:16.573Z"
   },
   {
    "duration": 1737,
    "start_time": "2021-08-17T13:12:18.741Z"
   },
   {
    "duration": 302,
    "start_time": "2021-08-17T13:12:20.481Z"
   },
   {
    "duration": 297,
    "start_time": "2021-08-17T13:12:20.786Z"
   },
   {
    "duration": 294,
    "start_time": "2021-08-17T13:12:21.086Z"
   },
   {
    "duration": 312,
    "start_time": "2021-08-17T13:12:21.383Z"
   },
   {
    "duration": 10,
    "start_time": "2021-08-17T13:12:21.699Z"
   },
   {
    "duration": 26,
    "start_time": "2021-08-17T13:12:21.712Z"
   },
   {
    "duration": 25,
    "start_time": "2021-08-17T13:12:21.741Z"
   },
   {
    "duration": 37,
    "start_time": "2021-08-17T13:12:21.769Z"
   },
   {
    "duration": 820,
    "start_time": "2021-08-17T13:12:21.809Z"
   },
   {
    "duration": 592,
    "start_time": "2021-08-17T13:12:22.632Z"
   },
   {
    "duration": 515,
    "start_time": "2021-08-17T13:12:23.226Z"
   },
   {
    "duration": 230,
    "start_time": "2021-08-17T13:12:23.743Z"
   },
   {
    "duration": 684,
    "start_time": "2021-08-17T13:12:23.976Z"
   },
   {
    "duration": 38,
    "start_time": "2021-08-17T13:12:24.663Z"
   },
   {
    "duration": 16,
    "start_time": "2021-08-17T13:12:24.704Z"
   },
   {
    "duration": 32,
    "start_time": "2021-08-17T13:12:24.723Z"
   },
   {
    "duration": 840,
    "start_time": "2021-08-17T13:12:24.757Z"
   },
   {
    "duration": 116,
    "start_time": "2021-08-17T13:12:25.599Z"
   },
   {
    "duration": 115,
    "start_time": "2021-08-17T13:12:25.718Z"
   },
   {
    "duration": 37,
    "start_time": "2021-08-17T13:12:25.836Z"
   },
   {
    "duration": 35,
    "start_time": "2021-08-17T13:12:25.876Z"
   },
   {
    "duration": 30,
    "start_time": "2021-08-17T13:12:25.914Z"
   },
   {
    "duration": 17,
    "start_time": "2021-08-17T13:12:25.946Z"
   },
   {
    "duration": 42,
    "start_time": "2021-08-17T13:12:25.965Z"
   },
   {
    "duration": 19,
    "start_time": "2021-08-17T13:12:26.010Z"
   },
   {
    "duration": 35,
    "start_time": "2021-08-17T13:12:26.031Z"
   },
   {
    "duration": 17,
    "start_time": "2021-08-17T13:12:26.068Z"
   },
   {
    "duration": 382,
    "start_time": "2021-08-17T13:34:23.372Z"
   },
   {
    "duration": 255,
    "start_time": "2021-08-17T13:34:37.516Z"
   },
   {
    "duration": 248,
    "start_time": "2021-08-17T13:34:53.196Z"
   },
   {
    "duration": 499,
    "start_time": "2021-08-17T13:35:15.628Z"
   },
   {
    "duration": 256,
    "start_time": "2021-08-17T13:35:26.491Z"
   },
   {
    "duration": 252,
    "start_time": "2021-08-17T13:35:32.219Z"
   },
   {
    "duration": 333,
    "start_time": "2021-08-17T13:35:36.276Z"
   },
   {
    "duration": 240,
    "start_time": "2021-08-17T13:35:50.051Z"
   },
   {
    "duration": 239,
    "start_time": "2021-08-17T13:35:56.803Z"
   },
   {
    "duration": 255,
    "start_time": "2021-08-17T13:36:31.563Z"
   },
   {
    "duration": 250,
    "start_time": "2021-08-17T13:36:39.227Z"
   },
   {
    "duration": 255,
    "start_time": "2021-08-17T13:36:45.684Z"
   },
   {
    "duration": 241,
    "start_time": "2021-08-17T13:36:48.787Z"
   },
   {
    "duration": 347,
    "start_time": "2021-08-17T13:36:53.772Z"
   },
   {
    "duration": 349,
    "start_time": "2021-08-17T13:36:56.947Z"
   },
   {
    "duration": 345,
    "start_time": "2021-08-17T13:37:02.580Z"
   },
   {
    "duration": 338,
    "start_time": "2021-08-17T13:37:05.803Z"
   },
   {
    "duration": 352,
    "start_time": "2021-08-17T13:37:09.843Z"
   },
   {
    "duration": 345,
    "start_time": "2021-08-17T13:37:14.228Z"
   },
   {
    "duration": 349,
    "start_time": "2021-08-17T13:37:18.676Z"
   },
   {
    "duration": 251,
    "start_time": "2021-08-17T13:37:33.947Z"
   },
   {
    "duration": 335,
    "start_time": "2021-08-17T13:37:36.946Z"
   },
   {
    "duration": 258,
    "start_time": "2021-08-17T13:37:39.475Z"
   },
   {
    "duration": 272,
    "start_time": "2021-08-17T13:37:48.115Z"
   },
   {
    "duration": 241,
    "start_time": "2021-08-17T13:37:52.941Z"
   },
   {
    "duration": 279,
    "start_time": "2021-08-17T13:37:57.978Z"
   },
   {
    "duration": 367,
    "start_time": "2021-08-17T13:38:02.907Z"
   },
   {
    "duration": 243,
    "start_time": "2021-08-17T13:38:15.875Z"
   },
   {
    "duration": 243,
    "start_time": "2021-08-17T13:38:21.611Z"
   },
   {
    "duration": 250,
    "start_time": "2021-08-17T13:38:26.946Z"
   },
   {
    "duration": 269,
    "start_time": "2021-08-17T13:38:41.171Z"
   },
   {
    "duration": 266,
    "start_time": "2021-08-17T13:38:52.034Z"
   },
   {
    "duration": 275,
    "start_time": "2021-08-17T13:38:55.507Z"
   },
   {
    "duration": 270,
    "start_time": "2021-08-17T13:39:41.986Z"
   },
   {
    "duration": 266,
    "start_time": "2021-08-17T13:39:46.714Z"
   },
   {
    "duration": 292,
    "start_time": "2021-08-17T13:39:52.762Z"
   },
   {
    "duration": 367,
    "start_time": "2021-08-17T13:40:01.962Z"
   },
   {
    "duration": 275,
    "start_time": "2021-08-17T13:40:05.179Z"
   },
   {
    "duration": 273,
    "start_time": "2021-08-17T13:40:18.010Z"
   },
   {
    "duration": 274,
    "start_time": "2021-08-17T13:40:27.186Z"
   },
   {
    "duration": 103,
    "start_time": "2021-08-17T13:40:31.962Z"
   },
   {
    "duration": 264,
    "start_time": "2021-08-17T13:40:37.514Z"
   },
   {
    "duration": 272,
    "start_time": "2021-08-17T13:40:41.001Z"
   },
   {
    "duration": 269,
    "start_time": "2021-08-17T13:40:47.434Z"
   },
   {
    "duration": 92,
    "start_time": "2021-08-17T13:40:50.265Z"
   },
   {
    "duration": 381,
    "start_time": "2021-08-17T13:40:56.882Z"
   },
   {
    "duration": 387,
    "start_time": "2021-08-17T13:41:08.377Z"
   },
   {
    "duration": 263,
    "start_time": "2021-08-17T13:41:14.065Z"
   },
   {
    "duration": 272,
    "start_time": "2021-08-17T13:41:17.602Z"
   },
   {
    "duration": 268,
    "start_time": "2021-08-17T13:41:27.938Z"
   },
   {
    "duration": 271,
    "start_time": "2021-08-17T13:42:02.577Z"
   },
   {
    "duration": 297,
    "start_time": "2021-08-17T13:42:19.193Z"
   },
   {
    "duration": 270,
    "start_time": "2021-08-17T13:42:22.505Z"
   },
   {
    "duration": 355,
    "start_time": "2021-08-17T13:42:32.121Z"
   },
   {
    "duration": 276,
    "start_time": "2021-08-17T13:42:38.169Z"
   },
   {
    "duration": 276,
    "start_time": "2021-08-17T13:42:46.841Z"
   },
   {
    "duration": 278,
    "start_time": "2021-08-17T13:42:52.248Z"
   },
   {
    "duration": 275,
    "start_time": "2021-08-17T13:42:55.553Z"
   },
   {
    "duration": 271,
    "start_time": "2021-08-17T13:42:58.689Z"
   },
   {
    "duration": 278,
    "start_time": "2021-08-17T13:43:01.849Z"
   },
   {
    "duration": 1383,
    "start_time": "2021-08-17T13:43:35.140Z"
   },
   {
    "duration": 538,
    "start_time": "2021-08-17T13:43:36.525Z"
   },
   {
    "duration": 20,
    "start_time": "2021-08-17T13:43:37.067Z"
   },
   {
    "duration": 23,
    "start_time": "2021-08-17T13:43:37.090Z"
   },
   {
    "duration": 28,
    "start_time": "2021-08-17T13:43:37.116Z"
   },
   {
    "duration": 40,
    "start_time": "2021-08-17T13:43:37.146Z"
   },
   {
    "duration": 31,
    "start_time": "2021-08-17T13:43:37.189Z"
   },
   {
    "duration": 32,
    "start_time": "2021-08-17T13:43:37.224Z"
   },
   {
    "duration": 37,
    "start_time": "2021-08-17T13:43:37.259Z"
   },
   {
    "duration": 567,
    "start_time": "2021-08-17T13:43:37.298Z"
   },
   {
    "duration": 11,
    "start_time": "2021-08-17T13:43:37.868Z"
   },
   {
    "duration": 23,
    "start_time": "2021-08-17T13:43:37.882Z"
   },
   {
    "duration": 14,
    "start_time": "2021-08-17T13:43:37.908Z"
   },
   {
    "duration": 22,
    "start_time": "2021-08-17T13:43:37.954Z"
   },
   {
    "duration": 3,
    "start_time": "2021-08-17T13:43:37.979Z"
   },
   {
    "duration": 35,
    "start_time": "2021-08-17T13:43:37.985Z"
   },
   {
    "duration": 46,
    "start_time": "2021-08-17T13:43:38.023Z"
   },
   {
    "duration": 657,
    "start_time": "2021-08-17T13:43:38.072Z"
   },
   {
    "duration": 25,
    "start_time": "2021-08-17T13:43:38.732Z"
   },
   {
    "duration": 30,
    "start_time": "2021-08-17T13:43:38.760Z"
   },
   {
    "duration": 143,
    "start_time": "2021-08-17T13:43:38.793Z"
   },
   {
    "duration": 87,
    "start_time": "2021-08-17T13:43:38.939Z"
   },
   {
    "duration": 123,
    "start_time": "2021-08-17T13:43:39.036Z"
   },
   {
    "duration": 72,
    "start_time": "2021-08-17T13:43:39.164Z"
   },
   {
    "duration": 51,
    "start_time": "2021-08-17T13:43:39.239Z"
   },
   {
    "duration": 140,
    "start_time": "2021-08-17T13:43:39.293Z"
   },
   {
    "duration": 45,
    "start_time": "2021-08-17T13:43:39.436Z"
   },
   {
    "duration": 15,
    "start_time": "2021-08-17T13:43:39.484Z"
   },
   {
    "duration": 18,
    "start_time": "2021-08-17T13:43:39.502Z"
   },
   {
    "duration": 134,
    "start_time": "2021-08-17T13:43:39.555Z"
   },
   {
    "duration": 724,
    "start_time": "2021-08-17T13:43:39.691Z"
   },
   {
    "duration": 420,
    "start_time": "2021-08-17T13:43:40.418Z"
   },
   {
    "duration": 51,
    "start_time": "2021-08-17T13:43:40.841Z"
   },
   {
    "duration": 1580,
    "start_time": "2021-08-17T13:43:40.895Z"
   },
   {
    "duration": 1560,
    "start_time": "2021-08-17T13:43:42.478Z"
   },
   {
    "duration": 316,
    "start_time": "2021-08-17T13:43:44.040Z"
   },
   {
    "duration": 307,
    "start_time": "2021-08-17T13:43:44.359Z"
   },
   {
    "duration": 298,
    "start_time": "2021-08-17T13:43:44.668Z"
   },
   {
    "duration": 428,
    "start_time": "2021-08-17T13:43:44.970Z"
   },
   {
    "duration": 10,
    "start_time": "2021-08-17T13:43:45.400Z"
   },
   {
    "duration": 16,
    "start_time": "2021-08-17T13:43:45.412Z"
   },
   {
    "duration": 28,
    "start_time": "2021-08-17T13:43:45.431Z"
   },
   {
    "duration": 64,
    "start_time": "2021-08-17T13:43:45.462Z"
   },
   {
    "duration": 856,
    "start_time": "2021-08-17T13:43:45.530Z"
   },
   {
    "duration": 911,
    "start_time": "2021-08-17T13:43:46.389Z"
   },
   {
    "duration": 556,
    "start_time": "2021-08-17T13:43:47.303Z"
   },
   {
    "duration": 244,
    "start_time": "2021-08-17T13:43:47.862Z"
   },
   {
    "duration": 674,
    "start_time": "2021-08-17T13:43:48.109Z"
   },
   {
    "duration": 26,
    "start_time": "2021-08-17T13:43:48.786Z"
   },
   {
    "duration": 31,
    "start_time": "2021-08-17T13:43:48.814Z"
   },
   {
    "duration": 11,
    "start_time": "2021-08-17T13:43:48.855Z"
   },
   {
    "duration": 891,
    "start_time": "2021-08-17T13:43:48.868Z"
   },
   {
    "duration": 113,
    "start_time": "2021-08-17T13:43:49.762Z"
   },
   {
    "duration": 119,
    "start_time": "2021-08-17T13:43:49.877Z"
   },
   {
    "duration": 18,
    "start_time": "2021-08-17T13:43:49.999Z"
   },
   {
    "duration": 48,
    "start_time": "2021-08-17T13:43:50.020Z"
   },
   {
    "duration": 9,
    "start_time": "2021-08-17T13:43:50.071Z"
   },
   {
    "duration": 302,
    "start_time": "2021-08-17T13:43:50.082Z"
   },
   {
    "duration": 26,
    "start_time": "2021-08-17T13:43:50.387Z"
   },
   {
    "duration": 46,
    "start_time": "2021-08-17T13:43:50.416Z"
   },
   {
    "duration": 43,
    "start_time": "2021-08-17T13:43:50.465Z"
   },
   {
    "duration": 38,
    "start_time": "2021-08-17T13:43:50.511Z"
   },
   {
    "duration": 7427,
    "start_time": "2021-08-17T13:48:09.438Z"
   },
   {
    "duration": 1475,
    "start_time": "2021-08-17T13:48:21.643Z"
   },
   {
    "duration": 558,
    "start_time": "2021-08-17T13:48:23.120Z"
   },
   {
    "duration": 21,
    "start_time": "2021-08-17T13:48:23.682Z"
   },
   {
    "duration": 60,
    "start_time": "2021-08-17T13:48:23.705Z"
   },
   {
    "duration": 47,
    "start_time": "2021-08-17T13:48:23.768Z"
   },
   {
    "duration": 64,
    "start_time": "2021-08-17T13:48:23.817Z"
   },
   {
    "duration": 21,
    "start_time": "2021-08-17T13:48:23.884Z"
   },
   {
    "duration": 47,
    "start_time": "2021-08-17T13:48:23.909Z"
   },
   {
    "duration": 40,
    "start_time": "2021-08-17T13:48:23.960Z"
   },
   {
    "duration": 600,
    "start_time": "2021-08-17T13:48:24.002Z"
   },
   {
    "duration": 12,
    "start_time": "2021-08-17T13:48:24.605Z"
   },
   {
    "duration": 41,
    "start_time": "2021-08-17T13:48:24.619Z"
   },
   {
    "duration": 21,
    "start_time": "2021-08-17T13:48:24.662Z"
   },
   {
    "duration": 35,
    "start_time": "2021-08-17T13:48:24.686Z"
   },
   {
    "duration": 4,
    "start_time": "2021-08-17T13:48:24.724Z"
   },
   {
    "duration": 53,
    "start_time": "2021-08-17T13:48:24.731Z"
   },
   {
    "duration": 37,
    "start_time": "2021-08-17T13:48:24.787Z"
   },
   {
    "duration": 841,
    "start_time": "2021-08-17T13:48:24.827Z"
   },
   {
    "duration": 20,
    "start_time": "2021-08-17T13:48:25.671Z"
   },
   {
    "duration": 18,
    "start_time": "2021-08-17T13:48:25.693Z"
   },
   {
    "duration": 115,
    "start_time": "2021-08-17T13:48:25.714Z"
   },
   {
    "duration": 74,
    "start_time": "2021-08-17T13:48:25.832Z"
   },
   {
    "duration": 87,
    "start_time": "2021-08-17T13:48:25.912Z"
   },
   {
    "duration": 53,
    "start_time": "2021-08-17T13:48:26.002Z"
   },
   {
    "duration": 33,
    "start_time": "2021-08-17T13:48:26.057Z"
   },
   {
    "duration": 20,
    "start_time": "2021-08-17T13:48:26.092Z"
   },
   {
    "duration": 106,
    "start_time": "2021-08-17T13:48:26.114Z"
   },
   {
    "duration": 52,
    "start_time": "2021-08-17T13:48:26.223Z"
   },
   {
    "duration": 19,
    "start_time": "2021-08-17T13:48:26.278Z"
   },
   {
    "duration": 23,
    "start_time": "2021-08-17T13:48:26.299Z"
   },
   {
    "duration": 177,
    "start_time": "2021-08-17T13:48:26.325Z"
   },
   {
    "duration": 1741,
    "start_time": "2021-08-17T13:48:26.506Z"
   },
   {
    "duration": 753,
    "start_time": "2021-08-17T13:48:28.254Z"
   },
   {
    "duration": 70,
    "start_time": "2021-08-17T13:48:29.010Z"
   },
   {
    "duration": 1515,
    "start_time": "2021-08-17T13:48:29.083Z"
   },
   {
    "duration": 1556,
    "start_time": "2021-08-17T13:48:30.601Z"
   },
   {
    "duration": 303,
    "start_time": "2021-08-17T13:48:32.160Z"
   },
   {
    "duration": 298,
    "start_time": "2021-08-17T13:48:32.466Z"
   },
   {
    "duration": 425,
    "start_time": "2021-08-17T13:48:32.767Z"
   },
   {
    "duration": 473,
    "start_time": "2021-08-17T13:48:33.195Z"
   },
   {
    "duration": 11,
    "start_time": "2021-08-17T13:48:33.671Z"
   },
   {
    "duration": 26,
    "start_time": "2021-08-17T13:48:33.685Z"
   },
   {
    "duration": 21,
    "start_time": "2021-08-17T13:48:33.714Z"
   },
   {
    "duration": 64,
    "start_time": "2021-08-17T13:48:33.738Z"
   },
   {
    "duration": 784,
    "start_time": "2021-08-17T13:48:33.805Z"
   },
   {
    "duration": 619,
    "start_time": "2021-08-17T13:48:34.592Z"
   },
   {
    "duration": 614,
    "start_time": "2021-08-17T13:48:35.214Z"
   },
   {
    "duration": 312,
    "start_time": "2021-08-17T13:48:35.830Z"
   },
   {
    "duration": 886,
    "start_time": "2021-08-17T13:48:36.146Z"
   },
   {
    "duration": 52,
    "start_time": "2021-08-17T13:48:37.034Z"
   },
   {
    "duration": 39,
    "start_time": "2021-08-17T13:48:37.089Z"
   },
   {
    "duration": 26,
    "start_time": "2021-08-17T13:48:37.131Z"
   },
   {
    "duration": 1613,
    "start_time": "2021-08-17T13:48:37.160Z"
   },
   {
    "duration": 169,
    "start_time": "2021-08-17T13:48:38.777Z"
   },
   {
    "duration": 175,
    "start_time": "2021-08-17T13:48:38.953Z"
   },
   {
    "duration": 34,
    "start_time": "2021-08-17T13:48:39.131Z"
   },
   {
    "duration": 47,
    "start_time": "2021-08-17T13:48:39.169Z"
   },
   {
    "duration": 19,
    "start_time": "2021-08-17T13:48:39.219Z"
   },
   {
    "duration": 352,
    "start_time": "2021-08-17T13:48:39.252Z"
   },
   {
    "duration": 26,
    "start_time": "2021-08-17T13:48:39.607Z"
   },
   {
    "duration": 36,
    "start_time": "2021-08-17T13:48:39.635Z"
   },
   {
    "duration": 34,
    "start_time": "2021-08-17T13:48:39.673Z"
   },
   {
    "duration": 17,
    "start_time": "2021-08-17T13:48:39.710Z"
   },
   {
    "duration": 49,
    "start_time": "2021-08-17T13:50:33.786Z"
   },
   {
    "duration": 1454,
    "start_time": "2021-08-17T13:50:57.960Z"
   },
   {
    "duration": 599,
    "start_time": "2021-08-17T13:51:00.319Z"
   },
   {
    "duration": 22,
    "start_time": "2021-08-17T13:51:03.863Z"
   },
   {
    "duration": 11,
    "start_time": "2021-08-17T13:51:04.938Z"
   },
   {
    "duration": 12,
    "start_time": "2021-08-17T13:51:08.015Z"
   },
   {
    "duration": 31,
    "start_time": "2021-08-17T13:51:08.675Z"
   },
   {
    "duration": 21,
    "start_time": "2021-08-17T13:51:11.123Z"
   },
   {
    "duration": 30,
    "start_time": "2021-08-17T13:51:13.699Z"
   },
   {
    "duration": 37,
    "start_time": "2021-08-17T13:51:15.101Z"
   },
   {
    "duration": 626,
    "start_time": "2021-08-17T13:51:16.981Z"
   },
   {
    "duration": 11,
    "start_time": "2021-08-17T13:51:20.156Z"
   },
   {
    "duration": 19,
    "start_time": "2021-08-17T13:51:20.795Z"
   },
   {
    "duration": 13,
    "start_time": "2021-08-17T13:51:22.723Z"
   },
   {
    "duration": 25,
    "start_time": "2021-08-17T13:51:23.233Z"
   },
   {
    "duration": 3,
    "start_time": "2021-08-17T13:51:26.008Z"
   },
   {
    "duration": 25,
    "start_time": "2021-08-17T13:51:28.218Z"
   },
   {
    "duration": 26,
    "start_time": "2021-08-17T13:51:29.787Z"
   },
   {
    "duration": 534,
    "start_time": "2021-08-17T13:51:35.922Z"
   },
   {
    "duration": 12,
    "start_time": "2021-08-17T13:51:39.831Z"
   },
   {
    "duration": 9,
    "start_time": "2021-08-17T13:51:40.492Z"
   },
   {
    "duration": 90,
    "start_time": "2021-08-17T13:51:43.636Z"
   },
   {
    "duration": 66,
    "start_time": "2021-08-17T13:51:45.802Z"
   },
   {
    "duration": 79,
    "start_time": "2021-08-17T13:51:47.335Z"
   },
   {
    "duration": 38,
    "start_time": "2021-08-17T13:51:48.859Z"
   },
   {
    "duration": 42,
    "start_time": "2021-08-17T13:51:49.585Z"
   },
   {
    "duration": 38,
    "start_time": "2021-08-17T13:51:57.304Z"
   },
   {
    "duration": 81,
    "start_time": "2021-08-17T13:52:29.936Z"
   },
   {
    "duration": 23,
    "start_time": "2021-08-17T13:53:01.718Z"
   },
   {
    "duration": 30,
    "start_time": "2021-08-17T13:54:03.286Z"
   },
   {
    "duration": 100,
    "start_time": "2021-08-17T13:56:51.456Z"
   },
   {
    "duration": 21,
    "start_time": "2021-08-17T13:56:57.462Z"
   },
   {
    "duration": 21,
    "start_time": "2021-08-17T13:57:42.574Z"
   },
   {
    "duration": 232,
    "start_time": "2021-08-17T14:00:29.477Z"
   },
   {
    "duration": 829,
    "start_time": "2021-08-17T14:00:31.596Z"
   },
   {
    "duration": 392,
    "start_time": "2021-08-17T14:00:48.852Z"
   },
   {
    "duration": 7,
    "start_time": "2021-08-17T14:03:43.011Z"
   },
   {
    "duration": 18,
    "start_time": "2021-08-17T14:04:04.947Z"
   },
   {
    "duration": 23,
    "start_time": "2021-08-17T14:04:44.603Z"
   },
   {
    "duration": 7452,
    "start_time": "2021-08-17T14:05:40.306Z"
   },
   {
    "duration": 54,
    "start_time": "2021-08-17T14:05:54.538Z"
   },
   {
    "duration": 24,
    "start_time": "2021-08-17T14:05:57.251Z"
   },
   {
    "duration": 20,
    "start_time": "2021-08-17T14:05:58.802Z"
   },
   {
    "duration": 19,
    "start_time": "2021-08-17T14:06:28.425Z"
   },
   {
    "duration": 337,
    "start_time": "2021-08-17T14:15:46.061Z"
   },
   {
    "duration": 6895,
    "start_time": "2021-08-17T14:15:52.784Z"
   },
   {
    "duration": -122,
    "start_time": "2021-08-17T14:15:59.805Z"
   },
   {
    "duration": -123,
    "start_time": "2021-08-17T14:15:59.808Z"
   },
   {
    "duration": 311,
    "start_time": "2021-08-17T14:16:01.672Z"
   },
   {
    "duration": 181,
    "start_time": "2021-08-17T14:16:13.168Z"
   },
   {
    "duration": 22,
    "start_time": "2021-08-17T14:16:17.072Z"
   },
   {
    "duration": 20,
    "start_time": "2021-08-17T14:16:21.451Z"
   },
   {
    "duration": 14,
    "start_time": "2021-08-17T14:16:22.420Z"
   },
   {
    "duration": 133,
    "start_time": "2021-08-17T14:16:24.028Z"
   },
   {
    "duration": 1076,
    "start_time": "2021-08-17T14:16:24.222Z"
   },
   {
    "duration": 370,
    "start_time": "2021-08-17T14:16:25.301Z"
   },
   {
    "duration": 1378,
    "start_time": "2021-08-17T14:16:38.791Z"
   },
   {
    "duration": 532,
    "start_time": "2021-08-17T14:16:40.172Z"
   },
   {
    "duration": 22,
    "start_time": "2021-08-17T14:16:40.707Z"
   },
   {
    "duration": 24,
    "start_time": "2021-08-17T14:16:40.733Z"
   },
   {
    "duration": 29,
    "start_time": "2021-08-17T14:16:40.760Z"
   },
   {
    "duration": 47,
    "start_time": "2021-08-17T14:16:40.792Z"
   },
   {
    "duration": 39,
    "start_time": "2021-08-17T14:16:40.842Z"
   },
   {
    "duration": 40,
    "start_time": "2021-08-17T14:16:40.886Z"
   },
   {
    "duration": 73,
    "start_time": "2021-08-17T14:16:40.931Z"
   },
   {
    "duration": 851,
    "start_time": "2021-08-17T14:16:41.008Z"
   },
   {
    "duration": 16,
    "start_time": "2021-08-17T14:16:41.862Z"
   },
   {
    "duration": 23,
    "start_time": "2021-08-17T14:16:41.881Z"
   },
   {
    "duration": 52,
    "start_time": "2021-08-17T14:16:41.906Z"
   },
   {
    "duration": 25,
    "start_time": "2021-08-17T14:16:41.960Z"
   },
   {
    "duration": 3,
    "start_time": "2021-08-17T14:16:41.988Z"
   },
   {
    "duration": 62,
    "start_time": "2021-08-17T14:16:41.994Z"
   },
   {
    "duration": 27,
    "start_time": "2021-08-17T14:16:42.059Z"
   },
   {
    "duration": 870,
    "start_time": "2021-08-17T14:16:42.089Z"
   },
   {
    "duration": 12,
    "start_time": "2021-08-17T14:16:42.962Z"
   },
   {
    "duration": 15,
    "start_time": "2021-08-17T14:16:42.976Z"
   },
   {
    "duration": 193,
    "start_time": "2021-08-17T14:16:42.994Z"
   },
   {
    "duration": 164,
    "start_time": "2021-08-17T14:16:43.190Z"
   },
   {
    "duration": 125,
    "start_time": "2021-08-17T14:16:43.360Z"
   },
   {
    "duration": 92,
    "start_time": "2021-08-17T14:16:43.488Z"
   },
   {
    "duration": 73,
    "start_time": "2021-08-17T14:16:43.583Z"
   },
   {
    "duration": 18,
    "start_time": "2021-08-17T14:16:43.658Z"
   },
   {
    "duration": 36,
    "start_time": "2021-08-17T14:16:43.678Z"
   },
   {
    "duration": 111,
    "start_time": "2021-08-17T14:16:43.716Z"
   },
   {
    "duration": 49,
    "start_time": "2021-08-17T14:16:43.830Z"
   },
   {
    "duration": 25,
    "start_time": "2021-08-17T14:16:43.882Z"
   },
   {
    "duration": 46,
    "start_time": "2021-08-17T14:16:43.910Z"
   },
   {
    "duration": 226,
    "start_time": "2021-08-17T14:16:43.959Z"
   },
   {
    "duration": 1096,
    "start_time": "2021-08-17T14:16:44.188Z"
   },
   {
    "duration": 915,
    "start_time": "2021-08-17T14:16:45.287Z"
   },
   {
    "duration": 41,
    "start_time": "2021-08-17T14:16:46.255Z"
   },
   {
    "duration": 1604,
    "start_time": "2021-08-17T14:16:46.299Z"
   },
   {
    "duration": 2389,
    "start_time": "2021-08-17T14:16:47.906Z"
   },
   {
    "duration": 434,
    "start_time": "2021-08-17T14:16:50.298Z"
   },
   {
    "duration": 419,
    "start_time": "2021-08-17T14:16:50.735Z"
   },
   {
    "duration": 400,
    "start_time": "2021-08-17T14:16:51.157Z"
   },
   {
    "duration": 449,
    "start_time": "2021-08-17T14:16:51.560Z"
   },
   {
    "duration": 13,
    "start_time": "2021-08-17T14:16:52.012Z"
   },
   {
    "duration": 31,
    "start_time": "2021-08-17T14:16:52.028Z"
   },
   {
    "duration": 12,
    "start_time": "2021-08-17T14:16:52.062Z"
   },
   {
    "duration": 43,
    "start_time": "2021-08-17T14:16:52.077Z"
   },
   {
    "duration": 554,
    "start_time": "2021-08-17T14:16:52.122Z"
   },
   {
    "duration": 588,
    "start_time": "2021-08-17T14:16:52.678Z"
   },
   {
    "duration": 520,
    "start_time": "2021-08-17T14:16:53.268Z"
   },
   {
    "duration": 342,
    "start_time": "2021-08-17T14:16:53.791Z"
   },
   {
    "duration": 1021,
    "start_time": "2021-08-17T14:16:54.136Z"
   },
   {
    "duration": 26,
    "start_time": "2021-08-17T14:16:55.160Z"
   },
   {
    "duration": 10,
    "start_time": "2021-08-17T14:16:55.189Z"
   },
   {
    "duration": 5,
    "start_time": "2021-08-17T14:16:55.202Z"
   },
   {
    "duration": 1328,
    "start_time": "2021-08-17T14:16:55.210Z"
   },
   {
    "duration": 154,
    "start_time": "2021-08-17T14:16:56.541Z"
   },
   {
    "duration": 156,
    "start_time": "2021-08-17T14:16:56.698Z"
   },
   {
    "duration": 24,
    "start_time": "2021-08-17T14:16:56.857Z"
   },
   {
    "duration": 31,
    "start_time": "2021-08-17T14:16:56.884Z"
   },
   {
    "duration": 36,
    "start_time": "2021-08-17T14:16:56.918Z"
   },
   {
    "duration": 296,
    "start_time": "2021-08-17T14:16:56.957Z"
   },
   {
    "duration": 29,
    "start_time": "2021-08-17T14:16:57.257Z"
   },
   {
    "duration": 20,
    "start_time": "2021-08-17T14:16:57.290Z"
   },
   {
    "duration": 55,
    "start_time": "2021-08-17T14:16:57.313Z"
   },
   {
    "duration": 6,
    "start_time": "2021-08-17T14:16:57.371Z"
   },
   {
    "duration": 523,
    "start_time": "2021-08-17T14:23:52.769Z"
   },
   {
    "duration": 526,
    "start_time": "2021-08-17T14:24:10.043Z"
   },
   {
    "duration": 587,
    "start_time": "2021-08-17T14:24:18.036Z"
   },
   {
    "duration": 523,
    "start_time": "2021-08-17T14:24:37.476Z"
   },
   {
    "duration": 640,
    "start_time": "2021-08-17T14:25:19.556Z"
   },
   {
    "duration": 538,
    "start_time": "2021-08-17T14:26:14.763Z"
   },
   {
    "duration": 828,
    "start_time": "2021-08-17T14:26:56.050Z"
   },
   {
    "duration": 757,
    "start_time": "2021-08-17T14:27:30.876Z"
   },
   {
    "duration": 532,
    "start_time": "2021-08-17T14:28:38.242Z"
   },
   {
    "duration": 538,
    "start_time": "2021-08-17T14:28:51.002Z"
   },
   {
    "duration": 508,
    "start_time": "2021-08-17T14:28:56.186Z"
   },
   {
    "duration": 645,
    "start_time": "2021-08-17T14:29:00.154Z"
   },
   {
    "duration": 244,
    "start_time": "2021-08-17T14:29:29.699Z"
   },
   {
    "duration": 431,
    "start_time": "2021-08-17T14:29:51.139Z"
   },
   {
    "duration": 935,
    "start_time": "2021-08-17T14:30:11.266Z"
   },
   {
    "duration": 650,
    "start_time": "2021-08-17T14:31:21.297Z"
   },
   {
    "duration": 271,
    "start_time": "2021-08-17T14:36:30.551Z"
   },
   {
    "duration": 273,
    "start_time": "2021-08-17T14:36:35.927Z"
   },
   {
    "duration": 276,
    "start_time": "2021-08-17T14:36:39.400Z"
   },
   {
    "duration": 272,
    "start_time": "2021-08-17T14:36:56.272Z"
   },
   {
    "duration": 274,
    "start_time": "2021-08-17T14:37:04.823Z"
   },
   {
    "duration": 266,
    "start_time": "2021-08-17T14:37:08.415Z"
   },
   {
    "duration": 281,
    "start_time": "2021-08-17T14:37:13.951Z"
   },
   {
    "duration": 278,
    "start_time": "2021-08-17T14:37:24.903Z"
   },
   {
    "duration": 269,
    "start_time": "2021-08-17T14:37:31.063Z"
   },
   {
    "duration": 287,
    "start_time": "2021-08-17T14:37:39.014Z"
   },
   {
    "duration": 277,
    "start_time": "2021-08-17T14:37:54.111Z"
   },
   {
    "duration": 358,
    "start_time": "2021-08-17T14:38:02.087Z"
   },
   {
    "duration": 264,
    "start_time": "2021-08-17T14:38:05.999Z"
   },
   {
    "duration": 267,
    "start_time": "2021-08-17T14:38:11.279Z"
   },
   {
    "duration": 267,
    "start_time": "2021-08-17T14:38:15.127Z"
   },
   {
    "duration": 275,
    "start_time": "2021-08-17T14:38:18.079Z"
   },
   {
    "duration": 649,
    "start_time": "2021-08-17T14:38:21.286Z"
   },
   {
    "duration": 270,
    "start_time": "2021-08-17T14:38:24.806Z"
   },
   {
    "duration": 270,
    "start_time": "2021-08-17T14:38:49.622Z"
   },
   {
    "duration": 372,
    "start_time": "2021-08-17T14:38:56.735Z"
   },
   {
    "duration": 371,
    "start_time": "2021-08-17T14:39:08.886Z"
   },
   {
    "duration": 376,
    "start_time": "2021-08-17T14:39:20.271Z"
   },
   {
    "duration": 377,
    "start_time": "2021-08-17T14:39:38.119Z"
   },
   {
    "duration": 765,
    "start_time": "2021-08-17T14:47:28.107Z"
   },
   {
    "duration": 273,
    "start_time": "2021-08-17T14:47:35.676Z"
   },
   {
    "duration": 271,
    "start_time": "2021-08-17T14:48:49.699Z"
   },
   {
    "duration": 91,
    "start_time": "2021-08-17T14:51:13.537Z"
   },
   {
    "duration": 624,
    "start_time": "2021-08-17T14:51:25.193Z"
   },
   {
    "duration": 533,
    "start_time": "2021-08-17T14:51:33.697Z"
   },
   {
    "duration": 547,
    "start_time": "2021-08-17T14:51:41.017Z"
   },
   {
    "duration": 535,
    "start_time": "2021-08-17T14:52:32.601Z"
   },
   {
    "duration": 531,
    "start_time": "2021-08-17T14:52:45.417Z"
   },
   {
    "duration": 1527,
    "start_time": "2021-08-17T14:53:19.740Z"
   },
   {
    "duration": 533,
    "start_time": "2021-08-17T14:53:21.269Z"
   },
   {
    "duration": 20,
    "start_time": "2021-08-17T14:53:21.807Z"
   },
   {
    "duration": 19,
    "start_time": "2021-08-17T14:53:21.831Z"
   },
   {
    "duration": 21,
    "start_time": "2021-08-17T14:53:21.852Z"
   },
   {
    "duration": 40,
    "start_time": "2021-08-17T14:53:21.876Z"
   },
   {
    "duration": 22,
    "start_time": "2021-08-17T14:53:21.918Z"
   },
   {
    "duration": 35,
    "start_time": "2021-08-17T14:53:21.955Z"
   },
   {
    "duration": 60,
    "start_time": "2021-08-17T14:53:21.994Z"
   },
   {
    "duration": 575,
    "start_time": "2021-08-17T14:53:22.057Z"
   },
   {
    "duration": 21,
    "start_time": "2021-08-17T14:53:22.635Z"
   },
   {
    "duration": 30,
    "start_time": "2021-08-17T14:53:22.659Z"
   },
   {
    "duration": 21,
    "start_time": "2021-08-17T14:53:22.691Z"
   },
   {
    "duration": 37,
    "start_time": "2021-08-17T14:53:22.714Z"
   },
   {
    "duration": 3,
    "start_time": "2021-08-17T14:53:22.754Z"
   },
   {
    "duration": 45,
    "start_time": "2021-08-17T14:53:22.760Z"
   },
   {
    "duration": 26,
    "start_time": "2021-08-17T14:53:22.807Z"
   },
   {
    "duration": 564,
    "start_time": "2021-08-17T14:53:22.835Z"
   },
   {
    "duration": 12,
    "start_time": "2021-08-17T14:53:23.402Z"
   },
   {
    "duration": 10,
    "start_time": "2021-08-17T14:53:23.416Z"
   },
   {
    "duration": 110,
    "start_time": "2021-08-17T14:53:23.429Z"
   },
   {
    "duration": 75,
    "start_time": "2021-08-17T14:53:23.541Z"
   },
   {
    "duration": 93,
    "start_time": "2021-08-17T14:53:23.622Z"
   },
   {
    "duration": 49,
    "start_time": "2021-08-17T14:53:23.718Z"
   },
   {
    "duration": 35,
    "start_time": "2021-08-17T14:53:23.770Z"
   },
   {
    "duration": 17,
    "start_time": "2021-08-17T14:53:23.808Z"
   },
   {
    "duration": 18,
    "start_time": "2021-08-17T14:53:23.854Z"
   },
   {
    "duration": 95,
    "start_time": "2021-08-17T14:53:23.874Z"
   },
   {
    "duration": 20,
    "start_time": "2021-08-17T14:53:23.972Z"
   },
   {
    "duration": 25,
    "start_time": "2021-08-17T14:53:23.995Z"
   },
   {
    "duration": 12,
    "start_time": "2021-08-17T14:53:24.056Z"
   },
   {
    "duration": 146,
    "start_time": "2021-08-17T14:53:24.071Z"
   },
   {
    "duration": 808,
    "start_time": "2021-08-17T14:53:24.220Z"
   },
   {
    "duration": 352,
    "start_time": "2021-08-17T14:53:25.031Z"
   },
   {
    "duration": 43,
    "start_time": "2021-08-17T14:53:25.386Z"
   },
   {
    "duration": 1552,
    "start_time": "2021-08-17T14:53:25.432Z"
   },
   {
    "duration": 1680,
    "start_time": "2021-08-17T14:53:26.987Z"
   },
   {
    "duration": 320,
    "start_time": "2021-08-17T14:53:28.669Z"
   },
   {
    "duration": 299,
    "start_time": "2021-08-17T14:53:28.992Z"
   },
   {
    "duration": 306,
    "start_time": "2021-08-17T14:53:29.294Z"
   },
   {
    "duration": 317,
    "start_time": "2021-08-17T14:53:29.603Z"
   },
   {
    "duration": 9,
    "start_time": "2021-08-17T14:53:29.923Z"
   },
   {
    "duration": 31,
    "start_time": "2021-08-17T14:53:29.934Z"
   },
   {
    "duration": 27,
    "start_time": "2021-08-17T14:53:29.967Z"
   },
   {
    "duration": 61,
    "start_time": "2021-08-17T14:53:29.996Z"
   },
   {
    "duration": 663,
    "start_time": "2021-08-17T14:53:30.059Z"
   },
   {
    "duration": 625,
    "start_time": "2021-08-17T14:53:30.725Z"
   },
   {
    "duration": 540,
    "start_time": "2021-08-17T14:53:31.355Z"
   },
   {
    "duration": 253,
    "start_time": "2021-08-17T14:53:31.897Z"
   },
   {
    "duration": 675,
    "start_time": "2021-08-17T14:53:32.152Z"
   },
   {
    "duration": 45,
    "start_time": "2021-08-17T14:53:32.831Z"
   },
   {
    "duration": 19,
    "start_time": "2021-08-17T14:53:32.879Z"
   },
   {
    "duration": 5,
    "start_time": "2021-08-17T14:53:32.902Z"
   },
   {
    "duration": 1604,
    "start_time": "2021-08-17T14:53:32.911Z"
   },
   {
    "duration": 174,
    "start_time": "2021-08-17T14:53:34.519Z"
   },
   {
    "duration": 163,
    "start_time": "2021-08-17T14:53:34.696Z"
   },
   {
    "duration": 26,
    "start_time": "2021-08-17T14:53:34.863Z"
   },
   {
    "duration": 23,
    "start_time": "2021-08-17T14:53:34.891Z"
   },
   {
    "duration": 14,
    "start_time": "2021-08-17T14:53:34.917Z"
   },
   {
    "duration": 278,
    "start_time": "2021-08-17T14:53:34.955Z"
   },
   {
    "duration": 37,
    "start_time": "2021-08-17T14:53:35.236Z"
   },
   {
    "duration": 19,
    "start_time": "2021-08-17T14:53:35.275Z"
   },
   {
    "duration": 27,
    "start_time": "2021-08-17T14:53:35.297Z"
   },
   {
    "duration": 35,
    "start_time": "2021-08-17T14:53:35.327Z"
   },
   {
    "duration": 547,
    "start_time": "2021-08-17T14:56:34.836Z"
   },
   {
    "duration": 556,
    "start_time": "2021-08-17T14:56:49.884Z"
   },
   {
    "duration": 20,
    "start_time": "2021-08-17T14:57:21.668Z"
   },
   {
    "duration": 35,
    "start_time": "2021-08-17T14:57:25.563Z"
   },
   {
    "duration": 11,
    "start_time": "2021-08-17T14:57:28.779Z"
   },
   {
    "duration": 416,
    "start_time": "2021-08-18T09:38:15.443Z"
   },
   {
    "duration": 1356,
    "start_time": "2021-08-18T09:38:23.099Z"
   },
   {
    "duration": 517,
    "start_time": "2021-08-18T09:38:24.458Z"
   },
   {
    "duration": 19,
    "start_time": "2021-08-18T09:38:24.978Z"
   },
   {
    "duration": 20,
    "start_time": "2021-08-18T09:38:25.000Z"
   },
   {
    "duration": 17,
    "start_time": "2021-08-18T09:38:25.023Z"
   },
   {
    "duration": 36,
    "start_time": "2021-08-18T09:38:25.042Z"
   },
   {
    "duration": 33,
    "start_time": "2021-08-18T09:38:25.081Z"
   },
   {
    "duration": 24,
    "start_time": "2021-08-18T09:38:25.117Z"
   },
   {
    "duration": 63,
    "start_time": "2021-08-18T09:38:25.144Z"
   },
   {
    "duration": 581,
    "start_time": "2021-08-18T09:38:25.210Z"
   },
   {
    "duration": 12,
    "start_time": "2021-08-18T09:38:25.801Z"
   },
   {
    "duration": 25,
    "start_time": "2021-08-18T09:38:25.815Z"
   },
   {
    "duration": 13,
    "start_time": "2021-08-18T09:38:25.843Z"
   },
   {
    "duration": 55,
    "start_time": "2021-08-18T09:38:25.859Z"
   },
   {
    "duration": 3,
    "start_time": "2021-08-18T09:38:25.916Z"
   },
   {
    "duration": 31,
    "start_time": "2021-08-18T09:38:25.922Z"
   },
   {
    "duration": 52,
    "start_time": "2021-08-18T09:38:25.956Z"
   },
   {
    "duration": 595,
    "start_time": "2021-08-18T09:38:26.010Z"
   },
   {
    "duration": 12,
    "start_time": "2021-08-18T09:38:26.608Z"
   },
   {
    "duration": 11,
    "start_time": "2021-08-18T09:38:26.623Z"
   },
   {
    "duration": 122,
    "start_time": "2021-08-18T09:38:26.637Z"
   },
   {
    "duration": 75,
    "start_time": "2021-08-18T09:38:26.762Z"
   },
   {
    "duration": 85,
    "start_time": "2021-08-18T09:38:26.843Z"
   },
   {
    "duration": 36,
    "start_time": "2021-08-18T09:38:26.932Z"
   },
   {
    "duration": 57,
    "start_time": "2021-08-18T09:38:26.970Z"
   },
   {
    "duration": 10,
    "start_time": "2021-08-18T09:38:27.030Z"
   },
   {
    "duration": 13,
    "start_time": "2021-08-18T09:38:27.042Z"
   },
   {
    "duration": 46,
    "start_time": "2021-08-18T09:38:27.057Z"
   },
   {
    "duration": 106,
    "start_time": "2021-08-18T09:38:27.106Z"
   },
   {
    "duration": 23,
    "start_time": "2021-08-18T09:38:27.214Z"
   },
   {
    "duration": 28,
    "start_time": "2021-08-18T09:38:27.247Z"
   },
   {
    "duration": 13,
    "start_time": "2021-08-18T09:38:27.301Z"
   },
   {
    "duration": 151,
    "start_time": "2021-08-18T09:38:27.316Z"
   },
   {
    "duration": 767,
    "start_time": "2021-08-18T09:38:27.470Z"
   },
   {
    "duration": 689,
    "start_time": "2021-08-18T09:38:28.239Z"
   },
   {
    "duration": 41,
    "start_time": "2021-08-18T09:38:28.930Z"
   },
   {
    "duration": 1539,
    "start_time": "2021-08-18T09:38:28.973Z"
   },
   {
    "duration": 1648,
    "start_time": "2021-08-18T09:38:30.515Z"
   },
   {
    "duration": 324,
    "start_time": "2021-08-18T09:38:32.166Z"
   },
   {
    "duration": 302,
    "start_time": "2021-08-18T09:38:32.492Z"
   },
   {
    "duration": 299,
    "start_time": "2021-08-18T09:38:32.800Z"
   },
   {
    "duration": 321,
    "start_time": "2021-08-18T09:38:33.102Z"
   },
   {
    "duration": 10,
    "start_time": "2021-08-18T09:38:33.426Z"
   },
   {
    "duration": 13,
    "start_time": "2021-08-18T09:38:33.438Z"
   },
   {
    "duration": 9,
    "start_time": "2021-08-18T09:38:33.454Z"
   },
   {
    "duration": 71,
    "start_time": "2021-08-18T09:38:33.465Z"
   },
   {
    "duration": 579,
    "start_time": "2021-08-18T09:38:33.539Z"
   },
   {
    "duration": 630,
    "start_time": "2021-08-18T09:38:34.121Z"
   },
   {
    "duration": 564,
    "start_time": "2021-08-18T09:38:34.754Z"
   },
   {
    "duration": 264,
    "start_time": "2021-08-18T09:38:35.320Z"
   },
   {
    "duration": 733,
    "start_time": "2021-08-18T09:38:35.586Z"
   },
   {
    "duration": 37,
    "start_time": "2021-08-18T09:38:36.321Z"
   },
   {
    "duration": 44,
    "start_time": "2021-08-18T09:38:36.360Z"
   },
   {
    "duration": 5,
    "start_time": "2021-08-18T09:38:36.407Z"
   },
   {
    "duration": 857,
    "start_time": "2021-08-18T09:38:36.414Z"
   },
   {
    "duration": 99,
    "start_time": "2021-08-18T09:38:37.273Z"
   },
   {
    "duration": 102,
    "start_time": "2021-08-18T09:38:37.375Z"
   },
   {
    "duration": 22,
    "start_time": "2021-08-18T09:38:37.480Z"
   },
   {
    "duration": 18,
    "start_time": "2021-08-18T09:38:37.505Z"
   },
   {
    "duration": 15,
    "start_time": "2021-08-18T09:38:37.525Z"
   },
   {
    "duration": 405,
    "start_time": "2021-08-18T09:38:37.543Z"
   },
   {
    "duration": 71,
    "start_time": "2021-08-18T09:38:37.950Z"
   },
   {
    "duration": 18,
    "start_time": "2021-08-18T09:38:38.023Z"
   },
   {
    "duration": 39,
    "start_time": "2021-08-18T09:38:38.044Z"
   },
   {
    "duration": 7,
    "start_time": "2021-08-18T09:38:38.086Z"
   },
   {
    "duration": 12,
    "start_time": "2021-08-18T09:38:43.927Z"
   },
   {
    "duration": 9313,
    "start_time": "2021-08-18T09:39:01.456Z"
   },
   {
    "duration": 9231,
    "start_time": "2021-08-18T09:39:22.007Z"
   },
   {
    "duration": 11660,
    "start_time": "2021-08-18T09:39:37.096Z"
   },
   {
    "duration": 36,
    "start_time": "2021-08-18T09:40:38.629Z"
   },
   {
    "duration": 18,
    "start_time": "2021-08-18T09:40:41.183Z"
   },
   {
    "duration": 18,
    "start_time": "2021-08-18T09:40:50.862Z"
   },
   {
    "duration": 9453,
    "start_time": "2021-08-18T09:44:41.797Z"
   },
   {
    "duration": 18,
    "start_time": "2021-08-18T09:44:53.845Z"
   },
   {
    "duration": 8,
    "start_time": "2021-08-18T09:47:04.349Z"
   },
   {
    "duration": 5019,
    "start_time": "2021-08-18T09:47:28.372Z"
   },
   {
    "duration": 1383,
    "start_time": "2021-08-18T09:47:45.346Z"
   },
   {
    "duration": 516,
    "start_time": "2021-08-18T09:47:46.731Z"
   },
   {
    "duration": 19,
    "start_time": "2021-08-18T09:47:47.250Z"
   },
   {
    "duration": 9,
    "start_time": "2021-08-18T09:47:47.272Z"
   },
   {
    "duration": 23,
    "start_time": "2021-08-18T09:47:47.283Z"
   },
   {
    "duration": 28,
    "start_time": "2021-08-18T09:47:47.309Z"
   },
   {
    "duration": 21,
    "start_time": "2021-08-18T09:47:47.339Z"
   },
   {
    "duration": 55,
    "start_time": "2021-08-18T09:47:47.364Z"
   },
   {
    "duration": 35,
    "start_time": "2021-08-18T09:47:47.422Z"
   },
   {
    "duration": 574,
    "start_time": "2021-08-18T09:47:47.460Z"
   },
   {
    "duration": 11,
    "start_time": "2021-08-18T09:47:48.036Z"
   },
   {
    "duration": 22,
    "start_time": "2021-08-18T09:47:48.049Z"
   },
   {
    "duration": 34,
    "start_time": "2021-08-18T09:47:48.073Z"
   },
   {
    "duration": 23,
    "start_time": "2021-08-18T09:47:48.110Z"
   },
   {
    "duration": 3,
    "start_time": "2021-08-18T09:47:48.135Z"
   },
   {
    "duration": 63,
    "start_time": "2021-08-18T09:47:48.140Z"
   },
   {
    "duration": 28,
    "start_time": "2021-08-18T09:47:48.206Z"
   },
   {
    "duration": 559,
    "start_time": "2021-08-18T09:47:48.236Z"
   },
   {
    "duration": 12,
    "start_time": "2021-08-18T09:47:48.798Z"
   },
   {
    "duration": 15,
    "start_time": "2021-08-18T09:47:48.812Z"
   },
   {
    "duration": 114,
    "start_time": "2021-08-18T09:47:48.829Z"
   },
   {
    "duration": 77,
    "start_time": "2021-08-18T09:47:48.945Z"
   },
   {
    "duration": 89,
    "start_time": "2021-08-18T09:47:49.030Z"
   },
   {
    "duration": 35,
    "start_time": "2021-08-18T09:47:49.122Z"
   },
   {
    "duration": 56,
    "start_time": "2021-08-18T09:47:49.160Z"
   },
   {
    "duration": 11,
    "start_time": "2021-08-18T09:47:49.218Z"
   },
   {
    "duration": 16,
    "start_time": "2021-08-18T09:47:49.231Z"
   },
   {
    "duration": 56,
    "start_time": "2021-08-18T09:47:49.250Z"
   },
   {
    "duration": 4,
    "start_time": "2021-08-18T09:47:49.308Z"
   },
   {
    "duration": 570,
    "start_time": "2021-08-18T09:47:49.314Z"
   },
   {
    "duration": 2473,
    "start_time": "2021-08-18T09:47:47.413Z"
   },
   {
    "duration": 2472,
    "start_time": "2021-08-18T09:47:47.416Z"
   },
   {
    "duration": 2470,
    "start_time": "2021-08-18T09:47:47.419Z"
   },
   {
    "duration": 2469,
    "start_time": "2021-08-18T09:47:47.422Z"
   },
   {
    "duration": 2468,
    "start_time": "2021-08-18T09:47:47.425Z"
   },
   {
    "duration": 2463,
    "start_time": "2021-08-18T09:47:47.432Z"
   },
   {
    "duration": 2462,
    "start_time": "2021-08-18T09:47:47.434Z"
   },
   {
    "duration": 2461,
    "start_time": "2021-08-18T09:47:47.436Z"
   },
   {
    "duration": 2460,
    "start_time": "2021-08-18T09:47:47.439Z"
   },
   {
    "duration": 2459,
    "start_time": "2021-08-18T09:47:47.441Z"
   },
   {
    "duration": 2458,
    "start_time": "2021-08-18T09:47:47.443Z"
   },
   {
    "duration": 2458,
    "start_time": "2021-08-18T09:47:47.445Z"
   },
   {
    "duration": 2458,
    "start_time": "2021-08-18T09:47:47.447Z"
   },
   {
    "duration": 2457,
    "start_time": "2021-08-18T09:47:47.449Z"
   },
   {
    "duration": 2457,
    "start_time": "2021-08-18T09:47:47.451Z"
   },
   {
    "duration": 2455,
    "start_time": "2021-08-18T09:47:47.454Z"
   },
   {
    "duration": 2454,
    "start_time": "2021-08-18T09:47:47.456Z"
   },
   {
    "duration": 2454,
    "start_time": "2021-08-18T09:47:47.458Z"
   },
   {
    "duration": 2453,
    "start_time": "2021-08-18T09:47:47.460Z"
   },
   {
    "duration": 2452,
    "start_time": "2021-08-18T09:47:47.462Z"
   },
   {
    "duration": 2452,
    "start_time": "2021-08-18T09:47:47.464Z"
   },
   {
    "duration": 2446,
    "start_time": "2021-08-18T09:47:47.471Z"
   },
   {
    "duration": 2446,
    "start_time": "2021-08-18T09:47:47.473Z"
   },
   {
    "duration": 2445,
    "start_time": "2021-08-18T09:47:47.475Z"
   },
   {
    "duration": 2413,
    "start_time": "2021-08-18T09:47:47.508Z"
   },
   {
    "duration": 2408,
    "start_time": "2021-08-18T09:47:47.515Z"
   },
   {
    "duration": 2403,
    "start_time": "2021-08-18T09:47:47.521Z"
   },
   {
    "duration": 2402,
    "start_time": "2021-08-18T09:47:47.523Z"
   },
   {
    "duration": 2401,
    "start_time": "2021-08-18T09:47:47.526Z"
   },
   {
    "duration": 2394,
    "start_time": "2021-08-18T09:47:47.534Z"
   },
   {
    "duration": 2394,
    "start_time": "2021-08-18T09:47:47.536Z"
   },
   {
    "duration": 2394,
    "start_time": "2021-08-18T09:47:47.538Z"
   },
   {
    "duration": 2386,
    "start_time": "2021-08-18T09:47:47.547Z"
   },
   {
    "duration": 2381,
    "start_time": "2021-08-18T09:47:47.553Z"
   },
   {
    "duration": 2379,
    "start_time": "2021-08-18T09:47:47.557Z"
   },
   {
    "duration": 2377,
    "start_time": "2021-08-18T09:47:47.560Z"
   },
   {
    "duration": 368,
    "start_time": "2021-08-18T09:48:28.806Z"
   },
   {
    "duration": 4694,
    "start_time": "2021-08-18T09:48:37.701Z"
   },
   {
    "duration": 4751,
    "start_time": "2021-08-18T09:48:44.566Z"
   },
   {
    "duration": 1344,
    "start_time": "2021-08-18T09:49:04.802Z"
   },
   {
    "duration": 520,
    "start_time": "2021-08-18T09:49:06.149Z"
   },
   {
    "duration": 21,
    "start_time": "2021-08-18T09:49:09.005Z"
   },
   {
    "duration": 9,
    "start_time": "2021-08-18T09:49:09.314Z"
   },
   {
    "duration": 12,
    "start_time": "2021-08-18T09:49:09.901Z"
   },
   {
    "duration": 27,
    "start_time": "2021-08-18T09:49:10.083Z"
   },
   {
    "duration": 20,
    "start_time": "2021-08-18T09:49:10.648Z"
   },
   {
    "duration": 29,
    "start_time": "2021-08-18T09:49:11.436Z"
   },
   {
    "duration": 36,
    "start_time": "2021-08-18T09:49:11.865Z"
   },
   {
    "duration": 536,
    "start_time": "2021-08-18T09:49:12.388Z"
   },
   {
    "duration": 11,
    "start_time": "2021-08-18T09:49:13.148Z"
   },
   {
    "duration": 18,
    "start_time": "2021-08-18T09:49:13.364Z"
   },
   {
    "duration": 13,
    "start_time": "2021-08-18T09:49:14.510Z"
   },
   {
    "duration": 22,
    "start_time": "2021-08-18T09:49:14.887Z"
   },
   {
    "duration": 4,
    "start_time": "2021-08-18T09:49:15.321Z"
   },
   {
    "duration": 25,
    "start_time": "2021-08-18T09:49:17.521Z"
   },
   {
    "duration": 28,
    "start_time": "2021-08-18T09:49:18.521Z"
   },
   {
    "duration": 529,
    "start_time": "2021-08-18T09:49:19.366Z"
   },
   {
    "duration": 13,
    "start_time": "2021-08-18T09:49:21.937Z"
   },
   {
    "duration": 10,
    "start_time": "2021-08-18T09:49:22.385Z"
   },
   {
    "duration": 87,
    "start_time": "2021-08-18T09:49:25.788Z"
   },
   {
    "duration": 64,
    "start_time": "2021-08-18T09:49:27.697Z"
   },
   {
    "duration": 79,
    "start_time": "2021-08-18T09:49:29.776Z"
   },
   {
    "duration": 37,
    "start_time": "2021-08-18T09:49:31.636Z"
   },
   {
    "duration": 38,
    "start_time": "2021-08-18T09:49:32.236Z"
   },
   {
    "duration": 12,
    "start_time": "2021-08-18T09:49:33.007Z"
   },
   {
    "duration": 18,
    "start_time": "2021-08-18T09:49:35.335Z"
   },
   {
    "duration": 19,
    "start_time": "2021-08-18T09:49:39.718Z"
   },
   {
    "duration": 8,
    "start_time": "2021-08-18T09:49:44.402Z"
   },
   {
    "duration": 4971,
    "start_time": "2021-08-18T09:50:07.884Z"
   },
   {
    "duration": 479,
    "start_time": "2021-08-18T09:50:25.360Z"
   },
   {
    "duration": 1358,
    "start_time": "2021-08-18T09:50:39.795Z"
   },
   {
    "duration": 680,
    "start_time": "2021-08-18T09:50:41.156Z"
   },
   {
    "duration": 21,
    "start_time": "2021-08-18T09:50:41.838Z"
   },
   {
    "duration": 10,
    "start_time": "2021-08-18T09:50:41.862Z"
   },
   {
    "duration": 28,
    "start_time": "2021-08-18T09:50:41.874Z"
   },
   {
    "duration": 36,
    "start_time": "2021-08-18T09:50:41.904Z"
   },
   {
    "duration": 21,
    "start_time": "2021-08-18T09:50:41.942Z"
   },
   {
    "duration": 44,
    "start_time": "2021-08-18T09:50:41.965Z"
   },
   {
    "duration": 36,
    "start_time": "2021-08-18T09:50:42.013Z"
   },
   {
    "duration": 577,
    "start_time": "2021-08-18T09:50:42.052Z"
   },
   {
    "duration": 11,
    "start_time": "2021-08-18T09:50:42.631Z"
   },
   {
    "duration": 25,
    "start_time": "2021-08-18T09:50:42.645Z"
   },
   {
    "duration": 36,
    "start_time": "2021-08-18T09:50:42.672Z"
   },
   {
    "duration": 32,
    "start_time": "2021-08-18T09:50:42.710Z"
   },
   {
    "duration": 3,
    "start_time": "2021-08-18T09:50:42.744Z"
   },
   {
    "duration": 42,
    "start_time": "2021-08-18T09:50:42.750Z"
   },
   {
    "duration": 25,
    "start_time": "2021-08-18T09:50:42.801Z"
   },
   {
    "duration": 534,
    "start_time": "2021-08-18T09:50:42.828Z"
   },
   {
    "duration": 12,
    "start_time": "2021-08-18T09:50:43.364Z"
   },
   {
    "duration": 25,
    "start_time": "2021-08-18T09:50:43.378Z"
   },
   {
    "duration": 102,
    "start_time": "2021-08-18T09:50:43.406Z"
   },
   {
    "duration": 70,
    "start_time": "2021-08-18T09:50:43.511Z"
   },
   {
    "duration": 88,
    "start_time": "2021-08-18T09:50:43.583Z"
   },
   {
    "duration": 46,
    "start_time": "2021-08-18T09:50:43.673Z"
   },
   {
    "duration": 34,
    "start_time": "2021-08-18T09:50:43.722Z"
   },
   {
    "duration": 11,
    "start_time": "2021-08-18T09:50:43.758Z"
   },
   {
    "duration": 41,
    "start_time": "2021-08-18T09:50:43.775Z"
   },
   {
    "duration": 16,
    "start_time": "2021-08-18T09:50:43.819Z"
   },
   {
    "duration": 10,
    "start_time": "2021-08-18T09:50:43.837Z"
   },
   {
    "duration": 500,
    "start_time": "2021-08-18T09:50:43.850Z"
   },
   {
    "duration": 2467,
    "start_time": "2021-08-18T09:50:41.886Z"
   },
   {
    "duration": 2465,
    "start_time": "2021-08-18T09:50:41.889Z"
   },
   {
    "duration": 2463,
    "start_time": "2021-08-18T09:50:41.892Z"
   },
   {
    "duration": 2462,
    "start_time": "2021-08-18T09:50:41.895Z"
   },
   {
    "duration": 2460,
    "start_time": "2021-08-18T09:50:41.898Z"
   },
   {
    "duration": 2459,
    "start_time": "2021-08-18T09:50:41.901Z"
   },
   {
    "duration": 2454,
    "start_time": "2021-08-18T09:50:41.907Z"
   },
   {
    "duration": 2453,
    "start_time": "2021-08-18T09:50:41.909Z"
   },
   {
    "duration": 2453,
    "start_time": "2021-08-18T09:50:41.911Z"
   },
   {
    "duration": 2452,
    "start_time": "2021-08-18T09:50:41.913Z"
   },
   {
    "duration": 2452,
    "start_time": "2021-08-18T09:50:41.915Z"
   },
   {
    "duration": 2451,
    "start_time": "2021-08-18T09:50:41.917Z"
   },
   {
    "duration": 2449,
    "start_time": "2021-08-18T09:50:41.920Z"
   },
   {
    "duration": 2448,
    "start_time": "2021-08-18T09:50:41.922Z"
   },
   {
    "duration": 2448,
    "start_time": "2021-08-18T09:50:41.924Z"
   },
   {
    "duration": 2447,
    "start_time": "2021-08-18T09:50:41.926Z"
   },
   {
    "duration": 2443,
    "start_time": "2021-08-18T09:50:41.932Z"
   },
   {
    "duration": 2441,
    "start_time": "2021-08-18T09:50:41.935Z"
   },
   {
    "duration": 2441,
    "start_time": "2021-08-18T09:50:41.937Z"
   },
   {
    "duration": 2440,
    "start_time": "2021-08-18T09:50:41.939Z"
   },
   {
    "duration": 2439,
    "start_time": "2021-08-18T09:50:41.942Z"
   },
   {
    "duration": 2438,
    "start_time": "2021-08-18T09:50:41.944Z"
   },
   {
    "duration": 2438,
    "start_time": "2021-08-18T09:50:41.946Z"
   },
   {
    "duration": 2437,
    "start_time": "2021-08-18T09:50:41.948Z"
   },
   {
    "duration": 2437,
    "start_time": "2021-08-18T09:50:41.950Z"
   },
   {
    "duration": 2436,
    "start_time": "2021-08-18T09:50:41.952Z"
   },
   {
    "duration": 2445,
    "start_time": "2021-08-18T09:50:41.955Z"
   },
   {
    "duration": 2441,
    "start_time": "2021-08-18T09:50:41.961Z"
   },
   {
    "duration": 2440,
    "start_time": "2021-08-18T09:50:41.963Z"
   },
   {
    "duration": 2440,
    "start_time": "2021-08-18T09:50:41.965Z"
   },
   {
    "duration": 2439,
    "start_time": "2021-08-18T09:50:41.967Z"
   },
   {
    "duration": 2437,
    "start_time": "2021-08-18T09:50:41.970Z"
   },
   {
    "duration": 2437,
    "start_time": "2021-08-18T09:50:41.972Z"
   },
   {
    "duration": 2436,
    "start_time": "2021-08-18T09:50:41.974Z"
   },
   {
    "duration": 2435,
    "start_time": "2021-08-18T09:50:41.976Z"
   },
   {
    "duration": 2435,
    "start_time": "2021-08-18T09:50:41.978Z"
   },
   {
    "duration": 4687,
    "start_time": "2021-08-18T09:51:03.814Z"
   },
   {
    "duration": 14,
    "start_time": "2021-08-18T09:51:24.428Z"
   },
   {
    "duration": 6025,
    "start_time": "2021-08-18T09:51:29.742Z"
   },
   {
    "duration": 1299,
    "start_time": "2021-08-18T09:51:46.553Z"
   },
   {
    "duration": 510,
    "start_time": "2021-08-18T09:51:47.855Z"
   },
   {
    "duration": 20,
    "start_time": "2021-08-18T09:51:48.367Z"
   },
   {
    "duration": 15,
    "start_time": "2021-08-18T09:51:48.390Z"
   },
   {
    "duration": 16,
    "start_time": "2021-08-18T09:51:48.407Z"
   },
   {
    "duration": 25,
    "start_time": "2021-08-18T09:51:48.426Z"
   },
   {
    "duration": 48,
    "start_time": "2021-08-18T09:51:48.454Z"
   },
   {
    "duration": 23,
    "start_time": "2021-08-18T09:51:48.506Z"
   },
   {
    "duration": 35,
    "start_time": "2021-08-18T09:51:48.532Z"
   },
   {
    "duration": 570,
    "start_time": "2021-08-18T09:51:48.570Z"
   },
   {
    "duration": 11,
    "start_time": "2021-08-18T09:51:49.142Z"
   },
   {
    "duration": 30,
    "start_time": "2021-08-18T09:51:49.155Z"
   },
   {
    "duration": 24,
    "start_time": "2021-08-18T09:51:49.188Z"
   },
   {
    "duration": 24,
    "start_time": "2021-08-18T09:51:49.215Z"
   },
   {
    "duration": 3,
    "start_time": "2021-08-18T09:51:49.242Z"
   },
   {
    "duration": 62,
    "start_time": "2021-08-18T09:51:49.247Z"
   },
   {
    "duration": 25,
    "start_time": "2021-08-18T09:51:49.312Z"
   },
   {
    "duration": 569,
    "start_time": "2021-08-18T09:51:49.339Z"
   },
   {
    "duration": 13,
    "start_time": "2021-08-18T09:51:49.910Z"
   },
   {
    "duration": 29,
    "start_time": "2021-08-18T09:51:49.925Z"
   },
   {
    "duration": 102,
    "start_time": "2021-08-18T09:51:49.956Z"
   },
   {
    "duration": 71,
    "start_time": "2021-08-18T09:51:50.061Z"
   },
   {
    "duration": 83,
    "start_time": "2021-08-18T09:51:50.139Z"
   },
   {
    "duration": 40,
    "start_time": "2021-08-18T09:51:50.227Z"
   },
   {
    "duration": 57,
    "start_time": "2021-08-18T09:51:50.269Z"
   },
   {
    "duration": 10,
    "start_time": "2021-08-18T09:51:50.328Z"
   },
   {
    "duration": 26,
    "start_time": "2021-08-18T09:51:50.340Z"
   },
   {
    "duration": 34,
    "start_time": "2021-08-18T09:51:50.368Z"
   },
   {
    "duration": 20,
    "start_time": "2021-08-18T09:51:50.404Z"
   },
   {
    "duration": 30,
    "start_time": "2021-08-18T09:51:50.426Z"
   },
   {
    "duration": 6646,
    "start_time": "2021-08-18T09:51:50.458Z"
   },
   {
    "duration": 2471,
    "start_time": "2021-08-18T09:51:54.636Z"
   },
   {
    "duration": 2469,
    "start_time": "2021-08-18T09:51:54.639Z"
   },
   {
    "duration": 2467,
    "start_time": "2021-08-18T09:51:54.642Z"
   },
   {
    "duration": 2466,
    "start_time": "2021-08-18T09:51:54.645Z"
   },
   {
    "duration": 2464,
    "start_time": "2021-08-18T09:51:54.649Z"
   },
   {
    "duration": 2462,
    "start_time": "2021-08-18T09:51:54.652Z"
   },
   {
    "duration": 2461,
    "start_time": "2021-08-18T09:51:54.655Z"
   },
   {
    "duration": 2457,
    "start_time": "2021-08-18T09:51:54.661Z"
   },
   {
    "duration": 2455,
    "start_time": "2021-08-18T09:51:54.664Z"
   },
   {
    "duration": 2453,
    "start_time": "2021-08-18T09:51:54.667Z"
   },
   {
    "duration": 2453,
    "start_time": "2021-08-18T09:51:54.669Z"
   },
   {
    "duration": 2452,
    "start_time": "2021-08-18T09:51:54.671Z"
   },
   {
    "duration": 2451,
    "start_time": "2021-08-18T09:51:54.674Z"
   },
   {
    "duration": 2450,
    "start_time": "2021-08-18T09:51:54.676Z"
   },
   {
    "duration": 2450,
    "start_time": "2021-08-18T09:51:54.678Z"
   },
   {
    "duration": 2421,
    "start_time": "2021-08-18T09:51:54.708Z"
   },
   {
    "duration": 2418,
    "start_time": "2021-08-18T09:51:54.712Z"
   },
   {
    "duration": 2417,
    "start_time": "2021-08-18T09:51:54.715Z"
   },
   {
    "duration": 2415,
    "start_time": "2021-08-18T09:51:54.718Z"
   },
   {
    "duration": 2411,
    "start_time": "2021-08-18T09:51:54.723Z"
   },
   {
    "duration": 2407,
    "start_time": "2021-08-18T09:51:54.729Z"
   },
   {
    "duration": 2407,
    "start_time": "2021-08-18T09:51:54.731Z"
   },
   {
    "duration": 2389,
    "start_time": "2021-08-18T09:51:54.750Z"
   },
   {
    "duration": 2389,
    "start_time": "2021-08-18T09:51:54.752Z"
   },
   {
    "duration": 2389,
    "start_time": "2021-08-18T09:51:54.754Z"
   },
   {
    "duration": 2442,
    "start_time": "2021-08-18T09:51:54.757Z"
   },
   {
    "duration": 2424,
    "start_time": "2021-08-18T09:51:54.778Z"
   },
   {
    "duration": 2424,
    "start_time": "2021-08-18T09:51:54.780Z"
   },
   {
    "duration": 2425,
    "start_time": "2021-08-18T09:51:54.782Z"
   },
   {
    "duration": 2425,
    "start_time": "2021-08-18T09:51:54.784Z"
   },
   {
    "duration": 2425,
    "start_time": "2021-08-18T09:51:54.786Z"
   },
   {
    "duration": 2424,
    "start_time": "2021-08-18T09:51:54.789Z"
   },
   {
    "duration": 2423,
    "start_time": "2021-08-18T09:51:54.792Z"
   },
   {
    "duration": 2422,
    "start_time": "2021-08-18T09:51:54.795Z"
   },
   {
    "duration": 2421,
    "start_time": "2021-08-18T09:51:54.798Z"
   },
   {
    "duration": 7,
    "start_time": "2021-08-18T09:53:19.098Z"
   },
   {
    "duration": 7,
    "start_time": "2021-08-18T09:53:29.592Z"
   },
   {
    "duration": 6,
    "start_time": "2021-08-18T09:53:37.657Z"
   },
   {
    "duration": 35,
    "start_time": "2021-08-18T09:54:09.505Z"
   },
   {
    "duration": 16,
    "start_time": "2021-08-18T09:54:16.105Z"
   },
   {
    "duration": 75,
    "start_time": "2021-08-18T09:54:26.873Z"
   },
   {
    "duration": 20,
    "start_time": "2021-08-18T09:55:05.961Z"
   },
   {
    "duration": 9548,
    "start_time": "2021-08-18T09:55:51.848Z"
   },
   {
    "duration": 36,
    "start_time": "2021-08-18T09:56:08.624Z"
   },
   {
    "duration": 583,
    "start_time": "2021-08-18T09:56:11.896Z"
   },
   {
    "duration": 393,
    "start_time": "2021-08-18T09:56:21.176Z"
   },
   {
    "duration": 380,
    "start_time": "2021-08-18T09:56:49.409Z"
   },
   {
    "duration": 30,
    "start_time": "2021-08-18T09:58:47.024Z"
   },
   {
    "duration": 1300,
    "start_time": "2021-08-18T09:59:12.957Z"
   },
   {
    "duration": 543,
    "start_time": "2021-08-18T09:59:14.260Z"
   },
   {
    "duration": 21,
    "start_time": "2021-08-18T09:59:14.809Z"
   },
   {
    "duration": 11,
    "start_time": "2021-08-18T09:59:14.833Z"
   },
   {
    "duration": 14,
    "start_time": "2021-08-18T09:59:14.847Z"
   },
   {
    "duration": 27,
    "start_time": "2021-08-18T09:59:14.901Z"
   },
   {
    "duration": 20,
    "start_time": "2021-08-18T09:59:14.932Z"
   },
   {
    "duration": 57,
    "start_time": "2021-08-18T09:59:14.955Z"
   },
   {
    "duration": 38,
    "start_time": "2021-08-18T09:59:15.015Z"
   },
   {
    "duration": 576,
    "start_time": "2021-08-18T09:59:15.056Z"
   },
   {
    "duration": 11,
    "start_time": "2021-08-18T09:59:15.634Z"
   },
   {
    "duration": 19,
    "start_time": "2021-08-18T09:59:15.647Z"
   },
   {
    "duration": 38,
    "start_time": "2021-08-18T09:59:15.669Z"
   },
   {
    "duration": 22,
    "start_time": "2021-08-18T09:59:15.710Z"
   },
   {
    "duration": 3,
    "start_time": "2021-08-18T09:59:15.734Z"
   },
   {
    "duration": 28,
    "start_time": "2021-08-18T09:59:15.740Z"
   },
   {
    "duration": 54,
    "start_time": "2021-08-18T09:59:15.770Z"
   },
   {
    "duration": 555,
    "start_time": "2021-08-18T09:59:15.826Z"
   },
   {
    "duration": 21,
    "start_time": "2021-08-18T09:59:16.383Z"
   },
   {
    "duration": 12,
    "start_time": "2021-08-18T09:59:16.407Z"
   },
   {
    "duration": 105,
    "start_time": "2021-08-18T09:59:16.421Z"
   },
   {
    "duration": 76,
    "start_time": "2021-08-18T09:59:16.532Z"
   },
   {
    "duration": 76,
    "start_time": "2021-08-18T09:59:16.612Z"
   },
   {
    "duration": 36,
    "start_time": "2021-08-18T09:59:16.700Z"
   },
   {
    "duration": 35,
    "start_time": "2021-08-18T09:59:16.739Z"
   },
   {
    "duration": 33,
    "start_time": "2021-08-18T09:59:16.776Z"
   },
   {
    "duration": 17,
    "start_time": "2021-08-18T09:59:16.811Z"
   },
   {
    "duration": 18,
    "start_time": "2021-08-18T09:59:16.830Z"
   },
   {
    "duration": 63,
    "start_time": "2021-08-18T09:59:16.851Z"
   },
   {
    "duration": 100,
    "start_time": "2021-08-18T09:59:16.917Z"
   },
   {
    "duration": 21,
    "start_time": "2021-08-18T09:59:17.020Z"
   },
   {
    "duration": 58,
    "start_time": "2021-08-18T09:59:17.044Z"
   },
   {
    "duration": 13,
    "start_time": "2021-08-18T09:59:17.106Z"
   },
   {
    "duration": 146,
    "start_time": "2021-08-18T09:59:17.122Z"
   },
   {
    "duration": 704,
    "start_time": "2021-08-18T09:59:17.271Z"
   },
   {
    "duration": 413,
    "start_time": "2021-08-18T09:59:17.978Z"
   },
   {
    "duration": 43,
    "start_time": "2021-08-18T09:59:18.401Z"
   },
   {
    "duration": 1964,
    "start_time": "2021-08-18T09:59:18.447Z"
   },
   {
    "duration": 1867,
    "start_time": "2021-08-18T09:59:20.414Z"
   },
   {
    "duration": 308,
    "start_time": "2021-08-18T09:59:22.284Z"
   },
   {
    "duration": 290,
    "start_time": "2021-08-18T09:59:22.594Z"
   },
   {
    "duration": 278,
    "start_time": "2021-08-18T09:59:22.887Z"
   },
   {
    "duration": 311,
    "start_time": "2021-08-18T09:59:23.168Z"
   },
   {
    "duration": 20,
    "start_time": "2021-08-18T09:59:23.482Z"
   },
   {
    "duration": 12,
    "start_time": "2021-08-18T09:59:23.504Z"
   },
   {
    "duration": 9,
    "start_time": "2021-08-18T09:59:23.518Z"
   },
   {
    "duration": 71,
    "start_time": "2021-08-18T09:59:23.529Z"
   },
   {
    "duration": 556,
    "start_time": "2021-08-18T09:59:23.602Z"
   },
   {
    "duration": 595,
    "start_time": "2021-08-18T09:59:24.161Z"
   },
   {
    "duration": 548,
    "start_time": "2021-08-18T09:59:24.758Z"
   },
   {
    "duration": 241,
    "start_time": "2021-08-18T09:59:25.309Z"
   },
   {
    "duration": 663,
    "start_time": "2021-08-18T09:59:25.553Z"
   },
   {
    "duration": 27,
    "start_time": "2021-08-18T09:59:26.219Z"
   },
   {
    "duration": 10,
    "start_time": "2021-08-18T09:59:26.250Z"
   },
   {
    "duration": 40,
    "start_time": "2021-08-18T09:59:26.263Z"
   },
   {
    "duration": 860,
    "start_time": "2021-08-18T09:59:26.306Z"
   },
   {
    "duration": 124,
    "start_time": "2021-08-18T09:59:27.168Z"
   },
   {
    "duration": 111,
    "start_time": "2021-08-18T09:59:27.295Z"
   },
   {
    "duration": 18,
    "start_time": "2021-08-18T09:59:27.409Z"
   },
   {
    "duration": 18,
    "start_time": "2021-08-18T09:59:27.430Z"
   },
   {
    "duration": 6,
    "start_time": "2021-08-18T09:59:27.451Z"
   },
   {
    "duration": 313,
    "start_time": "2021-08-18T09:59:27.460Z"
   },
   {
    "duration": 46,
    "start_time": "2021-08-18T09:59:27.776Z"
   },
   {
    "duration": 17,
    "start_time": "2021-08-18T09:59:27.825Z"
   },
   {
    "duration": 59,
    "start_time": "2021-08-18T09:59:27.844Z"
   },
   {
    "duration": 6,
    "start_time": "2021-08-18T09:59:27.905Z"
   },
   {
    "duration": 17,
    "start_time": "2021-08-18T10:00:27.331Z"
   },
   {
    "duration": 1350,
    "start_time": "2021-08-18T10:00:33.714Z"
   },
   {
    "duration": 529,
    "start_time": "2021-08-18T10:00:35.067Z"
   },
   {
    "duration": 19,
    "start_time": "2021-08-18T10:00:35.599Z"
   },
   {
    "duration": 17,
    "start_time": "2021-08-18T10:00:35.621Z"
   },
   {
    "duration": 18,
    "start_time": "2021-08-18T10:00:35.641Z"
   },
   {
    "duration": 49,
    "start_time": "2021-08-18T10:00:35.661Z"
   },
   {
    "duration": 22,
    "start_time": "2021-08-18T10:00:35.713Z"
   },
   {
    "duration": 30,
    "start_time": "2021-08-18T10:00:35.740Z"
   },
   {
    "duration": 39,
    "start_time": "2021-08-18T10:00:35.802Z"
   },
   {
    "duration": 625,
    "start_time": "2021-08-18T10:00:35.844Z"
   },
   {
    "duration": 10,
    "start_time": "2021-08-18T10:00:36.472Z"
   },
   {
    "duration": 27,
    "start_time": "2021-08-18T10:00:36.484Z"
   },
   {
    "duration": 17,
    "start_time": "2021-08-18T10:00:36.513Z"
   },
   {
    "duration": 27,
    "start_time": "2021-08-18T10:00:36.532Z"
   },
   {
    "duration": 3,
    "start_time": "2021-08-18T10:00:36.561Z"
   },
   {
    "duration": 36,
    "start_time": "2021-08-18T10:00:36.566Z"
   },
   {
    "duration": 27,
    "start_time": "2021-08-18T10:00:36.604Z"
   },
   {
    "duration": 833,
    "start_time": "2021-08-18T10:00:36.633Z"
   },
   {
    "duration": 13,
    "start_time": "2021-08-18T10:00:37.468Z"
   },
   {
    "duration": 9,
    "start_time": "2021-08-18T10:00:37.500Z"
   },
   {
    "duration": 95,
    "start_time": "2021-08-18T10:00:37.512Z"
   },
   {
    "duration": 111,
    "start_time": "2021-08-18T10:00:37.609Z"
   },
   {
    "duration": 114,
    "start_time": "2021-08-18T10:00:37.726Z"
   },
   {
    "duration": 89,
    "start_time": "2021-08-18T10:00:37.844Z"
   },
   {
    "duration": 89,
    "start_time": "2021-08-18T10:00:37.936Z"
   },
   {
    "duration": 13,
    "start_time": "2021-08-18T10:00:38.028Z"
   },
   {
    "duration": 17,
    "start_time": "2021-08-18T10:00:38.044Z"
   },
   {
    "duration": 50,
    "start_time": "2021-08-18T10:00:38.064Z"
   },
   {
    "duration": 26,
    "start_time": "2021-08-18T10:00:38.117Z"
   },
   {
    "duration": 111,
    "start_time": "2021-08-18T10:00:38.146Z"
   },
   {
    "duration": 42,
    "start_time": "2021-08-18T10:00:38.260Z"
   },
   {
    "duration": 20,
    "start_time": "2021-08-18T10:00:38.305Z"
   },
   {
    "duration": 14,
    "start_time": "2021-08-18T10:00:38.327Z"
   },
   {
    "duration": 146,
    "start_time": "2021-08-18T10:00:38.344Z"
   },
   {
    "duration": 755,
    "start_time": "2021-08-18T10:00:38.492Z"
   },
   {
    "duration": 492,
    "start_time": "2021-08-18T10:00:39.250Z"
   },
   {
    "duration": 94,
    "start_time": "2021-08-18T10:00:39.745Z"
   },
   {
    "duration": 1677,
    "start_time": "2021-08-18T10:00:39.841Z"
   },
   {
    "duration": 1628,
    "start_time": "2021-08-18T10:00:41.521Z"
   },
   {
    "duration": 316,
    "start_time": "2021-08-18T10:00:43.151Z"
   },
   {
    "duration": 289,
    "start_time": "2021-08-18T10:00:43.470Z"
   },
   {
    "duration": 283,
    "start_time": "2021-08-18T10:00:43.761Z"
   },
   {
    "duration": 313,
    "start_time": "2021-08-18T10:00:44.047Z"
   },
   {
    "duration": 9,
    "start_time": "2021-08-18T10:00:44.363Z"
   },
   {
    "duration": 28,
    "start_time": "2021-08-18T10:00:44.374Z"
   },
   {
    "duration": 15,
    "start_time": "2021-08-18T10:00:44.404Z"
   },
   {
    "duration": 52,
    "start_time": "2021-08-18T10:00:44.421Z"
   },
   {
    "duration": 573,
    "start_time": "2021-08-18T10:00:44.476Z"
   },
   {
    "duration": 620,
    "start_time": "2021-08-18T10:00:45.052Z"
   },
   {
    "duration": 565,
    "start_time": "2021-08-18T10:00:45.676Z"
   },
   {
    "duration": 264,
    "start_time": "2021-08-18T10:00:46.244Z"
   },
   {
    "duration": 676,
    "start_time": "2021-08-18T10:00:46.510Z"
   },
   {
    "duration": 28,
    "start_time": "2021-08-18T10:00:47.189Z"
   },
   {
    "duration": 11,
    "start_time": "2021-08-18T10:00:47.219Z"
   },
   {
    "duration": 5,
    "start_time": "2021-08-18T10:00:47.232Z"
   },
   {
    "duration": 876,
    "start_time": "2021-08-18T10:00:47.240Z"
   },
   {
    "duration": 116,
    "start_time": "2021-08-18T10:00:48.119Z"
   },
   {
    "duration": 114,
    "start_time": "2021-08-18T10:00:48.238Z"
   },
   {
    "duration": 19,
    "start_time": "2021-08-18T10:00:48.354Z"
   },
   {
    "duration": 40,
    "start_time": "2021-08-18T10:00:48.375Z"
   },
   {
    "duration": 6,
    "start_time": "2021-08-18T10:00:48.418Z"
   },
   {
    "duration": 295,
    "start_time": "2021-08-18T10:00:48.427Z"
   },
   {
    "duration": 27,
    "start_time": "2021-08-18T10:00:48.725Z"
   },
   {
    "duration": 19,
    "start_time": "2021-08-18T10:00:48.754Z"
   },
   {
    "duration": 20,
    "start_time": "2021-08-18T10:00:48.801Z"
   },
   {
    "duration": 11,
    "start_time": "2021-08-18T10:00:48.823Z"
   },
   {
    "duration": 1422,
    "start_time": "2021-08-18T10:10:06.849Z"
   },
   {
    "duration": 523,
    "start_time": "2021-08-18T10:10:08.273Z"
   },
   {
    "duration": 20,
    "start_time": "2021-08-18T10:10:08.798Z"
   },
   {
    "duration": 13,
    "start_time": "2021-08-18T10:10:08.820Z"
   },
   {
    "duration": 18,
    "start_time": "2021-08-18T10:10:08.835Z"
   },
   {
    "duration": 68,
    "start_time": "2021-08-18T10:10:08.855Z"
   },
   {
    "duration": 77,
    "start_time": "2021-08-18T10:10:08.925Z"
   },
   {
    "duration": 29,
    "start_time": "2021-08-18T10:10:09.006Z"
   },
   {
    "duration": 89,
    "start_time": "2021-08-18T10:10:09.038Z"
   },
   {
    "duration": 832,
    "start_time": "2021-08-18T10:10:09.130Z"
   },
   {
    "duration": 11,
    "start_time": "2021-08-18T10:10:09.964Z"
   },
   {
    "duration": 37,
    "start_time": "2021-08-18T10:10:09.978Z"
   },
   {
    "duration": 17,
    "start_time": "2021-08-18T10:10:10.017Z"
   },
   {
    "duration": 28,
    "start_time": "2021-08-18T10:10:10.037Z"
   },
   {
    "duration": 3,
    "start_time": "2021-08-18T10:10:10.068Z"
   },
   {
    "duration": 26,
    "start_time": "2021-08-18T10:10:10.101Z"
   },
   {
    "duration": 26,
    "start_time": "2021-08-18T10:10:10.129Z"
   },
   {
    "duration": 594,
    "start_time": "2021-08-18T10:10:10.157Z"
   },
   {
    "duration": 13,
    "start_time": "2021-08-18T10:10:10.754Z"
   },
   {
    "duration": 33,
    "start_time": "2021-08-18T10:10:10.770Z"
   },
   {
    "duration": 99,
    "start_time": "2021-08-18T10:10:10.805Z"
   },
   {
    "duration": 64,
    "start_time": "2021-08-18T10:10:10.906Z"
   },
   {
    "duration": 92,
    "start_time": "2021-08-18T10:10:10.977Z"
   },
   {
    "duration": 46,
    "start_time": "2021-08-18T10:10:11.073Z"
   },
   {
    "duration": 34,
    "start_time": "2021-08-18T10:10:11.121Z"
   },
   {
    "duration": 9,
    "start_time": "2021-08-18T10:10:11.157Z"
   },
   {
    "duration": 40,
    "start_time": "2021-08-18T10:10:11.169Z"
   },
   {
    "duration": 20,
    "start_time": "2021-08-18T10:10:11.211Z"
   },
   {
    "duration": 34,
    "start_time": "2021-08-18T10:10:11.234Z"
   },
   {
    "duration": 98,
    "start_time": "2021-08-18T10:10:11.270Z"
   },
   {
    "duration": 46,
    "start_time": "2021-08-18T10:10:11.371Z"
   },
   {
    "duration": 26,
    "start_time": "2021-08-18T10:10:11.420Z"
   },
   {
    "duration": 16,
    "start_time": "2021-08-18T10:10:11.449Z"
   },
   {
    "duration": 183,
    "start_time": "2021-08-18T10:10:11.501Z"
   },
   {
    "duration": 753,
    "start_time": "2021-08-18T10:10:11.687Z"
   },
   {
    "duration": 340,
    "start_time": "2021-08-18T10:10:12.442Z"
   },
   {
    "duration": 50,
    "start_time": "2021-08-18T10:10:12.785Z"
   },
   {
    "duration": 1597,
    "start_time": "2021-08-18T10:10:12.837Z"
   },
   {
    "duration": 2091,
    "start_time": "2021-08-18T10:10:14.437Z"
   },
   {
    "duration": 287,
    "start_time": "2021-08-18T10:10:16.531Z"
   },
   {
    "duration": 292,
    "start_time": "2021-08-18T10:10:16.821Z"
   },
   {
    "duration": 276,
    "start_time": "2021-08-18T10:10:17.116Z"
   },
   {
    "duration": 299,
    "start_time": "2021-08-18T10:10:17.395Z"
   },
   {
    "duration": 11,
    "start_time": "2021-08-18T10:10:17.701Z"
   },
   {
    "duration": 20,
    "start_time": "2021-08-18T10:10:17.715Z"
   },
   {
    "duration": 12,
    "start_time": "2021-08-18T10:10:17.738Z"
   },
   {
    "duration": 69,
    "start_time": "2021-08-18T10:10:17.753Z"
   },
   {
    "duration": 538,
    "start_time": "2021-08-18T10:10:17.825Z"
   },
   {
    "duration": 587,
    "start_time": "2021-08-18T10:10:18.366Z"
   },
   {
    "duration": 540,
    "start_time": "2021-08-18T10:10:18.956Z"
   },
   {
    "duration": 244,
    "start_time": "2021-08-18T10:10:19.499Z"
   },
   {
    "duration": 742,
    "start_time": "2021-08-18T10:10:19.746Z"
   },
   {
    "duration": 33,
    "start_time": "2021-08-18T10:10:20.490Z"
   },
   {
    "duration": 22,
    "start_time": "2021-08-18T10:10:20.526Z"
   },
   {
    "duration": 20,
    "start_time": "2021-08-18T10:10:20.550Z"
   },
   {
    "duration": 846,
    "start_time": "2021-08-18T10:10:20.572Z"
   },
   {
    "duration": 117,
    "start_time": "2021-08-18T10:10:21.420Z"
   },
   {
    "duration": 105,
    "start_time": "2021-08-18T10:10:21.539Z"
   },
   {
    "duration": 17,
    "start_time": "2021-08-18T10:10:21.646Z"
   },
   {
    "duration": 40,
    "start_time": "2021-08-18T10:10:21.665Z"
   },
   {
    "duration": 6,
    "start_time": "2021-08-18T10:10:21.707Z"
   },
   {
    "duration": 281,
    "start_time": "2021-08-18T10:10:21.715Z"
   },
   {
    "duration": 28,
    "start_time": "2021-08-18T10:10:22.000Z"
   },
   {
    "duration": 21,
    "start_time": "2021-08-18T10:10:22.031Z"
   },
   {
    "duration": 57,
    "start_time": "2021-08-18T10:10:22.055Z"
   },
   {
    "duration": 8,
    "start_time": "2021-08-18T10:10:22.115Z"
   },
   {
    "duration": 1379,
    "start_time": "2021-08-18T10:29:26.256Z"
   },
   {
    "duration": 540,
    "start_time": "2021-08-18T10:29:27.638Z"
   },
   {
    "duration": 22,
    "start_time": "2021-08-18T10:29:28.181Z"
   },
   {
    "duration": 19,
    "start_time": "2021-08-18T10:29:28.206Z"
   },
   {
    "duration": 22,
    "start_time": "2021-08-18T10:29:28.227Z"
   },
   {
    "duration": 34,
    "start_time": "2021-08-18T10:29:28.252Z"
   },
   {
    "duration": 30,
    "start_time": "2021-08-18T10:29:28.288Z"
   },
   {
    "duration": 29,
    "start_time": "2021-08-18T10:29:28.320Z"
   },
   {
    "duration": 61,
    "start_time": "2021-08-18T10:29:28.353Z"
   },
   {
    "duration": 546,
    "start_time": "2021-08-18T10:29:28.417Z"
   },
   {
    "duration": 11,
    "start_time": "2021-08-18T10:29:28.965Z"
   },
   {
    "duration": 35,
    "start_time": "2021-08-18T10:29:28.979Z"
   },
   {
    "duration": 14,
    "start_time": "2021-08-18T10:29:29.016Z"
   },
   {
    "duration": 33,
    "start_time": "2021-08-18T10:29:29.032Z"
   },
   {
    "duration": 9,
    "start_time": "2021-08-18T10:29:29.068Z"
   },
   {
    "duration": 25,
    "start_time": "2021-08-18T10:29:29.099Z"
   },
   {
    "duration": 26,
    "start_time": "2021-08-18T10:29:29.127Z"
   },
   {
    "duration": 559,
    "start_time": "2021-08-18T10:29:29.155Z"
   },
   {
    "duration": 11,
    "start_time": "2021-08-18T10:29:29.717Z"
   },
   {
    "duration": 17,
    "start_time": "2021-08-18T10:29:29.731Z"
   },
   {
    "duration": 109,
    "start_time": "2021-08-18T10:29:29.750Z"
   },
   {
    "duration": 76,
    "start_time": "2021-08-18T10:29:29.861Z"
   },
   {
    "duration": 83,
    "start_time": "2021-08-18T10:29:29.939Z"
   },
   {
    "duration": 37,
    "start_time": "2021-08-18T10:29:30.025Z"
   },
   {
    "duration": 57,
    "start_time": "2021-08-18T10:29:30.065Z"
   },
   {
    "duration": 10,
    "start_time": "2021-08-18T10:29:30.124Z"
   },
   {
    "duration": 38,
    "start_time": "2021-08-18T10:29:30.140Z"
   },
   {
    "duration": 29,
    "start_time": "2021-08-18T10:29:30.182Z"
   },
   {
    "duration": 89,
    "start_time": "2021-08-18T10:29:30.214Z"
   },
   {
    "duration": 125,
    "start_time": "2021-08-18T10:29:30.306Z"
   },
   {
    "duration": 74,
    "start_time": "2021-08-18T10:29:30.434Z"
   },
   {
    "duration": 43,
    "start_time": "2021-08-18T10:29:30.510Z"
   },
   {
    "duration": 58,
    "start_time": "2021-08-18T10:29:30.555Z"
   },
   {
    "duration": 298,
    "start_time": "2021-08-18T10:29:30.616Z"
   },
   {
    "duration": 823,
    "start_time": "2021-08-18T10:29:30.917Z"
   },
   {
    "duration": 453,
    "start_time": "2021-08-18T10:29:31.742Z"
   },
   {
    "duration": 40,
    "start_time": "2021-08-18T10:29:32.201Z"
   },
   {
    "duration": 1510,
    "start_time": "2021-08-18T10:29:32.243Z"
   },
   {
    "duration": 1613,
    "start_time": "2021-08-18T10:29:33.755Z"
   },
   {
    "duration": 299,
    "start_time": "2021-08-18T10:29:35.370Z"
   },
   {
    "duration": 270,
    "start_time": "2021-08-18T10:29:35.672Z"
   },
   {
    "duration": 296,
    "start_time": "2021-08-18T10:29:35.945Z"
   },
   {
    "duration": 316,
    "start_time": "2021-08-18T10:29:36.243Z"
   },
   {
    "duration": 9,
    "start_time": "2021-08-18T10:29:36.562Z"
   },
   {
    "duration": 32,
    "start_time": "2021-08-18T10:29:36.573Z"
   },
   {
    "duration": 9,
    "start_time": "2021-08-18T10:29:36.607Z"
   },
   {
    "duration": 40,
    "start_time": "2021-08-18T10:29:36.618Z"
   },
   {
    "duration": 569,
    "start_time": "2021-08-18T10:29:36.660Z"
   },
   {
    "duration": 611,
    "start_time": "2021-08-18T10:29:37.232Z"
   },
   {
    "duration": 532,
    "start_time": "2021-08-18T10:29:37.846Z"
   },
   {
    "duration": 234,
    "start_time": "2021-08-18T10:29:38.380Z"
   },
   {
    "duration": 653,
    "start_time": "2021-08-18T10:29:38.616Z"
   },
   {
    "duration": 33,
    "start_time": "2021-08-18T10:29:39.272Z"
   },
   {
    "duration": 10,
    "start_time": "2021-08-18T10:29:39.307Z"
   },
   {
    "duration": 5,
    "start_time": "2021-08-18T10:29:39.319Z"
   },
   {
    "duration": 862,
    "start_time": "2021-08-18T10:29:39.326Z"
   },
   {
    "duration": 113,
    "start_time": "2021-08-18T10:29:40.191Z"
   },
   {
    "duration": 112,
    "start_time": "2021-08-18T10:29:40.307Z"
   },
   {
    "duration": 18,
    "start_time": "2021-08-18T10:29:40.421Z"
   },
   {
    "duration": 16,
    "start_time": "2021-08-18T10:29:40.442Z"
   },
   {
    "duration": 6,
    "start_time": "2021-08-18T10:29:40.460Z"
   },
   {
    "duration": 295,
    "start_time": "2021-08-18T10:29:40.501Z"
   },
   {
    "duration": 27,
    "start_time": "2021-08-18T10:29:40.798Z"
   },
   {
    "duration": 18,
    "start_time": "2021-08-18T10:29:40.828Z"
   },
   {
    "duration": 52,
    "start_time": "2021-08-18T10:29:40.848Z"
   },
   {
    "duration": 7,
    "start_time": "2021-08-18T10:29:40.903Z"
   },
   {
    "duration": 1068,
    "start_time": "2021-08-18T21:10:02.885Z"
   },
   {
    "duration": 398,
    "start_time": "2021-08-18T21:10:03.955Z"
   },
   {
    "duration": 16,
    "start_time": "2021-08-18T21:10:04.356Z"
   },
   {
    "duration": 8,
    "start_time": "2021-08-18T21:10:04.375Z"
   },
   {
    "duration": 9,
    "start_time": "2021-08-18T21:10:04.391Z"
   },
   {
    "duration": 22,
    "start_time": "2021-08-18T21:10:04.402Z"
   },
   {
    "duration": 16,
    "start_time": "2021-08-18T21:10:04.426Z"
   },
   {
    "duration": 48,
    "start_time": "2021-08-18T21:10:04.445Z"
   },
   {
    "duration": 29,
    "start_time": "2021-08-18T21:10:04.496Z"
   },
   {
    "duration": 384,
    "start_time": "2021-08-18T21:10:04.527Z"
   },
   {
    "duration": 9,
    "start_time": "2021-08-18T21:10:04.913Z"
   },
   {
    "duration": 17,
    "start_time": "2021-08-18T21:10:04.924Z"
   },
   {
    "duration": 8,
    "start_time": "2021-08-18T21:10:04.943Z"
   },
   {
    "duration": 19,
    "start_time": "2021-08-18T21:10:04.952Z"
   },
   {
    "duration": 2,
    "start_time": "2021-08-18T21:10:04.992Z"
   },
   {
    "duration": 21,
    "start_time": "2021-08-18T21:10:04.995Z"
   },
   {
    "duration": 19,
    "start_time": "2021-08-18T21:10:05.018Z"
   },
   {
    "duration": 348,
    "start_time": "2021-08-18T21:10:05.038Z"
   },
   {
    "duration": 9,
    "start_time": "2021-08-18T21:10:05.391Z"
   },
   {
    "duration": 8,
    "start_time": "2021-08-18T21:10:05.402Z"
   },
   {
    "duration": 83,
    "start_time": "2021-08-18T21:10:05.412Z"
   },
   {
    "duration": 48,
    "start_time": "2021-08-18T21:10:05.497Z"
   },
   {
    "duration": 72,
    "start_time": "2021-08-18T21:10:05.550Z"
   },
   {
    "duration": 25,
    "start_time": "2021-08-18T21:10:05.624Z"
   },
   {
    "duration": 40,
    "start_time": "2021-08-18T21:10:05.652Z"
   },
   {
    "duration": 7,
    "start_time": "2021-08-18T21:10:05.694Z"
   },
   {
    "duration": 20,
    "start_time": "2021-08-18T21:10:05.702Z"
   },
   {
    "duration": 10,
    "start_time": "2021-08-18T21:10:05.724Z"
   },
   {
    "duration": 41,
    "start_time": "2021-08-18T21:10:05.736Z"
   },
   {
    "duration": 47,
    "start_time": "2021-08-18T21:10:05.778Z"
   },
   {
    "duration": 12,
    "start_time": "2021-08-18T21:10:05.826Z"
   },
   {
    "duration": 14,
    "start_time": "2021-08-18T21:10:05.840Z"
   },
   {
    "duration": 8,
    "start_time": "2021-08-18T21:10:05.855Z"
   },
   {
    "duration": 95,
    "start_time": "2021-08-18T21:10:05.865Z"
   },
   {
    "duration": 446,
    "start_time": "2021-08-18T21:10:05.962Z"
   },
   {
    "duration": 199,
    "start_time": "2021-08-18T21:10:06.410Z"
   },
   {
    "duration": 24,
    "start_time": "2021-08-18T21:10:06.611Z"
   },
   {
    "duration": 959,
    "start_time": "2021-08-18T21:10:06.636Z"
   },
   {
    "duration": 1184,
    "start_time": "2021-08-18T21:10:07.597Z"
   },
   {
    "duration": 174,
    "start_time": "2021-08-18T21:10:08.783Z"
   },
   {
    "duration": 162,
    "start_time": "2021-08-18T21:10:08.958Z"
   },
   {
    "duration": 166,
    "start_time": "2021-08-18T21:10:09.122Z"
   },
   {
    "duration": 170,
    "start_time": "2021-08-18T21:10:09.291Z"
   },
   {
    "duration": 6,
    "start_time": "2021-08-18T21:10:09.462Z"
   },
   {
    "duration": 11,
    "start_time": "2021-08-18T21:10:09.469Z"
   },
   {
    "duration": 5,
    "start_time": "2021-08-18T21:10:09.491Z"
   },
   {
    "duration": 27,
    "start_time": "2021-08-18T21:10:09.497Z"
   },
   {
    "duration": 324,
    "start_time": "2021-08-18T21:10:09.526Z"
   },
   {
    "duration": 366,
    "start_time": "2021-08-18T21:10:09.851Z"
   },
   {
    "duration": 298,
    "start_time": "2021-08-18T21:10:10.219Z"
   },
   {
    "duration": 133,
    "start_time": "2021-08-18T21:10:10.519Z"
   },
   {
    "duration": 345,
    "start_time": "2021-08-18T21:10:10.653Z"
   },
   {
    "duration": 14,
    "start_time": "2021-08-18T21:10:10.999Z"
   },
   {
    "duration": 6,
    "start_time": "2021-08-18T21:10:11.015Z"
   },
   {
    "duration": 4,
    "start_time": "2021-08-18T21:10:11.022Z"
   },
   {
    "duration": 428,
    "start_time": "2021-08-18T21:10:11.028Z"
   },
   {
    "duration": 56,
    "start_time": "2021-08-18T21:10:11.457Z"
   },
   {
    "duration": 52,
    "start_time": "2021-08-18T21:10:11.514Z"
   },
   {
    "duration": 28,
    "start_time": "2021-08-18T21:10:11.568Z"
   },
   {
    "duration": 12,
    "start_time": "2021-08-18T21:10:11.598Z"
   },
   {
    "duration": 5,
    "start_time": "2021-08-18T21:10:11.612Z"
   },
   {
    "duration": 173,
    "start_time": "2021-08-18T21:10:11.618Z"
   },
   {
    "duration": 15,
    "start_time": "2021-08-18T21:10:11.793Z"
   },
   {
    "duration": 11,
    "start_time": "2021-08-18T21:10:11.810Z"
   },
   {
    "duration": 11,
    "start_time": "2021-08-18T21:10:11.822Z"
   },
   {
    "duration": 4,
    "start_time": "2021-08-18T21:10:11.835Z"
   }
  ],
  "kernelspec": {
   "display_name": "Python 3 (ipykernel)",
   "language": "python",
   "name": "python3"
  },
  "language_info": {
   "codemirror_mode": {
    "name": "ipython",
    "version": 3
   },
   "file_extension": ".py",
   "mimetype": "text/x-python",
   "name": "python",
   "nbconvert_exporter": "python",
   "pygments_lexer": "ipython3",
   "version": "3.7.11"
  },
  "toc": {
   "base_numbering": 1,
   "nav_menu": {},
   "number_sections": true,
   "sideBar": true,
   "skip_h1_title": true,
   "title_cell": "Содержание",
   "title_sidebar": "Содержание",
   "toc_cell": true,
   "toc_position": {
    "height": "calc(100% - 180px)",
    "left": "10px",
    "top": "150px",
    "width": "366.391px"
   },
   "toc_section_display": true,
   "toc_window_display": true
  }
 },
 "nbformat": 4,
 "nbformat_minor": 2
}
